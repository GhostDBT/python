{
  "nbformat": 4,
  "nbformat_minor": 0,
  "metadata": {
    "colab": {
      "provenance": [],
      "gpuType": "T4",
      "authorship_tag": "ABX9TyN4YJ08ICYWVrMY6na2YSIk",
      "include_colab_link": true
    },
    "kernelspec": {
      "name": "python3",
      "display_name": "Python 3"
    },
    "language_info": {
      "name": "python"
    },
    "accelerator": "GPU"
  },
  "cells": [
    {
      "cell_type": "markdown",
      "metadata": {
        "id": "view-in-github",
        "colab_type": "text"
      },
      "source": [
        "<a href=\"https://colab.research.google.com/github/GhostDBT/python/blob/main/detector_de_amon_us.ipynb\" target=\"_parent\"><img src=\"https://colab.research.google.com/assets/colab-badge.svg\" alt=\"Open In Colab\"/></a>"
      ]
    },
    {
      "cell_type": "code",
      "execution_count": 3,
      "metadata": {
        "colab": {
          "base_uri": "https://localhost:8080/"
        },
        "id": "b4mmXHFJyK41",
        "outputId": "f9c9d359-3b30-431b-a0d1-5128a5d75888"
      },
      "outputs": [
        {
          "output_type": "stream",
          "name": "stdout",
          "text": [
            "Collecting ultralytics\n",
            "  Downloading ultralytics-8.3.151-py3-none-any.whl.metadata (37 kB)\n",
            "Collecting roboflow\n",
            "  Downloading roboflow-1.1.66-py3-none-any.whl.metadata (9.7 kB)\n",
            "Requirement already satisfied: numpy>=1.23.0 in /usr/local/lib/python3.11/dist-packages (from ultralytics) (2.0.2)\n",
            "Requirement already satisfied: matplotlib>=3.3.0 in /usr/local/lib/python3.11/dist-packages (from ultralytics) (3.10.0)\n",
            "Requirement already satisfied: opencv-python>=4.6.0 in /usr/local/lib/python3.11/dist-packages (from ultralytics) (4.11.0.86)\n",
            "Requirement already satisfied: pillow>=7.1.2 in /usr/local/lib/python3.11/dist-packages (from ultralytics) (11.2.1)\n",
            "Requirement already satisfied: pyyaml>=5.3.1 in /usr/local/lib/python3.11/dist-packages (from ultralytics) (6.0.2)\n",
            "Requirement already satisfied: requests>=2.23.0 in /usr/local/lib/python3.11/dist-packages (from ultralytics) (2.32.3)\n",
            "Requirement already satisfied: scipy>=1.4.1 in /usr/local/lib/python3.11/dist-packages (from ultralytics) (1.15.3)\n",
            "Requirement already satisfied: torch>=1.8.0 in /usr/local/lib/python3.11/dist-packages (from ultralytics) (2.6.0+cu124)\n",
            "Requirement already satisfied: torchvision>=0.9.0 in /usr/local/lib/python3.11/dist-packages (from ultralytics) (0.21.0+cu124)\n",
            "Requirement already satisfied: tqdm>=4.64.0 in /usr/local/lib/python3.11/dist-packages (from ultralytics) (4.67.1)\n",
            "Requirement already satisfied: psutil in /usr/local/lib/python3.11/dist-packages (from ultralytics) (5.9.5)\n",
            "Requirement already satisfied: py-cpuinfo in /usr/local/lib/python3.11/dist-packages (from ultralytics) (9.0.0)\n",
            "Requirement already satisfied: pandas>=1.1.4 in /usr/local/lib/python3.11/dist-packages (from ultralytics) (2.2.2)\n",
            "Collecting ultralytics-thop>=2.0.0 (from ultralytics)\n",
            "  Downloading ultralytics_thop-2.0.14-py3-none-any.whl.metadata (9.4 kB)\n",
            "Requirement already satisfied: certifi in /usr/local/lib/python3.11/dist-packages (from roboflow) (2025.4.26)\n",
            "Collecting idna==3.7 (from roboflow)\n",
            "  Downloading idna-3.7-py3-none-any.whl.metadata (9.9 kB)\n",
            "Requirement already satisfied: cycler in /usr/local/lib/python3.11/dist-packages (from roboflow) (0.12.1)\n",
            "Requirement already satisfied: kiwisolver>=1.3.1 in /usr/local/lib/python3.11/dist-packages (from roboflow) (1.4.8)\n",
            "Collecting opencv-python-headless==4.10.0.84 (from roboflow)\n",
            "  Downloading opencv_python_headless-4.10.0.84-cp37-abi3-manylinux_2_17_x86_64.manylinux2014_x86_64.whl.metadata (20 kB)\n",
            "Collecting pillow-heif>=0.18.0 (from roboflow)\n",
            "  Downloading pillow_heif-0.22.0-cp311-cp311-manylinux_2_17_x86_64.manylinux2014_x86_64.whl.metadata (9.6 kB)\n",
            "Requirement already satisfied: python-dateutil in /usr/local/lib/python3.11/dist-packages (from roboflow) (2.9.0.post0)\n",
            "Collecting python-dotenv (from roboflow)\n",
            "  Downloading python_dotenv-1.1.0-py3-none-any.whl.metadata (24 kB)\n",
            "Requirement already satisfied: six in /usr/local/lib/python3.11/dist-packages (from roboflow) (1.17.0)\n",
            "Requirement already satisfied: urllib3>=1.26.6 in /usr/local/lib/python3.11/dist-packages (from roboflow) (2.4.0)\n",
            "Requirement already satisfied: requests-toolbelt in /usr/local/lib/python3.11/dist-packages (from roboflow) (1.0.0)\n",
            "Collecting filetype (from roboflow)\n",
            "  Downloading filetype-1.2.0-py2.py3-none-any.whl.metadata (6.5 kB)\n",
            "Requirement already satisfied: contourpy>=1.0.1 in /usr/local/lib/python3.11/dist-packages (from matplotlib>=3.3.0->ultralytics) (1.3.2)\n",
            "Requirement already satisfied: fonttools>=4.22.0 in /usr/local/lib/python3.11/dist-packages (from matplotlib>=3.3.0->ultralytics) (4.58.1)\n",
            "Requirement already satisfied: packaging>=20.0 in /usr/local/lib/python3.11/dist-packages (from matplotlib>=3.3.0->ultralytics) (24.2)\n",
            "Requirement already satisfied: pyparsing>=2.3.1 in /usr/local/lib/python3.11/dist-packages (from matplotlib>=3.3.0->ultralytics) (3.2.3)\n",
            "Requirement already satisfied: pytz>=2020.1 in /usr/local/lib/python3.11/dist-packages (from pandas>=1.1.4->ultralytics) (2025.2)\n",
            "Requirement already satisfied: tzdata>=2022.7 in /usr/local/lib/python3.11/dist-packages (from pandas>=1.1.4->ultralytics) (2025.2)\n",
            "Requirement already satisfied: charset-normalizer<4,>=2 in /usr/local/lib/python3.11/dist-packages (from requests>=2.23.0->ultralytics) (3.4.2)\n",
            "Requirement already satisfied: filelock in /usr/local/lib/python3.11/dist-packages (from torch>=1.8.0->ultralytics) (3.18.0)\n",
            "Requirement already satisfied: typing-extensions>=4.10.0 in /usr/local/lib/python3.11/dist-packages (from torch>=1.8.0->ultralytics) (4.14.0)\n",
            "Requirement already satisfied: networkx in /usr/local/lib/python3.11/dist-packages (from torch>=1.8.0->ultralytics) (3.5)\n",
            "Requirement already satisfied: jinja2 in /usr/local/lib/python3.11/dist-packages (from torch>=1.8.0->ultralytics) (3.1.6)\n",
            "Requirement already satisfied: fsspec in /usr/local/lib/python3.11/dist-packages (from torch>=1.8.0->ultralytics) (2025.3.2)\n",
            "Collecting nvidia-cuda-nvrtc-cu12==12.4.127 (from torch>=1.8.0->ultralytics)\n",
            "  Downloading nvidia_cuda_nvrtc_cu12-12.4.127-py3-none-manylinux2014_x86_64.whl.metadata (1.5 kB)\n",
            "Collecting nvidia-cuda-runtime-cu12==12.4.127 (from torch>=1.8.0->ultralytics)\n",
            "  Downloading nvidia_cuda_runtime_cu12-12.4.127-py3-none-manylinux2014_x86_64.whl.metadata (1.5 kB)\n",
            "Collecting nvidia-cuda-cupti-cu12==12.4.127 (from torch>=1.8.0->ultralytics)\n",
            "  Downloading nvidia_cuda_cupti_cu12-12.4.127-py3-none-manylinux2014_x86_64.whl.metadata (1.6 kB)\n",
            "Collecting nvidia-cudnn-cu12==9.1.0.70 (from torch>=1.8.0->ultralytics)\n",
            "  Downloading nvidia_cudnn_cu12-9.1.0.70-py3-none-manylinux2014_x86_64.whl.metadata (1.6 kB)\n",
            "Collecting nvidia-cublas-cu12==12.4.5.8 (from torch>=1.8.0->ultralytics)\n",
            "  Downloading nvidia_cublas_cu12-12.4.5.8-py3-none-manylinux2014_x86_64.whl.metadata (1.5 kB)\n",
            "Collecting nvidia-cufft-cu12==11.2.1.3 (from torch>=1.8.0->ultralytics)\n",
            "  Downloading nvidia_cufft_cu12-11.2.1.3-py3-none-manylinux2014_x86_64.whl.metadata (1.5 kB)\n",
            "Collecting nvidia-curand-cu12==10.3.5.147 (from torch>=1.8.0->ultralytics)\n",
            "  Downloading nvidia_curand_cu12-10.3.5.147-py3-none-manylinux2014_x86_64.whl.metadata (1.5 kB)\n",
            "Collecting nvidia-cusolver-cu12==11.6.1.9 (from torch>=1.8.0->ultralytics)\n",
            "  Downloading nvidia_cusolver_cu12-11.6.1.9-py3-none-manylinux2014_x86_64.whl.metadata (1.6 kB)\n",
            "Collecting nvidia-cusparse-cu12==12.3.1.170 (from torch>=1.8.0->ultralytics)\n",
            "  Downloading nvidia_cusparse_cu12-12.3.1.170-py3-none-manylinux2014_x86_64.whl.metadata (1.6 kB)\n",
            "Requirement already satisfied: nvidia-cusparselt-cu12==0.6.2 in /usr/local/lib/python3.11/dist-packages (from torch>=1.8.0->ultralytics) (0.6.2)\n",
            "Requirement already satisfied: nvidia-nccl-cu12==2.21.5 in /usr/local/lib/python3.11/dist-packages (from torch>=1.8.0->ultralytics) (2.21.5)\n",
            "Requirement already satisfied: nvidia-nvtx-cu12==12.4.127 in /usr/local/lib/python3.11/dist-packages (from torch>=1.8.0->ultralytics) (12.4.127)\n",
            "Collecting nvidia-nvjitlink-cu12==12.4.127 (from torch>=1.8.0->ultralytics)\n",
            "  Downloading nvidia_nvjitlink_cu12-12.4.127-py3-none-manylinux2014_x86_64.whl.metadata (1.5 kB)\n",
            "Requirement already satisfied: triton==3.2.0 in /usr/local/lib/python3.11/dist-packages (from torch>=1.8.0->ultralytics) (3.2.0)\n",
            "Requirement already satisfied: sympy==1.13.1 in /usr/local/lib/python3.11/dist-packages (from torch>=1.8.0->ultralytics) (1.13.1)\n",
            "Requirement already satisfied: mpmath<1.4,>=1.1.0 in /usr/local/lib/python3.11/dist-packages (from sympy==1.13.1->torch>=1.8.0->ultralytics) (1.3.0)\n",
            "Requirement already satisfied: MarkupSafe>=2.0 in /usr/local/lib/python3.11/dist-packages (from jinja2->torch>=1.8.0->ultralytics) (3.0.2)\n",
            "Downloading ultralytics-8.3.151-py3-none-any.whl (1.0 MB)\n",
            "\u001b[2K   \u001b[90m━━━━━━━━━━━━━━━━━━━━━━━━━━━━━━━━━━━━━━━━\u001b[0m \u001b[32m1.0/1.0 MB\u001b[0m \u001b[31m25.8 MB/s\u001b[0m eta \u001b[36m0:00:00\u001b[0m\n",
            "\u001b[?25hDownloading roboflow-1.1.66-py3-none-any.whl (86 kB)\n",
            "\u001b[2K   \u001b[90m━━━━━━━━━━━━━━━━━━━━━━━━━━━━━━━━━━━━━━━━\u001b[0m \u001b[32m86.7/86.7 kB\u001b[0m \u001b[31m8.5 MB/s\u001b[0m eta \u001b[36m0:00:00\u001b[0m\n",
            "\u001b[?25hDownloading idna-3.7-py3-none-any.whl (66 kB)\n",
            "\u001b[2K   \u001b[90m━━━━━━━━━━━━━━━━━━━━━━━━━━━━━━━━━━━━━━━━\u001b[0m \u001b[32m66.8/66.8 kB\u001b[0m \u001b[31m6.2 MB/s\u001b[0m eta \u001b[36m0:00:00\u001b[0m\n",
            "\u001b[?25hDownloading opencv_python_headless-4.10.0.84-cp37-abi3-manylinux_2_17_x86_64.manylinux2014_x86_64.whl (49.9 MB)\n",
            "\u001b[2K   \u001b[90m━━━━━━━━━━━━━━━━━━━━━━━━━━━━━━━━━━━━━━━━\u001b[0m \u001b[32m49.9/49.9 MB\u001b[0m \u001b[31m19.2 MB/s\u001b[0m eta \u001b[36m0:00:00\u001b[0m\n",
            "\u001b[?25hDownloading pillow_heif-0.22.0-cp311-cp311-manylinux_2_17_x86_64.manylinux2014_x86_64.whl (7.8 MB)\n",
            "\u001b[2K   \u001b[90m━━━━━━━━━━━━━━━━━━━━━━━━━━━━━━━━━━━━━━━━\u001b[0m \u001b[32m7.8/7.8 MB\u001b[0m \u001b[31m112.3 MB/s\u001b[0m eta \u001b[36m0:00:00\u001b[0m\n",
            "\u001b[?25hDownloading nvidia_cublas_cu12-12.4.5.8-py3-none-manylinux2014_x86_64.whl (363.4 MB)\n",
            "\u001b[2K   \u001b[90m━━━━━━━━━━━━━━━━━━━━━━━━━━━━━━━━━━━━━━━━\u001b[0m \u001b[32m363.4/363.4 MB\u001b[0m \u001b[31m4.9 MB/s\u001b[0m eta \u001b[36m0:00:00\u001b[0m\n",
            "\u001b[?25hDownloading nvidia_cuda_cupti_cu12-12.4.127-py3-none-manylinux2014_x86_64.whl (13.8 MB)\n",
            "\u001b[2K   \u001b[90m━━━━━━━━━━━━━━━━━━━━━━━━━━━━━━━━━━━━━━━━\u001b[0m \u001b[32m13.8/13.8 MB\u001b[0m \u001b[31m72.4 MB/s\u001b[0m eta \u001b[36m0:00:00\u001b[0m\n",
            "\u001b[?25hDownloading nvidia_cuda_nvrtc_cu12-12.4.127-py3-none-manylinux2014_x86_64.whl (24.6 MB)\n",
            "\u001b[2K   \u001b[90m━━━━━━━━━━━━━━━━━━━━━━━━━━━━━━━━━━━━━━━━\u001b[0m \u001b[32m24.6/24.6 MB\u001b[0m \u001b[31m55.1 MB/s\u001b[0m eta \u001b[36m0:00:00\u001b[0m\n",
            "\u001b[?25hDownloading nvidia_cuda_runtime_cu12-12.4.127-py3-none-manylinux2014_x86_64.whl (883 kB)\n",
            "\u001b[2K   \u001b[90m━━━━━━━━━━━━━━━━━━━━━━━━━━━━━━━━━━━━━━━━\u001b[0m \u001b[32m883.7/883.7 kB\u001b[0m \u001b[31m48.2 MB/s\u001b[0m eta \u001b[36m0:00:00\u001b[0m\n",
            "\u001b[?25hDownloading nvidia_cudnn_cu12-9.1.0.70-py3-none-manylinux2014_x86_64.whl (664.8 MB)\n",
            "\u001b[2K   \u001b[90m━━━━━━━━━━━━━━━━━━━━━━━━━━━━━━━━━━━━━━━━\u001b[0m \u001b[32m664.8/664.8 MB\u001b[0m \u001b[31m2.8 MB/s\u001b[0m eta \u001b[36m0:00:00\u001b[0m\n",
            "\u001b[?25hDownloading nvidia_cufft_cu12-11.2.1.3-py3-none-manylinux2014_x86_64.whl (211.5 MB)\n",
            "\u001b[2K   \u001b[90m━━━━━━━━━━━━━━━━━━━━━━━━━━━━━━━━━━━━━━━━\u001b[0m \u001b[32m211.5/211.5 MB\u001b[0m \u001b[31m5.6 MB/s\u001b[0m eta \u001b[36m0:00:00\u001b[0m\n",
            "\u001b[?25hDownloading nvidia_curand_cu12-10.3.5.147-py3-none-manylinux2014_x86_64.whl (56.3 MB)\n",
            "\u001b[2K   \u001b[90m━━━━━━━━━━━━━━━━━━━━━━━━━━━━━━━━━━━━━━━━\u001b[0m \u001b[32m56.3/56.3 MB\u001b[0m \u001b[31m21.4 MB/s\u001b[0m eta \u001b[36m0:00:00\u001b[0m\n",
            "\u001b[?25hDownloading nvidia_cusolver_cu12-11.6.1.9-py3-none-manylinux2014_x86_64.whl (127.9 MB)\n",
            "\u001b[2K   \u001b[90m━━━━━━━━━━━━━━━━━━━━━━━━━━━━━━━━━━━━━━━━\u001b[0m \u001b[32m127.9/127.9 MB\u001b[0m \u001b[31m7.6 MB/s\u001b[0m eta \u001b[36m0:00:00\u001b[0m\n",
            "\u001b[?25hDownloading nvidia_cusparse_cu12-12.3.1.170-py3-none-manylinux2014_x86_64.whl (207.5 MB)\n",
            "\u001b[2K   \u001b[90m━━━━━━━━━━━━━━━━━━━━━━━━━━━━━━━━━━━━━━━━\u001b[0m \u001b[32m207.5/207.5 MB\u001b[0m \u001b[31m7.2 MB/s\u001b[0m eta \u001b[36m0:00:00\u001b[0m\n",
            "\u001b[?25hDownloading nvidia_nvjitlink_cu12-12.4.127-py3-none-manylinux2014_x86_64.whl (21.1 MB)\n",
            "\u001b[2K   \u001b[90m━━━━━━━━━━━━━━━━━━━━━━━━━━━━━━━━━━━━━━━━\u001b[0m \u001b[32m21.1/21.1 MB\u001b[0m \u001b[31m44.7 MB/s\u001b[0m eta \u001b[36m0:00:00\u001b[0m\n",
            "\u001b[?25hDownloading ultralytics_thop-2.0.14-py3-none-any.whl (26 kB)\n",
            "Downloading filetype-1.2.0-py2.py3-none-any.whl (19 kB)\n",
            "Downloading python_dotenv-1.1.0-py3-none-any.whl (20 kB)\n",
            "Installing collected packages: filetype, python-dotenv, pillow-heif, opencv-python-headless, nvidia-nvjitlink-cu12, nvidia-curand-cu12, nvidia-cufft-cu12, nvidia-cuda-runtime-cu12, nvidia-cuda-nvrtc-cu12, nvidia-cuda-cupti-cu12, nvidia-cublas-cu12, idna, nvidia-cusparse-cu12, nvidia-cudnn-cu12, nvidia-cusolver-cu12, roboflow, ultralytics-thop, ultralytics\n",
            "  Attempting uninstall: opencv-python-headless\n",
            "    Found existing installation: opencv-python-headless 4.11.0.86\n",
            "    Uninstalling opencv-python-headless-4.11.0.86:\n",
            "      Successfully uninstalled opencv-python-headless-4.11.0.86\n",
            "  Attempting uninstall: nvidia-nvjitlink-cu12\n",
            "    Found existing installation: nvidia-nvjitlink-cu12 12.5.82\n",
            "    Uninstalling nvidia-nvjitlink-cu12-12.5.82:\n",
            "      Successfully uninstalled nvidia-nvjitlink-cu12-12.5.82\n",
            "  Attempting uninstall: nvidia-curand-cu12\n",
            "    Found existing installation: nvidia-curand-cu12 10.3.6.82\n",
            "    Uninstalling nvidia-curand-cu12-10.3.6.82:\n",
            "      Successfully uninstalled nvidia-curand-cu12-10.3.6.82\n",
            "  Attempting uninstall: nvidia-cufft-cu12\n",
            "    Found existing installation: nvidia-cufft-cu12 11.2.3.61\n",
            "    Uninstalling nvidia-cufft-cu12-11.2.3.61:\n",
            "      Successfully uninstalled nvidia-cufft-cu12-11.2.3.61\n",
            "  Attempting uninstall: nvidia-cuda-runtime-cu12\n",
            "    Found existing installation: nvidia-cuda-runtime-cu12 12.5.82\n",
            "    Uninstalling nvidia-cuda-runtime-cu12-12.5.82:\n",
            "      Successfully uninstalled nvidia-cuda-runtime-cu12-12.5.82\n",
            "  Attempting uninstall: nvidia-cuda-nvrtc-cu12\n",
            "    Found existing installation: nvidia-cuda-nvrtc-cu12 12.5.82\n",
            "    Uninstalling nvidia-cuda-nvrtc-cu12-12.5.82:\n",
            "      Successfully uninstalled nvidia-cuda-nvrtc-cu12-12.5.82\n",
            "  Attempting uninstall: nvidia-cuda-cupti-cu12\n",
            "    Found existing installation: nvidia-cuda-cupti-cu12 12.5.82\n",
            "    Uninstalling nvidia-cuda-cupti-cu12-12.5.82:\n",
            "      Successfully uninstalled nvidia-cuda-cupti-cu12-12.5.82\n",
            "  Attempting uninstall: nvidia-cublas-cu12\n",
            "    Found existing installation: nvidia-cublas-cu12 12.5.3.2\n",
            "    Uninstalling nvidia-cublas-cu12-12.5.3.2:\n",
            "      Successfully uninstalled nvidia-cublas-cu12-12.5.3.2\n",
            "  Attempting uninstall: idna\n",
            "    Found existing installation: idna 3.10\n",
            "    Uninstalling idna-3.10:\n",
            "      Successfully uninstalled idna-3.10\n",
            "  Attempting uninstall: nvidia-cusparse-cu12\n",
            "    Found existing installation: nvidia-cusparse-cu12 12.5.1.3\n",
            "    Uninstalling nvidia-cusparse-cu12-12.5.1.3:\n",
            "      Successfully uninstalled nvidia-cusparse-cu12-12.5.1.3\n",
            "  Attempting uninstall: nvidia-cudnn-cu12\n",
            "    Found existing installation: nvidia-cudnn-cu12 9.3.0.75\n",
            "    Uninstalling nvidia-cudnn-cu12-9.3.0.75:\n",
            "      Successfully uninstalled nvidia-cudnn-cu12-9.3.0.75\n",
            "  Attempting uninstall: nvidia-cusolver-cu12\n",
            "    Found existing installation: nvidia-cusolver-cu12 11.6.3.83\n",
            "    Uninstalling nvidia-cusolver-cu12-11.6.3.83:\n",
            "      Successfully uninstalled nvidia-cusolver-cu12-11.6.3.83\n",
            "Successfully installed filetype-1.2.0 idna-3.7 nvidia-cublas-cu12-12.4.5.8 nvidia-cuda-cupti-cu12-12.4.127 nvidia-cuda-nvrtc-cu12-12.4.127 nvidia-cuda-runtime-cu12-12.4.127 nvidia-cudnn-cu12-9.1.0.70 nvidia-cufft-cu12-11.2.1.3 nvidia-curand-cu12-10.3.5.147 nvidia-cusolver-cu12-11.6.1.9 nvidia-cusparse-cu12-12.3.1.170 nvidia-nvjitlink-cu12-12.4.127 opencv-python-headless-4.10.0.84 pillow-heif-0.22.0 python-dotenv-1.1.0 roboflow-1.1.66 ultralytics-8.3.151 ultralytics-thop-2.0.14\n"
          ]
        }
      ],
      "source": [
        "pip install ultralytics roboflow\n"
      ]
    },
    {
      "cell_type": "code",
      "source": [
        "!pip install ultralytics roboflow supervision\n",
        "import ultralytics\n",
        "ultralytics.checks()\n"
      ],
      "metadata": {
        "colab": {
          "base_uri": "https://localhost:8080/"
        },
        "id": "XWyfxvdv3_JI",
        "outputId": "738fe8c7-505d-44f6-e741-648bbf0a6da7"
      },
      "execution_count": 4,
      "outputs": [
        {
          "output_type": "stream",
          "name": "stdout",
          "text": [
            "Ultralytics 8.3.151 🚀 Python-3.11.13 torch-2.6.0+cu124 CUDA:0 (Tesla T4, 15095MiB)\n",
            "Setup complete ✅ (2 CPUs, 12.7 GB RAM, 41.7/112.6 GB disk)\n"
          ]
        }
      ]
    },
    {
      "cell_type": "code",
      "source": [
        "from roboflow import Roboflow\n",
        "\n",
        "rf = Roboflow(api_key=\"xEqrBjR3L8GGnDZoPzOs\")\n",
        "project = rf.workspace(\"angelddd\").project(\"amogus-detection-b6oaa\")\n",
        "version = project.version(1)\n",
        "dataset = version.download(\"yolov11\")\n"
      ],
      "metadata": {
        "colab": {
          "base_uri": "https://localhost:8080/"
        },
        "id": "r8hXGam54UI2",
        "outputId": "e6efa06d-d395-4b18-9bdd-f114bc85f68c"
      },
      "execution_count": 5,
      "outputs": [
        {
          "output_type": "stream",
          "name": "stdout",
          "text": [
            "loading Roboflow workspace...\n",
            "loading Roboflow project...\n"
          ]
        },
        {
          "output_type": "stream",
          "name": "stderr",
          "text": [
            "Downloading Dataset Version Zip in Amogus-Detection-1 to yolov11:: 100%|██████████| 25118/25118 [00:00<00:00, 48921.29it/s]"
          ]
        },
        {
          "output_type": "stream",
          "name": "stdout",
          "text": [
            "\n"
          ]
        },
        {
          "output_type": "stream",
          "name": "stderr",
          "text": [
            "\n",
            "Extracting Dataset Version Zip to Amogus-Detection-1 in yolov11:: 100%|██████████| 1084/1084 [00:00<00:00, 7169.11it/s]\n"
          ]
        }
      ]
    },
    {
      "cell_type": "code",
      "source": [
        "from ultralytics import YOLO\n",
        "\n",
        "# Puedes usar otros como yolo11n.pt (nano), yolo11s.pt (small), etc.\n",
        "model = YOLO(\"yolo11s.pt\")\n",
        "\n",
        "model.train(\n",
        "    data=f\"{dataset.location}/data.yaml\",\n",
        "    epochs=25,\n",
        "    imgsz=640,\n",
        "    plots=True\n",
        ")\n"
      ],
      "metadata": {
        "colab": {
          "base_uri": "https://localhost:8080/"
        },
        "id": "3hbs_GWf4t0f",
        "outputId": "9804a9f8-dca9-483d-fcaf-c91bebfb896e"
      },
      "execution_count": 6,
      "outputs": [
        {
          "output_type": "stream",
          "name": "stdout",
          "text": [
            "Downloading https://github.com/ultralytics/assets/releases/download/v8.3.0/yolo11s.pt to 'yolo11s.pt'...\n"
          ]
        },
        {
          "output_type": "stream",
          "name": "stderr",
          "text": [
            "100%|██████████| 18.4M/18.4M [00:00<00:00, 113MB/s]\n"
          ]
        },
        {
          "output_type": "stream",
          "name": "stdout",
          "text": [
            "Ultralytics 8.3.151 🚀 Python-3.11.13 torch-2.6.0+cu124 CUDA:0 (Tesla T4, 15095MiB)\n",
            "\u001b[34m\u001b[1mengine/trainer: \u001b[0magnostic_nms=False, amp=True, augment=False, auto_augment=randaugment, batch=16, bgr=0.0, box=7.5, cache=False, cfg=None, classes=None, close_mosaic=10, cls=0.5, conf=None, copy_paste=0.0, copy_paste_mode=flip, cos_lr=False, cutmix=0.0, data=/content/Amogus-Detection-1/data.yaml, degrees=0.0, deterministic=True, device=None, dfl=1.5, dnn=False, dropout=0.0, dynamic=False, embed=None, epochs=25, erasing=0.4, exist_ok=False, fliplr=0.5, flipud=0.0, format=torchscript, fraction=1.0, freeze=None, half=False, hsv_h=0.015, hsv_s=0.7, hsv_v=0.4, imgsz=640, int8=False, iou=0.7, keras=False, kobj=1.0, line_width=None, lr0=0.01, lrf=0.01, mask_ratio=4, max_det=300, mixup=0.0, mode=train, model=yolo11s.pt, momentum=0.937, mosaic=1.0, multi_scale=False, name=train, nbs=64, nms=False, opset=None, optimize=False, optimizer=auto, overlap_mask=True, patience=100, perspective=0.0, plots=True, pose=12.0, pretrained=True, profile=False, project=None, rect=False, resume=False, retina_masks=False, save=True, save_conf=False, save_crop=False, save_dir=runs/detect/train, save_frames=False, save_json=False, save_period=-1, save_txt=False, scale=0.5, seed=0, shear=0.0, show=False, show_boxes=True, show_conf=True, show_labels=True, simplify=True, single_cls=False, source=None, split=val, stream_buffer=False, task=detect, time=None, tracker=botsort.yaml, translate=0.1, val=True, verbose=True, vid_stride=1, visualize=False, warmup_bias_lr=0.1, warmup_epochs=3.0, warmup_momentum=0.8, weight_decay=0.0005, workers=8, workspace=None\n",
            "Downloading https://ultralytics.com/assets/Arial.ttf to '/root/.config/Ultralytics/Arial.ttf'...\n"
          ]
        },
        {
          "output_type": "stream",
          "name": "stderr",
          "text": [
            "100%|██████████| 755k/755k [00:00<00:00, 15.5MB/s]"
          ]
        },
        {
          "output_type": "stream",
          "name": "stdout",
          "text": [
            "Overriding model.yaml nc=80 with nc=1\n",
            "\n",
            "                   from  n    params  module                                       arguments                     \n",
            "  0                  -1  1       928  ultralytics.nn.modules.conv.Conv             [3, 32, 3, 2]                 \n",
            "  1                  -1  1     18560  ultralytics.nn.modules.conv.Conv             [32, 64, 3, 2]                \n",
            "  2                  -1  1     26080  ultralytics.nn.modules.block.C3k2            [64, 128, 1, False, 0.25]     \n",
            "  3                  -1  1    147712  ultralytics.nn.modules.conv.Conv             [128, 128, 3, 2]              \n",
            "  4                  -1  1    103360  ultralytics.nn.modules.block.C3k2            [128, 256, 1, False, 0.25]    \n",
            "  5                  -1  1    590336  ultralytics.nn.modules.conv.Conv             [256, 256, 3, 2]              \n",
            "  6                  -1  1    346112  ultralytics.nn.modules.block.C3k2            [256, 256, 1, True]           \n",
            "  7                  -1  1   1180672  ultralytics.nn.modules.conv.Conv             [256, 512, 3, 2]              \n",
            "  8                  -1  1   1380352  ultralytics.nn.modules.block.C3k2            [512, 512, 1, True]           \n",
            "  9                  -1  1    656896  ultralytics.nn.modules.block.SPPF            [512, 512, 5]                 \n",
            " 10                  -1  1    990976  ultralytics.nn.modules.block.C2PSA           [512, 512, 1]                 \n",
            " 11                  -1  1         0  torch.nn.modules.upsampling.Upsample         [None, 2, 'nearest']          \n",
            " 12             [-1, 6]  1         0  ultralytics.nn.modules.conv.Concat           [1]                           \n",
            " 13                  -1  1    443776  ultralytics.nn.modules.block.C3k2            [768, 256, 1, False]          \n",
            " 14                  -1  1         0  torch.nn.modules.upsampling.Upsample         [None, 2, 'nearest']          \n",
            " 15             [-1, 4]  1         0  ultralytics.nn.modules.conv.Concat           [1]                           \n",
            " 16                  -1  1    127680  ultralytics.nn.modules.block.C3k2            [512, 128, 1, False]          \n",
            " 17                  -1  1    147712  ultralytics.nn.modules.conv.Conv             [128, 128, 3, 2]              \n",
            " 18            [-1, 13]  1         0  ultralytics.nn.modules.conv.Concat           [1]                           \n"
          ]
        },
        {
          "output_type": "stream",
          "name": "stderr",
          "text": [
            "\n"
          ]
        },
        {
          "output_type": "stream",
          "name": "stdout",
          "text": [
            " 19                  -1  1    345472  ultralytics.nn.modules.block.C3k2            [384, 256, 1, False]          \n",
            " 20                  -1  1    590336  ultralytics.nn.modules.conv.Conv             [256, 256, 3, 2]              \n",
            " 21            [-1, 10]  1         0  ultralytics.nn.modules.conv.Concat           [1]                           \n",
            " 22                  -1  1   1511424  ultralytics.nn.modules.block.C3k2            [768, 512, 1, True]           \n",
            " 23        [16, 19, 22]  1    819795  ultralytics.nn.modules.head.Detect           [1, [128, 256, 512]]          \n",
            "YOLO11s summary: 181 layers, 9,428,179 parameters, 9,428,163 gradients, 21.5 GFLOPs\n",
            "\n",
            "Transferred 493/499 items from pretrained weights\n",
            "Freezing layer 'model.23.dfl.conv.weight'\n",
            "\u001b[34m\u001b[1mAMP: \u001b[0mrunning Automatic Mixed Precision (AMP) checks...\n",
            "Downloading https://github.com/ultralytics/assets/releases/download/v8.3.0/yolo11n.pt to 'yolo11n.pt'...\n"
          ]
        },
        {
          "output_type": "stream",
          "name": "stderr",
          "text": [
            "100%|██████████| 5.35M/5.35M [00:00<00:00, 74.7MB/s]\n"
          ]
        },
        {
          "output_type": "stream",
          "name": "stdout",
          "text": [
            "\u001b[34m\u001b[1mAMP: \u001b[0mchecks passed ✅\n",
            "\u001b[34m\u001b[1mtrain: \u001b[0mFast image access ✅ (ping: 0.0±0.0 ms, read: 1605.6±686.9 MB/s, size: 52.5 KB)\n"
          ]
        },
        {
          "output_type": "stream",
          "name": "stderr",
          "text": [
            "\u001b[34m\u001b[1mtrain: \u001b[0mScanning /content/Amogus-Detection-1/train/labels... 429 images, 0 backgrounds, 0 corrupt: 100%|██████████| 429/429 [00:00<00:00, 2110.16it/s]"
          ]
        },
        {
          "output_type": "stream",
          "name": "stdout",
          "text": [
            "\u001b[34m\u001b[1mtrain: \u001b[0mNew cache created: /content/Amogus-Detection-1/train/labels.cache\n"
          ]
        },
        {
          "output_type": "stream",
          "name": "stderr",
          "text": [
            "\n"
          ]
        },
        {
          "output_type": "stream",
          "name": "stdout",
          "text": [
            "\u001b[34m\u001b[1malbumentations: \u001b[0mBlur(p=0.01, blur_limit=(3, 7)), MedianBlur(p=0.01, blur_limit=(3, 7)), ToGray(p=0.01, method='weighted_average', num_output_channels=3), CLAHE(p=0.01, clip_limit=(1.0, 4.0), tile_grid_size=(8, 8))\n",
            "\u001b[34m\u001b[1mval: \u001b[0mFast image access ✅ (ping: 0.0±0.0 ms, read: 482.0±88.0 MB/s, size: 60.0 KB)\n"
          ]
        },
        {
          "output_type": "stream",
          "name": "stderr",
          "text": [
            "\u001b[34m\u001b[1mval: \u001b[0mScanning /content/Amogus-Detection-1/valid/labels... 94 images, 0 backgrounds, 0 corrupt: 100%|██████████| 94/94 [00:00<00:00, 2070.48it/s]"
          ]
        },
        {
          "output_type": "stream",
          "name": "stdout",
          "text": [
            "\u001b[34m\u001b[1mval: \u001b[0mNew cache created: /content/Amogus-Detection-1/valid/labels.cache\n"
          ]
        },
        {
          "output_type": "stream",
          "name": "stderr",
          "text": [
            "\n"
          ]
        },
        {
          "output_type": "stream",
          "name": "stdout",
          "text": [
            "Plotting labels to runs/detect/train/labels.jpg... \n",
            "\u001b[34m\u001b[1moptimizer:\u001b[0m 'optimizer=auto' found, ignoring 'lr0=0.01' and 'momentum=0.937' and determining best 'optimizer', 'lr0' and 'momentum' automatically... \n",
            "\u001b[34m\u001b[1moptimizer:\u001b[0m AdamW(lr=0.002, momentum=0.9) with parameter groups 81 weight(decay=0.0), 88 weight(decay=0.0005), 87 bias(decay=0.0)\n",
            "Image sizes 640 train, 640 val\n",
            "Using 2 dataloader workers\n",
            "Logging results to \u001b[1mruns/detect/train\u001b[0m\n",
            "Starting training for 25 epochs...\n",
            "\n",
            "      Epoch    GPU_mem   box_loss   cls_loss   dfl_loss  Instances       Size\n"
          ]
        },
        {
          "output_type": "stream",
          "name": "stderr",
          "text": [
            "       1/25      3.98G      1.252      2.272      1.327        112        640: 100%|██████████| 27/27 [00:12<00:00,  2.21it/s]\n",
            "                 Class     Images  Instances      Box(P          R      mAP50  mAP50-95): 100%|██████████| 3/3 [00:02<00:00,  1.23it/s]"
          ]
        },
        {
          "output_type": "stream",
          "name": "stdout",
          "text": [
            "                   all         94        370      0.613      0.727      0.654      0.434\n"
          ]
        },
        {
          "output_type": "stream",
          "name": "stderr",
          "text": [
            "\n"
          ]
        },
        {
          "output_type": "stream",
          "name": "stdout",
          "text": [
            "\n",
            "      Epoch    GPU_mem   box_loss   cls_loss   dfl_loss  Instances       Size\n"
          ]
        },
        {
          "output_type": "stream",
          "name": "stderr",
          "text": [
            "       2/25      4.78G       1.19       1.13      1.246         97        640: 100%|██████████| 27/27 [00:08<00:00,  3.02it/s]\n",
            "                 Class     Images  Instances      Box(P          R      mAP50  mAP50-95): 100%|██████████| 3/3 [00:01<00:00,  2.96it/s]"
          ]
        },
        {
          "output_type": "stream",
          "name": "stdout",
          "text": [
            "                   all         94        370      0.431      0.181      0.158     0.0772\n"
          ]
        },
        {
          "output_type": "stream",
          "name": "stderr",
          "text": [
            "\n"
          ]
        },
        {
          "output_type": "stream",
          "name": "stdout",
          "text": [
            "\n",
            "      Epoch    GPU_mem   box_loss   cls_loss   dfl_loss  Instances       Size\n"
          ]
        },
        {
          "output_type": "stream",
          "name": "stderr",
          "text": [
            "       3/25      4.82G      1.181      1.052      1.271        114        640: 100%|██████████| 27/27 [00:08<00:00,  3.10it/s]\n",
            "                 Class     Images  Instances      Box(P          R      mAP50  mAP50-95): 100%|██████████| 3/3 [00:01<00:00,  2.54it/s]"
          ]
        },
        {
          "output_type": "stream",
          "name": "stdout",
          "text": [
            "                   all         94        370      0.371       0.37      0.307      0.173\n"
          ]
        },
        {
          "output_type": "stream",
          "name": "stderr",
          "text": [
            "\n"
          ]
        },
        {
          "output_type": "stream",
          "name": "stdout",
          "text": [
            "\n",
            "      Epoch    GPU_mem   box_loss   cls_loss   dfl_loss  Instances       Size\n"
          ]
        },
        {
          "output_type": "stream",
          "name": "stderr",
          "text": [
            "       4/25      4.86G      1.123     0.9815      1.247         92        640: 100%|██████████| 27/27 [00:07<00:00,  3.39it/s]\n",
            "                 Class     Images  Instances      Box(P          R      mAP50  mAP50-95): 100%|██████████| 3/3 [00:01<00:00,  2.61it/s]"
          ]
        },
        {
          "output_type": "stream",
          "name": "stdout",
          "text": [
            "                   all         94        370     0.0389      0.338     0.0226     0.0103\n"
          ]
        },
        {
          "output_type": "stream",
          "name": "stderr",
          "text": [
            "\n"
          ]
        },
        {
          "output_type": "stream",
          "name": "stdout",
          "text": [
            "\n",
            "      Epoch    GPU_mem   box_loss   cls_loss   dfl_loss  Instances       Size\n"
          ]
        },
        {
          "output_type": "stream",
          "name": "stderr",
          "text": [
            "       5/25       4.9G      1.138     0.9733      1.253         91        640: 100%|██████████| 27/27 [00:08<00:00,  3.16it/s]\n",
            "                 Class     Images  Instances      Box(P          R      mAP50  mAP50-95): 100%|██████████| 3/3 [00:00<00:00,  3.10it/s]"
          ]
        },
        {
          "output_type": "stream",
          "name": "stdout",
          "text": [
            "                   all         94        370    0.00766      0.305    0.00447    0.00217\n"
          ]
        },
        {
          "output_type": "stream",
          "name": "stderr",
          "text": [
            "\n"
          ]
        },
        {
          "output_type": "stream",
          "name": "stdout",
          "text": [
            "\n",
            "      Epoch    GPU_mem   box_loss   cls_loss   dfl_loss  Instances       Size\n"
          ]
        },
        {
          "output_type": "stream",
          "name": "stderr",
          "text": [
            "       6/25      4.94G      1.105     0.8632      1.227         96        640: 100%|██████████| 27/27 [00:08<00:00,  3.08it/s]\n",
            "                 Class     Images  Instances      Box(P          R      mAP50  mAP50-95): 100%|██████████| 3/3 [00:00<00:00,  3.06it/s]"
          ]
        },
        {
          "output_type": "stream",
          "name": "stdout",
          "text": [
            "                   all         94        370      0.654      0.705      0.716      0.467\n"
          ]
        },
        {
          "output_type": "stream",
          "name": "stderr",
          "text": [
            "\n"
          ]
        },
        {
          "output_type": "stream",
          "name": "stdout",
          "text": [
            "\n",
            "      Epoch    GPU_mem   box_loss   cls_loss   dfl_loss  Instances       Size\n"
          ]
        },
        {
          "output_type": "stream",
          "name": "stderr",
          "text": [
            "       7/25      4.98G        1.1     0.8582      1.212         88        640: 100%|██████████| 27/27 [00:08<00:00,  3.00it/s]\n",
            "                 Class     Images  Instances      Box(P          R      mAP50  mAP50-95): 100%|██████████| 3/3 [00:00<00:00,  3.07it/s]"
          ]
        },
        {
          "output_type": "stream",
          "name": "stdout",
          "text": [
            "                   all         94        370      0.727      0.743      0.793      0.542\n"
          ]
        },
        {
          "output_type": "stream",
          "name": "stderr",
          "text": [
            "\n"
          ]
        },
        {
          "output_type": "stream",
          "name": "stdout",
          "text": [
            "\n",
            "      Epoch    GPU_mem   box_loss   cls_loss   dfl_loss  Instances       Size\n"
          ]
        },
        {
          "output_type": "stream",
          "name": "stderr",
          "text": [
            "       8/25      5.02G      1.114     0.8616       1.23         82        640: 100%|██████████| 27/27 [00:08<00:00,  3.18it/s]\n",
            "                 Class     Images  Instances      Box(P          R      mAP50  mAP50-95): 100%|██████████| 3/3 [00:01<00:00,  2.29it/s]"
          ]
        },
        {
          "output_type": "stream",
          "name": "stdout",
          "text": [
            "                   all         94        370      0.763       0.74      0.813      0.537\n"
          ]
        },
        {
          "output_type": "stream",
          "name": "stderr",
          "text": [
            "\n"
          ]
        },
        {
          "output_type": "stream",
          "name": "stdout",
          "text": [
            "\n",
            "      Epoch    GPU_mem   box_loss   cls_loss   dfl_loss  Instances       Size\n"
          ]
        },
        {
          "output_type": "stream",
          "name": "stderr",
          "text": [
            "       9/25      5.06G       1.07     0.8102        1.2         82        640: 100%|██████████| 27/27 [00:08<00:00,  3.05it/s]\n",
            "                 Class     Images  Instances      Box(P          R      mAP50  mAP50-95): 100%|██████████| 3/3 [00:01<00:00,  2.72it/s]"
          ]
        },
        {
          "output_type": "stream",
          "name": "stdout",
          "text": [
            "                   all         94        370      0.778      0.795      0.859      0.602\n"
          ]
        },
        {
          "output_type": "stream",
          "name": "stderr",
          "text": [
            "\n"
          ]
        },
        {
          "output_type": "stream",
          "name": "stdout",
          "text": [
            "\n",
            "      Epoch    GPU_mem   box_loss   cls_loss   dfl_loss  Instances       Size\n"
          ]
        },
        {
          "output_type": "stream",
          "name": "stderr",
          "text": [
            "      10/25       5.1G      1.028     0.7637      1.179         89        640: 100%|██████████| 27/27 [00:08<00:00,  3.13it/s]\n",
            "                 Class     Images  Instances      Box(P          R      mAP50  mAP50-95): 100%|██████████| 3/3 [00:00<00:00,  3.24it/s]"
          ]
        },
        {
          "output_type": "stream",
          "name": "stdout",
          "text": [
            "                   all         94        370      0.791      0.799      0.849      0.553\n"
          ]
        },
        {
          "output_type": "stream",
          "name": "stderr",
          "text": [
            "\n"
          ]
        },
        {
          "output_type": "stream",
          "name": "stdout",
          "text": [
            "\n",
            "      Epoch    GPU_mem   box_loss   cls_loss   dfl_loss  Instances       Size\n"
          ]
        },
        {
          "output_type": "stream",
          "name": "stderr",
          "text": [
            "      11/25      5.14G      1.022     0.7518      1.167        100        640: 100%|██████████| 27/27 [00:08<00:00,  3.05it/s]\n",
            "                 Class     Images  Instances      Box(P          R      mAP50  mAP50-95): 100%|██████████| 3/3 [00:00<00:00,  3.09it/s]"
          ]
        },
        {
          "output_type": "stream",
          "name": "stdout",
          "text": [
            "                   all         94        370      0.817      0.712       0.81      0.564\n"
          ]
        },
        {
          "output_type": "stream",
          "name": "stderr",
          "text": [
            "\n"
          ]
        },
        {
          "output_type": "stream",
          "name": "stdout",
          "text": [
            "\n",
            "      Epoch    GPU_mem   box_loss   cls_loss   dfl_loss  Instances       Size\n"
          ]
        },
        {
          "output_type": "stream",
          "name": "stderr",
          "text": [
            "      12/25      5.18G      0.994      0.738      1.163         99        640: 100%|██████████| 27/27 [00:08<00:00,  3.01it/s]\n",
            "                 Class     Images  Instances      Box(P          R      mAP50  mAP50-95): 100%|██████████| 3/3 [00:00<00:00,  3.14it/s]"
          ]
        },
        {
          "output_type": "stream",
          "name": "stdout",
          "text": [
            "                   all         94        370      0.852      0.823      0.886      0.618\n"
          ]
        },
        {
          "output_type": "stream",
          "name": "stderr",
          "text": [
            "\n"
          ]
        },
        {
          "output_type": "stream",
          "name": "stdout",
          "text": [
            "\n",
            "      Epoch    GPU_mem   box_loss   cls_loss   dfl_loss  Instances       Size\n"
          ]
        },
        {
          "output_type": "stream",
          "name": "stderr",
          "text": [
            "      13/25      5.22G     0.9816     0.7209      1.145         90        640: 100%|██████████| 27/27 [00:08<00:00,  3.24it/s]\n",
            "                 Class     Images  Instances      Box(P          R      mAP50  mAP50-95): 100%|██████████| 3/3 [00:01<00:00,  1.96it/s]"
          ]
        },
        {
          "output_type": "stream",
          "name": "stdout",
          "text": [
            "                   all         94        370      0.851      0.827      0.907      0.647\n"
          ]
        },
        {
          "output_type": "stream",
          "name": "stderr",
          "text": [
            "\n"
          ]
        },
        {
          "output_type": "stream",
          "name": "stdout",
          "text": [
            "\n",
            "      Epoch    GPU_mem   box_loss   cls_loss   dfl_loss  Instances       Size\n"
          ]
        },
        {
          "output_type": "stream",
          "name": "stderr",
          "text": [
            "      14/25      5.26G     0.9484     0.6944      1.122         97        640: 100%|██████████| 27/27 [00:08<00:00,  3.35it/s]\n",
            "                 Class     Images  Instances      Box(P          R      mAP50  mAP50-95): 100%|██████████| 3/3 [00:00<00:00,  3.11it/s]"
          ]
        },
        {
          "output_type": "stream",
          "name": "stdout",
          "text": [
            "                   all         94        370      0.852      0.873       0.92      0.664\n"
          ]
        },
        {
          "output_type": "stream",
          "name": "stderr",
          "text": [
            "\n"
          ]
        },
        {
          "output_type": "stream",
          "name": "stdout",
          "text": [
            "\n",
            "      Epoch    GPU_mem   box_loss   cls_loss   dfl_loss  Instances       Size\n"
          ]
        },
        {
          "output_type": "stream",
          "name": "stderr",
          "text": [
            "      15/25      5.29G     0.9577     0.6794      1.132         88        640: 100%|██████████| 27/27 [00:08<00:00,  3.01it/s]\n",
            "                 Class     Images  Instances      Box(P          R      mAP50  mAP50-95): 100%|██████████| 3/3 [00:00<00:00,  3.25it/s]"
          ]
        },
        {
          "output_type": "stream",
          "name": "stdout",
          "text": [
            "                   all         94        370      0.876      0.838      0.909      0.669\n"
          ]
        },
        {
          "output_type": "stream",
          "name": "stderr",
          "text": [
            "\n"
          ]
        },
        {
          "output_type": "stream",
          "name": "stdout",
          "text": [
            "Closing dataloader mosaic\n",
            "\u001b[34m\u001b[1malbumentations: \u001b[0mBlur(p=0.01, blur_limit=(3, 7)), MedianBlur(p=0.01, blur_limit=(3, 7)), ToGray(p=0.01, method='weighted_average', num_output_channels=3), CLAHE(p=0.01, clip_limit=(1.0, 4.0), tile_grid_size=(8, 8))\n",
            "\n",
            "      Epoch    GPU_mem   box_loss   cls_loss   dfl_loss  Instances       Size\n"
          ]
        },
        {
          "output_type": "stream",
          "name": "stderr",
          "text": [
            "      16/25      5.34G     0.9161     0.6115      1.119         50        640: 100%|██████████| 27/27 [00:10<00:00,  2.65it/s]\n",
            "                 Class     Images  Instances      Box(P          R      mAP50  mAP50-95): 100%|██████████| 3/3 [00:00<00:00,  3.13it/s]"
          ]
        },
        {
          "output_type": "stream",
          "name": "stdout",
          "text": [
            "                   all         94        370      0.895      0.853      0.927      0.678\n"
          ]
        },
        {
          "output_type": "stream",
          "name": "stderr",
          "text": [
            "\n"
          ]
        },
        {
          "output_type": "stream",
          "name": "stdout",
          "text": [
            "\n",
            "      Epoch    GPU_mem   box_loss   cls_loss   dfl_loss  Instances       Size\n"
          ]
        },
        {
          "output_type": "stream",
          "name": "stderr",
          "text": [
            "      17/25      5.38G     0.8767     0.5941      1.096         89        640: 100%|██████████| 27/27 [00:08<00:00,  3.10it/s]\n",
            "                 Class     Images  Instances      Box(P          R      mAP50  mAP50-95): 100%|██████████| 3/3 [00:00<00:00,  3.15it/s]"
          ]
        },
        {
          "output_type": "stream",
          "name": "stdout",
          "text": [
            "                   all         94        370      0.842      0.877      0.918      0.679\n"
          ]
        },
        {
          "output_type": "stream",
          "name": "stderr",
          "text": [
            "\n"
          ]
        },
        {
          "output_type": "stream",
          "name": "stdout",
          "text": [
            "\n",
            "      Epoch    GPU_mem   box_loss   cls_loss   dfl_loss  Instances       Size\n"
          ]
        },
        {
          "output_type": "stream",
          "name": "stderr",
          "text": [
            "      18/25      5.42G     0.8755     0.5658       1.09         64        640: 100%|██████████| 27/27 [00:08<00:00,  3.17it/s]\n",
            "                 Class     Images  Instances      Box(P          R      mAP50  mAP50-95): 100%|██████████| 3/3 [00:01<00:00,  2.29it/s]"
          ]
        },
        {
          "output_type": "stream",
          "name": "stdout",
          "text": [
            "                   all         94        370      0.862      0.873      0.928      0.695\n"
          ]
        },
        {
          "output_type": "stream",
          "name": "stderr",
          "text": [
            "\n"
          ]
        },
        {
          "output_type": "stream",
          "name": "stdout",
          "text": [
            "\n",
            "      Epoch    GPU_mem   box_loss   cls_loss   dfl_loss  Instances       Size\n"
          ]
        },
        {
          "output_type": "stream",
          "name": "stderr",
          "text": [
            "      19/25      5.46G     0.8355     0.5426      1.079         65        640: 100%|██████████| 27/27 [00:07<00:00,  3.45it/s]\n",
            "                 Class     Images  Instances      Box(P          R      mAP50  mAP50-95): 100%|██████████| 3/3 [00:00<00:00,  3.13it/s]"
          ]
        },
        {
          "output_type": "stream",
          "name": "stdout",
          "text": [
            "                   all         94        370      0.867      0.859       0.92      0.698\n"
          ]
        },
        {
          "output_type": "stream",
          "name": "stderr",
          "text": [
            "\n"
          ]
        },
        {
          "output_type": "stream",
          "name": "stdout",
          "text": [
            "\n",
            "      Epoch    GPU_mem   box_loss   cls_loss   dfl_loss  Instances       Size\n"
          ]
        },
        {
          "output_type": "stream",
          "name": "stderr",
          "text": [
            "      20/25      5.49G     0.8259     0.5218      1.058         56        640: 100%|██████████| 27/27 [00:08<00:00,  3.13it/s]\n",
            "                 Class     Images  Instances      Box(P          R      mAP50  mAP50-95): 100%|██████████| 3/3 [00:00<00:00,  3.22it/s]"
          ]
        },
        {
          "output_type": "stream",
          "name": "stdout",
          "text": [
            "                   all         94        370      0.896      0.843      0.932      0.696\n"
          ]
        },
        {
          "output_type": "stream",
          "name": "stderr",
          "text": [
            "\n"
          ]
        },
        {
          "output_type": "stream",
          "name": "stdout",
          "text": [
            "\n",
            "      Epoch    GPU_mem   box_loss   cls_loss   dfl_loss  Instances       Size\n"
          ]
        },
        {
          "output_type": "stream",
          "name": "stderr",
          "text": [
            "      21/25      5.54G     0.8096     0.5078      1.053         44        640: 100%|██████████| 27/27 [00:08<00:00,  3.14it/s]\n",
            "                 Class     Images  Instances      Box(P          R      mAP50  mAP50-95): 100%|██████████| 3/3 [00:00<00:00,  3.17it/s]"
          ]
        },
        {
          "output_type": "stream",
          "name": "stdout",
          "text": [
            "                   all         94        370      0.909      0.854      0.932      0.715\n"
          ]
        },
        {
          "output_type": "stream",
          "name": "stderr",
          "text": [
            "\n"
          ]
        },
        {
          "output_type": "stream",
          "name": "stdout",
          "text": [
            "\n",
            "      Epoch    GPU_mem   box_loss   cls_loss   dfl_loss  Instances       Size\n"
          ]
        },
        {
          "output_type": "stream",
          "name": "stderr",
          "text": [
            "      22/25      5.57G     0.8078     0.5012      1.049         72        640: 100%|██████████| 27/27 [00:08<00:00,  3.13it/s]\n",
            "                 Class     Images  Instances      Box(P          R      mAP50  mAP50-95): 100%|██████████| 3/3 [00:00<00:00,  3.03it/s]"
          ]
        },
        {
          "output_type": "stream",
          "name": "stdout",
          "text": [
            "                   all         94        370      0.904      0.862      0.942      0.725\n"
          ]
        },
        {
          "output_type": "stream",
          "name": "stderr",
          "text": [
            "\n"
          ]
        },
        {
          "output_type": "stream",
          "name": "stdout",
          "text": [
            "\n",
            "      Epoch    GPU_mem   box_loss   cls_loss   dfl_loss  Instances       Size\n"
          ]
        },
        {
          "output_type": "stream",
          "name": "stderr",
          "text": [
            "      23/25      5.61G     0.7872     0.4891      1.035         54        640: 100%|██████████| 27/27 [00:07<00:00,  3.44it/s]\n",
            "                 Class     Images  Instances      Box(P          R      mAP50  mAP50-95): 100%|██████████| 3/3 [00:01<00:00,  2.77it/s]"
          ]
        },
        {
          "output_type": "stream",
          "name": "stdout",
          "text": [
            "                   all         94        370      0.896      0.841      0.935      0.722\n"
          ]
        },
        {
          "output_type": "stream",
          "name": "stderr",
          "text": [
            "\n"
          ]
        },
        {
          "output_type": "stream",
          "name": "stdout",
          "text": [
            "\n",
            "      Epoch    GPU_mem   box_loss   cls_loss   dfl_loss  Instances       Size\n"
          ]
        },
        {
          "output_type": "stream",
          "name": "stderr",
          "text": [
            "      24/25      5.65G     0.7589     0.4714      1.016         53        640: 100%|██████████| 27/27 [00:08<00:00,  3.24it/s]\n",
            "                 Class     Images  Instances      Box(P          R      mAP50  mAP50-95): 100%|██████████| 3/3 [00:00<00:00,  3.05it/s]"
          ]
        },
        {
          "output_type": "stream",
          "name": "stdout",
          "text": [
            "                   all         94        370      0.915      0.845      0.941      0.733\n"
          ]
        },
        {
          "output_type": "stream",
          "name": "stderr",
          "text": [
            "\n"
          ]
        },
        {
          "output_type": "stream",
          "name": "stdout",
          "text": [
            "\n",
            "      Epoch    GPU_mem   box_loss   cls_loss   dfl_loss  Instances       Size\n"
          ]
        },
        {
          "output_type": "stream",
          "name": "stderr",
          "text": [
            "      25/25      5.69G     0.7488     0.4492      1.018         59        640: 100%|██████████| 27/27 [00:09<00:00,  2.87it/s]\n",
            "                 Class     Images  Instances      Box(P          R      mAP50  mAP50-95): 100%|██████████| 3/3 [00:01<00:00,  2.81it/s]"
          ]
        },
        {
          "output_type": "stream",
          "name": "stdout",
          "text": [
            "                   all         94        370      0.881      0.881      0.944      0.733\n"
          ]
        },
        {
          "output_type": "stream",
          "name": "stderr",
          "text": [
            "\n"
          ]
        },
        {
          "output_type": "stream",
          "name": "stdout",
          "text": [
            "\n",
            "25 epochs completed in 0.073 hours.\n",
            "Optimizer stripped from runs/detect/train/weights/last.pt, 19.2MB\n",
            "Optimizer stripped from runs/detect/train/weights/best.pt, 19.2MB\n",
            "\n",
            "Validating runs/detect/train/weights/best.pt...\n",
            "Ultralytics 8.3.151 🚀 Python-3.11.13 torch-2.6.0+cu124 CUDA:0 (Tesla T4, 15095MiB)\n",
            "YOLO11s summary (fused): 100 layers, 9,413,187 parameters, 0 gradients, 21.3 GFLOPs\n"
          ]
        },
        {
          "output_type": "stream",
          "name": "stderr",
          "text": [
            "                 Class     Images  Instances      Box(P          R      mAP50  mAP50-95): 100%|██████████| 3/3 [00:01<00:00,  1.50it/s]\n"
          ]
        },
        {
          "output_type": "stream",
          "name": "stdout",
          "text": [
            "                   all         94        370       0.88      0.881      0.944      0.734\n",
            "Speed: 0.3ms preprocess, 7.0ms inference, 0.0ms loss, 2.9ms postprocess per image\n",
            "Results saved to \u001b[1mruns/detect/train\u001b[0m\n"
          ]
        },
        {
          "output_type": "execute_result",
          "data": {
            "text/plain": [
              "ultralytics.utils.metrics.DetMetrics object with attributes:\n",
              "\n",
              "ap_class_index: array([0])\n",
              "box: ultralytics.utils.metrics.Metric object\n",
              "confusion_matrix: <ultralytics.utils.metrics.ConfusionMatrix object at 0x7a09c21b9250>\n",
              "curves: ['Precision-Recall(B)', 'F1-Confidence(B)', 'Precision-Confidence(B)', 'Recall-Confidence(B)']\n",
              "curves_results: [[array([          0,    0.001001,    0.002002,    0.003003,    0.004004,    0.005005,    0.006006,    0.007007,    0.008008,    0.009009,     0.01001,    0.011011,    0.012012,    0.013013,    0.014014,    0.015015,    0.016016,    0.017017,    0.018018,    0.019019,     0.02002,    0.021021,    0.022022,    0.023023,\n",
              "          0.024024,    0.025025,    0.026026,    0.027027,    0.028028,    0.029029,     0.03003,    0.031031,    0.032032,    0.033033,    0.034034,    0.035035,    0.036036,    0.037037,    0.038038,    0.039039,     0.04004,    0.041041,    0.042042,    0.043043,    0.044044,    0.045045,    0.046046,    0.047047,\n",
              "          0.048048,    0.049049,     0.05005,    0.051051,    0.052052,    0.053053,    0.054054,    0.055055,    0.056056,    0.057057,    0.058058,    0.059059,     0.06006,    0.061061,    0.062062,    0.063063,    0.064064,    0.065065,    0.066066,    0.067067,    0.068068,    0.069069,     0.07007,    0.071071,\n",
              "          0.072072,    0.073073,    0.074074,    0.075075,    0.076076,    0.077077,    0.078078,    0.079079,     0.08008,    0.081081,    0.082082,    0.083083,    0.084084,    0.085085,    0.086086,    0.087087,    0.088088,    0.089089,     0.09009,    0.091091,    0.092092,    0.093093,    0.094094,    0.095095,\n",
              "          0.096096,    0.097097,    0.098098,    0.099099,      0.1001,      0.1011,      0.1021,      0.1031,      0.1041,     0.10511,     0.10611,     0.10711,     0.10811,     0.10911,     0.11011,     0.11111,     0.11211,     0.11311,     0.11411,     0.11512,     0.11612,     0.11712,     0.11812,     0.11912,\n",
              "           0.12012,     0.12112,     0.12212,     0.12312,     0.12412,     0.12513,     0.12613,     0.12713,     0.12813,     0.12913,     0.13013,     0.13113,     0.13213,     0.13313,     0.13413,     0.13514,     0.13614,     0.13714,     0.13814,     0.13914,     0.14014,     0.14114,     0.14214,     0.14314,\n",
              "           0.14414,     0.14515,     0.14615,     0.14715,     0.14815,     0.14915,     0.15015,     0.15115,     0.15215,     0.15315,     0.15415,     0.15516,     0.15616,     0.15716,     0.15816,     0.15916,     0.16016,     0.16116,     0.16216,     0.16316,     0.16416,     0.16517,     0.16617,     0.16717,\n",
              "           0.16817,     0.16917,     0.17017,     0.17117,     0.17217,     0.17317,     0.17417,     0.17518,     0.17618,     0.17718,     0.17818,     0.17918,     0.18018,     0.18118,     0.18218,     0.18318,     0.18418,     0.18519,     0.18619,     0.18719,     0.18819,     0.18919,     0.19019,     0.19119,\n",
              "           0.19219,     0.19319,     0.19419,      0.1952,      0.1962,      0.1972,      0.1982,      0.1992,      0.2002,      0.2012,      0.2022,      0.2032,      0.2042,     0.20521,     0.20621,     0.20721,     0.20821,     0.20921,     0.21021,     0.21121,     0.21221,     0.21321,     0.21421,     0.21522,\n",
              "           0.21622,     0.21722,     0.21822,     0.21922,     0.22022,     0.22122,     0.22222,     0.22322,     0.22422,     0.22523,     0.22623,     0.22723,     0.22823,     0.22923,     0.23023,     0.23123,     0.23223,     0.23323,     0.23423,     0.23524,     0.23624,     0.23724,     0.23824,     0.23924,\n",
              "           0.24024,     0.24124,     0.24224,     0.24324,     0.24424,     0.24525,     0.24625,     0.24725,     0.24825,     0.24925,     0.25025,     0.25125,     0.25225,     0.25325,     0.25425,     0.25526,     0.25626,     0.25726,     0.25826,     0.25926,     0.26026,     0.26126,     0.26226,     0.26326,\n",
              "           0.26426,     0.26527,     0.26627,     0.26727,     0.26827,     0.26927,     0.27027,     0.27127,     0.27227,     0.27327,     0.27427,     0.27528,     0.27628,     0.27728,     0.27828,     0.27928,     0.28028,     0.28128,     0.28228,     0.28328,     0.28428,     0.28529,     0.28629,     0.28729,\n",
              "           0.28829,     0.28929,     0.29029,     0.29129,     0.29229,     0.29329,     0.29429,      0.2953,      0.2963,      0.2973,      0.2983,      0.2993,      0.3003,      0.3013,      0.3023,      0.3033,      0.3043,     0.30531,     0.30631,     0.30731,     0.30831,     0.30931,     0.31031,     0.31131,\n",
              "           0.31231,     0.31331,     0.31431,     0.31532,     0.31632,     0.31732,     0.31832,     0.31932,     0.32032,     0.32132,     0.32232,     0.32332,     0.32432,     0.32533,     0.32633,     0.32733,     0.32833,     0.32933,     0.33033,     0.33133,     0.33233,     0.33333,     0.33433,     0.33534,\n",
              "           0.33634,     0.33734,     0.33834,     0.33934,     0.34034,     0.34134,     0.34234,     0.34334,     0.34434,     0.34535,     0.34635,     0.34735,     0.34835,     0.34935,     0.35035,     0.35135,     0.35235,     0.35335,     0.35435,     0.35536,     0.35636,     0.35736,     0.35836,     0.35936,\n",
              "           0.36036,     0.36136,     0.36236,     0.36336,     0.36436,     0.36537,     0.36637,     0.36737,     0.36837,     0.36937,     0.37037,     0.37137,     0.37237,     0.37337,     0.37437,     0.37538,     0.37638,     0.37738,     0.37838,     0.37938,     0.38038,     0.38138,     0.38238,     0.38338,\n",
              "           0.38438,     0.38539,     0.38639,     0.38739,     0.38839,     0.38939,     0.39039,     0.39139,     0.39239,     0.39339,     0.39439,      0.3954,      0.3964,      0.3974,      0.3984,      0.3994,      0.4004,      0.4014,      0.4024,      0.4034,      0.4044,     0.40541,     0.40641,     0.40741,\n",
              "           0.40841,     0.40941,     0.41041,     0.41141,     0.41241,     0.41341,     0.41441,     0.41542,     0.41642,     0.41742,     0.41842,     0.41942,     0.42042,     0.42142,     0.42242,     0.42342,     0.42442,     0.42543,     0.42643,     0.42743,     0.42843,     0.42943,     0.43043,     0.43143,\n",
              "           0.43243,     0.43343,     0.43443,     0.43544,     0.43644,     0.43744,     0.43844,     0.43944,     0.44044,     0.44144,     0.44244,     0.44344,     0.44444,     0.44545,     0.44645,     0.44745,     0.44845,     0.44945,     0.45045,     0.45145,     0.45245,     0.45345,     0.45445,     0.45546,\n",
              "           0.45646,     0.45746,     0.45846,     0.45946,     0.46046,     0.46146,     0.46246,     0.46346,     0.46446,     0.46547,     0.46647,     0.46747,     0.46847,     0.46947,     0.47047,     0.47147,     0.47247,     0.47347,     0.47447,     0.47548,     0.47648,     0.47748,     0.47848,     0.47948,\n",
              "           0.48048,     0.48148,     0.48248,     0.48348,     0.48448,     0.48549,     0.48649,     0.48749,     0.48849,     0.48949,     0.49049,     0.49149,     0.49249,     0.49349,     0.49449,      0.4955,      0.4965,      0.4975,      0.4985,      0.4995,      0.5005,      0.5015,      0.5025,      0.5035,\n",
              "            0.5045,     0.50551,     0.50651,     0.50751,     0.50851,     0.50951,     0.51051,     0.51151,     0.51251,     0.51351,     0.51451,     0.51552,     0.51652,     0.51752,     0.51852,     0.51952,     0.52052,     0.52152,     0.52252,     0.52352,     0.52452,     0.52553,     0.52653,     0.52753,\n",
              "           0.52853,     0.52953,     0.53053,     0.53153,     0.53253,     0.53353,     0.53453,     0.53554,     0.53654,     0.53754,     0.53854,     0.53954,     0.54054,     0.54154,     0.54254,     0.54354,     0.54454,     0.54555,     0.54655,     0.54755,     0.54855,     0.54955,     0.55055,     0.55155,\n",
              "           0.55255,     0.55355,     0.55455,     0.55556,     0.55656,     0.55756,     0.55856,     0.55956,     0.56056,     0.56156,     0.56256,     0.56356,     0.56456,     0.56557,     0.56657,     0.56757,     0.56857,     0.56957,     0.57057,     0.57157,     0.57257,     0.57357,     0.57457,     0.57558,\n",
              "           0.57658,     0.57758,     0.57858,     0.57958,     0.58058,     0.58158,     0.58258,     0.58358,     0.58458,     0.58559,     0.58659,     0.58759,     0.58859,     0.58959,     0.59059,     0.59159,     0.59259,     0.59359,     0.59459,      0.5956,      0.5966,      0.5976,      0.5986,      0.5996,\n",
              "            0.6006,      0.6016,      0.6026,      0.6036,      0.6046,     0.60561,     0.60661,     0.60761,     0.60861,     0.60961,     0.61061,     0.61161,     0.61261,     0.61361,     0.61461,     0.61562,     0.61662,     0.61762,     0.61862,     0.61962,     0.62062,     0.62162,     0.62262,     0.62362,\n",
              "           0.62462,     0.62563,     0.62663,     0.62763,     0.62863,     0.62963,     0.63063,     0.63163,     0.63263,     0.63363,     0.63463,     0.63564,     0.63664,     0.63764,     0.63864,     0.63964,     0.64064,     0.64164,     0.64264,     0.64364,     0.64464,     0.64565,     0.64665,     0.64765,\n",
              "           0.64865,     0.64965,     0.65065,     0.65165,     0.65265,     0.65365,     0.65465,     0.65566,     0.65666,     0.65766,     0.65866,     0.65966,     0.66066,     0.66166,     0.66266,     0.66366,     0.66466,     0.66567,     0.66667,     0.66767,     0.66867,     0.66967,     0.67067,     0.67167,\n",
              "           0.67267,     0.67367,     0.67467,     0.67568,     0.67668,     0.67768,     0.67868,     0.67968,     0.68068,     0.68168,     0.68268,     0.68368,     0.68468,     0.68569,     0.68669,     0.68769,     0.68869,     0.68969,     0.69069,     0.69169,     0.69269,     0.69369,     0.69469,      0.6957,\n",
              "            0.6967,      0.6977,      0.6987,      0.6997,      0.7007,      0.7017,      0.7027,      0.7037,      0.7047,     0.70571,     0.70671,     0.70771,     0.70871,     0.70971,     0.71071,     0.71171,     0.71271,     0.71371,     0.71471,     0.71572,     0.71672,     0.71772,     0.71872,     0.71972,\n",
              "           0.72072,     0.72172,     0.72272,     0.72372,     0.72472,     0.72573,     0.72673,     0.72773,     0.72873,     0.72973,     0.73073,     0.73173,     0.73273,     0.73373,     0.73473,     0.73574,     0.73674,     0.73774,     0.73874,     0.73974,     0.74074,     0.74174,     0.74274,     0.74374,\n",
              "           0.74474,     0.74575,     0.74675,     0.74775,     0.74875,     0.74975,     0.75075,     0.75175,     0.75275,     0.75375,     0.75475,     0.75576,     0.75676,     0.75776,     0.75876,     0.75976,     0.76076,     0.76176,     0.76276,     0.76376,     0.76476,     0.76577,     0.76677,     0.76777,\n",
              "           0.76877,     0.76977,     0.77077,     0.77177,     0.77277,     0.77377,     0.77477,     0.77578,     0.77678,     0.77778,     0.77878,     0.77978,     0.78078,     0.78178,     0.78278,     0.78378,     0.78478,     0.78579,     0.78679,     0.78779,     0.78879,     0.78979,     0.79079,     0.79179,\n",
              "           0.79279,     0.79379,     0.79479,      0.7958,      0.7968,      0.7978,      0.7988,      0.7998,      0.8008,      0.8018,      0.8028,      0.8038,      0.8048,     0.80581,     0.80681,     0.80781,     0.80881,     0.80981,     0.81081,     0.81181,     0.81281,     0.81381,     0.81481,     0.81582,\n",
              "           0.81682,     0.81782,     0.81882,     0.81982,     0.82082,     0.82182,     0.82282,     0.82382,     0.82482,     0.82583,     0.82683,     0.82783,     0.82883,     0.82983,     0.83083,     0.83183,     0.83283,     0.83383,     0.83483,     0.83584,     0.83684,     0.83784,     0.83884,     0.83984,\n",
              "           0.84084,     0.84184,     0.84284,     0.84384,     0.84484,     0.84585,     0.84685,     0.84785,     0.84885,     0.84985,     0.85085,     0.85185,     0.85285,     0.85385,     0.85485,     0.85586,     0.85686,     0.85786,     0.85886,     0.85986,     0.86086,     0.86186,     0.86286,     0.86386,\n",
              "           0.86486,     0.86587,     0.86687,     0.86787,     0.86887,     0.86987,     0.87087,     0.87187,     0.87287,     0.87387,     0.87487,     0.87588,     0.87688,     0.87788,     0.87888,     0.87988,     0.88088,     0.88188,     0.88288,     0.88388,     0.88488,     0.88589,     0.88689,     0.88789,\n",
              "           0.88889,     0.88989,     0.89089,     0.89189,     0.89289,     0.89389,     0.89489,      0.8959,      0.8969,      0.8979,      0.8989,      0.8999,      0.9009,      0.9019,      0.9029,      0.9039,      0.9049,     0.90591,     0.90691,     0.90791,     0.90891,     0.90991,     0.91091,     0.91191,\n",
              "           0.91291,     0.91391,     0.91491,     0.91592,     0.91692,     0.91792,     0.91892,     0.91992,     0.92092,     0.92192,     0.92292,     0.92392,     0.92492,     0.92593,     0.92693,     0.92793,     0.92893,     0.92993,     0.93093,     0.93193,     0.93293,     0.93393,     0.93493,     0.93594,\n",
              "           0.93694,     0.93794,     0.93894,     0.93994,     0.94094,     0.94194,     0.94294,     0.94394,     0.94494,     0.94595,     0.94695,     0.94795,     0.94895,     0.94995,     0.95095,     0.95195,     0.95295,     0.95395,     0.95495,     0.95596,     0.95696,     0.95796,     0.95896,     0.95996,\n",
              "           0.96096,     0.96196,     0.96296,     0.96396,     0.96496,     0.96597,     0.96697,     0.96797,     0.96897,     0.96997,     0.97097,     0.97197,     0.97297,     0.97397,     0.97497,     0.97598,     0.97698,     0.97798,     0.97898,     0.97998,     0.98098,     0.98198,     0.98298,     0.98398,\n",
              "           0.98498,     0.98599,     0.98699,     0.98799,     0.98899,     0.98999,     0.99099,     0.99199,     0.99299,     0.99399,     0.99499,       0.996,       0.997,       0.998,       0.999,           1]), array([[          1,           1,           1,           1,           1,           1,           1,           1,           1,           1,           1,           1,           1,           1,           1,           1,           1,           1,           1,           1,           1,           1,           1,\n",
              "                  1,           1,           1,           1,           1,           1,           1,           1,           1,           1,           1,           1,           1,           1,           1,           1,           1,           1,           1,           1,           1,           1,           1,\n",
              "                  1,           1,           1,           1,           1,           1,           1,           1,           1,           1,           1,           1,           1,           1,           1,           1,           1,           1,           1,           1,           1,           1,           1,\n",
              "                  1,           1,           1,           1,           1,           1,           1,           1,           1,           1,           1,           1,           1,           1,           1,           1,           1,           1,           1,           1,           1,           1,           1,\n",
              "                  1,           1,           1,           1,           1,           1,           1,           1,           1,           1,           1,           1,           1,           1,           1,           1,           1,           1,           1,           1,           1,           1,           1,\n",
              "                  1,           1,           1,           1,           1,           1,           1,           1,           1,           1,           1,           1,           1,           1,           1,           1,           1,           1,           1,           1,           1,           1,           1,\n",
              "                  1,           1,           1,           1,           1,           1,           1,           1,           1,           1,           1,           1,           1,           1,           1,           1,           1,           1,           1,           1,           1,           1,           1,\n",
              "                  1,           1,           1,           1,           1,           1,           1,           1,           1,           1,           1,           1,           1,           1,           1,           1,           1,           1,           1,           1,           1,           1,           1,\n",
              "                  1,           1,           1,           1,           1,           1,           1,           1,           1,           1,           1,           1,           1,           1,           1,           1,           1,           1,           1,           1,           1,           1,           1,\n",
              "                  1,           1,           1,           1,           1,           1,           1,           1,           1,           1,           1,           1,           1,           1,           1,           1,           1,           1,           1,           1,           1,           1,           1,\n",
              "                  1,           1,           1,           1,           1,           1,           1,           1,           1,           1,           1,           1,           1,           1,           1,           1,           1,           1,           1,           1,           1,           1,           1,\n",
              "                  1,           1,           1,           1,           1,           1,           1,           1,           1,           1,           1,           1,           1,           1,           1,           1,           1,           1,           1,           1,           1,           1,           1,\n",
              "                  1,           1,           1,           1,           1,           1,           1,           1,           1,           1,           1,           1,           1,           1,           1,           1,           1,           1,           1,           1,           1,           1,           1,\n",
              "                  1,           1,           1,           1,           1,           1,           1,           1,           1,           1,           1,           1,           1,           1,           1,           1,           1,           1,           1,           1,           1,           1,           1,\n",
              "                  1,           1,           1,           1,           1,           1,           1,           1,           1,           1,           1,           1,           1,           1,           1,           1,           1,           1,           1,           1,           1,           1,           1,\n",
              "                  1,           1,           1,           1,           1,           1,           1,           1,           1,           1,           1,           1,           1,           1,           1,           1,           1,           1,           1,           1,           1,           1,           1,\n",
              "                  1,           1,           1,           1,           1,           1,           1,           1,           1,           1,           1,           1,           1,           1,           1,           1,           1,           1,           1,           1,           1,           1,           1,\n",
              "                  1,           1,           1,           1,           1,           1,           1,           1,           1,           1,           1,           1,           1,           1,           1,           1,           1,           1,           1,           1,           1,           1,           1,\n",
              "                  1,           1,           1,           1,           1,           1,           1,           1,           1,           1,           1,           1,           1,           1,           1,           1,     0.99468,     0.99468,     0.99468,     0.99468,     0.99468,     0.99468,     0.99468,\n",
              "            0.99468,     0.99468,     0.99468,     0.99468,     0.99468,     0.99468,     0.99468,     0.99468,     0.99468,     0.99468,     0.99468,     0.99468,     0.99468,     0.99468,     0.99468,     0.99468,     0.99468,     0.99468,     0.99468,     0.99468,     0.99468,     0.99468,     0.99468,\n",
              "            0.99468,     0.99468,     0.99468,     0.99468,     0.99468,     0.99468,     0.99468,     0.99468,     0.99468,     0.99468,     0.99468,     0.99468,     0.99468,     0.99468,     0.99468,     0.99468,     0.99468,     0.99468,     0.99468,     0.99468,     0.99468,     0.99468,     0.99468,\n",
              "            0.99468,     0.99468,     0.99468,     0.99468,     0.99468,     0.99468,     0.99468,     0.99468,     0.99468,     0.99468,     0.99468,     0.99468,     0.99468,     0.99468,     0.99468,     0.99468,     0.99468,     0.99468,     0.99468,     0.99468,     0.99468,     0.99468,      0.9899,\n",
              "             0.9899,      0.9899,      0.9899,      0.9899,      0.9899,      0.9899,      0.9899,      0.9899,      0.9899,      0.9899,      0.9899,      0.9899,      0.9899,      0.9899,      0.9899,      0.9899,      0.9899,      0.9899,      0.9899,      0.9899,      0.9899,      0.9899,      0.9899,\n",
              "             0.9899,     0.98529,     0.98529,     0.98529,     0.98529,     0.98529,     0.98529,     0.98529,     0.98529,     0.98529,     0.98529,     0.98529,     0.98529,     0.98529,     0.98131,     0.98131,     0.98131,     0.98131,     0.98131,     0.98131,     0.98131,     0.98131,     0.98131,\n",
              "            0.98131,     0.98131,     0.98131,     0.98131,     0.98131,     0.98131,     0.98131,     0.98131,     0.98131,     0.98131,     0.98131,     0.98131,     0.98131,     0.98131,     0.98131,     0.97835,     0.97835,     0.97835,     0.97835,     0.97835,     0.97835,     0.97835,     0.97835,\n",
              "            0.97835,     0.97835,     0.97835,     0.97835,     0.97835,     0.97835,     0.97835,     0.97835,     0.97835,     0.97835,     0.97835,     0.97835,     0.97835,     0.97835,     0.97835,     0.97835,     0.97835,     0.97835,     0.97835,     0.97835,     0.97835,     0.97835,     0.97835,\n",
              "            0.97835,     0.97835,     0.97835,     0.97835,     0.97835,     0.97835,     0.97835,     0.97835,     0.97835,     0.97835,     0.97835,     0.97835,     0.97835,     0.97447,     0.97447,     0.97447,     0.97447,     0.97447,     0.97447,     0.97447,     0.97447,     0.97297,     0.97297,\n",
              "            0.97297,     0.97297,     0.97297,     0.97297,     0.97297,     0.97297,     0.97297,     0.97297,     0.97297,     0.97297,     0.97297,     0.97297,     0.97297,     0.97297,     0.97297,     0.97297,     0.97297,     0.97297,     0.97297,     0.97297,     0.97297,     0.97297,     0.97297,\n",
              "            0.97297,     0.97297,     0.97297,     0.97297,     0.97297,     0.97297,     0.97297,     0.97297,     0.97297,     0.97297,     0.97297,     0.97297,     0.97297,     0.97297,     0.97297,     0.97297,     0.97297,     0.97297,     0.97297,     0.97297,     0.97297,     0.97297,     0.97297,\n",
              "            0.97297,     0.97297,     0.97297,     0.97297,     0.97297,     0.97297,     0.97297,     0.97297,     0.97297,     0.97297,     0.97297,     0.97297,     0.97297,     0.97297,     0.96958,     0.96958,     0.96958,     0.96958,     0.96958,     0.96958,     0.96958,     0.96958,     0.96364,\n",
              "            0.96364,     0.96364,     0.96364,     0.96364,     0.96364,     0.96364,     0.96364,     0.96364,     0.96364,     0.96364,     0.96364,     0.96364,     0.96364,     0.96364,     0.96364,     0.96364,     0.96364,     0.96364,     0.96364,     0.96364,     0.96364,     0.96364,     0.96364,\n",
              "            0.96364,     0.96364,     0.96364,     0.96113,     0.96113,     0.96113,     0.96113,     0.96113,     0.96113,     0.96113,     0.96113,     0.96113,     0.96113,     0.96113,     0.96113,     0.96113,     0.96113,     0.96113,     0.96113,     0.96113,     0.96113,     0.96113,     0.95517,\n",
              "            0.95517,     0.95517,     0.95517,     0.95517,     0.95517,     0.95517,     0.95517,     0.95517,     0.95517,     0.95517,     0.95517,     0.95517,     0.94966,     0.94966,     0.94966,     0.94966,     0.94966,     0.94966,     0.94966,     0.94966,     0.94966,     0.94966,     0.94966,\n",
              "            0.94966,     0.94966,     0.94966,     0.94966,     0.94966,     0.94966,     0.94788,     0.94788,     0.94788,     0.94788,     0.94788,     0.94788,     0.94788,     0.94788,     0.94788,     0.94788,     0.94788,     0.94788,     0.94788,     0.94788,     0.94788,     0.94788,     0.94788,\n",
              "            0.94788,     0.94788,     0.94788,     0.94788,     0.94586,     0.94586,     0.94586,     0.94586,     0.94586,     0.94586,     0.94586,     0.94586,     0.94586,     0.94586,     0.94586,     0.94586,     0.94586,     0.94586,     0.94586,     0.94586,     0.93789,     0.93789,     0.93789,\n",
              "            0.93789,     0.93789,     0.93789,     0.93789,     0.93789,     0.93789,     0.93789,     0.93789,     0.93789,     0.93789,     0.93789,     0.93293,     0.93293,     0.93293,     0.93293,     0.93293,     0.93293,     0.93293,     0.93293,     0.93293,     0.93293,     0.93293,     0.93072,\n",
              "            0.93072,     0.93072,     0.93072,     0.93072,     0.93072,     0.93072,     0.93072,     0.92814,     0.92814,      0.9256,      0.9256,      0.9256,     0.92308,     0.92308,     0.92308,     0.91789,     0.91789,     0.91789,      0.9157,      0.9157,      0.9157,      0.9157,      0.9157,\n",
              "            0.89802,     0.89802,     0.89802,     0.89802,     0.89802,     0.89577,     0.89577,     0.89577,     0.89444,     0.89444,     0.89444,     0.89444,     0.89444,     0.89444,     0.89444,     0.89444,     0.89444,     0.89444,     0.89444,     0.89256,     0.89256,     0.89256,     0.89256,\n",
              "            0.89256,     0.88828,     0.88828,     0.88828,     0.88828,     0.88828,     0.88828,     0.87467,     0.87467,     0.87467,     0.87467,     0.87467,     0.87037,     0.87037,     0.87037,     0.86911,     0.86911,     0.86911,     0.86911,     0.86911,     0.86911,     0.86911,     0.86911,\n",
              "            0.86047,     0.86047,     0.86047,     0.85422,     0.85422,     0.83704,     0.83704,     0.83704,     0.83704,     0.83704,     0.83704,     0.83704,     0.83704,     0.83704,     0.83704,     0.83704,     0.83704,     0.83704,     0.83704,     0.83333,     0.83333,     0.83333,     0.81971,\n",
              "            0.81971,     0.81623,     0.81623,     0.81623,     0.80516,     0.80516,     0.80516,         0.8,         0.8,     0.78767,     0.78767,     0.78767,     0.77578,     0.77578,     0.77578,       0.766,       0.766,     0.76484,     0.76484,     0.76484,     0.75541,     0.75541,     0.75541,\n",
              "            0.69444,     0.69444,     0.68824,     0.68824,     0.68824,     0.67954,     0.67954,     0.67954,     0.67495,     0.67495,     0.67495,     0.67045,     0.67045,     0.65985,     0.65985,     0.65985,     0.64727,     0.64727,     0.64727,     0.63978,     0.63978,     0.60575,     0.60575,\n",
              "            0.60575,     0.59933,     0.59933,     0.59933,     0.57143,     0.57143,     0.57143,      0.5364,      0.5364,      0.5142,      0.5142,      0.5142,      0.4566,      0.4566,      0.4566,     0.30795,     0.30795,      0.2643,      0.2643,      0.2643,     0.23598,     0.23598,     0.23598,\n",
              "             0.2074,     0.18666,     0.16592,     0.14518,     0.12444,      0.1037,    0.082959,     0.06222,     0.04148,     0.02074,           0]]), 'Recall', 'Precision'], [array([          0,    0.001001,    0.002002,    0.003003,    0.004004,    0.005005,    0.006006,    0.007007,    0.008008,    0.009009,     0.01001,    0.011011,    0.012012,    0.013013,    0.014014,    0.015015,    0.016016,    0.017017,    0.018018,    0.019019,     0.02002,    0.021021,    0.022022,    0.023023,\n",
              "          0.024024,    0.025025,    0.026026,    0.027027,    0.028028,    0.029029,     0.03003,    0.031031,    0.032032,    0.033033,    0.034034,    0.035035,    0.036036,    0.037037,    0.038038,    0.039039,     0.04004,    0.041041,    0.042042,    0.043043,    0.044044,    0.045045,    0.046046,    0.047047,\n",
              "          0.048048,    0.049049,     0.05005,    0.051051,    0.052052,    0.053053,    0.054054,    0.055055,    0.056056,    0.057057,    0.058058,    0.059059,     0.06006,    0.061061,    0.062062,    0.063063,    0.064064,    0.065065,    0.066066,    0.067067,    0.068068,    0.069069,     0.07007,    0.071071,\n",
              "          0.072072,    0.073073,    0.074074,    0.075075,    0.076076,    0.077077,    0.078078,    0.079079,     0.08008,    0.081081,    0.082082,    0.083083,    0.084084,    0.085085,    0.086086,    0.087087,    0.088088,    0.089089,     0.09009,    0.091091,    0.092092,    0.093093,    0.094094,    0.095095,\n",
              "          0.096096,    0.097097,    0.098098,    0.099099,      0.1001,      0.1011,      0.1021,      0.1031,      0.1041,     0.10511,     0.10611,     0.10711,     0.10811,     0.10911,     0.11011,     0.11111,     0.11211,     0.11311,     0.11411,     0.11512,     0.11612,     0.11712,     0.11812,     0.11912,\n",
              "           0.12012,     0.12112,     0.12212,     0.12312,     0.12412,     0.12513,     0.12613,     0.12713,     0.12813,     0.12913,     0.13013,     0.13113,     0.13213,     0.13313,     0.13413,     0.13514,     0.13614,     0.13714,     0.13814,     0.13914,     0.14014,     0.14114,     0.14214,     0.14314,\n",
              "           0.14414,     0.14515,     0.14615,     0.14715,     0.14815,     0.14915,     0.15015,     0.15115,     0.15215,     0.15315,     0.15415,     0.15516,     0.15616,     0.15716,     0.15816,     0.15916,     0.16016,     0.16116,     0.16216,     0.16316,     0.16416,     0.16517,     0.16617,     0.16717,\n",
              "           0.16817,     0.16917,     0.17017,     0.17117,     0.17217,     0.17317,     0.17417,     0.17518,     0.17618,     0.17718,     0.17818,     0.17918,     0.18018,     0.18118,     0.18218,     0.18318,     0.18418,     0.18519,     0.18619,     0.18719,     0.18819,     0.18919,     0.19019,     0.19119,\n",
              "           0.19219,     0.19319,     0.19419,      0.1952,      0.1962,      0.1972,      0.1982,      0.1992,      0.2002,      0.2012,      0.2022,      0.2032,      0.2042,     0.20521,     0.20621,     0.20721,     0.20821,     0.20921,     0.21021,     0.21121,     0.21221,     0.21321,     0.21421,     0.21522,\n",
              "           0.21622,     0.21722,     0.21822,     0.21922,     0.22022,     0.22122,     0.22222,     0.22322,     0.22422,     0.22523,     0.22623,     0.22723,     0.22823,     0.22923,     0.23023,     0.23123,     0.23223,     0.23323,     0.23423,     0.23524,     0.23624,     0.23724,     0.23824,     0.23924,\n",
              "           0.24024,     0.24124,     0.24224,     0.24324,     0.24424,     0.24525,     0.24625,     0.24725,     0.24825,     0.24925,     0.25025,     0.25125,     0.25225,     0.25325,     0.25425,     0.25526,     0.25626,     0.25726,     0.25826,     0.25926,     0.26026,     0.26126,     0.26226,     0.26326,\n",
              "           0.26426,     0.26527,     0.26627,     0.26727,     0.26827,     0.26927,     0.27027,     0.27127,     0.27227,     0.27327,     0.27427,     0.27528,     0.27628,     0.27728,     0.27828,     0.27928,     0.28028,     0.28128,     0.28228,     0.28328,     0.28428,     0.28529,     0.28629,     0.28729,\n",
              "           0.28829,     0.28929,     0.29029,     0.29129,     0.29229,     0.29329,     0.29429,      0.2953,      0.2963,      0.2973,      0.2983,      0.2993,      0.3003,      0.3013,      0.3023,      0.3033,      0.3043,     0.30531,     0.30631,     0.30731,     0.30831,     0.30931,     0.31031,     0.31131,\n",
              "           0.31231,     0.31331,     0.31431,     0.31532,     0.31632,     0.31732,     0.31832,     0.31932,     0.32032,     0.32132,     0.32232,     0.32332,     0.32432,     0.32533,     0.32633,     0.32733,     0.32833,     0.32933,     0.33033,     0.33133,     0.33233,     0.33333,     0.33433,     0.33534,\n",
              "           0.33634,     0.33734,     0.33834,     0.33934,     0.34034,     0.34134,     0.34234,     0.34334,     0.34434,     0.34535,     0.34635,     0.34735,     0.34835,     0.34935,     0.35035,     0.35135,     0.35235,     0.35335,     0.35435,     0.35536,     0.35636,     0.35736,     0.35836,     0.35936,\n",
              "           0.36036,     0.36136,     0.36236,     0.36336,     0.36436,     0.36537,     0.36637,     0.36737,     0.36837,     0.36937,     0.37037,     0.37137,     0.37237,     0.37337,     0.37437,     0.37538,     0.37638,     0.37738,     0.37838,     0.37938,     0.38038,     0.38138,     0.38238,     0.38338,\n",
              "           0.38438,     0.38539,     0.38639,     0.38739,     0.38839,     0.38939,     0.39039,     0.39139,     0.39239,     0.39339,     0.39439,      0.3954,      0.3964,      0.3974,      0.3984,      0.3994,      0.4004,      0.4014,      0.4024,      0.4034,      0.4044,     0.40541,     0.40641,     0.40741,\n",
              "           0.40841,     0.40941,     0.41041,     0.41141,     0.41241,     0.41341,     0.41441,     0.41542,     0.41642,     0.41742,     0.41842,     0.41942,     0.42042,     0.42142,     0.42242,     0.42342,     0.42442,     0.42543,     0.42643,     0.42743,     0.42843,     0.42943,     0.43043,     0.43143,\n",
              "           0.43243,     0.43343,     0.43443,     0.43544,     0.43644,     0.43744,     0.43844,     0.43944,     0.44044,     0.44144,     0.44244,     0.44344,     0.44444,     0.44545,     0.44645,     0.44745,     0.44845,     0.44945,     0.45045,     0.45145,     0.45245,     0.45345,     0.45445,     0.45546,\n",
              "           0.45646,     0.45746,     0.45846,     0.45946,     0.46046,     0.46146,     0.46246,     0.46346,     0.46446,     0.46547,     0.46647,     0.46747,     0.46847,     0.46947,     0.47047,     0.47147,     0.47247,     0.47347,     0.47447,     0.47548,     0.47648,     0.47748,     0.47848,     0.47948,\n",
              "           0.48048,     0.48148,     0.48248,     0.48348,     0.48448,     0.48549,     0.48649,     0.48749,     0.48849,     0.48949,     0.49049,     0.49149,     0.49249,     0.49349,     0.49449,      0.4955,      0.4965,      0.4975,      0.4985,      0.4995,      0.5005,      0.5015,      0.5025,      0.5035,\n",
              "            0.5045,     0.50551,     0.50651,     0.50751,     0.50851,     0.50951,     0.51051,     0.51151,     0.51251,     0.51351,     0.51451,     0.51552,     0.51652,     0.51752,     0.51852,     0.51952,     0.52052,     0.52152,     0.52252,     0.52352,     0.52452,     0.52553,     0.52653,     0.52753,\n",
              "           0.52853,     0.52953,     0.53053,     0.53153,     0.53253,     0.53353,     0.53453,     0.53554,     0.53654,     0.53754,     0.53854,     0.53954,     0.54054,     0.54154,     0.54254,     0.54354,     0.54454,     0.54555,     0.54655,     0.54755,     0.54855,     0.54955,     0.55055,     0.55155,\n",
              "           0.55255,     0.55355,     0.55455,     0.55556,     0.55656,     0.55756,     0.55856,     0.55956,     0.56056,     0.56156,     0.56256,     0.56356,     0.56456,     0.56557,     0.56657,     0.56757,     0.56857,     0.56957,     0.57057,     0.57157,     0.57257,     0.57357,     0.57457,     0.57558,\n",
              "           0.57658,     0.57758,     0.57858,     0.57958,     0.58058,     0.58158,     0.58258,     0.58358,     0.58458,     0.58559,     0.58659,     0.58759,     0.58859,     0.58959,     0.59059,     0.59159,     0.59259,     0.59359,     0.59459,      0.5956,      0.5966,      0.5976,      0.5986,      0.5996,\n",
              "            0.6006,      0.6016,      0.6026,      0.6036,      0.6046,     0.60561,     0.60661,     0.60761,     0.60861,     0.60961,     0.61061,     0.61161,     0.61261,     0.61361,     0.61461,     0.61562,     0.61662,     0.61762,     0.61862,     0.61962,     0.62062,     0.62162,     0.62262,     0.62362,\n",
              "           0.62462,     0.62563,     0.62663,     0.62763,     0.62863,     0.62963,     0.63063,     0.63163,     0.63263,     0.63363,     0.63463,     0.63564,     0.63664,     0.63764,     0.63864,     0.63964,     0.64064,     0.64164,     0.64264,     0.64364,     0.64464,     0.64565,     0.64665,     0.64765,\n",
              "           0.64865,     0.64965,     0.65065,     0.65165,     0.65265,     0.65365,     0.65465,     0.65566,     0.65666,     0.65766,     0.65866,     0.65966,     0.66066,     0.66166,     0.66266,     0.66366,     0.66466,     0.66567,     0.66667,     0.66767,     0.66867,     0.66967,     0.67067,     0.67167,\n",
              "           0.67267,     0.67367,     0.67467,     0.67568,     0.67668,     0.67768,     0.67868,     0.67968,     0.68068,     0.68168,     0.68268,     0.68368,     0.68468,     0.68569,     0.68669,     0.68769,     0.68869,     0.68969,     0.69069,     0.69169,     0.69269,     0.69369,     0.69469,      0.6957,\n",
              "            0.6967,      0.6977,      0.6987,      0.6997,      0.7007,      0.7017,      0.7027,      0.7037,      0.7047,     0.70571,     0.70671,     0.70771,     0.70871,     0.70971,     0.71071,     0.71171,     0.71271,     0.71371,     0.71471,     0.71572,     0.71672,     0.71772,     0.71872,     0.71972,\n",
              "           0.72072,     0.72172,     0.72272,     0.72372,     0.72472,     0.72573,     0.72673,     0.72773,     0.72873,     0.72973,     0.73073,     0.73173,     0.73273,     0.73373,     0.73473,     0.73574,     0.73674,     0.73774,     0.73874,     0.73974,     0.74074,     0.74174,     0.74274,     0.74374,\n",
              "           0.74474,     0.74575,     0.74675,     0.74775,     0.74875,     0.74975,     0.75075,     0.75175,     0.75275,     0.75375,     0.75475,     0.75576,     0.75676,     0.75776,     0.75876,     0.75976,     0.76076,     0.76176,     0.76276,     0.76376,     0.76476,     0.76577,     0.76677,     0.76777,\n",
              "           0.76877,     0.76977,     0.77077,     0.77177,     0.77277,     0.77377,     0.77477,     0.77578,     0.77678,     0.77778,     0.77878,     0.77978,     0.78078,     0.78178,     0.78278,     0.78378,     0.78478,     0.78579,     0.78679,     0.78779,     0.78879,     0.78979,     0.79079,     0.79179,\n",
              "           0.79279,     0.79379,     0.79479,      0.7958,      0.7968,      0.7978,      0.7988,      0.7998,      0.8008,      0.8018,      0.8028,      0.8038,      0.8048,     0.80581,     0.80681,     0.80781,     0.80881,     0.80981,     0.81081,     0.81181,     0.81281,     0.81381,     0.81481,     0.81582,\n",
              "           0.81682,     0.81782,     0.81882,     0.81982,     0.82082,     0.82182,     0.82282,     0.82382,     0.82482,     0.82583,     0.82683,     0.82783,     0.82883,     0.82983,     0.83083,     0.83183,     0.83283,     0.83383,     0.83483,     0.83584,     0.83684,     0.83784,     0.83884,     0.83984,\n",
              "           0.84084,     0.84184,     0.84284,     0.84384,     0.84484,     0.84585,     0.84685,     0.84785,     0.84885,     0.84985,     0.85085,     0.85185,     0.85285,     0.85385,     0.85485,     0.85586,     0.85686,     0.85786,     0.85886,     0.85986,     0.86086,     0.86186,     0.86286,     0.86386,\n",
              "           0.86486,     0.86587,     0.86687,     0.86787,     0.86887,     0.86987,     0.87087,     0.87187,     0.87287,     0.87387,     0.87487,     0.87588,     0.87688,     0.87788,     0.87888,     0.87988,     0.88088,     0.88188,     0.88288,     0.88388,     0.88488,     0.88589,     0.88689,     0.88789,\n",
              "           0.88889,     0.88989,     0.89089,     0.89189,     0.89289,     0.89389,     0.89489,      0.8959,      0.8969,      0.8979,      0.8989,      0.8999,      0.9009,      0.9019,      0.9029,      0.9039,      0.9049,     0.90591,     0.90691,     0.90791,     0.90891,     0.90991,     0.91091,     0.91191,\n",
              "           0.91291,     0.91391,     0.91491,     0.91592,     0.91692,     0.91792,     0.91892,     0.91992,     0.92092,     0.92192,     0.92292,     0.92392,     0.92492,     0.92593,     0.92693,     0.92793,     0.92893,     0.92993,     0.93093,     0.93193,     0.93293,     0.93393,     0.93493,     0.93594,\n",
              "           0.93694,     0.93794,     0.93894,     0.93994,     0.94094,     0.94194,     0.94294,     0.94394,     0.94494,     0.94595,     0.94695,     0.94795,     0.94895,     0.94995,     0.95095,     0.95195,     0.95295,     0.95395,     0.95495,     0.95596,     0.95696,     0.95796,     0.95896,     0.95996,\n",
              "           0.96096,     0.96196,     0.96296,     0.96396,     0.96496,     0.96597,     0.96697,     0.96797,     0.96897,     0.96997,     0.97097,     0.97197,     0.97297,     0.97397,     0.97497,     0.97598,     0.97698,     0.97798,     0.97898,     0.97998,     0.98098,     0.98198,     0.98298,     0.98398,\n",
              "           0.98498,     0.98599,     0.98699,     0.98799,     0.98899,     0.98999,     0.99099,     0.99199,     0.99299,     0.99399,     0.99499,       0.996,       0.997,       0.998,       0.999,           1]), array([[    0.36527,     0.36527,     0.49018,     0.55458,     0.59092,     0.62662,     0.64906,     0.67089,     0.68518,     0.70155,     0.70936,     0.72226,     0.73496,     0.74027,     0.74398,      0.7487,     0.75628,      0.7586,     0.76465,     0.76621,     0.77023,     0.77309,     0.77331,\n",
              "            0.77607,     0.77761,     0.77873,     0.78017,     0.78355,     0.78825,     0.78848,     0.79258,     0.79144,     0.79329,     0.79763,     0.79654,     0.79757,     0.79798,     0.79857,     0.79921,     0.79965,     0.80042,     0.79997,     0.80081,     0.80198,     0.80443,     0.80524,\n",
              "            0.80706,     0.80988,     0.81105,     0.81275,     0.81321,     0.81459,     0.81832,     0.81973,     0.82061,     0.82128,     0.82221,     0.82235,      0.8225,     0.82264,     0.82279,     0.82293,     0.82308,     0.82553,     0.82676,     0.82816,     0.82846,     0.82876,     0.82933,\n",
              "            0.83067,     0.83294,      0.8343,     0.83478,     0.83609,     0.83659,     0.83716,     0.83791,     0.83775,     0.83867,     0.83889,      0.8391,     0.83931,     0.83952,     0.84274,     0.84264,       0.843,     0.84218,     0.84304,     0.84331,     0.84358,     0.84385,     0.84528,\n",
              "            0.84617,     0.84676,       0.848,     0.84756,     0.84712,     0.84668,     0.84821,     0.84915,     0.84984,      0.8505,     0.85115,     0.85178,      0.8535,     0.85285,     0.85381,     0.85446,     0.85615,     0.85677,     0.85724,      0.8577,     0.85827,      0.8589,     0.85997,\n",
              "            0.85976,     0.85955,     0.85935,     0.85914,     0.85893,     0.85872,      0.8587,     0.85916,     0.85963,     0.86045,     0.86038,     0.86163,     0.86258,      0.8628,     0.86301,     0.86322,     0.86343,     0.86365,     0.86397,     0.86429,     0.86461,     0.86501,     0.86546,\n",
              "            0.86595,     0.86659,     0.86561,     0.86587,     0.86612,     0.86638,     0.86663,     0.86685,     0.86706,     0.86728,     0.86749,     0.86765,     0.86733,     0.86701,     0.86669,     0.86637,     0.86743,     0.86757,     0.86771,     0.86786,       0.868,     0.86814,     0.86828,\n",
              "            0.86842,     0.86873,     0.86908,     0.86943,     0.87019,     0.87072,     0.87081,     0.87089,     0.87098,     0.87107,     0.87115,     0.87124,     0.87132,     0.87141,     0.87149,     0.87158,     0.87166,     0.87175,     0.87189,     0.87209,      0.8723,      0.8725,     0.87271,\n",
              "            0.87291,     0.87356,     0.87396,     0.87369,     0.87342,     0.87315,     0.87288,     0.87261,     0.87283,     0.87309,     0.87335,     0.87362,     0.87379,     0.87391,     0.87403,     0.87415,     0.87427,     0.87439,     0.87451,     0.87463,     0.87475,     0.87457,     0.87349,\n",
              "             0.8719,     0.87182,     0.87174,     0.87166,     0.87158,      0.8715,     0.87142,     0.87134,     0.87126,     0.87118,      0.8711,     0.87102,     0.87094,     0.87086,     0.87078,      0.8707,     0.87062,     0.87054,     0.87045,     0.87029,     0.87013,     0.86997,     0.86981,\n",
              "            0.86966,      0.8695,     0.86934,     0.86918,     0.86902,     0.86814,     0.86775,     0.86829,     0.86873,     0.86896,     0.86919,     0.86941,     0.86964,     0.87029,     0.87123,     0.87175,     0.87231,     0.87293,     0.87427,     0.87535,     0.87574,     0.87602,     0.87631,\n",
              "            0.87659,     0.87678,     0.87694,      0.8771,     0.87727,     0.87743,     0.87759,     0.87775,     0.87744,     0.87697,     0.87651,     0.87663,     0.87715,     0.87762,     0.87798,     0.87835,     0.87866,     0.87878,     0.87891,     0.87903,     0.87916,     0.87928,     0.87941,\n",
              "            0.87953,     0.87966,     0.87978,     0.87841,     0.87851,     0.87862,     0.87873,     0.87883,     0.87894,     0.87904,     0.87915,     0.87926,     0.87936,     0.87947,     0.87971,     0.87994,     0.88018,     0.88042,     0.88071,     0.88139,       0.882,     0.88248,     0.88296,\n",
              "            0.88225,     0.88149,     0.88098,     0.88047,     0.87998,      0.8797,     0.87942,     0.87914,     0.87886,     0.87858,     0.87864,     0.87882,     0.87901,     0.87919,     0.87938,     0.87956,     0.87945,     0.87883,     0.87822,     0.87908,      0.8794,     0.87947,     0.87953,\n",
              "            0.87959,     0.87966,     0.87972,     0.87978,     0.87985,     0.87991,     0.87998,     0.88004,      0.8801,     0.88017,     0.88023,     0.88029,     0.88036,     0.88042,     0.88048,     0.88046,     0.88005,     0.87964,     0.87923,     0.87871,     0.87809,     0.87753,     0.87759,\n",
              "            0.87765,     0.87772,     0.87778,     0.87784,     0.87791,     0.87797,     0.87803,      0.8781,     0.87816,     0.87822,     0.87828,     0.87835,     0.87841,     0.87847,     0.87854,      0.8786,     0.87866,     0.87992,     0.87999,     0.88007,     0.88015,     0.88023,      0.8803,\n",
              "            0.88038,     0.88046,     0.88053,     0.88061,     0.88069,     0.88077,     0.88084,     0.88092,       0.881,     0.88108,     0.88223,     0.88345,     0.88443,     0.88419,     0.88395,     0.88372,     0.88348,     0.88324,     0.88287,     0.88242,     0.88198,      0.8822,     0.88303,\n",
              "            0.88329,     0.88355,     0.88381,     0.88382,     0.88247,     0.88234,     0.88222,     0.88209,     0.88197,     0.88184,     0.88171,     0.88159,     0.88146,     0.88134,     0.88121,     0.88109,     0.88121,     0.88214,     0.88191,     0.88168,     0.88145,     0.88121,     0.88098,\n",
              "            0.88075,     0.88059,     0.88047,     0.88036,     0.88024,     0.88013,     0.88001,      0.8799,     0.87979,     0.87967,     0.87956,     0.87944,     0.87933,     0.87921,     0.87904,     0.87864,     0.87825,     0.87785,     0.87753,     0.87739,     0.87724,     0.87709,     0.87695,\n",
              "             0.8768,     0.87665,      0.8765,     0.87636,     0.87621,     0.87606,     0.87704,     0.87591,     0.87676,     0.87655,     0.87615,     0.87575,     0.87535,     0.87495,     0.87455,     0.87415,     0.87389,     0.87502,     0.87521,     0.87539,     0.87557,     0.87576,     0.87594,\n",
              "            0.87613,     0.87638,     0.87669,     0.87701,     0.87732,     0.87753,     0.87769,     0.87785,     0.87801,     0.87816,     0.87832,     0.87848,     0.87863,     0.87876,     0.87889,     0.87902,     0.87914,     0.87927,     0.87939,     0.87952,     0.87964,     0.87977,     0.87991,\n",
              "            0.88033,     0.88076,     0.88118,      0.8816,     0.88202,     0.88232,     0.88216,       0.882,     0.88184,     0.88168,     0.88152,     0.88136,      0.8812,     0.88103,     0.88087,     0.88064,     0.88032,        0.88,     0.87967,     0.87935,     0.87994,     0.88035,     0.88019,\n",
              "            0.88003,     0.87987,     0.87971,     0.87955,     0.87938,     0.87922,     0.87906,      0.8789,     0.87896,     0.87907,     0.87917,     0.87928,     0.87939,     0.87949,      0.8796,      0.8797,     0.87981,     0.87992,     0.88002,      0.8802,     0.88084,     0.87985,     0.88028,\n",
              "             0.8807,     0.88088,     0.88034,      0.8798,      0.8805,     0.87996,     0.87941,     0.87912,     0.87918,     0.87925,     0.87932,     0.87939,     0.87946,     0.87952,     0.87959,     0.87966,     0.87973,     0.87979,     0.87986,     0.87993,        0.88,     0.88006,     0.88013,\n",
              "             0.8802,     0.88027,     0.88033,     0.88019,     0.88002,     0.87985,     0.87968,      0.8795,     0.87933,     0.87916,     0.87899,     0.87881,     0.87825,     0.87743,     0.87701,      0.8768,      0.8766,     0.87639,     0.87619,     0.87598,     0.87577,     0.87557,     0.87575,\n",
              "            0.87601,     0.87627,     0.87653,     0.87678,     0.87626,     0.87571,     0.87505,     0.87181,     0.87157,     0.87134,      0.8711,     0.87086,     0.87062,     0.87038,     0.87125,     0.87254,     0.87251,     0.87209,     0.87167,     0.87126,     0.87101,     0.87078,     0.87056,\n",
              "            0.87034,     0.87011,     0.86989,     0.86967,     0.86948,     0.86932,     0.86916,       0.869,     0.86884,     0.86868,     0.86852,     0.86836,      0.8682,     0.86804,     0.86767,     0.86682,     0.86619,     0.86593,     0.86567,     0.86541,     0.86515,     0.86489,     0.86463,\n",
              "            0.86483,     0.86503,     0.86523,     0.86543,     0.86563,     0.86582,     0.86633,     0.86697,     0.86762,     0.86827,     0.86805,     0.86756,     0.86708,     0.86665,     0.86634,     0.86603,     0.86573,     0.86542,     0.86511,     0.86473,     0.86435,     0.86397,     0.86359,\n",
              "            0.86292,     0.86206,     0.86165,     0.86148,     0.86131,     0.86114,     0.86097,     0.86079,     0.86062,     0.86045,     0.86028,     0.86011,     0.85965,     0.85916,     0.85866,     0.85903,     0.85948,      0.8591,     0.85871,     0.85833,     0.85791,     0.85722,     0.85652,\n",
              "            0.85512,     0.85269,      0.8524,     0.85211,     0.85182,     0.85153,     0.85124,     0.85092,      0.8506,     0.85028,     0.84996,     0.84964,     0.84914,     0.84844,     0.84773,     0.84684,     0.84604,     0.84609,     0.84614,     0.84619,     0.84624,     0.84629,     0.84634,\n",
              "            0.84639,     0.84644,     0.84649,     0.84654,     0.84659,     0.84664,     0.84669,     0.84674,     0.84679,     0.84684,     0.84689,     0.84694,     0.84699,     0.84704,     0.84709,     0.84714,     0.84719,     0.84724,     0.84729,     0.84711,     0.84684,     0.84656,     0.84629,\n",
              "            0.84602,     0.84575,     0.84316,       0.842,     0.84175,     0.84149,     0.84124,     0.84098,     0.84072,     0.84047,     0.83984,     0.83895,     0.83824,     0.83764,     0.83704,     0.83722,     0.83774,     0.83822,     0.83859,     0.83897,     0.83934,     0.83863,     0.83773,\n",
              "            0.83655,     0.83252,     0.83193,     0.83153,     0.83112,     0.83072,     0.83065,     0.83085,     0.83105,     0.83125,     0.83145,     0.83165,     0.83186,     0.83212,     0.83238,     0.83264,      0.8329,     0.83246,     0.83112,     0.83066,      0.8302,     0.82974,     0.82921,\n",
              "             0.8286,     0.82798,     0.82368,     0.82293,     0.82223,     0.82192,     0.82161,     0.82129,     0.82098,     0.82067,     0.82074,     0.82072,     0.81842,     0.81561,     0.81308,     0.80809,     0.80355,     0.80471,     0.80503,     0.80536,     0.80569,      0.8019,     0.80164,\n",
              "            0.80138,     0.80112,     0.80086,      0.8006,     0.80034,     0.80008,     0.80072,     0.79994,      0.7971,     0.79579,     0.79136,     0.79036,     0.78438,     0.78343,     0.78293,     0.78243,     0.78192,     0.78093,     0.77794,     0.77692,      0.7737,     0.77177,      0.7714,\n",
              "            0.77102,     0.77065,     0.77028,     0.76969,     0.76832,     0.76694,     0.76536,     0.76147,     0.76008,      0.7565,     0.75208,     0.75136,     0.75182,     0.75121,      0.7506,     0.74997,     0.74855,     0.74357,     0.74121,     0.73818,     0.73462,     0.73167,     0.72839,\n",
              "             0.7257,     0.72287,      0.7189,     0.71347,     0.70913,     0.70657,     0.70003,     0.69628,     0.68929,     0.68969,     0.68729,      0.6861,     0.68309,      0.6784,     0.67582,     0.66928,     0.66489,     0.65556,     0.65389,     0.63504,     0.61968,     0.60659,     0.60088,\n",
              "            0.58348,     0.57604,     0.56952,     0.56103,     0.55357,     0.54662,      0.5377,     0.53191,     0.52592,     0.51393,     0.50943,     0.49855,     0.48486,      0.4766,     0.46698,     0.45401,     0.43752,     0.42739,     0.40776,     0.39985,     0.39027,     0.38201,     0.37874,\n",
              "            0.37454,     0.35995,      0.3485,     0.33748,     0.32978,     0.30587,     0.30427,     0.29848,     0.28287,     0.28014,     0.27408,     0.26171,     0.25195,      0.2477,     0.24494,     0.24281,     0.23695,     0.22883,     0.22592,     0.21752,     0.21311,     0.20232,     0.20052,\n",
              "            0.19902,      0.1979,     0.19677,     0.19565,     0.19271,     0.18458,      0.1724,     0.16265,     0.15325,     0.14875,     0.14685,     0.13393,     0.12423,     0.11998,     0.11753,     0.11508,     0.11261,     0.10944,     0.10613,     0.10281,    0.095493,    0.091232,    0.087862,\n",
              "           0.086591,    0.085322,    0.084052,    0.081927,    0.074806,    0.072266,    0.071236,    0.070205,    0.069172,    0.068139,    0.062273,     0.06019,    0.058103,    0.054855,    0.051866,    0.049761,    0.047651,    0.039048,     0.03549,     0.03192,    0.031022,    0.030126,     0.02923,\n",
              "           0.028333,    0.027435,    0.026555,    0.025784,    0.025012,     0.02424,    0.023468,    0.022694,     0.02192,    0.019676,    0.014848,    0.011202,    0.010272,   0.0097233,   0.0091745,   0.0086254,   0.0080759,   0.0075262,   0.0069761,   0.0064257,   0.0058751,           0,           0,\n",
              "                  0,           0,           0,           0,           0,           0,           0,           0,           0,           0,           0,           0,           0,           0,           0,           0,           0,           0,           0,           0,           0,           0,           0,\n",
              "                  0,           0,           0,           0,           0,           0,           0,           0,           0,           0,           0]]), 'Confidence', 'F1'], [array([          0,    0.001001,    0.002002,    0.003003,    0.004004,    0.005005,    0.006006,    0.007007,    0.008008,    0.009009,     0.01001,    0.011011,    0.012012,    0.013013,    0.014014,    0.015015,    0.016016,    0.017017,    0.018018,    0.019019,     0.02002,    0.021021,    0.022022,    0.023023,\n",
              "          0.024024,    0.025025,    0.026026,    0.027027,    0.028028,    0.029029,     0.03003,    0.031031,    0.032032,    0.033033,    0.034034,    0.035035,    0.036036,    0.037037,    0.038038,    0.039039,     0.04004,    0.041041,    0.042042,    0.043043,    0.044044,    0.045045,    0.046046,    0.047047,\n",
              "          0.048048,    0.049049,     0.05005,    0.051051,    0.052052,    0.053053,    0.054054,    0.055055,    0.056056,    0.057057,    0.058058,    0.059059,     0.06006,    0.061061,    0.062062,    0.063063,    0.064064,    0.065065,    0.066066,    0.067067,    0.068068,    0.069069,     0.07007,    0.071071,\n",
              "          0.072072,    0.073073,    0.074074,    0.075075,    0.076076,    0.077077,    0.078078,    0.079079,     0.08008,    0.081081,    0.082082,    0.083083,    0.084084,    0.085085,    0.086086,    0.087087,    0.088088,    0.089089,     0.09009,    0.091091,    0.092092,    0.093093,    0.094094,    0.095095,\n",
              "          0.096096,    0.097097,    0.098098,    0.099099,      0.1001,      0.1011,      0.1021,      0.1031,      0.1041,     0.10511,     0.10611,     0.10711,     0.10811,     0.10911,     0.11011,     0.11111,     0.11211,     0.11311,     0.11411,     0.11512,     0.11612,     0.11712,     0.11812,     0.11912,\n",
              "           0.12012,     0.12112,     0.12212,     0.12312,     0.12412,     0.12513,     0.12613,     0.12713,     0.12813,     0.12913,     0.13013,     0.13113,     0.13213,     0.13313,     0.13413,     0.13514,     0.13614,     0.13714,     0.13814,     0.13914,     0.14014,     0.14114,     0.14214,     0.14314,\n",
              "           0.14414,     0.14515,     0.14615,     0.14715,     0.14815,     0.14915,     0.15015,     0.15115,     0.15215,     0.15315,     0.15415,     0.15516,     0.15616,     0.15716,     0.15816,     0.15916,     0.16016,     0.16116,     0.16216,     0.16316,     0.16416,     0.16517,     0.16617,     0.16717,\n",
              "           0.16817,     0.16917,     0.17017,     0.17117,     0.17217,     0.17317,     0.17417,     0.17518,     0.17618,     0.17718,     0.17818,     0.17918,     0.18018,     0.18118,     0.18218,     0.18318,     0.18418,     0.18519,     0.18619,     0.18719,     0.18819,     0.18919,     0.19019,     0.19119,\n",
              "           0.19219,     0.19319,     0.19419,      0.1952,      0.1962,      0.1972,      0.1982,      0.1992,      0.2002,      0.2012,      0.2022,      0.2032,      0.2042,     0.20521,     0.20621,     0.20721,     0.20821,     0.20921,     0.21021,     0.21121,     0.21221,     0.21321,     0.21421,     0.21522,\n",
              "           0.21622,     0.21722,     0.21822,     0.21922,     0.22022,     0.22122,     0.22222,     0.22322,     0.22422,     0.22523,     0.22623,     0.22723,     0.22823,     0.22923,     0.23023,     0.23123,     0.23223,     0.23323,     0.23423,     0.23524,     0.23624,     0.23724,     0.23824,     0.23924,\n",
              "           0.24024,     0.24124,     0.24224,     0.24324,     0.24424,     0.24525,     0.24625,     0.24725,     0.24825,     0.24925,     0.25025,     0.25125,     0.25225,     0.25325,     0.25425,     0.25526,     0.25626,     0.25726,     0.25826,     0.25926,     0.26026,     0.26126,     0.26226,     0.26326,\n",
              "           0.26426,     0.26527,     0.26627,     0.26727,     0.26827,     0.26927,     0.27027,     0.27127,     0.27227,     0.27327,     0.27427,     0.27528,     0.27628,     0.27728,     0.27828,     0.27928,     0.28028,     0.28128,     0.28228,     0.28328,     0.28428,     0.28529,     0.28629,     0.28729,\n",
              "           0.28829,     0.28929,     0.29029,     0.29129,     0.29229,     0.29329,     0.29429,      0.2953,      0.2963,      0.2973,      0.2983,      0.2993,      0.3003,      0.3013,      0.3023,      0.3033,      0.3043,     0.30531,     0.30631,     0.30731,     0.30831,     0.30931,     0.31031,     0.31131,\n",
              "           0.31231,     0.31331,     0.31431,     0.31532,     0.31632,     0.31732,     0.31832,     0.31932,     0.32032,     0.32132,     0.32232,     0.32332,     0.32432,     0.32533,     0.32633,     0.32733,     0.32833,     0.32933,     0.33033,     0.33133,     0.33233,     0.33333,     0.33433,     0.33534,\n",
              "           0.33634,     0.33734,     0.33834,     0.33934,     0.34034,     0.34134,     0.34234,     0.34334,     0.34434,     0.34535,     0.34635,     0.34735,     0.34835,     0.34935,     0.35035,     0.35135,     0.35235,     0.35335,     0.35435,     0.35536,     0.35636,     0.35736,     0.35836,     0.35936,\n",
              "           0.36036,     0.36136,     0.36236,     0.36336,     0.36436,     0.36537,     0.36637,     0.36737,     0.36837,     0.36937,     0.37037,     0.37137,     0.37237,     0.37337,     0.37437,     0.37538,     0.37638,     0.37738,     0.37838,     0.37938,     0.38038,     0.38138,     0.38238,     0.38338,\n",
              "           0.38438,     0.38539,     0.38639,     0.38739,     0.38839,     0.38939,     0.39039,     0.39139,     0.39239,     0.39339,     0.39439,      0.3954,      0.3964,      0.3974,      0.3984,      0.3994,      0.4004,      0.4014,      0.4024,      0.4034,      0.4044,     0.40541,     0.40641,     0.40741,\n",
              "           0.40841,     0.40941,     0.41041,     0.41141,     0.41241,     0.41341,     0.41441,     0.41542,     0.41642,     0.41742,     0.41842,     0.41942,     0.42042,     0.42142,     0.42242,     0.42342,     0.42442,     0.42543,     0.42643,     0.42743,     0.42843,     0.42943,     0.43043,     0.43143,\n",
              "           0.43243,     0.43343,     0.43443,     0.43544,     0.43644,     0.43744,     0.43844,     0.43944,     0.44044,     0.44144,     0.44244,     0.44344,     0.44444,     0.44545,     0.44645,     0.44745,     0.44845,     0.44945,     0.45045,     0.45145,     0.45245,     0.45345,     0.45445,     0.45546,\n",
              "           0.45646,     0.45746,     0.45846,     0.45946,     0.46046,     0.46146,     0.46246,     0.46346,     0.46446,     0.46547,     0.46647,     0.46747,     0.46847,     0.46947,     0.47047,     0.47147,     0.47247,     0.47347,     0.47447,     0.47548,     0.47648,     0.47748,     0.47848,     0.47948,\n",
              "           0.48048,     0.48148,     0.48248,     0.48348,     0.48448,     0.48549,     0.48649,     0.48749,     0.48849,     0.48949,     0.49049,     0.49149,     0.49249,     0.49349,     0.49449,      0.4955,      0.4965,      0.4975,      0.4985,      0.4995,      0.5005,      0.5015,      0.5025,      0.5035,\n",
              "            0.5045,     0.50551,     0.50651,     0.50751,     0.50851,     0.50951,     0.51051,     0.51151,     0.51251,     0.51351,     0.51451,     0.51552,     0.51652,     0.51752,     0.51852,     0.51952,     0.52052,     0.52152,     0.52252,     0.52352,     0.52452,     0.52553,     0.52653,     0.52753,\n",
              "           0.52853,     0.52953,     0.53053,     0.53153,     0.53253,     0.53353,     0.53453,     0.53554,     0.53654,     0.53754,     0.53854,     0.53954,     0.54054,     0.54154,     0.54254,     0.54354,     0.54454,     0.54555,     0.54655,     0.54755,     0.54855,     0.54955,     0.55055,     0.55155,\n",
              "           0.55255,     0.55355,     0.55455,     0.55556,     0.55656,     0.55756,     0.55856,     0.55956,     0.56056,     0.56156,     0.56256,     0.56356,     0.56456,     0.56557,     0.56657,     0.56757,     0.56857,     0.56957,     0.57057,     0.57157,     0.57257,     0.57357,     0.57457,     0.57558,\n",
              "           0.57658,     0.57758,     0.57858,     0.57958,     0.58058,     0.58158,     0.58258,     0.58358,     0.58458,     0.58559,     0.58659,     0.58759,     0.58859,     0.58959,     0.59059,     0.59159,     0.59259,     0.59359,     0.59459,      0.5956,      0.5966,      0.5976,      0.5986,      0.5996,\n",
              "            0.6006,      0.6016,      0.6026,      0.6036,      0.6046,     0.60561,     0.60661,     0.60761,     0.60861,     0.60961,     0.61061,     0.61161,     0.61261,     0.61361,     0.61461,     0.61562,     0.61662,     0.61762,     0.61862,     0.61962,     0.62062,     0.62162,     0.62262,     0.62362,\n",
              "           0.62462,     0.62563,     0.62663,     0.62763,     0.62863,     0.62963,     0.63063,     0.63163,     0.63263,     0.63363,     0.63463,     0.63564,     0.63664,     0.63764,     0.63864,     0.63964,     0.64064,     0.64164,     0.64264,     0.64364,     0.64464,     0.64565,     0.64665,     0.64765,\n",
              "           0.64865,     0.64965,     0.65065,     0.65165,     0.65265,     0.65365,     0.65465,     0.65566,     0.65666,     0.65766,     0.65866,     0.65966,     0.66066,     0.66166,     0.66266,     0.66366,     0.66466,     0.66567,     0.66667,     0.66767,     0.66867,     0.66967,     0.67067,     0.67167,\n",
              "           0.67267,     0.67367,     0.67467,     0.67568,     0.67668,     0.67768,     0.67868,     0.67968,     0.68068,     0.68168,     0.68268,     0.68368,     0.68468,     0.68569,     0.68669,     0.68769,     0.68869,     0.68969,     0.69069,     0.69169,     0.69269,     0.69369,     0.69469,      0.6957,\n",
              "            0.6967,      0.6977,      0.6987,      0.6997,      0.7007,      0.7017,      0.7027,      0.7037,      0.7047,     0.70571,     0.70671,     0.70771,     0.70871,     0.70971,     0.71071,     0.71171,     0.71271,     0.71371,     0.71471,     0.71572,     0.71672,     0.71772,     0.71872,     0.71972,\n",
              "           0.72072,     0.72172,     0.72272,     0.72372,     0.72472,     0.72573,     0.72673,     0.72773,     0.72873,     0.72973,     0.73073,     0.73173,     0.73273,     0.73373,     0.73473,     0.73574,     0.73674,     0.73774,     0.73874,     0.73974,     0.74074,     0.74174,     0.74274,     0.74374,\n",
              "           0.74474,     0.74575,     0.74675,     0.74775,     0.74875,     0.74975,     0.75075,     0.75175,     0.75275,     0.75375,     0.75475,     0.75576,     0.75676,     0.75776,     0.75876,     0.75976,     0.76076,     0.76176,     0.76276,     0.76376,     0.76476,     0.76577,     0.76677,     0.76777,\n",
              "           0.76877,     0.76977,     0.77077,     0.77177,     0.77277,     0.77377,     0.77477,     0.77578,     0.77678,     0.77778,     0.77878,     0.77978,     0.78078,     0.78178,     0.78278,     0.78378,     0.78478,     0.78579,     0.78679,     0.78779,     0.78879,     0.78979,     0.79079,     0.79179,\n",
              "           0.79279,     0.79379,     0.79479,      0.7958,      0.7968,      0.7978,      0.7988,      0.7998,      0.8008,      0.8018,      0.8028,      0.8038,      0.8048,     0.80581,     0.80681,     0.80781,     0.80881,     0.80981,     0.81081,     0.81181,     0.81281,     0.81381,     0.81481,     0.81582,\n",
              "           0.81682,     0.81782,     0.81882,     0.81982,     0.82082,     0.82182,     0.82282,     0.82382,     0.82482,     0.82583,     0.82683,     0.82783,     0.82883,     0.82983,     0.83083,     0.83183,     0.83283,     0.83383,     0.83483,     0.83584,     0.83684,     0.83784,     0.83884,     0.83984,\n",
              "           0.84084,     0.84184,     0.84284,     0.84384,     0.84484,     0.84585,     0.84685,     0.84785,     0.84885,     0.84985,     0.85085,     0.85185,     0.85285,     0.85385,     0.85485,     0.85586,     0.85686,     0.85786,     0.85886,     0.85986,     0.86086,     0.86186,     0.86286,     0.86386,\n",
              "           0.86486,     0.86587,     0.86687,     0.86787,     0.86887,     0.86987,     0.87087,     0.87187,     0.87287,     0.87387,     0.87487,     0.87588,     0.87688,     0.87788,     0.87888,     0.87988,     0.88088,     0.88188,     0.88288,     0.88388,     0.88488,     0.88589,     0.88689,     0.88789,\n",
              "           0.88889,     0.88989,     0.89089,     0.89189,     0.89289,     0.89389,     0.89489,      0.8959,      0.8969,      0.8979,      0.8989,      0.8999,      0.9009,      0.9019,      0.9029,      0.9039,      0.9049,     0.90591,     0.90691,     0.90791,     0.90891,     0.90991,     0.91091,     0.91191,\n",
              "           0.91291,     0.91391,     0.91491,     0.91592,     0.91692,     0.91792,     0.91892,     0.91992,     0.92092,     0.92192,     0.92292,     0.92392,     0.92492,     0.92593,     0.92693,     0.92793,     0.92893,     0.92993,     0.93093,     0.93193,     0.93293,     0.93393,     0.93493,     0.93594,\n",
              "           0.93694,     0.93794,     0.93894,     0.93994,     0.94094,     0.94194,     0.94294,     0.94394,     0.94494,     0.94595,     0.94695,     0.94795,     0.94895,     0.94995,     0.95095,     0.95195,     0.95295,     0.95395,     0.95495,     0.95596,     0.95696,     0.95796,     0.95896,     0.95996,\n",
              "           0.96096,     0.96196,     0.96296,     0.96396,     0.96496,     0.96597,     0.96697,     0.96797,     0.96897,     0.96997,     0.97097,     0.97197,     0.97297,     0.97397,     0.97497,     0.97598,     0.97698,     0.97798,     0.97898,     0.97998,     0.98098,     0.98198,     0.98298,     0.98398,\n",
              "           0.98498,     0.98599,     0.98699,     0.98799,     0.98899,     0.98999,     0.99099,     0.99199,     0.99299,     0.99399,     0.99499,       0.996,       0.997,       0.998,       0.999,           1]), array([[    0.22399,     0.22399,     0.32671,     0.38654,     0.42278,     0.46091,      0.4856,     0.51046,     0.52798,     0.54854,     0.55814,     0.57523,      0.5915,     0.59944,     0.60539,     0.61167,     0.62185,     0.62499,     0.63325,     0.63539,     0.64214,     0.64612,     0.64698,\n",
              "            0.65153,     0.65371,     0.65529,     0.65734,     0.66345,     0.67021,     0.67187,     0.67923,     0.67893,     0.68166,     0.68819,      0.6879,     0.68943,     0.69005,     0.69092,     0.69189,     0.69254,     0.69371,     0.69448,     0.69574,     0.69752,     0.70124,     0.70246,\n",
              "            0.70523,     0.70956,     0.71136,     0.71397,     0.71468,     0.71681,     0.72261,     0.72482,     0.72619,     0.72724,      0.7287,     0.72893,     0.72916,     0.72939,     0.72961,     0.72984,     0.73007,     0.73393,     0.73588,      0.7381,     0.73858,     0.73905,     0.73996,\n",
              "            0.74211,     0.74574,     0.74791,     0.74868,     0.75079,      0.7516,     0.75253,     0.75374,     0.75521,     0.75672,     0.75706,     0.75741,     0.75776,      0.7581,     0.76336,       0.765,     0.76591,     0.76561,     0.76745,     0.76791,     0.76836,     0.76881,     0.77119,\n",
              "            0.77267,     0.77365,     0.77577,     0.77561,     0.77546,      0.7753,     0.77794,     0.77953,     0.78068,      0.7818,      0.7829,     0.78398,     0.78751,     0.78729,     0.78936,     0.79046,     0.79336,     0.79443,     0.79523,     0.79603,     0.79701,     0.79809,     0.79999,\n",
              "            0.79992,     0.79985,     0.79979,     0.79972,     0.79965,     0.79958,     0.79975,     0.80056,     0.80136,      0.8028,     0.80471,      0.8069,     0.80858,     0.80895,     0.80932,      0.8097,     0.81007,     0.81046,     0.81102,     0.81158,     0.81215,     0.81286,     0.81365,\n",
              "            0.81451,     0.81565,     0.81601,     0.81647,     0.81693,     0.81739,     0.81783,     0.81822,      0.8186,     0.81898,     0.81937,      0.8197,     0.81961,     0.81951,     0.81941,     0.81932,     0.82141,     0.82166,     0.82192,     0.82217,     0.82243,     0.82268,     0.82293,\n",
              "            0.82319,     0.82374,     0.82437,       0.825,     0.82637,     0.82733,     0.82749,     0.82764,     0.82779,     0.82795,      0.8281,     0.82826,     0.82841,     0.82857,     0.82872,     0.82888,     0.82903,     0.82919,     0.82944,     0.82981,     0.83018,     0.83055,     0.83092,\n",
              "            0.83129,     0.83247,     0.83331,     0.83324,     0.83316,     0.83308,     0.83301,     0.83293,     0.83336,     0.83384,     0.83432,      0.8348,     0.83512,     0.83534,     0.83555,     0.83577,     0.83599,     0.83621,     0.83643,     0.83665,     0.83687,     0.83696,     0.83666,\n",
              "            0.83622,      0.8362,     0.83618,     0.83615,     0.83613,     0.83611,     0.83609,     0.83606,     0.83604,     0.83602,       0.836,     0.83597,     0.83595,     0.83593,     0.83591,     0.83589,     0.83586,     0.83584,     0.83582,     0.83577,     0.83573,     0.83568,     0.83564,\n",
              "            0.83559,     0.83555,     0.83551,     0.83546,     0.83542,     0.83517,      0.8354,     0.83641,     0.83723,     0.83765,     0.83807,     0.83849,     0.83891,     0.84013,     0.84188,     0.84285,      0.8439,     0.84506,     0.84757,      0.8496,     0.85034,     0.85087,     0.85141,\n",
              "            0.85195,      0.8523,     0.85261,     0.85291,     0.85322,     0.85353,     0.85384,     0.85415,     0.85413,     0.85401,     0.85389,     0.85444,     0.85544,     0.85632,     0.85701,     0.85771,      0.8583,     0.85854,     0.85878,     0.85902,     0.85926,      0.8595,     0.85974,\n",
              "            0.85998,     0.86022,     0.86046,      0.8603,      0.8605,     0.86071,     0.86091,     0.86111,     0.86132,     0.86152,     0.86172,     0.86193,     0.86213,     0.86233,     0.86279,     0.86325,     0.86371,     0.86417,     0.86472,     0.86604,     0.86721,     0.86814,     0.86907,\n",
              "            0.86894,     0.86877,     0.86865,     0.86853,     0.86842,     0.86835,     0.86829,     0.86822,     0.86816,     0.86809,     0.86833,     0.86869,     0.86906,     0.86942,     0.86978,     0.87014,     0.87032,     0.87018,     0.87004,      0.8718,     0.87243,     0.87256,     0.87268,\n",
              "            0.87281,     0.87293,     0.87306,     0.87318,     0.87331,     0.87343,     0.87356,     0.87369,     0.87381,     0.87394,     0.87406,     0.87419,     0.87431,     0.87444,     0.87456,     0.87465,     0.87456,     0.87447,     0.87438,     0.87426,     0.87412,       0.874,     0.87413,\n",
              "            0.87426,     0.87438,     0.87451,     0.87463,     0.87476,     0.87488,     0.87501,     0.87513,     0.87526,     0.87538,     0.87551,     0.87563,     0.87576,     0.87588,     0.87601,     0.87613,     0.87626,     0.87875,     0.87891,     0.87906,     0.87922,     0.87937,     0.87953,\n",
              "            0.87968,     0.87983,     0.87999,     0.88014,      0.8803,     0.88045,     0.88061,     0.88076,     0.88092,     0.88107,     0.88337,     0.88583,     0.88824,     0.88819,     0.88814,     0.88809,     0.88804,       0.888,     0.88792,     0.88783,     0.88774,     0.88882,      0.8905,\n",
              "            0.89103,     0.89156,     0.89209,     0.89252,     0.89226,     0.89223,     0.89221,     0.89218,     0.89216,     0.89213,     0.89211,     0.89208,     0.89206,     0.89204,     0.89201,     0.89199,     0.89243,     0.89444,     0.89439,     0.89435,      0.8943,     0.89426,     0.89421,\n",
              "            0.89417,     0.89414,     0.89411,     0.89409,     0.89407,     0.89405,     0.89403,       0.894,     0.89398,     0.89396,     0.89394,     0.89392,     0.89389,     0.89387,     0.89384,     0.89376,     0.89369,     0.89361,     0.89355,     0.89352,     0.89349,     0.89346,     0.89343,\n",
              "            0.89341,     0.89338,     0.89335,     0.89332,     0.89329,     0.89326,     0.89536,     0.89552,     0.89773,     0.89795,     0.89788,      0.8978,     0.89773,     0.89765,     0.89758,      0.8975,     0.89766,     0.90004,     0.90043,     0.90083,     0.90122,     0.90161,       0.902,\n",
              "            0.90239,     0.90293,     0.90359,     0.90426,     0.90492,     0.90538,     0.90571,     0.90605,     0.90638,     0.90672,     0.90705,     0.90739,     0.90772,       0.908,     0.90827,     0.90854,     0.90881,     0.90908,     0.90935,     0.90961,     0.90988,     0.91015,     0.91046,\n",
              "            0.91136,     0.91226,     0.91316,     0.91407,     0.91498,     0.91569,     0.91567,     0.91564,     0.91562,     0.91559,     0.91557,     0.91554,     0.91552,     0.91549,     0.91547,     0.91543,     0.91538,     0.91533,     0.91528,     0.91523,     0.91678,     0.91787,     0.91785,\n",
              "            0.91782,      0.9178,     0.91777,     0.91775,     0.91773,      0.9177,     0.91768,     0.91765,     0.91784,     0.91807,      0.9183,     0.91854,     0.91877,       0.919,     0.91923,     0.91946,     0.91969,     0.91992,     0.92015,     0.92054,     0.92194,     0.92302,     0.92396,\n",
              "             0.9249,     0.92558,      0.9255,     0.92542,     0.92812,     0.92805,     0.92797,     0.92799,     0.92814,     0.92829,     0.92844,     0.92859,     0.92874,     0.92889,     0.92904,      0.9292,     0.92935,      0.9295,     0.92965,      0.9298,     0.92995,      0.9301,     0.93025,\n",
              "             0.9304,     0.93055,      0.9307,      0.9307,     0.93068,     0.93066,     0.93064,     0.93061,     0.93059,     0.93057,     0.93055,     0.93052,     0.93045,     0.93034,     0.93029,     0.93026,     0.93023,      0.9302,     0.93018,     0.93015,     0.93012,      0.9301,     0.93058,\n",
              "            0.93116,     0.93174,     0.93233,     0.93291,     0.93286,     0.93279,     0.93271,     0.93229,     0.93226,     0.93223,      0.9322,     0.93217,     0.93214,     0.93211,     0.93423,     0.93721,     0.93785,      0.9378,     0.93775,      0.9377,     0.93767,     0.93764,     0.93762,\n",
              "            0.93759,     0.93757,     0.93754,     0.93751,     0.93749,     0.93747,     0.93745,     0.93743,     0.93741,     0.93739,     0.93737,     0.93736,     0.93734,     0.93732,     0.93727,     0.93717,      0.9371,     0.93706,     0.93703,       0.937,     0.93697,     0.93694,     0.93692,\n",
              "            0.93738,     0.93785,     0.93832,     0.93879,     0.93925,     0.93972,      0.9409,     0.94243,     0.94397,     0.94551,     0.94582,     0.94577,     0.94572,     0.94568,     0.94564,     0.94561,     0.94558,     0.94555,     0.94551,     0.94547,     0.94543,     0.94539,     0.94535,\n",
              "            0.94528,     0.94519,     0.94515,     0.94513,     0.94511,     0.94509,     0.94508,     0.94506,     0.94504,     0.94502,       0.945,     0.94499,     0.94494,     0.94488,     0.94483,     0.94632,     0.94786,     0.94782,     0.94779,     0.94775,      0.9477,     0.94763,     0.94756,\n",
              "            0.94742,     0.94717,     0.94714,     0.94711,     0.94708,     0.94705,     0.94702,     0.94699,     0.94696,     0.94693,     0.94689,     0.94686,     0.94681,     0.94674,     0.94666,     0.94657,      0.9465,     0.94662,     0.94675,     0.94688,       0.947,     0.94713,     0.94725,\n",
              "            0.94738,      0.9475,     0.94763,     0.94775,     0.94788,       0.948,     0.94813,     0.94825,     0.94838,      0.9485,     0.94863,     0.94875,     0.94888,       0.949,     0.94913,     0.94925,     0.94938,      0.9495,     0.94963,     0.94965,     0.94962,     0.94959,     0.94956,\n",
              "            0.94954,     0.94951,     0.94926,     0.94914,     0.94912,     0.94909,     0.94907,     0.94904,     0.94902,     0.94899,     0.94893,     0.94884,     0.94877,     0.94871,     0.94865,     0.94957,      0.9509,     0.95214,      0.9531,     0.95406,     0.95503,     0.95511,     0.95503,\n",
              "            0.95492,     0.95456,     0.95451,     0.95447,     0.95444,      0.9544,     0.95468,     0.95521,     0.95574,     0.95627,      0.9568,     0.95733,     0.95789,     0.95859,     0.95928,     0.95998,     0.96067,     0.96108,     0.96098,     0.96094,     0.96091,     0.96087,     0.96083,\n",
              "            0.96078,     0.96074,      0.9604,     0.96034,     0.96029,     0.96026,     0.96024,     0.96021,     0.96019,     0.96016,       0.961,     0.96356,      0.9634,     0.96319,     0.96301,     0.96263,     0.96229,     0.96675,     0.96769,     0.96864,     0.96958,     0.96935,     0.96933,\n",
              "            0.96932,      0.9693,     0.96928,     0.96927,     0.96925,     0.96924,     0.97294,      0.9729,     0.97274,     0.97267,     0.97242,     0.97237,     0.97203,     0.97197,     0.97195,     0.97192,     0.97189,     0.97183,     0.97166,      0.9716,     0.97141,      0.9713,     0.97128,\n",
              "            0.97125,     0.97123,     0.97121,     0.97118,     0.97109,     0.97101,     0.97092,     0.97069,      0.9706,     0.97273,     0.97421,     0.97591,     0.97834,     0.97832,     0.97829,     0.97826,     0.97819,     0.97797,     0.97786,     0.97772,     0.97755,     0.97741,     0.97725,\n",
              "            0.97712,     0.97699,     0.98026,     0.98108,      0.9809,      0.9808,     0.98405,     0.98516,     0.98494,     0.98806,     0.98984,     0.98981,     0.98974,     0.98963,     0.98958,     0.99043,     0.99462,      0.9945,     0.99448,     0.99424,     0.99403,     0.99385,     0.99857,\n",
              "                  1,           1,           1,           1,           1,           1,           1,           1,           1,           1,           1,           1,           1,           1,           1,           1,           1,           1,           1,           1,           1,           1,           1,\n",
              "                  1,           1,           1,           1,           1,           1,           1,           1,           1,           1,           1,           1,           1,           1,           1,           1,           1,           1,           1,           1,           1,           1,           1,\n",
              "                  1,           1,           1,           1,           1,           1,           1,           1,           1,           1,           1,           1,           1,           1,           1,           1,           1,           1,           1,           1,           1,           1,           1,\n",
              "                  1,           1,           1,           1,           1,           1,           1,           1,           1,           1,           1,           1,           1,           1,           1,           1,           1,           1,           1,           1,           1,           1,           1,\n",
              "                  1,           1,           1,           1,           1,           1,           1,           1,           1,           1,           1,           1,           1,           1,           1,           1,           1,           1,           1,           1,           1,           1,           1,\n",
              "                  1,           1,           1,           1,           1,           1,           1,           1,           1,           1,           1,           1,           1,           1,           1,           1,           1,           1,           1,           1,           1,           1,           1,\n",
              "                  1,           1,           1,           1,           1,           1,           1,           1,           1,           1,           1]]), 'Confidence', 'Precision'], [array([          0,    0.001001,    0.002002,    0.003003,    0.004004,    0.005005,    0.006006,    0.007007,    0.008008,    0.009009,     0.01001,    0.011011,    0.012012,    0.013013,    0.014014,    0.015015,    0.016016,    0.017017,    0.018018,    0.019019,     0.02002,    0.021021,    0.022022,    0.023023,\n",
              "          0.024024,    0.025025,    0.026026,    0.027027,    0.028028,    0.029029,     0.03003,    0.031031,    0.032032,    0.033033,    0.034034,    0.035035,    0.036036,    0.037037,    0.038038,    0.039039,     0.04004,    0.041041,    0.042042,    0.043043,    0.044044,    0.045045,    0.046046,    0.047047,\n",
              "          0.048048,    0.049049,     0.05005,    0.051051,    0.052052,    0.053053,    0.054054,    0.055055,    0.056056,    0.057057,    0.058058,    0.059059,     0.06006,    0.061061,    0.062062,    0.063063,    0.064064,    0.065065,    0.066066,    0.067067,    0.068068,    0.069069,     0.07007,    0.071071,\n",
              "          0.072072,    0.073073,    0.074074,    0.075075,    0.076076,    0.077077,    0.078078,    0.079079,     0.08008,    0.081081,    0.082082,    0.083083,    0.084084,    0.085085,    0.086086,    0.087087,    0.088088,    0.089089,     0.09009,    0.091091,    0.092092,    0.093093,    0.094094,    0.095095,\n",
              "          0.096096,    0.097097,    0.098098,    0.099099,      0.1001,      0.1011,      0.1021,      0.1031,      0.1041,     0.10511,     0.10611,     0.10711,     0.10811,     0.10911,     0.11011,     0.11111,     0.11211,     0.11311,     0.11411,     0.11512,     0.11612,     0.11712,     0.11812,     0.11912,\n",
              "           0.12012,     0.12112,     0.12212,     0.12312,     0.12412,     0.12513,     0.12613,     0.12713,     0.12813,     0.12913,     0.13013,     0.13113,     0.13213,     0.13313,     0.13413,     0.13514,     0.13614,     0.13714,     0.13814,     0.13914,     0.14014,     0.14114,     0.14214,     0.14314,\n",
              "           0.14414,     0.14515,     0.14615,     0.14715,     0.14815,     0.14915,     0.15015,     0.15115,     0.15215,     0.15315,     0.15415,     0.15516,     0.15616,     0.15716,     0.15816,     0.15916,     0.16016,     0.16116,     0.16216,     0.16316,     0.16416,     0.16517,     0.16617,     0.16717,\n",
              "           0.16817,     0.16917,     0.17017,     0.17117,     0.17217,     0.17317,     0.17417,     0.17518,     0.17618,     0.17718,     0.17818,     0.17918,     0.18018,     0.18118,     0.18218,     0.18318,     0.18418,     0.18519,     0.18619,     0.18719,     0.18819,     0.18919,     0.19019,     0.19119,\n",
              "           0.19219,     0.19319,     0.19419,      0.1952,      0.1962,      0.1972,      0.1982,      0.1992,      0.2002,      0.2012,      0.2022,      0.2032,      0.2042,     0.20521,     0.20621,     0.20721,     0.20821,     0.20921,     0.21021,     0.21121,     0.21221,     0.21321,     0.21421,     0.21522,\n",
              "           0.21622,     0.21722,     0.21822,     0.21922,     0.22022,     0.22122,     0.22222,     0.22322,     0.22422,     0.22523,     0.22623,     0.22723,     0.22823,     0.22923,     0.23023,     0.23123,     0.23223,     0.23323,     0.23423,     0.23524,     0.23624,     0.23724,     0.23824,     0.23924,\n",
              "           0.24024,     0.24124,     0.24224,     0.24324,     0.24424,     0.24525,     0.24625,     0.24725,     0.24825,     0.24925,     0.25025,     0.25125,     0.25225,     0.25325,     0.25425,     0.25526,     0.25626,     0.25726,     0.25826,     0.25926,     0.26026,     0.26126,     0.26226,     0.26326,\n",
              "           0.26426,     0.26527,     0.26627,     0.26727,     0.26827,     0.26927,     0.27027,     0.27127,     0.27227,     0.27327,     0.27427,     0.27528,     0.27628,     0.27728,     0.27828,     0.27928,     0.28028,     0.28128,     0.28228,     0.28328,     0.28428,     0.28529,     0.28629,     0.28729,\n",
              "           0.28829,     0.28929,     0.29029,     0.29129,     0.29229,     0.29329,     0.29429,      0.2953,      0.2963,      0.2973,      0.2983,      0.2993,      0.3003,      0.3013,      0.3023,      0.3033,      0.3043,     0.30531,     0.30631,     0.30731,     0.30831,     0.30931,     0.31031,     0.31131,\n",
              "           0.31231,     0.31331,     0.31431,     0.31532,     0.31632,     0.31732,     0.31832,     0.31932,     0.32032,     0.32132,     0.32232,     0.32332,     0.32432,     0.32533,     0.32633,     0.32733,     0.32833,     0.32933,     0.33033,     0.33133,     0.33233,     0.33333,     0.33433,     0.33534,\n",
              "           0.33634,     0.33734,     0.33834,     0.33934,     0.34034,     0.34134,     0.34234,     0.34334,     0.34434,     0.34535,     0.34635,     0.34735,     0.34835,     0.34935,     0.35035,     0.35135,     0.35235,     0.35335,     0.35435,     0.35536,     0.35636,     0.35736,     0.35836,     0.35936,\n",
              "           0.36036,     0.36136,     0.36236,     0.36336,     0.36436,     0.36537,     0.36637,     0.36737,     0.36837,     0.36937,     0.37037,     0.37137,     0.37237,     0.37337,     0.37437,     0.37538,     0.37638,     0.37738,     0.37838,     0.37938,     0.38038,     0.38138,     0.38238,     0.38338,\n",
              "           0.38438,     0.38539,     0.38639,     0.38739,     0.38839,     0.38939,     0.39039,     0.39139,     0.39239,     0.39339,     0.39439,      0.3954,      0.3964,      0.3974,      0.3984,      0.3994,      0.4004,      0.4014,      0.4024,      0.4034,      0.4044,     0.40541,     0.40641,     0.40741,\n",
              "           0.40841,     0.40941,     0.41041,     0.41141,     0.41241,     0.41341,     0.41441,     0.41542,     0.41642,     0.41742,     0.41842,     0.41942,     0.42042,     0.42142,     0.42242,     0.42342,     0.42442,     0.42543,     0.42643,     0.42743,     0.42843,     0.42943,     0.43043,     0.43143,\n",
              "           0.43243,     0.43343,     0.43443,     0.43544,     0.43644,     0.43744,     0.43844,     0.43944,     0.44044,     0.44144,     0.44244,     0.44344,     0.44444,     0.44545,     0.44645,     0.44745,     0.44845,     0.44945,     0.45045,     0.45145,     0.45245,     0.45345,     0.45445,     0.45546,\n",
              "           0.45646,     0.45746,     0.45846,     0.45946,     0.46046,     0.46146,     0.46246,     0.46346,     0.46446,     0.46547,     0.46647,     0.46747,     0.46847,     0.46947,     0.47047,     0.47147,     0.47247,     0.47347,     0.47447,     0.47548,     0.47648,     0.47748,     0.47848,     0.47948,\n",
              "           0.48048,     0.48148,     0.48248,     0.48348,     0.48448,     0.48549,     0.48649,     0.48749,     0.48849,     0.48949,     0.49049,     0.49149,     0.49249,     0.49349,     0.49449,      0.4955,      0.4965,      0.4975,      0.4985,      0.4995,      0.5005,      0.5015,      0.5025,      0.5035,\n",
              "            0.5045,     0.50551,     0.50651,     0.50751,     0.50851,     0.50951,     0.51051,     0.51151,     0.51251,     0.51351,     0.51451,     0.51552,     0.51652,     0.51752,     0.51852,     0.51952,     0.52052,     0.52152,     0.52252,     0.52352,     0.52452,     0.52553,     0.52653,     0.52753,\n",
              "           0.52853,     0.52953,     0.53053,     0.53153,     0.53253,     0.53353,     0.53453,     0.53554,     0.53654,     0.53754,     0.53854,     0.53954,     0.54054,     0.54154,     0.54254,     0.54354,     0.54454,     0.54555,     0.54655,     0.54755,     0.54855,     0.54955,     0.55055,     0.55155,\n",
              "           0.55255,     0.55355,     0.55455,     0.55556,     0.55656,     0.55756,     0.55856,     0.55956,     0.56056,     0.56156,     0.56256,     0.56356,     0.56456,     0.56557,     0.56657,     0.56757,     0.56857,     0.56957,     0.57057,     0.57157,     0.57257,     0.57357,     0.57457,     0.57558,\n",
              "           0.57658,     0.57758,     0.57858,     0.57958,     0.58058,     0.58158,     0.58258,     0.58358,     0.58458,     0.58559,     0.58659,     0.58759,     0.58859,     0.58959,     0.59059,     0.59159,     0.59259,     0.59359,     0.59459,      0.5956,      0.5966,      0.5976,      0.5986,      0.5996,\n",
              "            0.6006,      0.6016,      0.6026,      0.6036,      0.6046,     0.60561,     0.60661,     0.60761,     0.60861,     0.60961,     0.61061,     0.61161,     0.61261,     0.61361,     0.61461,     0.61562,     0.61662,     0.61762,     0.61862,     0.61962,     0.62062,     0.62162,     0.62262,     0.62362,\n",
              "           0.62462,     0.62563,     0.62663,     0.62763,     0.62863,     0.62963,     0.63063,     0.63163,     0.63263,     0.63363,     0.63463,     0.63564,     0.63664,     0.63764,     0.63864,     0.63964,     0.64064,     0.64164,     0.64264,     0.64364,     0.64464,     0.64565,     0.64665,     0.64765,\n",
              "           0.64865,     0.64965,     0.65065,     0.65165,     0.65265,     0.65365,     0.65465,     0.65566,     0.65666,     0.65766,     0.65866,     0.65966,     0.66066,     0.66166,     0.66266,     0.66366,     0.66466,     0.66567,     0.66667,     0.66767,     0.66867,     0.66967,     0.67067,     0.67167,\n",
              "           0.67267,     0.67367,     0.67467,     0.67568,     0.67668,     0.67768,     0.67868,     0.67968,     0.68068,     0.68168,     0.68268,     0.68368,     0.68468,     0.68569,     0.68669,     0.68769,     0.68869,     0.68969,     0.69069,     0.69169,     0.69269,     0.69369,     0.69469,      0.6957,\n",
              "            0.6967,      0.6977,      0.6987,      0.6997,      0.7007,      0.7017,      0.7027,      0.7037,      0.7047,     0.70571,     0.70671,     0.70771,     0.70871,     0.70971,     0.71071,     0.71171,     0.71271,     0.71371,     0.71471,     0.71572,     0.71672,     0.71772,     0.71872,     0.71972,\n",
              "           0.72072,     0.72172,     0.72272,     0.72372,     0.72472,     0.72573,     0.72673,     0.72773,     0.72873,     0.72973,     0.73073,     0.73173,     0.73273,     0.73373,     0.73473,     0.73574,     0.73674,     0.73774,     0.73874,     0.73974,     0.74074,     0.74174,     0.74274,     0.74374,\n",
              "           0.74474,     0.74575,     0.74675,     0.74775,     0.74875,     0.74975,     0.75075,     0.75175,     0.75275,     0.75375,     0.75475,     0.75576,     0.75676,     0.75776,     0.75876,     0.75976,     0.76076,     0.76176,     0.76276,     0.76376,     0.76476,     0.76577,     0.76677,     0.76777,\n",
              "           0.76877,     0.76977,     0.77077,     0.77177,     0.77277,     0.77377,     0.77477,     0.77578,     0.77678,     0.77778,     0.77878,     0.77978,     0.78078,     0.78178,     0.78278,     0.78378,     0.78478,     0.78579,     0.78679,     0.78779,     0.78879,     0.78979,     0.79079,     0.79179,\n",
              "           0.79279,     0.79379,     0.79479,      0.7958,      0.7968,      0.7978,      0.7988,      0.7998,      0.8008,      0.8018,      0.8028,      0.8038,      0.8048,     0.80581,     0.80681,     0.80781,     0.80881,     0.80981,     0.81081,     0.81181,     0.81281,     0.81381,     0.81481,     0.81582,\n",
              "           0.81682,     0.81782,     0.81882,     0.81982,     0.82082,     0.82182,     0.82282,     0.82382,     0.82482,     0.82583,     0.82683,     0.82783,     0.82883,     0.82983,     0.83083,     0.83183,     0.83283,     0.83383,     0.83483,     0.83584,     0.83684,     0.83784,     0.83884,     0.83984,\n",
              "           0.84084,     0.84184,     0.84284,     0.84384,     0.84484,     0.84585,     0.84685,     0.84785,     0.84885,     0.84985,     0.85085,     0.85185,     0.85285,     0.85385,     0.85485,     0.85586,     0.85686,     0.85786,     0.85886,     0.85986,     0.86086,     0.86186,     0.86286,     0.86386,\n",
              "           0.86486,     0.86587,     0.86687,     0.86787,     0.86887,     0.86987,     0.87087,     0.87187,     0.87287,     0.87387,     0.87487,     0.87588,     0.87688,     0.87788,     0.87888,     0.87988,     0.88088,     0.88188,     0.88288,     0.88388,     0.88488,     0.88589,     0.88689,     0.88789,\n",
              "           0.88889,     0.88989,     0.89089,     0.89189,     0.89289,     0.89389,     0.89489,      0.8959,      0.8969,      0.8979,      0.8989,      0.8999,      0.9009,      0.9019,      0.9029,      0.9039,      0.9049,     0.90591,     0.90691,     0.90791,     0.90891,     0.90991,     0.91091,     0.91191,\n",
              "           0.91291,     0.91391,     0.91491,     0.91592,     0.91692,     0.91792,     0.91892,     0.91992,     0.92092,     0.92192,     0.92292,     0.92392,     0.92492,     0.92593,     0.92693,     0.92793,     0.92893,     0.92993,     0.93093,     0.93193,     0.93293,     0.93393,     0.93493,     0.93594,\n",
              "           0.93694,     0.93794,     0.93894,     0.93994,     0.94094,     0.94194,     0.94294,     0.94394,     0.94494,     0.94595,     0.94695,     0.94795,     0.94895,     0.94995,     0.95095,     0.95195,     0.95295,     0.95395,     0.95495,     0.95596,     0.95696,     0.95796,     0.95896,     0.95996,\n",
              "           0.96096,     0.96196,     0.96296,     0.96396,     0.96496,     0.96597,     0.96697,     0.96797,     0.96897,     0.96997,     0.97097,     0.97197,     0.97297,     0.97397,     0.97497,     0.97598,     0.97698,     0.97798,     0.97898,     0.97998,     0.98098,     0.98198,     0.98298,     0.98398,\n",
              "           0.98498,     0.98599,     0.98699,     0.98799,     0.98899,     0.98999,     0.99099,     0.99199,     0.99299,     0.99399,     0.99499,       0.996,       0.997,       0.998,       0.999,           1]), array([[    0.98919,     0.98919,     0.98108,     0.98108,     0.98108,     0.97838,     0.97838,     0.97838,     0.97568,     0.97297,     0.97297,     0.97027,     0.97027,     0.96757,     0.96486,     0.96486,     0.96486,     0.96486,     0.96486,     0.96486,     0.96216,     0.96216,     0.96094,\n",
              "            0.95946,     0.95946,     0.95946,     0.95946,     0.95676,     0.95676,     0.95405,     0.95135,     0.94865,     0.94865,     0.94845,     0.94595,     0.94595,     0.94595,     0.94595,     0.94595,     0.94595,     0.94595,     0.94324,     0.94324,     0.94324,     0.94324,     0.94324,\n",
              "            0.94324,     0.94324,     0.94324,     0.94324,     0.94324,     0.94324,     0.94324,     0.94324,     0.94324,     0.94324,     0.94324,     0.94324,     0.94324,     0.94324,     0.94324,     0.94324,     0.94324,     0.94324,     0.94324,     0.94324,     0.94324,     0.94324,     0.94324,\n",
              "            0.94324,     0.94324,     0.94324,     0.94324,     0.94324,     0.94324,     0.94324,     0.94324,     0.94054,     0.94054,     0.94054,     0.94054,     0.94054,     0.94054,     0.94054,     0.93784,     0.93735,     0.93577,     0.93514,     0.93514,     0.93514,     0.93514,     0.93514,\n",
              "            0.93514,     0.93514,     0.93505,     0.93422,     0.93338,     0.93254,     0.93243,     0.93243,     0.93243,     0.93243,     0.93243,     0.93243,     0.93156,     0.93033,     0.92973,     0.92973,     0.92973,     0.92973,     0.92973,     0.92973,     0.92973,     0.92973,     0.92967,\n",
              "            0.92927,     0.92888,     0.92849,      0.9281,     0.92771,     0.92731,     0.92703,     0.92703,     0.92703,     0.92703,     0.92432,     0.92432,     0.92432,     0.92432,     0.92432,     0.92432,     0.92432,     0.92432,     0.92432,     0.92432,     0.92432,     0.92432,     0.92432,\n",
              "            0.92432,     0.92432,     0.92162,     0.92162,     0.92162,     0.92162,     0.92162,     0.92162,     0.92162,     0.92162,     0.92162,     0.92156,     0.92096,     0.92036,     0.91976,     0.91917,     0.91892,     0.91892,     0.91892,     0.91892,     0.91892,     0.91892,     0.91892,\n",
              "            0.91892,     0.91892,     0.91892,     0.91892,     0.91892,     0.91892,     0.91892,     0.91892,     0.91892,     0.91892,     0.91892,     0.91892,     0.91892,     0.91892,     0.91892,     0.91892,     0.91892,     0.91892,     0.91892,     0.91892,     0.91892,     0.91892,     0.91892,\n",
              "            0.91892,     0.91892,     0.91878,     0.91828,     0.91777,     0.91727,     0.91677,     0.91626,     0.91622,     0.91622,     0.91622,     0.91622,     0.91622,     0.91622,     0.91622,     0.91622,     0.91622,     0.91622,     0.91622,     0.91622,     0.91622,     0.91571,      0.9137,\n",
              "            0.91077,     0.91062,     0.91047,     0.91032,     0.91017,     0.91002,     0.90987,     0.90973,     0.90958,     0.90943,     0.90928,     0.90913,     0.90898,     0.90883,     0.90868,     0.90854,     0.90839,     0.90824,     0.90807,     0.90778,     0.90749,      0.9072,      0.9069,\n",
              "            0.90661,     0.90632,     0.90603,     0.90574,     0.90545,     0.90382,      0.9027,      0.9027,      0.9027,      0.9027,      0.9027,      0.9027,      0.9027,      0.9027,      0.9027,      0.9027,      0.9027,      0.9027,      0.9027,      0.9027,      0.9027,      0.9027,      0.9027,\n",
              "             0.9027,      0.9027,      0.9027,      0.9027,      0.9027,      0.9027,      0.9027,      0.9027,     0.90205,      0.9012,     0.90035,         0.9,         0.9,         0.9,         0.9,         0.9,         0.9,         0.9,         0.9,         0.9,         0.9,         0.9,         0.9,\n",
              "                0.9,         0.9,         0.9,      0.8973,      0.8973,      0.8973,      0.8973,      0.8973,      0.8973,      0.8973,      0.8973,      0.8973,      0.8973,      0.8973,      0.8973,      0.8973,      0.8973,      0.8973,      0.8973,      0.8973,      0.8973,      0.8973,      0.8973,\n",
              "            0.89597,     0.89459,     0.89366,     0.89274,     0.89185,     0.89135,     0.89084,     0.89034,     0.88984,     0.88933,     0.88919,     0.88919,     0.88919,     0.88919,     0.88919,     0.88919,     0.88878,     0.88767,     0.88656,     0.88649,     0.88649,     0.88649,     0.88649,\n",
              "            0.88649,     0.88649,     0.88649,     0.88649,     0.88649,     0.88649,     0.88649,     0.88649,     0.88649,     0.88649,     0.88649,     0.88649,     0.88649,     0.88649,     0.88649,     0.88635,     0.88562,     0.88488,     0.88414,     0.88321,      0.8821,     0.88108,     0.88108,\n",
              "            0.88108,     0.88108,     0.88108,     0.88108,     0.88108,     0.88108,     0.88108,     0.88108,     0.88108,     0.88108,     0.88108,     0.88108,     0.88108,     0.88108,     0.88108,     0.88108,     0.88108,     0.88108,     0.88108,     0.88108,     0.88108,     0.88108,     0.88108,\n",
              "            0.88108,     0.88108,     0.88108,     0.88108,     0.88108,     0.88108,     0.88108,     0.88108,     0.88108,     0.88108,     0.88108,     0.88108,     0.88066,     0.88024,     0.87981,     0.87938,     0.87896,     0.87853,     0.87787,     0.87708,     0.87629,     0.87568,     0.87568,\n",
              "            0.87568,     0.87568,     0.87568,     0.87528,     0.87289,     0.87267,     0.87245,     0.87222,       0.872,     0.87178,     0.87156,     0.87134,     0.87112,      0.8709,     0.87067,     0.87045,     0.87027,     0.87019,     0.86978,     0.86937,     0.86895,     0.86854,     0.86813,\n",
              "            0.86772,     0.86744,     0.86724,     0.86704,     0.86684,     0.86664,     0.86644,     0.86623,     0.86603,     0.86583,     0.86563,     0.86543,     0.86523,     0.86502,     0.86472,     0.86403,     0.86334,     0.86264,     0.86208,     0.86183,     0.86157,     0.86131,     0.86105,\n",
              "             0.8608,     0.86054,     0.86028,     0.86002,     0.85976,     0.85951,     0.85946,     0.85713,     0.85676,     0.85614,     0.85545,     0.85476,     0.85406,     0.85337,     0.85268,     0.85199,     0.85135,     0.85135,     0.85135,     0.85135,     0.85135,     0.85135,     0.85135,\n",
              "            0.85135,     0.85135,     0.85135,     0.85135,     0.85135,     0.85135,     0.85135,     0.85135,     0.85135,     0.85135,     0.85135,     0.85135,     0.85135,     0.85135,     0.85135,     0.85135,     0.85135,     0.85135,     0.85135,     0.85135,     0.85135,     0.85135,     0.85135,\n",
              "            0.85135,     0.85135,     0.85135,     0.85135,     0.85135,     0.85129,     0.85102,     0.85074,     0.85046,     0.85019,     0.84991,     0.84963,     0.84935,     0.84908,      0.8488,      0.8484,     0.84784,     0.84729,     0.84674,     0.84618,     0.84595,     0.84578,      0.8455,\n",
              "            0.84523,     0.84495,     0.84467,      0.8444,     0.84412,     0.84384,     0.84356,     0.84329,     0.84324,     0.84324,     0.84324,     0.84324,     0.84324,     0.84324,     0.84324,     0.84324,     0.84324,     0.84324,     0.84324,     0.84324,     0.84324,     0.84054,     0.84054,\n",
              "            0.84054,      0.8403,     0.83938,     0.83846,     0.83753,     0.83661,     0.83569,     0.83514,     0.83514,     0.83514,     0.83514,     0.83514,     0.83514,     0.83514,     0.83514,     0.83514,     0.83514,     0.83514,     0.83514,     0.83514,     0.83514,     0.83514,     0.83514,\n",
              "            0.83514,     0.83514,     0.83514,     0.83488,     0.83459,      0.8343,     0.83401,     0.83372,     0.83342,     0.83313,     0.83284,     0.83255,      0.8316,     0.83022,     0.82951,     0.82916,     0.82881,     0.82847,     0.82812,     0.82777,     0.82743,     0.82708,     0.82703,\n",
              "            0.82703,     0.82703,     0.82703,     0.82703,     0.82614,     0.82521,     0.82411,      0.8187,     0.81831,     0.81791,     0.81751,     0.81712,     0.81672,     0.81633,     0.81622,     0.81622,     0.81568,     0.81499,      0.8143,      0.8136,     0.81319,     0.81282,     0.81245,\n",
              "            0.81208,     0.81172,     0.81135,     0.81098,     0.81067,      0.8104,     0.81014,     0.80987,     0.80961,     0.80935,     0.80908,     0.80882,     0.80855,     0.80829,     0.80768,      0.8063,     0.80525,     0.80483,      0.8044,     0.80397,     0.80355,     0.80312,      0.8027,\n",
              "             0.8027,      0.8027,      0.8027,      0.8027,      0.8027,      0.8027,      0.8027,      0.8027,      0.8027,      0.8027,     0.80209,      0.8013,     0.80051,     0.79982,     0.79932,     0.79881,     0.79831,     0.79781,      0.7973,     0.79669,     0.79607,     0.79546,     0.79484,\n",
              "            0.79376,     0.79238,     0.79171,     0.79143,     0.79116,     0.79088,      0.7906,     0.79033,     0.79005,     0.78977,      0.7895,     0.78922,     0.78848,     0.78769,      0.7869,     0.78649,     0.78618,     0.78556,     0.78495,     0.78433,     0.78366,     0.78255,     0.78144,\n",
              "            0.77921,     0.77535,     0.77489,     0.77443,     0.77397,     0.77351,     0.77304,     0.77255,     0.77204,     0.77154,     0.77104,     0.77053,     0.76974,     0.76863,     0.76751,     0.76613,     0.76486,     0.76486,     0.76486,     0.76486,     0.76486,     0.76486,     0.76486,\n",
              "            0.76486,     0.76486,     0.76486,     0.76486,     0.76486,     0.76486,     0.76486,     0.76486,     0.76486,     0.76486,     0.76486,     0.76486,     0.76486,     0.76486,     0.76486,     0.76486,     0.76486,     0.76486,     0.76486,     0.76456,     0.76413,      0.7637,     0.76328,\n",
              "            0.76285,     0.76243,      0.7584,      0.7566,      0.7562,      0.7558,     0.75541,     0.75501,     0.75462,     0.75422,     0.75325,     0.75187,     0.75077,     0.74985,     0.74893,     0.74865,     0.74865,     0.74865,     0.74865,     0.74865,     0.74865,     0.74748,     0.74609,\n",
              "            0.74429,     0.73814,     0.73726,     0.73664,     0.73602,     0.73541,     0.73514,     0.73514,     0.73514,     0.73514,     0.73514,     0.73514,     0.73514,     0.73514,     0.73514,     0.73514,     0.73514,     0.73421,     0.73218,     0.73149,      0.7308,     0.73011,     0.72931,\n",
              "            0.72838,     0.72746,     0.72103,     0.71993,     0.71888,     0.71841,     0.71795,     0.71749,     0.71703,     0.71657,     0.71622,     0.71476,     0.71137,     0.70725,     0.70354,      0.6963,     0.68976,     0.68919,     0.68919,     0.68919,     0.68919,     0.68378,     0.68341,\n",
              "            0.68304,     0.68267,      0.6823,     0.68193,     0.68156,     0.68119,      0.6803,     0.67919,     0.67519,     0.67334,     0.66714,     0.66575,     0.65746,     0.65615,     0.65546,     0.65477,     0.65407,     0.65271,     0.64862,     0.64724,     0.64286,     0.64025,     0.63974,\n",
              "            0.63924,     0.63874,     0.63823,     0.63744,     0.63559,     0.63375,     0.63163,     0.62645,      0.6246,     0.61892,     0.61244,     0.61081,     0.61047,     0.60968,     0.60888,     0.60807,     0.60622,     0.59981,     0.59678,     0.59292,      0.5884,     0.58467,     0.58055,\n",
              "            0.57719,     0.57366,     0.56757,     0.56056,     0.55528,     0.55218,     0.54324,      0.5384,     0.53016,     0.52973,     0.52639,     0.52501,     0.52151,     0.51609,     0.51313,     0.50541,     0.49935,     0.48893,     0.48708,     0.46651,     0.45016,     0.43651,     0.42973,\n",
              "            0.41191,     0.40454,     0.39813,     0.38988,     0.38271,      0.3761,     0.36771,     0.36232,     0.35678,     0.34583,     0.34177,     0.33205,     0.32001,     0.31286,     0.30461,     0.29367,     0.28002,     0.27177,     0.25609,     0.24988,     0.24244,      0.2361,     0.23361,\n",
              "            0.23042,     0.21948,     0.21102,     0.20299,     0.19745,     0.18054,     0.17944,     0.17542,     0.16474,     0.16289,      0.1588,     0.15056,     0.14413,     0.14136,     0.13956,     0.13818,      0.1344,     0.12919,     0.12735,     0.12203,     0.11926,     0.11254,     0.11144,\n",
              "            0.11051,     0.10982,     0.10912,     0.10843,     0.10663,     0.10167,    0.094331,    0.088526,    0.082986,    0.080354,    0.079246,    0.071769,    0.066228,    0.063821,    0.062435,     0.06105,    0.059665,    0.057887,     0.05604,    0.054193,    0.050141,    0.047796,     0.04595,\n",
              "           0.045255,    0.044562,     0.04387,    0.042713,    0.038856,    0.037487,    0.036933,    0.036379,    0.035825,    0.035271,    0.032137,    0.031029,    0.029921,    0.028201,    0.026623,    0.025515,    0.024407,    0.019913,    0.018066,    0.016219,    0.015755,    0.015293,    0.014832,\n",
              "            0.01437,    0.013908,    0.013456,     0.01306,    0.012665,    0.012269,    0.011873,    0.011477,    0.011082,   0.0099356,   0.0074796,   0.0056327,   0.0051625,   0.0048854,   0.0046084,   0.0043314,   0.0040543,   0.0037773,   0.0035003,   0.0032232,   0.0029462,           0,           0,\n",
              "                  0,           0,           0,           0,           0,           0,           0,           0,           0,           0,           0,           0,           0,           0,           0,           0,           0,           0,           0,           0,           0,           0,           0,\n",
              "                  0,           0,           0,           0,           0,           0,           0,           0,           0,           0,           0]]), 'Confidence', 'Recall']]\n",
              "fitness: np.float64(0.7545750102422213)\n",
              "keys: ['metrics/precision(B)', 'metrics/recall(B)', 'metrics/mAP50(B)', 'metrics/mAP50-95(B)']\n",
              "maps: array([    0.73356])\n",
              "names: {0: 'amongus'}\n",
              "plot: True\n",
              "results_dict: {'metrics/precision(B)': np.float64(0.8804529564572626), 'metrics/recall(B)': np.float64(0.8810810810810811), 'metrics/mAP50(B)': np.float64(0.9437071692669476), 'metrics/mAP50-95(B)': np.float64(0.7335603259061406), 'fitness': np.float64(0.7545750102422213)}\n",
              "save_dir: PosixPath('runs/detect/train')\n",
              "speed: {'preprocess': 0.2800792340421372, 'inference': 6.9599739468066355, 'loss': 0.000563808509439773, 'postprocess': 2.8579269361697928}\n",
              "task: 'detect'"
            ]
          },
          "metadata": {},
          "execution_count": 6
        }
      ]
    },
    {
      "cell_type": "code",
      "source": [
        "pip install ultralytics roboflow\n"
      ],
      "metadata": {
        "colab": {
          "base_uri": "https://localhost:8080/"
        },
        "id": "MFQAWpYms6iS",
        "outputId": "f93e4b3c-b09e-4d49-bb0d-a697241e581f"
      },
      "execution_count": 1,
      "outputs": [
        {
          "output_type": "stream",
          "name": "stdout",
          "text": [
            "Collecting ultralytics\n",
            "  Downloading ultralytics-8.3.151-py3-none-any.whl.metadata (37 kB)\n",
            "Collecting roboflow\n",
            "  Downloading roboflow-1.1.66-py3-none-any.whl.metadata (9.7 kB)\n",
            "Requirement already satisfied: numpy>=1.23.0 in /usr/local/lib/python3.11/dist-packages (from ultralytics) (2.0.2)\n",
            "Requirement already satisfied: matplotlib>=3.3.0 in /usr/local/lib/python3.11/dist-packages (from ultralytics) (3.10.0)\n",
            "Requirement already satisfied: opencv-python>=4.6.0 in /usr/local/lib/python3.11/dist-packages (from ultralytics) (4.11.0.86)\n",
            "Requirement already satisfied: pillow>=7.1.2 in /usr/local/lib/python3.11/dist-packages (from ultralytics) (11.2.1)\n",
            "Requirement already satisfied: pyyaml>=5.3.1 in /usr/local/lib/python3.11/dist-packages (from ultralytics) (6.0.2)\n",
            "Requirement already satisfied: requests>=2.23.0 in /usr/local/lib/python3.11/dist-packages (from ultralytics) (2.32.3)\n",
            "Requirement already satisfied: scipy>=1.4.1 in /usr/local/lib/python3.11/dist-packages (from ultralytics) (1.15.3)\n",
            "Requirement already satisfied: torch>=1.8.0 in /usr/local/lib/python3.11/dist-packages (from ultralytics) (2.6.0+cu124)\n",
            "Requirement already satisfied: torchvision>=0.9.0 in /usr/local/lib/python3.11/dist-packages (from ultralytics) (0.21.0+cu124)\n",
            "Requirement already satisfied: tqdm>=4.64.0 in /usr/local/lib/python3.11/dist-packages (from ultralytics) (4.67.1)\n",
            "Requirement already satisfied: psutil in /usr/local/lib/python3.11/dist-packages (from ultralytics) (5.9.5)\n",
            "Requirement already satisfied: py-cpuinfo in /usr/local/lib/python3.11/dist-packages (from ultralytics) (9.0.0)\n",
            "Requirement already satisfied: pandas>=1.1.4 in /usr/local/lib/python3.11/dist-packages (from ultralytics) (2.2.2)\n",
            "Collecting ultralytics-thop>=2.0.0 (from ultralytics)\n",
            "  Downloading ultralytics_thop-2.0.14-py3-none-any.whl.metadata (9.4 kB)\n",
            "Requirement already satisfied: certifi in /usr/local/lib/python3.11/dist-packages (from roboflow) (2025.4.26)\n",
            "Collecting idna==3.7 (from roboflow)\n",
            "  Downloading idna-3.7-py3-none-any.whl.metadata (9.9 kB)\n",
            "Requirement already satisfied: cycler in /usr/local/lib/python3.11/dist-packages (from roboflow) (0.12.1)\n",
            "Requirement already satisfied: kiwisolver>=1.3.1 in /usr/local/lib/python3.11/dist-packages (from roboflow) (1.4.8)\n",
            "Collecting opencv-python-headless==4.10.0.84 (from roboflow)\n",
            "  Downloading opencv_python_headless-4.10.0.84-cp37-abi3-manylinux_2_17_x86_64.manylinux2014_x86_64.whl.metadata (20 kB)\n",
            "Collecting pillow-heif>=0.18.0 (from roboflow)\n",
            "  Downloading pillow_heif-0.22.0-cp311-cp311-manylinux_2_17_x86_64.manylinux2014_x86_64.whl.metadata (9.6 kB)\n",
            "Requirement already satisfied: python-dateutil in /usr/local/lib/python3.11/dist-packages (from roboflow) (2.9.0.post0)\n",
            "Collecting python-dotenv (from roboflow)\n",
            "  Downloading python_dotenv-1.1.0-py3-none-any.whl.metadata (24 kB)\n",
            "Requirement already satisfied: six in /usr/local/lib/python3.11/dist-packages (from roboflow) (1.17.0)\n",
            "Requirement already satisfied: urllib3>=1.26.6 in /usr/local/lib/python3.11/dist-packages (from roboflow) (2.4.0)\n",
            "Requirement already satisfied: requests-toolbelt in /usr/local/lib/python3.11/dist-packages (from roboflow) (1.0.0)\n",
            "Collecting filetype (from roboflow)\n",
            "  Downloading filetype-1.2.0-py2.py3-none-any.whl.metadata (6.5 kB)\n",
            "Requirement already satisfied: contourpy>=1.0.1 in /usr/local/lib/python3.11/dist-packages (from matplotlib>=3.3.0->ultralytics) (1.3.2)\n",
            "Requirement already satisfied: fonttools>=4.22.0 in /usr/local/lib/python3.11/dist-packages (from matplotlib>=3.3.0->ultralytics) (4.58.1)\n",
            "Requirement already satisfied: packaging>=20.0 in /usr/local/lib/python3.11/dist-packages (from matplotlib>=3.3.0->ultralytics) (24.2)\n",
            "Requirement already satisfied: pyparsing>=2.3.1 in /usr/local/lib/python3.11/dist-packages (from matplotlib>=3.3.0->ultralytics) (3.2.3)\n",
            "Requirement already satisfied: pytz>=2020.1 in /usr/local/lib/python3.11/dist-packages (from pandas>=1.1.4->ultralytics) (2025.2)\n",
            "Requirement already satisfied: tzdata>=2022.7 in /usr/local/lib/python3.11/dist-packages (from pandas>=1.1.4->ultralytics) (2025.2)\n",
            "Requirement already satisfied: charset-normalizer<4,>=2 in /usr/local/lib/python3.11/dist-packages (from requests>=2.23.0->ultralytics) (3.4.2)\n",
            "Requirement already satisfied: filelock in /usr/local/lib/python3.11/dist-packages (from torch>=1.8.0->ultralytics) (3.18.0)\n",
            "Requirement already satisfied: typing-extensions>=4.10.0 in /usr/local/lib/python3.11/dist-packages (from torch>=1.8.0->ultralytics) (4.14.0)\n",
            "Requirement already satisfied: networkx in /usr/local/lib/python3.11/dist-packages (from torch>=1.8.0->ultralytics) (3.5)\n",
            "Requirement already satisfied: jinja2 in /usr/local/lib/python3.11/dist-packages (from torch>=1.8.0->ultralytics) (3.1.6)\n",
            "Requirement already satisfied: fsspec in /usr/local/lib/python3.11/dist-packages (from torch>=1.8.0->ultralytics) (2025.3.2)\n",
            "Collecting nvidia-cuda-nvrtc-cu12==12.4.127 (from torch>=1.8.0->ultralytics)\n",
            "  Downloading nvidia_cuda_nvrtc_cu12-12.4.127-py3-none-manylinux2014_x86_64.whl.metadata (1.5 kB)\n",
            "Collecting nvidia-cuda-runtime-cu12==12.4.127 (from torch>=1.8.0->ultralytics)\n",
            "  Downloading nvidia_cuda_runtime_cu12-12.4.127-py3-none-manylinux2014_x86_64.whl.metadata (1.5 kB)\n",
            "Collecting nvidia-cuda-cupti-cu12==12.4.127 (from torch>=1.8.0->ultralytics)\n",
            "  Downloading nvidia_cuda_cupti_cu12-12.4.127-py3-none-manylinux2014_x86_64.whl.metadata (1.6 kB)\n",
            "Collecting nvidia-cudnn-cu12==9.1.0.70 (from torch>=1.8.0->ultralytics)\n",
            "  Downloading nvidia_cudnn_cu12-9.1.0.70-py3-none-manylinux2014_x86_64.whl.metadata (1.6 kB)\n",
            "Collecting nvidia-cublas-cu12==12.4.5.8 (from torch>=1.8.0->ultralytics)\n",
            "  Downloading nvidia_cublas_cu12-12.4.5.8-py3-none-manylinux2014_x86_64.whl.metadata (1.5 kB)\n",
            "Collecting nvidia-cufft-cu12==11.2.1.3 (from torch>=1.8.0->ultralytics)\n",
            "  Downloading nvidia_cufft_cu12-11.2.1.3-py3-none-manylinux2014_x86_64.whl.metadata (1.5 kB)\n",
            "Collecting nvidia-curand-cu12==10.3.5.147 (from torch>=1.8.0->ultralytics)\n",
            "  Downloading nvidia_curand_cu12-10.3.5.147-py3-none-manylinux2014_x86_64.whl.metadata (1.5 kB)\n",
            "Collecting nvidia-cusolver-cu12==11.6.1.9 (from torch>=1.8.0->ultralytics)\n",
            "  Downloading nvidia_cusolver_cu12-11.6.1.9-py3-none-manylinux2014_x86_64.whl.metadata (1.6 kB)\n",
            "Collecting nvidia-cusparse-cu12==12.3.1.170 (from torch>=1.8.0->ultralytics)\n",
            "  Downloading nvidia_cusparse_cu12-12.3.1.170-py3-none-manylinux2014_x86_64.whl.metadata (1.6 kB)\n",
            "Requirement already satisfied: nvidia-cusparselt-cu12==0.6.2 in /usr/local/lib/python3.11/dist-packages (from torch>=1.8.0->ultralytics) (0.6.2)\n",
            "Requirement already satisfied: nvidia-nccl-cu12==2.21.5 in /usr/local/lib/python3.11/dist-packages (from torch>=1.8.0->ultralytics) (2.21.5)\n",
            "Requirement already satisfied: nvidia-nvtx-cu12==12.4.127 in /usr/local/lib/python3.11/dist-packages (from torch>=1.8.0->ultralytics) (12.4.127)\n",
            "Collecting nvidia-nvjitlink-cu12==12.4.127 (from torch>=1.8.0->ultralytics)\n",
            "  Downloading nvidia_nvjitlink_cu12-12.4.127-py3-none-manylinux2014_x86_64.whl.metadata (1.5 kB)\n",
            "Requirement already satisfied: triton==3.2.0 in /usr/local/lib/python3.11/dist-packages (from torch>=1.8.0->ultralytics) (3.2.0)\n",
            "Requirement already satisfied: sympy==1.13.1 in /usr/local/lib/python3.11/dist-packages (from torch>=1.8.0->ultralytics) (1.13.1)\n",
            "Requirement already satisfied: mpmath<1.4,>=1.1.0 in /usr/local/lib/python3.11/dist-packages (from sympy==1.13.1->torch>=1.8.0->ultralytics) (1.3.0)\n",
            "Requirement already satisfied: MarkupSafe>=2.0 in /usr/local/lib/python3.11/dist-packages (from jinja2->torch>=1.8.0->ultralytics) (3.0.2)\n",
            "Downloading ultralytics-8.3.151-py3-none-any.whl (1.0 MB)\n",
            "\u001b[2K   \u001b[90m━━━━━━━━━━━━━━━━━━━━━━━━━━━━━━━━━━━━━━━━\u001b[0m \u001b[32m1.0/1.0 MB\u001b[0m \u001b[31m62.1 MB/s\u001b[0m eta \u001b[36m0:00:00\u001b[0m\n",
            "\u001b[?25hDownloading roboflow-1.1.66-py3-none-any.whl (86 kB)\n",
            "\u001b[2K   \u001b[90m━━━━━━━━━━━━━━━━━━━━━━━━━━━━━━━━━━━━━━━━\u001b[0m \u001b[32m86.7/86.7 kB\u001b[0m \u001b[31m10.0 MB/s\u001b[0m eta \u001b[36m0:00:00\u001b[0m\n",
            "\u001b[?25hDownloading idna-3.7-py3-none-any.whl (66 kB)\n",
            "\u001b[2K   \u001b[90m━━━━━━━━━━━━━━━━━━━━━━━━━━━━━━━━━━━━━━━━\u001b[0m \u001b[32m66.8/66.8 kB\u001b[0m \u001b[31m7.1 MB/s\u001b[0m eta \u001b[36m0:00:00\u001b[0m\n",
            "\u001b[?25hDownloading opencv_python_headless-4.10.0.84-cp37-abi3-manylinux_2_17_x86_64.manylinux2014_x86_64.whl (49.9 MB)\n",
            "\u001b[2K   \u001b[90m━━━━━━━━━━━━━━━━━━━━━━━━━━━━━━━━━━━━━━━━\u001b[0m \u001b[32m49.9/49.9 MB\u001b[0m \u001b[31m20.5 MB/s\u001b[0m eta \u001b[36m0:00:00\u001b[0m\n",
            "\u001b[?25hDownloading pillow_heif-0.22.0-cp311-cp311-manylinux_2_17_x86_64.manylinux2014_x86_64.whl (7.8 MB)\n",
            "\u001b[2K   \u001b[90m━━━━━━━━━━━━━━━━━━━━━━━━━━━━━━━━━━━━━━━━\u001b[0m \u001b[32m7.8/7.8 MB\u001b[0m \u001b[31m134.2 MB/s\u001b[0m eta \u001b[36m0:00:00\u001b[0m\n",
            "\u001b[?25hDownloading nvidia_cublas_cu12-12.4.5.8-py3-none-manylinux2014_x86_64.whl (363.4 MB)\n",
            "\u001b[2K   \u001b[90m━━━━━━━━━━━━━━━━━━━━━━━━━━━━━━━━━━━━━━━━\u001b[0m \u001b[32m363.4/363.4 MB\u001b[0m \u001b[31m4.5 MB/s\u001b[0m eta \u001b[36m0:00:00\u001b[0m\n",
            "\u001b[?25hDownloading nvidia_cuda_cupti_cu12-12.4.127-py3-none-manylinux2014_x86_64.whl (13.8 MB)\n",
            "\u001b[2K   \u001b[90m━━━━━━━━━━━━━━━━━━━━━━━━━━━━━━━━━━━━━━━━\u001b[0m \u001b[32m13.8/13.8 MB\u001b[0m \u001b[31m68.6 MB/s\u001b[0m eta \u001b[36m0:00:00\u001b[0m\n",
            "\u001b[?25hDownloading nvidia_cuda_nvrtc_cu12-12.4.127-py3-none-manylinux2014_x86_64.whl (24.6 MB)\n",
            "\u001b[2K   \u001b[90m━━━━━━━━━━━━━━━━━━━━━━━━━━━━━━━━━━━━━━━━\u001b[0m \u001b[32m24.6/24.6 MB\u001b[0m \u001b[31m37.4 MB/s\u001b[0m eta \u001b[36m0:00:00\u001b[0m\n",
            "\u001b[?25hDownloading nvidia_cuda_runtime_cu12-12.4.127-py3-none-manylinux2014_x86_64.whl (883 kB)\n",
            "\u001b[2K   \u001b[90m━━━━━━━━━━━━━━━━━━━━━━━━━━━━━━━━━━━━━━━━\u001b[0m \u001b[32m883.7/883.7 kB\u001b[0m \u001b[31m47.9 MB/s\u001b[0m eta \u001b[36m0:00:00\u001b[0m\n",
            "\u001b[?25hDownloading nvidia_cudnn_cu12-9.1.0.70-py3-none-manylinux2014_x86_64.whl (664.8 MB)\n",
            "\u001b[2K   \u001b[90m━━━━━━━━━━━━━━━━━━━━━━━━━━━━━━━━━━━━━━━━\u001b[0m \u001b[32m664.8/664.8 MB\u001b[0m \u001b[31m2.0 MB/s\u001b[0m eta \u001b[36m0:00:00\u001b[0m\n",
            "\u001b[?25hDownloading nvidia_cufft_cu12-11.2.1.3-py3-none-manylinux2014_x86_64.whl (211.5 MB)\n",
            "\u001b[2K   \u001b[90m━━━━━━━━━━━━━━━━━━━━━━━━━━━━━━━━━━━━━━━━\u001b[0m \u001b[32m211.5/211.5 MB\u001b[0m \u001b[31m5.3 MB/s\u001b[0m eta \u001b[36m0:00:00\u001b[0m\n",
            "\u001b[?25hDownloading nvidia_curand_cu12-10.3.5.147-py3-none-manylinux2014_x86_64.whl (56.3 MB)\n",
            "\u001b[2K   \u001b[90m━━━━━━━━━━━━━━━━━━━━━━━━━━━━━━━━━━━━━━━━\u001b[0m \u001b[32m56.3/56.3 MB\u001b[0m \u001b[31m14.0 MB/s\u001b[0m eta \u001b[36m0:00:00\u001b[0m\n",
            "\u001b[?25hDownloading nvidia_cusolver_cu12-11.6.1.9-py3-none-manylinux2014_x86_64.whl (127.9 MB)\n",
            "\u001b[2K   \u001b[90m━━━━━━━━━━━━━━━━━━━━━━━━━━━━━━━━━━━━━━━━\u001b[0m \u001b[32m127.9/127.9 MB\u001b[0m \u001b[31m7.4 MB/s\u001b[0m eta \u001b[36m0:00:00\u001b[0m\n",
            "\u001b[?25hDownloading nvidia_cusparse_cu12-12.3.1.170-py3-none-manylinux2014_x86_64.whl (207.5 MB)\n",
            "\u001b[2K   \u001b[90m━━━━━━━━━━━━━━━━━━━━━━━━━━━━━━━━━━━━━━━━\u001b[0m \u001b[32m207.5/207.5 MB\u001b[0m \u001b[31m3.3 MB/s\u001b[0m eta \u001b[36m0:00:00\u001b[0m\n",
            "\u001b[?25hDownloading nvidia_nvjitlink_cu12-12.4.127-py3-none-manylinux2014_x86_64.whl (21.1 MB)\n",
            "\u001b[2K   \u001b[90m━━━━━━━━━━━━━━━━━━━━━━━━━━━━━━━━━━━━━━━━\u001b[0m \u001b[32m21.1/21.1 MB\u001b[0m \u001b[31m77.6 MB/s\u001b[0m eta \u001b[36m0:00:00\u001b[0m\n",
            "\u001b[?25hDownloading ultralytics_thop-2.0.14-py3-none-any.whl (26 kB)\n",
            "Downloading filetype-1.2.0-py2.py3-none-any.whl (19 kB)\n",
            "Downloading python_dotenv-1.1.0-py3-none-any.whl (20 kB)\n",
            "Installing collected packages: filetype, python-dotenv, pillow-heif, opencv-python-headless, nvidia-nvjitlink-cu12, nvidia-curand-cu12, nvidia-cufft-cu12, nvidia-cuda-runtime-cu12, nvidia-cuda-nvrtc-cu12, nvidia-cuda-cupti-cu12, nvidia-cublas-cu12, idna, nvidia-cusparse-cu12, nvidia-cudnn-cu12, nvidia-cusolver-cu12, roboflow, ultralytics-thop, ultralytics\n",
            "  Attempting uninstall: opencv-python-headless\n",
            "    Found existing installation: opencv-python-headless 4.11.0.86\n",
            "    Uninstalling opencv-python-headless-4.11.0.86:\n",
            "      Successfully uninstalled opencv-python-headless-4.11.0.86\n",
            "  Attempting uninstall: nvidia-nvjitlink-cu12\n",
            "    Found existing installation: nvidia-nvjitlink-cu12 12.5.82\n",
            "    Uninstalling nvidia-nvjitlink-cu12-12.5.82:\n",
            "      Successfully uninstalled nvidia-nvjitlink-cu12-12.5.82\n",
            "  Attempting uninstall: nvidia-curand-cu12\n",
            "    Found existing installation: nvidia-curand-cu12 10.3.6.82\n",
            "    Uninstalling nvidia-curand-cu12-10.3.6.82:\n",
            "      Successfully uninstalled nvidia-curand-cu12-10.3.6.82\n",
            "  Attempting uninstall: nvidia-cufft-cu12\n",
            "    Found existing installation: nvidia-cufft-cu12 11.2.3.61\n",
            "    Uninstalling nvidia-cufft-cu12-11.2.3.61:\n",
            "      Successfully uninstalled nvidia-cufft-cu12-11.2.3.61\n",
            "  Attempting uninstall: nvidia-cuda-runtime-cu12\n",
            "    Found existing installation: nvidia-cuda-runtime-cu12 12.5.82\n",
            "    Uninstalling nvidia-cuda-runtime-cu12-12.5.82:\n",
            "      Successfully uninstalled nvidia-cuda-runtime-cu12-12.5.82\n",
            "  Attempting uninstall: nvidia-cuda-nvrtc-cu12\n",
            "    Found existing installation: nvidia-cuda-nvrtc-cu12 12.5.82\n",
            "    Uninstalling nvidia-cuda-nvrtc-cu12-12.5.82:\n",
            "      Successfully uninstalled nvidia-cuda-nvrtc-cu12-12.5.82\n",
            "  Attempting uninstall: nvidia-cuda-cupti-cu12\n",
            "    Found existing installation: nvidia-cuda-cupti-cu12 12.5.82\n",
            "    Uninstalling nvidia-cuda-cupti-cu12-12.5.82:\n",
            "      Successfully uninstalled nvidia-cuda-cupti-cu12-12.5.82\n",
            "  Attempting uninstall: nvidia-cublas-cu12\n",
            "    Found existing installation: nvidia-cublas-cu12 12.5.3.2\n",
            "    Uninstalling nvidia-cublas-cu12-12.5.3.2:\n",
            "      Successfully uninstalled nvidia-cublas-cu12-12.5.3.2\n",
            "  Attempting uninstall: idna\n",
            "    Found existing installation: idna 3.10\n",
            "    Uninstalling idna-3.10:\n",
            "      Successfully uninstalled idna-3.10\n",
            "  Attempting uninstall: nvidia-cusparse-cu12\n",
            "    Found existing installation: nvidia-cusparse-cu12 12.5.1.3\n",
            "    Uninstalling nvidia-cusparse-cu12-12.5.1.3:\n",
            "      Successfully uninstalled nvidia-cusparse-cu12-12.5.1.3\n",
            "  Attempting uninstall: nvidia-cudnn-cu12\n",
            "    Found existing installation: nvidia-cudnn-cu12 9.3.0.75\n",
            "    Uninstalling nvidia-cudnn-cu12-9.3.0.75:\n",
            "      Successfully uninstalled nvidia-cudnn-cu12-9.3.0.75\n",
            "  Attempting uninstall: nvidia-cusolver-cu12\n",
            "    Found existing installation: nvidia-cusolver-cu12 11.6.3.83\n",
            "    Uninstalling nvidia-cusolver-cu12-11.6.3.83:\n",
            "      Successfully uninstalled nvidia-cusolver-cu12-11.6.3.83\n",
            "Successfully installed filetype-1.2.0 idna-3.7 nvidia-cublas-cu12-12.4.5.8 nvidia-cuda-cupti-cu12-12.4.127 nvidia-cuda-nvrtc-cu12-12.4.127 nvidia-cuda-runtime-cu12-12.4.127 nvidia-cudnn-cu12-9.1.0.70 nvidia-cufft-cu12-11.2.1.3 nvidia-curand-cu12-10.3.5.147 nvidia-cusolver-cu12-11.6.1.9 nvidia-cusparse-cu12-12.3.1.170 nvidia-nvjitlink-cu12-12.4.127 opencv-python-headless-4.10.0.84 pillow-heif-0.22.0 python-dotenv-1.1.0 roboflow-1.1.66 ultralytics-8.3.151 ultralytics-thop-2.0.14\n"
          ]
        }
      ]
    },
    {
      "cell_type": "code",
      "source": [
        "from roboflow import Roboflow\n",
        "from ultralytics import YOLO\n",
        "\n",
        "# Descargar Dataset de Roboflow\n",
        "rf = Roboflow(api_key=\"xEqrBjR3L8GGnDZoPzOs\")\n",
        "\n",
        "# ⚠️ Usa uno u otro proyecto\n",
        "project = rf.workspace(\"angelddd\").project(\"amogus-detection-b6oaa\")  # YOLOv11\n",
        "version = project.version(1)\n",
        "dataset = version.download(\"yolov11\")\n",
        "\n",
        "# Cargar modelo base (YOLOv11 small)\n",
        "model = YOLO(\"yolo11s.pt\")\n",
        "\n",
        "# Entrenamiento\n",
        "model.train(\n",
        "    data=f\"{dataset.location}/data.yaml\",\n",
        "    epochs=30,           # ✅ Más épocas\n",
        "    imgsz=640,\n",
        "    batch=16,            # Ajusta si tienes más RAM/GPU\n",
        "    plots=True\n",
        ")\n"
      ],
      "metadata": {
        "colab": {
          "base_uri": "https://localhost:8080/"
        },
        "id": "MUgkYFwJtVVP",
        "outputId": "839a0bc4-fe23-4793-b4a7-cca67002be1d"
      },
      "execution_count": 2,
      "outputs": [
        {
          "output_type": "stream",
          "name": "stdout",
          "text": [
            "Creating new Ultralytics Settings v0.0.6 file ✅ \n",
            "View Ultralytics Settings with 'yolo settings' or at '/root/.config/Ultralytics/settings.json'\n",
            "Update Settings with 'yolo settings key=value', i.e. 'yolo settings runs_dir=path/to/dir'. For help see https://docs.ultralytics.com/quickstart/#ultralytics-settings.\n",
            "loading Roboflow workspace...\n",
            "loading Roboflow project...\n"
          ]
        },
        {
          "output_type": "stream",
          "name": "stderr",
          "text": [
            "Downloading Dataset Version Zip in Amogus-Detection-1 to yolov11:: 100%|██████████| 25118/25118 [00:02<00:00, 9106.21it/s] "
          ]
        },
        {
          "output_type": "stream",
          "name": "stdout",
          "text": [
            "\n"
          ]
        },
        {
          "output_type": "stream",
          "name": "stderr",
          "text": [
            "\n",
            "Extracting Dataset Version Zip to Amogus-Detection-1 in yolov11:: 100%|██████████| 1084/1084 [00:00<00:00, 6537.16it/s]\n"
          ]
        },
        {
          "output_type": "stream",
          "name": "stdout",
          "text": [
            "Downloading https://github.com/ultralytics/assets/releases/download/v8.3.0/yolo11s.pt to 'yolo11s.pt'...\n"
          ]
        },
        {
          "output_type": "stream",
          "name": "stderr",
          "text": [
            "100%|██████████| 18.4M/18.4M [00:00<00:00, 69.1MB/s]\n"
          ]
        },
        {
          "output_type": "stream",
          "name": "stdout",
          "text": [
            "Ultralytics 8.3.151 🚀 Python-3.11.13 torch-2.6.0+cu124 CUDA:0 (Tesla T4, 15095MiB)\n",
            "\u001b[34m\u001b[1mengine/trainer: \u001b[0magnostic_nms=False, amp=True, augment=False, auto_augment=randaugment, batch=16, bgr=0.0, box=7.5, cache=False, cfg=None, classes=None, close_mosaic=10, cls=0.5, conf=None, copy_paste=0.0, copy_paste_mode=flip, cos_lr=False, cutmix=0.0, data=/content/Amogus-Detection-1/data.yaml, degrees=0.0, deterministic=True, device=None, dfl=1.5, dnn=False, dropout=0.0, dynamic=False, embed=None, epochs=30, erasing=0.4, exist_ok=False, fliplr=0.5, flipud=0.0, format=torchscript, fraction=1.0, freeze=None, half=False, hsv_h=0.015, hsv_s=0.7, hsv_v=0.4, imgsz=640, int8=False, iou=0.7, keras=False, kobj=1.0, line_width=None, lr0=0.01, lrf=0.01, mask_ratio=4, max_det=300, mixup=0.0, mode=train, model=yolo11s.pt, momentum=0.937, mosaic=1.0, multi_scale=False, name=train, nbs=64, nms=False, opset=None, optimize=False, optimizer=auto, overlap_mask=True, patience=100, perspective=0.0, plots=True, pose=12.0, pretrained=True, profile=False, project=None, rect=False, resume=False, retina_masks=False, save=True, save_conf=False, save_crop=False, save_dir=runs/detect/train, save_frames=False, save_json=False, save_period=-1, save_txt=False, scale=0.5, seed=0, shear=0.0, show=False, show_boxes=True, show_conf=True, show_labels=True, simplify=True, single_cls=False, source=None, split=val, stream_buffer=False, task=detect, time=None, tracker=botsort.yaml, translate=0.1, val=True, verbose=True, vid_stride=1, visualize=False, warmup_bias_lr=0.1, warmup_epochs=3.0, warmup_momentum=0.8, weight_decay=0.0005, workers=8, workspace=None\n",
            "Downloading https://ultralytics.com/assets/Arial.ttf to '/root/.config/Ultralytics/Arial.ttf'...\n"
          ]
        },
        {
          "output_type": "stream",
          "name": "stderr",
          "text": [
            "100%|██████████| 755k/755k [00:00<00:00, 110MB/s]"
          ]
        },
        {
          "output_type": "stream",
          "name": "stdout",
          "text": [
            "Overriding model.yaml nc=80 with nc=1\n",
            "\n",
            "                   from  n    params  module                                       arguments                     \n",
            "  0                  -1  1       928  ultralytics.nn.modules.conv.Conv             [3, 32, 3, 2]                 \n",
            "  1                  -1  1     18560  ultralytics.nn.modules.conv.Conv             [32, 64, 3, 2]                \n",
            "  2                  -1  1     26080  ultralytics.nn.modules.block.C3k2            [64, 128, 1, False, 0.25]     \n",
            "  3                  -1  1    147712  ultralytics.nn.modules.conv.Conv             [128, 128, 3, 2]              \n",
            "  4                  -1  1    103360  ultralytics.nn.modules.block.C3k2            [128, 256, 1, False, 0.25]    \n",
            "  5                  -1  1    590336  ultralytics.nn.modules.conv.Conv             [256, 256, 3, 2]              \n",
            "  6                  -1  1    346112  ultralytics.nn.modules.block.C3k2            [256, 256, 1, True]           \n",
            "  7                  -1  1   1180672  ultralytics.nn.modules.conv.Conv             [256, 512, 3, 2]              \n",
            "  8                  -1  1   1380352  ultralytics.nn.modules.block.C3k2            [512, 512, 1, True]           \n",
            "  9                  -1  1    656896  ultralytics.nn.modules.block.SPPF            [512, 512, 5]                 \n",
            " 10                  -1  1    990976  ultralytics.nn.modules.block.C2PSA           [512, 512, 1]                 \n"
          ]
        },
        {
          "output_type": "stream",
          "name": "stderr",
          "text": [
            "\n"
          ]
        },
        {
          "output_type": "stream",
          "name": "stdout",
          "text": [
            " 11                  -1  1         0  torch.nn.modules.upsampling.Upsample         [None, 2, 'nearest']          \n",
            " 12             [-1, 6]  1         0  ultralytics.nn.modules.conv.Concat           [1]                           \n",
            " 13                  -1  1    443776  ultralytics.nn.modules.block.C3k2            [768, 256, 1, False]          \n",
            " 14                  -1  1         0  torch.nn.modules.upsampling.Upsample         [None, 2, 'nearest']          \n",
            " 15             [-1, 4]  1         0  ultralytics.nn.modules.conv.Concat           [1]                           \n",
            " 16                  -1  1    127680  ultralytics.nn.modules.block.C3k2            [512, 128, 1, False]          \n",
            " 17                  -1  1    147712  ultralytics.nn.modules.conv.Conv             [128, 128, 3, 2]              \n",
            " 18            [-1, 13]  1         0  ultralytics.nn.modules.conv.Concat           [1]                           \n",
            " 19                  -1  1    345472  ultralytics.nn.modules.block.C3k2            [384, 256, 1, False]          \n",
            " 20                  -1  1    590336  ultralytics.nn.modules.conv.Conv             [256, 256, 3, 2]              \n",
            " 21            [-1, 10]  1         0  ultralytics.nn.modules.conv.Concat           [1]                           \n",
            " 22                  -1  1   1511424  ultralytics.nn.modules.block.C3k2            [768, 512, 1, True]           \n",
            " 23        [16, 19, 22]  1    819795  ultralytics.nn.modules.head.Detect           [1, [128, 256, 512]]          \n",
            "YOLO11s summary: 181 layers, 9,428,179 parameters, 9,428,163 gradients, 21.5 GFLOPs\n",
            "\n",
            "Transferred 493/499 items from pretrained weights\n",
            "Freezing layer 'model.23.dfl.conv.weight'\n",
            "\u001b[34m\u001b[1mAMP: \u001b[0mrunning Automatic Mixed Precision (AMP) checks...\n",
            "Downloading https://github.com/ultralytics/assets/releases/download/v8.3.0/yolo11n.pt to 'yolo11n.pt'...\n"
          ]
        },
        {
          "output_type": "stream",
          "name": "stderr",
          "text": [
            "100%|██████████| 5.35M/5.35M [00:00<00:00, 349MB/s]\n"
          ]
        },
        {
          "output_type": "stream",
          "name": "stdout",
          "text": [
            "\u001b[34m\u001b[1mAMP: \u001b[0mchecks passed ✅\n",
            "\u001b[34m\u001b[1mtrain: \u001b[0mFast image access ✅ (ping: 0.1±0.1 ms, read: 1631.7±543.4 MB/s, size: 52.5 KB)\n"
          ]
        },
        {
          "output_type": "stream",
          "name": "stderr",
          "text": [
            "\u001b[34m\u001b[1mtrain: \u001b[0mScanning /content/Amogus-Detection-1/train/labels... 429 images, 0 backgrounds, 0 corrupt: 100%|██████████| 429/429 [00:00<00:00, 2439.44it/s]"
          ]
        },
        {
          "output_type": "stream",
          "name": "stdout",
          "text": [
            "\u001b[34m\u001b[1mtrain: \u001b[0mNew cache created: /content/Amogus-Detection-1/train/labels.cache\n"
          ]
        },
        {
          "output_type": "stream",
          "name": "stderr",
          "text": [
            "\n"
          ]
        },
        {
          "output_type": "stream",
          "name": "stdout",
          "text": [
            "\u001b[34m\u001b[1malbumentations: \u001b[0mBlur(p=0.01, blur_limit=(3, 7)), MedianBlur(p=0.01, blur_limit=(3, 7)), ToGray(p=0.01, method='weighted_average', num_output_channels=3), CLAHE(p=0.01, clip_limit=(1.0, 4.0), tile_grid_size=(8, 8))\n",
            "\u001b[34m\u001b[1mval: \u001b[0mFast image access ✅ (ping: 0.0±0.0 ms, read: 345.0±81.6 MB/s, size: 60.0 KB)\n"
          ]
        },
        {
          "output_type": "stream",
          "name": "stderr",
          "text": [
            "\u001b[34m\u001b[1mval: \u001b[0mScanning /content/Amogus-Detection-1/valid/labels... 94 images, 0 backgrounds, 0 corrupt: 100%|██████████| 94/94 [00:00<00:00, 1074.47it/s]"
          ]
        },
        {
          "output_type": "stream",
          "name": "stdout",
          "text": [
            "\u001b[34m\u001b[1mval: \u001b[0mNew cache created: /content/Amogus-Detection-1/valid/labels.cache\n"
          ]
        },
        {
          "output_type": "stream",
          "name": "stderr",
          "text": [
            "\n"
          ]
        },
        {
          "output_type": "stream",
          "name": "stdout",
          "text": [
            "Plotting labels to runs/detect/train/labels.jpg... \n",
            "\u001b[34m\u001b[1moptimizer:\u001b[0m 'optimizer=auto' found, ignoring 'lr0=0.01' and 'momentum=0.937' and determining best 'optimizer', 'lr0' and 'momentum' automatically... \n",
            "\u001b[34m\u001b[1moptimizer:\u001b[0m AdamW(lr=0.002, momentum=0.9) with parameter groups 81 weight(decay=0.0), 88 weight(decay=0.0005), 87 bias(decay=0.0)\n",
            "Image sizes 640 train, 640 val\n",
            "Using 2 dataloader workers\n",
            "Logging results to \u001b[1mruns/detect/train\u001b[0m\n",
            "Starting training for 30 epochs...\n",
            "\n",
            "      Epoch    GPU_mem   box_loss   cls_loss   dfl_loss  Instances       Size\n"
          ]
        },
        {
          "output_type": "stream",
          "name": "stderr",
          "text": [
            "       1/30      3.97G      1.252      2.272      1.327        112        640: 100%|██████████| 27/27 [00:11<00:00,  2.38it/s]\n",
            "                 Class     Images  Instances      Box(P          R      mAP50  mAP50-95): 100%|██████████| 3/3 [00:02<00:00,  1.30it/s]"
          ]
        },
        {
          "output_type": "stream",
          "name": "stdout",
          "text": [
            "                   all         94        370      0.613      0.727       0.65       0.43\n"
          ]
        },
        {
          "output_type": "stream",
          "name": "stderr",
          "text": [
            "\n"
          ]
        },
        {
          "output_type": "stream",
          "name": "stdout",
          "text": [
            "\n",
            "      Epoch    GPU_mem   box_loss   cls_loss   dfl_loss  Instances       Size\n"
          ]
        },
        {
          "output_type": "stream",
          "name": "stderr",
          "text": [
            "       2/30      4.77G      1.186      1.137      1.247         97        640: 100%|██████████| 27/27 [00:08<00:00,  3.02it/s]\n",
            "                 Class     Images  Instances      Box(P          R      mAP50  mAP50-95): 100%|██████████| 3/3 [00:00<00:00,  3.05it/s]"
          ]
        },
        {
          "output_type": "stream",
          "name": "stdout",
          "text": [
            "                   all         94        370     0.0714      0.278      0.034     0.0165\n"
          ]
        },
        {
          "output_type": "stream",
          "name": "stderr",
          "text": [
            "\n"
          ]
        },
        {
          "output_type": "stream",
          "name": "stdout",
          "text": [
            "\n",
            "      Epoch    GPU_mem   box_loss   cls_loss   dfl_loss  Instances       Size\n"
          ]
        },
        {
          "output_type": "stream",
          "name": "stderr",
          "text": [
            "       3/30      4.81G       1.18       1.05      1.286        114        640: 100%|██████████| 27/27 [00:09<00:00,  2.95it/s]\n",
            "                 Class     Images  Instances      Box(P          R      mAP50  mAP50-95): 100%|██████████| 3/3 [00:01<00:00,  2.22it/s]"
          ]
        },
        {
          "output_type": "stream",
          "name": "stdout",
          "text": [
            "                   all         94        370       0.36      0.424      0.293      0.157\n"
          ]
        },
        {
          "output_type": "stream",
          "name": "stderr",
          "text": [
            "\n"
          ]
        },
        {
          "output_type": "stream",
          "name": "stdout",
          "text": [
            "\n",
            "      Epoch    GPU_mem   box_loss   cls_loss   dfl_loss  Instances       Size\n"
          ]
        },
        {
          "output_type": "stream",
          "name": "stderr",
          "text": [
            "       4/30      4.85G       1.17     0.9861      1.269         92        640: 100%|██████████| 27/27 [00:08<00:00,  3.19it/s]\n",
            "                 Class     Images  Instances      Box(P          R      mAP50  mAP50-95): 100%|██████████| 3/3 [00:01<00:00,  1.93it/s]"
          ]
        },
        {
          "output_type": "stream",
          "name": "stdout",
          "text": [
            "                   all         94        370      0.413      0.508      0.349      0.186\n"
          ]
        },
        {
          "output_type": "stream",
          "name": "stderr",
          "text": [
            "\n"
          ]
        },
        {
          "output_type": "stream",
          "name": "stdout",
          "text": [
            "\n",
            "      Epoch    GPU_mem   box_loss   cls_loss   dfl_loss  Instances       Size\n"
          ]
        },
        {
          "output_type": "stream",
          "name": "stderr",
          "text": [
            "       5/30      4.89G      1.129     0.9657      1.245         91        640: 100%|██████████| 27/27 [00:07<00:00,  3.38it/s]\n",
            "                 Class     Images  Instances      Box(P          R      mAP50  mAP50-95): 100%|██████████| 3/3 [00:00<00:00,  3.16it/s]"
          ]
        },
        {
          "output_type": "stream",
          "name": "stdout",
          "text": [
            "                   all         94        370       0.52      0.246      0.289      0.179\n"
          ]
        },
        {
          "output_type": "stream",
          "name": "stderr",
          "text": [
            "\n"
          ]
        },
        {
          "output_type": "stream",
          "name": "stdout",
          "text": [
            "\n",
            "      Epoch    GPU_mem   box_loss   cls_loss   dfl_loss  Instances       Size\n"
          ]
        },
        {
          "output_type": "stream",
          "name": "stderr",
          "text": [
            "       6/30      4.93G       1.13     0.8977      1.252         96        640: 100%|██████████| 27/27 [00:09<00:00,  2.90it/s]\n",
            "                 Class     Images  Instances      Box(P          R      mAP50  mAP50-95): 100%|██████████| 3/3 [00:00<00:00,  3.11it/s]"
          ]
        },
        {
          "output_type": "stream",
          "name": "stdout",
          "text": [
            "                   all         94        370      0.796      0.714      0.792      0.515\n"
          ]
        },
        {
          "output_type": "stream",
          "name": "stderr",
          "text": [
            "\n"
          ]
        },
        {
          "output_type": "stream",
          "name": "stdout",
          "text": [
            "\n",
            "      Epoch    GPU_mem   box_loss   cls_loss   dfl_loss  Instances       Size\n"
          ]
        },
        {
          "output_type": "stream",
          "name": "stderr",
          "text": [
            "       7/30      4.97G      1.093     0.8513      1.215         88        640: 100%|██████████| 27/27 [00:08<00:00,  3.05it/s]\n",
            "                 Class     Images  Instances      Box(P          R      mAP50  mAP50-95): 100%|██████████| 3/3 [00:01<00:00,  2.86it/s]"
          ]
        },
        {
          "output_type": "stream",
          "name": "stdout",
          "text": [
            "                   all         94        370      0.777      0.738      0.814      0.554\n"
          ]
        },
        {
          "output_type": "stream",
          "name": "stderr",
          "text": [
            "\n"
          ]
        },
        {
          "output_type": "stream",
          "name": "stdout",
          "text": [
            "\n",
            "      Epoch    GPU_mem   box_loss   cls_loss   dfl_loss  Instances       Size\n"
          ]
        },
        {
          "output_type": "stream",
          "name": "stderr",
          "text": [
            "       8/30      5.01G      1.097     0.8659       1.23         82        640: 100%|██████████| 27/27 [00:08<00:00,  3.01it/s]\n",
            "                 Class     Images  Instances      Box(P          R      mAP50  mAP50-95): 100%|██████████| 3/3 [00:00<00:00,  3.12it/s]"
          ]
        },
        {
          "output_type": "stream",
          "name": "stdout",
          "text": [
            "                   all         94        370      0.632      0.678      0.649      0.403\n"
          ]
        },
        {
          "output_type": "stream",
          "name": "stderr",
          "text": [
            "\n"
          ]
        },
        {
          "output_type": "stream",
          "name": "stdout",
          "text": [
            "\n",
            "      Epoch    GPU_mem   box_loss   cls_loss   dfl_loss  Instances       Size\n"
          ]
        },
        {
          "output_type": "stream",
          "name": "stderr",
          "text": [
            "       9/30      5.05G       1.09     0.8419       1.21         82        640: 100%|██████████| 27/27 [00:08<00:00,  3.34it/s]\n",
            "                 Class     Images  Instances      Box(P          R      mAP50  mAP50-95): 100%|██████████| 3/3 [00:01<00:00,  1.92it/s]"
          ]
        },
        {
          "output_type": "stream",
          "name": "stdout",
          "text": [
            "                   all         94        370      0.841        0.8      0.893       0.63\n"
          ]
        },
        {
          "output_type": "stream",
          "name": "stderr",
          "text": [
            "\n"
          ]
        },
        {
          "output_type": "stream",
          "name": "stdout",
          "text": [
            "\n",
            "      Epoch    GPU_mem   box_loss   cls_loss   dfl_loss  Instances       Size\n"
          ]
        },
        {
          "output_type": "stream",
          "name": "stderr",
          "text": [
            "      10/30      5.09G      1.043     0.7625      1.183         89        640: 100%|██████████| 27/27 [00:08<00:00,  3.05it/s]\n",
            "                 Class     Images  Instances      Box(P          R      mAP50  mAP50-95): 100%|██████████| 3/3 [00:00<00:00,  3.14it/s]"
          ]
        },
        {
          "output_type": "stream",
          "name": "stdout",
          "text": [
            "                   all         94        370       0.83      0.781      0.844      0.562\n"
          ]
        },
        {
          "output_type": "stream",
          "name": "stderr",
          "text": [
            "\n"
          ]
        },
        {
          "output_type": "stream",
          "name": "stdout",
          "text": [
            "\n",
            "      Epoch    GPU_mem   box_loss   cls_loss   dfl_loss  Instances       Size\n"
          ]
        },
        {
          "output_type": "stream",
          "name": "stderr",
          "text": [
            "      11/30      5.13G      1.054     0.7806      1.185        100        640: 100%|██████████| 27/27 [00:08<00:00,  3.07it/s]\n",
            "                 Class     Images  Instances      Box(P          R      mAP50  mAP50-95): 100%|██████████| 3/3 [00:00<00:00,  3.17it/s]"
          ]
        },
        {
          "output_type": "stream",
          "name": "stdout",
          "text": [
            "                   all         94        370      0.753      0.762      0.811      0.553\n"
          ]
        },
        {
          "output_type": "stream",
          "name": "stderr",
          "text": [
            "\n"
          ]
        },
        {
          "output_type": "stream",
          "name": "stdout",
          "text": [
            "\n",
            "      Epoch    GPU_mem   box_loss   cls_loss   dfl_loss  Instances       Size\n"
          ]
        },
        {
          "output_type": "stream",
          "name": "stderr",
          "text": [
            "      12/30      5.17G     0.9964     0.7668      1.167         99        640: 100%|██████████| 27/27 [00:09<00:00,  2.99it/s]\n",
            "                 Class     Images  Instances      Box(P          R      mAP50  mAP50-95): 100%|██████████| 3/3 [00:00<00:00,  3.01it/s]"
          ]
        },
        {
          "output_type": "stream",
          "name": "stdout",
          "text": [
            "                   all         94        370      0.846      0.799      0.892      0.621\n"
          ]
        },
        {
          "output_type": "stream",
          "name": "stderr",
          "text": [
            "\n"
          ]
        },
        {
          "output_type": "stream",
          "name": "stdout",
          "text": [
            "\n",
            "      Epoch    GPU_mem   box_loss   cls_loss   dfl_loss  Instances       Size\n"
          ]
        },
        {
          "output_type": "stream",
          "name": "stderr",
          "text": [
            "      13/30      5.21G     0.9841      0.733      1.147         90        640: 100%|██████████| 27/27 [00:08<00:00,  3.01it/s]\n",
            "                 Class     Images  Instances      Box(P          R      mAP50  mAP50-95): 100%|██████████| 3/3 [00:00<00:00,  3.13it/s]"
          ]
        },
        {
          "output_type": "stream",
          "name": "stdout",
          "text": [
            "                   all         94        370      0.859      0.814      0.893      0.634\n"
          ]
        },
        {
          "output_type": "stream",
          "name": "stderr",
          "text": [
            "\n"
          ]
        },
        {
          "output_type": "stream",
          "name": "stdout",
          "text": [
            "\n",
            "      Epoch    GPU_mem   box_loss   cls_loss   dfl_loss  Instances       Size\n"
          ]
        },
        {
          "output_type": "stream",
          "name": "stderr",
          "text": [
            "      14/30      5.25G     0.9638     0.7192      1.133         97        640: 100%|██████████| 27/27 [00:08<00:00,  3.20it/s]\n",
            "                 Class     Images  Instances      Box(P          R      mAP50  mAP50-95): 100%|██████████| 3/3 [00:01<00:00,  1.97it/s]"
          ]
        },
        {
          "output_type": "stream",
          "name": "stdout",
          "text": [
            "                   all         94        370      0.863      0.817      0.903      0.643\n"
          ]
        },
        {
          "output_type": "stream",
          "name": "stderr",
          "text": [
            "\n"
          ]
        },
        {
          "output_type": "stream",
          "name": "stdout",
          "text": [
            "\n",
            "      Epoch    GPU_mem   box_loss   cls_loss   dfl_loss  Instances       Size\n"
          ]
        },
        {
          "output_type": "stream",
          "name": "stderr",
          "text": [
            "      15/30      5.29G     0.9666      0.693      1.138         88        640: 100%|██████████| 27/27 [00:08<00:00,  3.30it/s]\n",
            "                 Class     Images  Instances      Box(P          R      mAP50  mAP50-95): 100%|██████████| 3/3 [00:00<00:00,  3.17it/s]"
          ]
        },
        {
          "output_type": "stream",
          "name": "stdout",
          "text": [
            "                   all         94        370      0.827      0.827      0.886       0.65\n"
          ]
        },
        {
          "output_type": "stream",
          "name": "stderr",
          "text": [
            "\n"
          ]
        },
        {
          "output_type": "stream",
          "name": "stdout",
          "text": [
            "\n",
            "      Epoch    GPU_mem   box_loss   cls_loss   dfl_loss  Instances       Size\n"
          ]
        },
        {
          "output_type": "stream",
          "name": "stderr",
          "text": [
            "      16/30      5.33G     0.9165     0.6463      1.109         84        640: 100%|██████████| 27/27 [00:08<00:00,  3.01it/s]\n",
            "                 Class     Images  Instances      Box(P          R      mAP50  mAP50-95): 100%|██████████| 3/3 [00:00<00:00,  3.23it/s]"
          ]
        },
        {
          "output_type": "stream",
          "name": "stdout",
          "text": [
            "                   all         94        370      0.859       0.82      0.911      0.657\n"
          ]
        },
        {
          "output_type": "stream",
          "name": "stderr",
          "text": [
            "\n"
          ]
        },
        {
          "output_type": "stream",
          "name": "stdout",
          "text": [
            "\n",
            "      Epoch    GPU_mem   box_loss   cls_loss   dfl_loss  Instances       Size\n"
          ]
        },
        {
          "output_type": "stream",
          "name": "stderr",
          "text": [
            "      17/30      5.37G     0.9297     0.6293      1.104         58        640: 100%|██████████| 27/27 [00:08<00:00,  3.05it/s]\n",
            "                 Class     Images  Instances      Box(P          R      mAP50  mAP50-95): 100%|██████████| 3/3 [00:01<00:00,  2.96it/s]"
          ]
        },
        {
          "output_type": "stream",
          "name": "stdout",
          "text": [
            "                   all         94        370      0.898      0.792       0.91      0.649\n"
          ]
        },
        {
          "output_type": "stream",
          "name": "stderr",
          "text": [
            "\n"
          ]
        },
        {
          "output_type": "stream",
          "name": "stdout",
          "text": [
            "\n",
            "      Epoch    GPU_mem   box_loss   cls_loss   dfl_loss  Instances       Size\n"
          ]
        },
        {
          "output_type": "stream",
          "name": "stderr",
          "text": [
            "      18/30      5.41G     0.9216     0.6453      1.112        104        640: 100%|██████████| 27/27 [00:08<00:00,  3.02it/s]\n",
            "                 Class     Images  Instances      Box(P          R      mAP50  mAP50-95): 100%|██████████| 3/3 [00:01<00:00,  2.88it/s]"
          ]
        },
        {
          "output_type": "stream",
          "name": "stdout",
          "text": [
            "                   all         94        370      0.842      0.835      0.906      0.671\n"
          ]
        },
        {
          "output_type": "stream",
          "name": "stderr",
          "text": [
            "\n"
          ]
        },
        {
          "output_type": "stream",
          "name": "stdout",
          "text": [
            "\n",
            "      Epoch    GPU_mem   box_loss   cls_loss   dfl_loss  Instances       Size\n"
          ]
        },
        {
          "output_type": "stream",
          "name": "stderr",
          "text": [
            "      19/30      5.44G     0.8879     0.6348      1.093        123        640: 100%|██████████| 27/27 [00:08<00:00,  3.25it/s]\n",
            "                 Class     Images  Instances      Box(P          R      mAP50  mAP50-95): 100%|██████████| 3/3 [00:01<00:00,  2.08it/s]"
          ]
        },
        {
          "output_type": "stream",
          "name": "stdout",
          "text": [
            "                   all         94        370      0.884      0.811      0.921      0.681\n"
          ]
        },
        {
          "output_type": "stream",
          "name": "stderr",
          "text": [
            "\n"
          ]
        },
        {
          "output_type": "stream",
          "name": "stdout",
          "text": [
            "\n",
            "      Epoch    GPU_mem   box_loss   cls_loss   dfl_loss  Instances       Size\n"
          ]
        },
        {
          "output_type": "stream",
          "name": "stderr",
          "text": [
            "      20/30      5.49G     0.8854     0.6217      1.085         67        640: 100%|██████████| 27/27 [00:08<00:00,  3.37it/s]\n",
            "                 Class     Images  Instances      Box(P          R      mAP50  mAP50-95): 100%|██████████| 3/3 [00:00<00:00,  3.10it/s]"
          ]
        },
        {
          "output_type": "stream",
          "name": "stdout",
          "text": [
            "                   all         94        370      0.876      0.844      0.925      0.686\n"
          ]
        },
        {
          "output_type": "stream",
          "name": "stderr",
          "text": [
            "\n"
          ]
        },
        {
          "output_type": "stream",
          "name": "stdout",
          "text": [
            "Closing dataloader mosaic\n",
            "\u001b[34m\u001b[1malbumentations: \u001b[0mBlur(p=0.01, blur_limit=(3, 7)), MedianBlur(p=0.01, blur_limit=(3, 7)), ToGray(p=0.01, method='weighted_average', num_output_channels=3), CLAHE(p=0.01, clip_limit=(1.0, 4.0), tile_grid_size=(8, 8))\n",
            "\n",
            "      Epoch    GPU_mem   box_loss   cls_loss   dfl_loss  Instances       Size\n"
          ]
        },
        {
          "output_type": "stream",
          "name": "stderr",
          "text": [
            "      21/30      5.53G     0.8541     0.6066      1.092         43        640: 100%|██████████| 27/27 [00:11<00:00,  2.36it/s]\n",
            "                 Class     Images  Instances      Box(P          R      mAP50  mAP50-95): 100%|██████████| 3/3 [00:01<00:00,  2.95it/s]"
          ]
        },
        {
          "output_type": "stream",
          "name": "stdout",
          "text": [
            "                   all         94        370      0.851      0.836      0.894      0.671\n"
          ]
        },
        {
          "output_type": "stream",
          "name": "stderr",
          "text": [
            "\n"
          ]
        },
        {
          "output_type": "stream",
          "name": "stdout",
          "text": [
            "\n",
            "      Epoch    GPU_mem   box_loss   cls_loss   dfl_loss  Instances       Size\n"
          ]
        },
        {
          "output_type": "stream",
          "name": "stderr",
          "text": [
            "      22/30      5.56G     0.8361      0.536      1.063         75        640: 100%|██████████| 27/27 [00:08<00:00,  3.11it/s]\n",
            "                 Class     Images  Instances      Box(P          R      mAP50  mAP50-95): 100%|██████████| 3/3 [00:00<00:00,  3.14it/s]"
          ]
        },
        {
          "output_type": "stream",
          "name": "stdout",
          "text": [
            "                   all         94        370      0.902      0.835      0.934      0.693\n"
          ]
        },
        {
          "output_type": "stream",
          "name": "stderr",
          "text": [
            "\n"
          ]
        },
        {
          "output_type": "stream",
          "name": "stdout",
          "text": [
            "\n",
            "      Epoch    GPU_mem   box_loss   cls_loss   dfl_loss  Instances       Size\n"
          ]
        },
        {
          "output_type": "stream",
          "name": "stderr",
          "text": [
            "      23/30      5.61G     0.8391     0.5422      1.074         53        640: 100%|██████████| 27/27 [00:08<00:00,  3.09it/s]\n",
            "                 Class     Images  Instances      Box(P          R      mAP50  mAP50-95): 100%|██████████| 3/3 [00:00<00:00,  3.08it/s]"
          ]
        },
        {
          "output_type": "stream",
          "name": "stdout",
          "text": [
            "                   all         94        370      0.893      0.832      0.918      0.696\n"
          ]
        },
        {
          "output_type": "stream",
          "name": "stderr",
          "text": [
            "\n"
          ]
        },
        {
          "output_type": "stream",
          "name": "stdout",
          "text": [
            "\n",
            "      Epoch    GPU_mem   box_loss   cls_loss   dfl_loss  Instances       Size\n"
          ]
        },
        {
          "output_type": "stream",
          "name": "stderr",
          "text": [
            "      24/30      5.64G     0.8342     0.5215      1.068         56        640: 100%|██████████| 27/27 [00:08<00:00,  3.12it/s]\n",
            "                 Class     Images  Instances      Box(P          R      mAP50  mAP50-95): 100%|██████████| 3/3 [00:01<00:00,  2.79it/s]"
          ]
        },
        {
          "output_type": "stream",
          "name": "stdout",
          "text": [
            "                   all         94        370      0.897      0.841       0.93      0.699\n"
          ]
        },
        {
          "output_type": "stream",
          "name": "stderr",
          "text": [
            "\n"
          ]
        },
        {
          "output_type": "stream",
          "name": "stdout",
          "text": [
            "\n",
            "      Epoch    GPU_mem   box_loss   cls_loss   dfl_loss  Instances       Size\n"
          ]
        },
        {
          "output_type": "stream",
          "name": "stderr",
          "text": [
            "      25/30      5.68G     0.8076      0.502      1.047         58        640: 100%|██████████| 27/27 [00:07<00:00,  3.38it/s]\n",
            "                 Class     Images  Instances      Box(P          R      mAP50  mAP50-95): 100%|██████████| 3/3 [00:01<00:00,  2.86it/s]"
          ]
        },
        {
          "output_type": "stream",
          "name": "stdout",
          "text": [
            "                   all         94        370      0.888      0.892      0.935      0.708\n"
          ]
        },
        {
          "output_type": "stream",
          "name": "stderr",
          "text": [
            "\n"
          ]
        },
        {
          "output_type": "stream",
          "name": "stdout",
          "text": [
            "\n",
            "      Epoch    GPU_mem   box_loss   cls_loss   dfl_loss  Instances       Size\n"
          ]
        },
        {
          "output_type": "stream",
          "name": "stderr",
          "text": [
            "      26/30      5.72G     0.7811     0.4833      1.043         53        640: 100%|██████████| 27/27 [00:08<00:00,  3.23it/s]\n",
            "                 Class     Images  Instances      Box(P          R      mAP50  mAP50-95): 100%|██████████| 3/3 [00:00<00:00,  3.11it/s]"
          ]
        },
        {
          "output_type": "stream",
          "name": "stdout",
          "text": [
            "                   all         94        370      0.883      0.873      0.937      0.707\n"
          ]
        },
        {
          "output_type": "stream",
          "name": "stderr",
          "text": [
            "\n"
          ]
        },
        {
          "output_type": "stream",
          "name": "stdout",
          "text": [
            "\n",
            "      Epoch    GPU_mem   box_loss   cls_loss   dfl_loss  Instances       Size\n"
          ]
        },
        {
          "output_type": "stream",
          "name": "stderr",
          "text": [
            "      27/30      5.76G     0.7861      0.483       1.04         80        640: 100%|██████████| 27/27 [00:08<00:00,  3.08it/s]\n",
            "                 Class     Images  Instances      Box(P          R      mAP50  mAP50-95): 100%|██████████| 3/3 [00:00<00:00,  3.21it/s]"
          ]
        },
        {
          "output_type": "stream",
          "name": "stdout",
          "text": [
            "                   all         94        370      0.887      0.838      0.937      0.715\n"
          ]
        },
        {
          "output_type": "stream",
          "name": "stderr",
          "text": [
            "\n"
          ]
        },
        {
          "output_type": "stream",
          "name": "stdout",
          "text": [
            "\n",
            "      Epoch    GPU_mem   box_loss   cls_loss   dfl_loss  Instances       Size\n"
          ]
        },
        {
          "output_type": "stream",
          "name": "stderr",
          "text": [
            "      28/30       5.8G      0.763     0.4606      1.024         80        640: 100%|██████████| 27/27 [00:08<00:00,  3.11it/s]\n",
            "                 Class     Images  Instances      Box(P          R      mAP50  mAP50-95): 100%|██████████| 3/3 [00:00<00:00,  3.16it/s]"
          ]
        },
        {
          "output_type": "stream",
          "name": "stdout",
          "text": [
            "                   all         94        370      0.917      0.839       0.95      0.731\n"
          ]
        },
        {
          "output_type": "stream",
          "name": "stderr",
          "text": [
            "\n"
          ]
        },
        {
          "output_type": "stream",
          "name": "stdout",
          "text": [
            "\n",
            "      Epoch    GPU_mem   box_loss   cls_loss   dfl_loss  Instances       Size\n"
          ]
        },
        {
          "output_type": "stream",
          "name": "stderr",
          "text": [
            "      29/30      5.84G     0.7403     0.4444      1.003         64        640: 100%|██████████| 27/27 [00:08<00:00,  3.36it/s]\n",
            "                 Class     Images  Instances      Box(P          R      mAP50  mAP50-95): 100%|██████████| 3/3 [00:01<00:00,  2.11it/s]"
          ]
        },
        {
          "output_type": "stream",
          "name": "stdout",
          "text": [
            "                   all         94        370      0.917      0.843      0.946      0.743\n"
          ]
        },
        {
          "output_type": "stream",
          "name": "stderr",
          "text": [
            "\n"
          ]
        },
        {
          "output_type": "stream",
          "name": "stdout",
          "text": [
            "\n",
            "      Epoch    GPU_mem   box_loss   cls_loss   dfl_loss  Instances       Size\n"
          ]
        },
        {
          "output_type": "stream",
          "name": "stderr",
          "text": [
            "      30/30      5.88G     0.7437     0.4396      1.009         51        640: 100%|██████████| 27/27 [00:08<00:00,  3.30it/s]\n",
            "                 Class     Images  Instances      Box(P          R      mAP50  mAP50-95): 100%|██████████| 3/3 [00:00<00:00,  3.15it/s]"
          ]
        },
        {
          "output_type": "stream",
          "name": "stdout",
          "text": [
            "                   all         94        370      0.895      0.877      0.948       0.74\n"
          ]
        },
        {
          "output_type": "stream",
          "name": "stderr",
          "text": [
            "\n"
          ]
        },
        {
          "output_type": "stream",
          "name": "stdout",
          "text": [
            "\n",
            "30 epochs completed in 0.087 hours.\n",
            "Optimizer stripped from runs/detect/train/weights/last.pt, 19.2MB\n",
            "Optimizer stripped from runs/detect/train/weights/best.pt, 19.2MB\n",
            "\n",
            "Validating runs/detect/train/weights/best.pt...\n",
            "Ultralytics 8.3.151 🚀 Python-3.11.13 torch-2.6.0+cu124 CUDA:0 (Tesla T4, 15095MiB)\n",
            "YOLO11s summary (fused): 100 layers, 9,413,187 parameters, 0 gradients, 21.3 GFLOPs\n"
          ]
        },
        {
          "output_type": "stream",
          "name": "stderr",
          "text": [
            "                 Class     Images  Instances      Box(P          R      mAP50  mAP50-95): 100%|██████████| 3/3 [00:02<00:00,  1.03it/s]\n"
          ]
        },
        {
          "output_type": "stream",
          "name": "stdout",
          "text": [
            "                   all         94        370      0.917      0.843      0.946      0.743\n",
            "Speed: 0.3ms preprocess, 5.9ms inference, 0.0ms loss, 7.0ms postprocess per image\n",
            "Results saved to \u001b[1mruns/detect/train\u001b[0m\n"
          ]
        },
        {
          "output_type": "execute_result",
          "data": {
            "text/plain": [
              "ultralytics.utils.metrics.DetMetrics object with attributes:\n",
              "\n",
              "ap_class_index: array([0])\n",
              "box: ultralytics.utils.metrics.Metric object\n",
              "confusion_matrix: <ultralytics.utils.metrics.ConfusionMatrix object at 0x7f5718a94950>\n",
              "curves: ['Precision-Recall(B)', 'F1-Confidence(B)', 'Precision-Confidence(B)', 'Recall-Confidence(B)']\n",
              "curves_results: [[array([          0,    0.001001,    0.002002,    0.003003,    0.004004,    0.005005,    0.006006,    0.007007,    0.008008,    0.009009,     0.01001,    0.011011,    0.012012,    0.013013,    0.014014,    0.015015,    0.016016,    0.017017,    0.018018,    0.019019,     0.02002,    0.021021,    0.022022,    0.023023,\n",
              "          0.024024,    0.025025,    0.026026,    0.027027,    0.028028,    0.029029,     0.03003,    0.031031,    0.032032,    0.033033,    0.034034,    0.035035,    0.036036,    0.037037,    0.038038,    0.039039,     0.04004,    0.041041,    0.042042,    0.043043,    0.044044,    0.045045,    0.046046,    0.047047,\n",
              "          0.048048,    0.049049,     0.05005,    0.051051,    0.052052,    0.053053,    0.054054,    0.055055,    0.056056,    0.057057,    0.058058,    0.059059,     0.06006,    0.061061,    0.062062,    0.063063,    0.064064,    0.065065,    0.066066,    0.067067,    0.068068,    0.069069,     0.07007,    0.071071,\n",
              "          0.072072,    0.073073,    0.074074,    0.075075,    0.076076,    0.077077,    0.078078,    0.079079,     0.08008,    0.081081,    0.082082,    0.083083,    0.084084,    0.085085,    0.086086,    0.087087,    0.088088,    0.089089,     0.09009,    0.091091,    0.092092,    0.093093,    0.094094,    0.095095,\n",
              "          0.096096,    0.097097,    0.098098,    0.099099,      0.1001,      0.1011,      0.1021,      0.1031,      0.1041,     0.10511,     0.10611,     0.10711,     0.10811,     0.10911,     0.11011,     0.11111,     0.11211,     0.11311,     0.11411,     0.11512,     0.11612,     0.11712,     0.11812,     0.11912,\n",
              "           0.12012,     0.12112,     0.12212,     0.12312,     0.12412,     0.12513,     0.12613,     0.12713,     0.12813,     0.12913,     0.13013,     0.13113,     0.13213,     0.13313,     0.13413,     0.13514,     0.13614,     0.13714,     0.13814,     0.13914,     0.14014,     0.14114,     0.14214,     0.14314,\n",
              "           0.14414,     0.14515,     0.14615,     0.14715,     0.14815,     0.14915,     0.15015,     0.15115,     0.15215,     0.15315,     0.15415,     0.15516,     0.15616,     0.15716,     0.15816,     0.15916,     0.16016,     0.16116,     0.16216,     0.16316,     0.16416,     0.16517,     0.16617,     0.16717,\n",
              "           0.16817,     0.16917,     0.17017,     0.17117,     0.17217,     0.17317,     0.17417,     0.17518,     0.17618,     0.17718,     0.17818,     0.17918,     0.18018,     0.18118,     0.18218,     0.18318,     0.18418,     0.18519,     0.18619,     0.18719,     0.18819,     0.18919,     0.19019,     0.19119,\n",
              "           0.19219,     0.19319,     0.19419,      0.1952,      0.1962,      0.1972,      0.1982,      0.1992,      0.2002,      0.2012,      0.2022,      0.2032,      0.2042,     0.20521,     0.20621,     0.20721,     0.20821,     0.20921,     0.21021,     0.21121,     0.21221,     0.21321,     0.21421,     0.21522,\n",
              "           0.21622,     0.21722,     0.21822,     0.21922,     0.22022,     0.22122,     0.22222,     0.22322,     0.22422,     0.22523,     0.22623,     0.22723,     0.22823,     0.22923,     0.23023,     0.23123,     0.23223,     0.23323,     0.23423,     0.23524,     0.23624,     0.23724,     0.23824,     0.23924,\n",
              "           0.24024,     0.24124,     0.24224,     0.24324,     0.24424,     0.24525,     0.24625,     0.24725,     0.24825,     0.24925,     0.25025,     0.25125,     0.25225,     0.25325,     0.25425,     0.25526,     0.25626,     0.25726,     0.25826,     0.25926,     0.26026,     0.26126,     0.26226,     0.26326,\n",
              "           0.26426,     0.26527,     0.26627,     0.26727,     0.26827,     0.26927,     0.27027,     0.27127,     0.27227,     0.27327,     0.27427,     0.27528,     0.27628,     0.27728,     0.27828,     0.27928,     0.28028,     0.28128,     0.28228,     0.28328,     0.28428,     0.28529,     0.28629,     0.28729,\n",
              "           0.28829,     0.28929,     0.29029,     0.29129,     0.29229,     0.29329,     0.29429,      0.2953,      0.2963,      0.2973,      0.2983,      0.2993,      0.3003,      0.3013,      0.3023,      0.3033,      0.3043,     0.30531,     0.30631,     0.30731,     0.30831,     0.30931,     0.31031,     0.31131,\n",
              "           0.31231,     0.31331,     0.31431,     0.31532,     0.31632,     0.31732,     0.31832,     0.31932,     0.32032,     0.32132,     0.32232,     0.32332,     0.32432,     0.32533,     0.32633,     0.32733,     0.32833,     0.32933,     0.33033,     0.33133,     0.33233,     0.33333,     0.33433,     0.33534,\n",
              "           0.33634,     0.33734,     0.33834,     0.33934,     0.34034,     0.34134,     0.34234,     0.34334,     0.34434,     0.34535,     0.34635,     0.34735,     0.34835,     0.34935,     0.35035,     0.35135,     0.35235,     0.35335,     0.35435,     0.35536,     0.35636,     0.35736,     0.35836,     0.35936,\n",
              "           0.36036,     0.36136,     0.36236,     0.36336,     0.36436,     0.36537,     0.36637,     0.36737,     0.36837,     0.36937,     0.37037,     0.37137,     0.37237,     0.37337,     0.37437,     0.37538,     0.37638,     0.37738,     0.37838,     0.37938,     0.38038,     0.38138,     0.38238,     0.38338,\n",
              "           0.38438,     0.38539,     0.38639,     0.38739,     0.38839,     0.38939,     0.39039,     0.39139,     0.39239,     0.39339,     0.39439,      0.3954,      0.3964,      0.3974,      0.3984,      0.3994,      0.4004,      0.4014,      0.4024,      0.4034,      0.4044,     0.40541,     0.40641,     0.40741,\n",
              "           0.40841,     0.40941,     0.41041,     0.41141,     0.41241,     0.41341,     0.41441,     0.41542,     0.41642,     0.41742,     0.41842,     0.41942,     0.42042,     0.42142,     0.42242,     0.42342,     0.42442,     0.42543,     0.42643,     0.42743,     0.42843,     0.42943,     0.43043,     0.43143,\n",
              "           0.43243,     0.43343,     0.43443,     0.43544,     0.43644,     0.43744,     0.43844,     0.43944,     0.44044,     0.44144,     0.44244,     0.44344,     0.44444,     0.44545,     0.44645,     0.44745,     0.44845,     0.44945,     0.45045,     0.45145,     0.45245,     0.45345,     0.45445,     0.45546,\n",
              "           0.45646,     0.45746,     0.45846,     0.45946,     0.46046,     0.46146,     0.46246,     0.46346,     0.46446,     0.46547,     0.46647,     0.46747,     0.46847,     0.46947,     0.47047,     0.47147,     0.47247,     0.47347,     0.47447,     0.47548,     0.47648,     0.47748,     0.47848,     0.47948,\n",
              "           0.48048,     0.48148,     0.48248,     0.48348,     0.48448,     0.48549,     0.48649,     0.48749,     0.48849,     0.48949,     0.49049,     0.49149,     0.49249,     0.49349,     0.49449,      0.4955,      0.4965,      0.4975,      0.4985,      0.4995,      0.5005,      0.5015,      0.5025,      0.5035,\n",
              "            0.5045,     0.50551,     0.50651,     0.50751,     0.50851,     0.50951,     0.51051,     0.51151,     0.51251,     0.51351,     0.51451,     0.51552,     0.51652,     0.51752,     0.51852,     0.51952,     0.52052,     0.52152,     0.52252,     0.52352,     0.52452,     0.52553,     0.52653,     0.52753,\n",
              "           0.52853,     0.52953,     0.53053,     0.53153,     0.53253,     0.53353,     0.53453,     0.53554,     0.53654,     0.53754,     0.53854,     0.53954,     0.54054,     0.54154,     0.54254,     0.54354,     0.54454,     0.54555,     0.54655,     0.54755,     0.54855,     0.54955,     0.55055,     0.55155,\n",
              "           0.55255,     0.55355,     0.55455,     0.55556,     0.55656,     0.55756,     0.55856,     0.55956,     0.56056,     0.56156,     0.56256,     0.56356,     0.56456,     0.56557,     0.56657,     0.56757,     0.56857,     0.56957,     0.57057,     0.57157,     0.57257,     0.57357,     0.57457,     0.57558,\n",
              "           0.57658,     0.57758,     0.57858,     0.57958,     0.58058,     0.58158,     0.58258,     0.58358,     0.58458,     0.58559,     0.58659,     0.58759,     0.58859,     0.58959,     0.59059,     0.59159,     0.59259,     0.59359,     0.59459,      0.5956,      0.5966,      0.5976,      0.5986,      0.5996,\n",
              "            0.6006,      0.6016,      0.6026,      0.6036,      0.6046,     0.60561,     0.60661,     0.60761,     0.60861,     0.60961,     0.61061,     0.61161,     0.61261,     0.61361,     0.61461,     0.61562,     0.61662,     0.61762,     0.61862,     0.61962,     0.62062,     0.62162,     0.62262,     0.62362,\n",
              "           0.62462,     0.62563,     0.62663,     0.62763,     0.62863,     0.62963,     0.63063,     0.63163,     0.63263,     0.63363,     0.63463,     0.63564,     0.63664,     0.63764,     0.63864,     0.63964,     0.64064,     0.64164,     0.64264,     0.64364,     0.64464,     0.64565,     0.64665,     0.64765,\n",
              "           0.64865,     0.64965,     0.65065,     0.65165,     0.65265,     0.65365,     0.65465,     0.65566,     0.65666,     0.65766,     0.65866,     0.65966,     0.66066,     0.66166,     0.66266,     0.66366,     0.66466,     0.66567,     0.66667,     0.66767,     0.66867,     0.66967,     0.67067,     0.67167,\n",
              "           0.67267,     0.67367,     0.67467,     0.67568,     0.67668,     0.67768,     0.67868,     0.67968,     0.68068,     0.68168,     0.68268,     0.68368,     0.68468,     0.68569,     0.68669,     0.68769,     0.68869,     0.68969,     0.69069,     0.69169,     0.69269,     0.69369,     0.69469,      0.6957,\n",
              "            0.6967,      0.6977,      0.6987,      0.6997,      0.7007,      0.7017,      0.7027,      0.7037,      0.7047,     0.70571,     0.70671,     0.70771,     0.70871,     0.70971,     0.71071,     0.71171,     0.71271,     0.71371,     0.71471,     0.71572,     0.71672,     0.71772,     0.71872,     0.71972,\n",
              "           0.72072,     0.72172,     0.72272,     0.72372,     0.72472,     0.72573,     0.72673,     0.72773,     0.72873,     0.72973,     0.73073,     0.73173,     0.73273,     0.73373,     0.73473,     0.73574,     0.73674,     0.73774,     0.73874,     0.73974,     0.74074,     0.74174,     0.74274,     0.74374,\n",
              "           0.74474,     0.74575,     0.74675,     0.74775,     0.74875,     0.74975,     0.75075,     0.75175,     0.75275,     0.75375,     0.75475,     0.75576,     0.75676,     0.75776,     0.75876,     0.75976,     0.76076,     0.76176,     0.76276,     0.76376,     0.76476,     0.76577,     0.76677,     0.76777,\n",
              "           0.76877,     0.76977,     0.77077,     0.77177,     0.77277,     0.77377,     0.77477,     0.77578,     0.77678,     0.77778,     0.77878,     0.77978,     0.78078,     0.78178,     0.78278,     0.78378,     0.78478,     0.78579,     0.78679,     0.78779,     0.78879,     0.78979,     0.79079,     0.79179,\n",
              "           0.79279,     0.79379,     0.79479,      0.7958,      0.7968,      0.7978,      0.7988,      0.7998,      0.8008,      0.8018,      0.8028,      0.8038,      0.8048,     0.80581,     0.80681,     0.80781,     0.80881,     0.80981,     0.81081,     0.81181,     0.81281,     0.81381,     0.81481,     0.81582,\n",
              "           0.81682,     0.81782,     0.81882,     0.81982,     0.82082,     0.82182,     0.82282,     0.82382,     0.82482,     0.82583,     0.82683,     0.82783,     0.82883,     0.82983,     0.83083,     0.83183,     0.83283,     0.83383,     0.83483,     0.83584,     0.83684,     0.83784,     0.83884,     0.83984,\n",
              "           0.84084,     0.84184,     0.84284,     0.84384,     0.84484,     0.84585,     0.84685,     0.84785,     0.84885,     0.84985,     0.85085,     0.85185,     0.85285,     0.85385,     0.85485,     0.85586,     0.85686,     0.85786,     0.85886,     0.85986,     0.86086,     0.86186,     0.86286,     0.86386,\n",
              "           0.86486,     0.86587,     0.86687,     0.86787,     0.86887,     0.86987,     0.87087,     0.87187,     0.87287,     0.87387,     0.87487,     0.87588,     0.87688,     0.87788,     0.87888,     0.87988,     0.88088,     0.88188,     0.88288,     0.88388,     0.88488,     0.88589,     0.88689,     0.88789,\n",
              "           0.88889,     0.88989,     0.89089,     0.89189,     0.89289,     0.89389,     0.89489,      0.8959,      0.8969,      0.8979,      0.8989,      0.8999,      0.9009,      0.9019,      0.9029,      0.9039,      0.9049,     0.90591,     0.90691,     0.90791,     0.90891,     0.90991,     0.91091,     0.91191,\n",
              "           0.91291,     0.91391,     0.91491,     0.91592,     0.91692,     0.91792,     0.91892,     0.91992,     0.92092,     0.92192,     0.92292,     0.92392,     0.92492,     0.92593,     0.92693,     0.92793,     0.92893,     0.92993,     0.93093,     0.93193,     0.93293,     0.93393,     0.93493,     0.93594,\n",
              "           0.93694,     0.93794,     0.93894,     0.93994,     0.94094,     0.94194,     0.94294,     0.94394,     0.94494,     0.94595,     0.94695,     0.94795,     0.94895,     0.94995,     0.95095,     0.95195,     0.95295,     0.95395,     0.95495,     0.95596,     0.95696,     0.95796,     0.95896,     0.95996,\n",
              "           0.96096,     0.96196,     0.96296,     0.96396,     0.96496,     0.96597,     0.96697,     0.96797,     0.96897,     0.96997,     0.97097,     0.97197,     0.97297,     0.97397,     0.97497,     0.97598,     0.97698,     0.97798,     0.97898,     0.97998,     0.98098,     0.98198,     0.98298,     0.98398,\n",
              "           0.98498,     0.98599,     0.98699,     0.98799,     0.98899,     0.98999,     0.99099,     0.99199,     0.99299,     0.99399,     0.99499,       0.996,       0.997,       0.998,       0.999,           1]), array([[          1,           1,           1,           1,           1,           1,           1,           1,           1,           1,           1,           1,           1,           1,           1,           1,           1,           1,           1,           1,           1,           1,           1,\n",
              "                  1,           1,           1,           1,           1,           1,           1,           1,           1,           1,           1,           1,           1,           1,           1,           1,           1,           1,           1,           1,           1,           1,           1,\n",
              "                  1,           1,           1,           1,           1,           1,           1,           1,           1,           1,           1,           1,           1,           1,           1,           1,           1,           1,           1,           1,           1,           1,           1,\n",
              "                  1,           1,           1,           1,           1,           1,           1,           1,           1,           1,           1,           1,           1,           1,           1,           1,           1,           1,           1,           1,           1,           1,           1,\n",
              "                  1,           1,           1,           1,           1,           1,           1,           1,           1,           1,           1,           1,           1,           1,           1,           1,           1,           1,           1,           1,           1,           1,           1,\n",
              "                  1,           1,           1,           1,           1,           1,           1,           1,           1,           1,           1,           1,           1,           1,           1,           1,           1,           1,           1,           1,           1,           1,           1,\n",
              "                  1,           1,           1,           1,           1,           1,           1,           1,           1,           1,           1,           1,           1,           1,           1,           1,           1,           1,           1,           1,           1,           1,           1,\n",
              "                  1,           1,           1,           1,           1,           1,           1,           1,           1,           1,           1,           1,           1,           1,           1,           1,           1,           1,           1,           1,           1,           1,           1,\n",
              "                  1,           1,           1,           1,           1,           1,           1,           1,           1,           1,           1,           1,           1,           1,           1,           1,           1,           1,           1,           1,           1,           1,           1,\n",
              "                  1,           1,           1,           1,           1,           1,           1,           1,           1,           1,           1,           1,           1,           1,           1,           1,           1,           1,           1,           1,           1,           1,           1,\n",
              "                  1,           1,           1,           1,           1,           1,           1,           1,           1,           1,           1,           1,           1,           1,           1,           1,           1,           1,           1,           1,           1,           1,           1,\n",
              "                  1,           1,           1,           1,      0.9955,      0.9955,      0.9955,      0.9955,      0.9955,      0.9955,      0.9955,      0.9955,      0.9955,      0.9955,      0.9955,      0.9955,      0.9955,      0.9955,      0.9955,      0.9955,      0.9955,      0.9955,      0.9955,\n",
              "             0.9955,      0.9955,      0.9955,      0.9955,      0.9955,      0.9955,      0.9955,      0.9955,      0.9955,      0.9955,      0.9955,      0.9955,      0.9955,      0.9955,      0.9955,      0.9955,      0.9955,      0.9955,      0.9955,      0.9955,      0.9955,      0.9955,      0.9955,\n",
              "             0.9955,      0.9955,      0.9955,      0.9955,      0.9955,      0.9955,      0.9955,      0.9955,      0.9955,      0.9955,      0.9955,      0.9955,      0.9955,      0.9955,      0.9955,      0.9955,      0.9955,      0.9955,      0.9955,      0.9955,      0.9955,      0.9955,      0.9955,\n",
              "             0.9955,      0.9955,      0.9955,      0.9955,      0.9955,      0.9955,      0.9955,      0.9955,      0.9955,      0.9955,      0.9955,      0.9955,      0.9955,      0.9955,      0.9955,      0.9955,      0.9955,      0.9955,      0.9955,      0.9955,      0.9955,      0.9955,      0.9955,\n",
              "             0.9955,      0.9955,      0.9955,      0.9955,      0.9955,      0.9955,      0.9955,      0.9955,      0.9955,      0.9955,      0.9955,      0.9955,      0.9955,      0.9955,      0.9955,      0.9955,      0.9955,      0.9955,      0.9955,      0.9955,      0.9955,      0.9955,      0.9955,\n",
              "             0.9955,      0.9955,      0.9955,      0.9955,      0.9955,      0.9955,      0.9955,      0.9955,      0.9955,      0.9955,      0.9955,      0.9955,      0.9955,      0.9955,      0.9955,      0.9955,      0.9955,      0.9955,      0.9955,      0.9955,      0.9955,      0.9955,      0.9955,\n",
              "             0.9955,      0.9955,      0.9955,      0.9955,      0.9955,      0.9955,      0.9955,      0.9955,      0.9955,      0.9955,      0.9955,      0.9955,      0.9955,      0.9955,      0.9955,      0.9955,      0.9955,      0.9955,      0.9955,      0.9955,      0.9955,      0.9955,      0.9955,\n",
              "             0.9955,      0.9955,      0.9955,      0.9955,      0.9955,      0.9955,      0.9955,      0.9955,      0.9955,      0.9955,      0.9955,      0.9955,      0.9955,      0.9955,      0.9955,      0.9955,      0.9955,      0.9955,      0.9955,      0.9955,      0.9955,      0.9955,      0.9955,\n",
              "             0.9955,      0.9955,      0.9955,      0.9955,      0.9955,      0.9955,      0.9955,      0.9955,      0.9955,      0.9955,      0.9955,      0.9955,      0.9955,      0.9955,      0.9955,      0.9955,      0.9955,      0.9955,      0.9955,      0.9955,      0.9955,      0.9955,      0.9955,\n",
              "             0.9955,      0.9955,      0.9955,      0.9955,      0.9955,      0.9955,      0.9955,      0.9955,      0.9955,      0.9955,      0.9955,      0.9955,      0.9955,      0.9955,      0.9955,      0.9955,      0.9955,      0.9955,      0.9955,      0.9955,      0.9955,      0.9955,      0.9955,\n",
              "             0.9955,      0.9955,      0.9955,      0.9955,      0.9955,      0.9955,      0.9955,      0.9955,      0.9955,      0.9955,      0.9955,      0.9955,      0.9955,      0.9955,      0.9955,      0.9955,      0.9955,      0.9955,      0.9955,      0.9955,      0.9955,      0.9955,      0.9955,\n",
              "             0.9955,      0.9955,      0.9955,      0.9955,      0.9955,      0.9955,      0.9955,      0.9955,      0.9955,      0.9955,      0.9955,      0.9955,      0.9955,      0.9955,      0.9955,      0.9955,      0.9955,      0.9955,      0.9955,      0.9955,      0.9955,      0.9955,      0.9955,\n",
              "             0.9955,      0.9955,      0.9955,      0.9955,      0.9955,      0.9955,      0.9955,      0.9955,      0.9955,      0.9955,      0.9955,      0.9955,      0.9955,      0.9955,      0.9955,      0.9955,      0.9955,      0.9955,      0.9955,      0.9955,      0.9955,      0.9955,      0.9955,\n",
              "             0.9955,      0.9955,      0.9955,      0.9955,      0.9955,      0.9955,      0.9955,      0.9955,      0.9955,      0.9955,      0.9955,      0.9955,      0.9955,      0.9955,      0.9955,      0.9955,      0.9955,      0.9955,      0.9955,      0.9955,      0.9955,      0.9955,      0.9955,\n",
              "             0.9955,      0.9955,      0.9955,      0.9955,      0.9955,      0.9955,      0.9955,      0.9955,      0.9955,      0.9955,      0.9955,      0.9955,      0.9955,      0.9955,      0.9955,      0.9955,      0.9955,      0.9955,      0.9955,      0.9955,      0.9955,      0.9955,     0.99149,\n",
              "            0.99149,     0.99149,     0.99149,     0.99149,     0.99149,     0.99149,     0.99149,     0.99149,     0.99149,     0.99149,     0.99149,     0.99149,     0.99149,     0.99149,     0.99149,     0.99149,     0.99149,     0.99149,     0.99149,     0.99149,     0.99149,     0.99149,     0.99149,\n",
              "            0.99149,     0.99149,     0.99149,     0.99149,     0.99149,     0.99149,     0.99149,     0.99149,     0.99149,      0.9877,      0.9877,      0.9877,      0.9877,      0.9877,      0.9877,      0.9877,      0.9877,      0.9877,      0.9877,      0.9877,      0.9877,      0.9877,      0.9877,\n",
              "             0.9877,      0.9877,      0.9877,      0.9877,      0.9877,      0.9877,      0.9877,       0.984,       0.984,       0.984,       0.984,       0.984,       0.984,       0.984,       0.984,       0.984,       0.984,       0.984,       0.984,       0.984,       0.984,     0.98099,     0.98099,\n",
              "            0.98099,     0.98099,     0.98099,     0.98099,     0.98099,     0.98099,     0.98099,     0.98099,     0.98099,     0.98099,     0.98099,     0.98099,     0.98099,     0.98099,     0.98099,     0.98099,     0.98099,     0.98099,     0.98099,     0.98099,     0.98099,     0.98099,     0.98099,\n",
              "            0.98099,     0.98099,     0.98099,     0.98099,     0.98099,     0.98099,     0.98099,     0.97753,     0.97753,     0.97753,     0.97753,     0.97753,     0.97753,     0.97753,     0.97753,     0.97445,     0.97445,     0.97445,     0.97445,     0.97445,     0.97445,     0.97445,     0.97445,\n",
              "            0.97445,     0.97445,     0.97445,     0.97445,     0.97445,     0.97445,     0.97445,     0.97445,     0.97153,     0.97153,     0.97153,     0.97153,     0.97153,     0.97153,     0.97153,     0.97153,     0.97153,     0.97153,     0.97153,     0.97153,     0.97153,     0.97153,     0.97153,\n",
              "            0.97153,     0.97153,     0.96853,     0.96853,     0.96853,     0.96853,     0.96853,     0.96853,     0.96853,     0.96853,     0.96853,     0.96853,     0.96284,     0.96284,     0.96284,     0.96284,     0.96284,     0.96284,     0.96284,     0.96284,     0.96284,     0.96284,     0.96284,\n",
              "            0.96284,     0.96284,     0.96284,     0.96284,     0.96284,     0.96284,     0.96284,     0.96284,     0.96284,     0.96284,     0.96284,     0.95652,     0.95652,     0.95652,      0.9538,      0.9538,      0.9538,      0.9538,      0.9538,      0.9538,      0.9538,      0.9538,     0.95098,\n",
              "            0.95098,     0.95098,     0.95098,     0.95098,     0.94855,     0.94855,     0.94855,     0.94855,     0.94855,     0.94855,     0.94855,     0.94855,     0.94855,     0.94855,     0.94855,     0.94569,     0.94569,     0.94569,     0.94006,     0.94006,     0.94006,     0.94006,     0.94006,\n",
              "             0.9375,      0.9375,      0.9375,      0.9375,      0.9375,     0.93189,     0.93189,     0.93189,     0.92727,     0.92727,     0.92727,     0.92727,     0.92727,     0.92727,     0.92727,     0.92727,     0.92727,     0.92727,     0.92727,     0.92727,     0.92727,     0.92727,     0.92515,\n",
              "            0.92515,     0.92515,     0.92515,     0.92515,     0.92515,     0.92515,     0.92515,     0.92262,     0.92262,     0.92035,     0.92035,     0.92035,     0.92035,     0.92035,     0.92035,      0.9152,      0.9152,      0.9152,     0.91279,     0.91279,     0.88983,     0.88983,     0.88983,\n",
              "            0.88268,     0.88268,     0.88268,     0.88056,     0.88056,     0.87879,     0.87879,     0.87879,     0.87879,     0.87879,     0.87879,     0.87705,     0.87705,     0.87705,     0.87705,     0.87705,     0.87297,     0.87297,     0.87297,     0.87297,     0.87297,     0.87297,     0.86631,\n",
              "            0.86631,     0.85789,     0.85789,     0.85789,     0.85789,     0.85789,     0.85789,     0.85417,     0.85417,     0.85417,     0.85417,     0.85417,     0.85309,     0.85309,     0.85309,     0.85309,     0.85309,     0.85309,     0.85309,     0.85309,     0.85128,     0.85128,     0.85128,\n",
              "            0.84304,     0.84304,     0.84304,     0.83709,     0.83709,     0.82921,     0.82921,     0.82921,     0.82353,     0.82353,     0.82353,     0.81995,     0.81995,      0.8184,      0.8184,      0.8184,     0.80714,     0.80714,     0.80714,     0.78522,     0.78522,     0.78522,     0.78211,\n",
              "            0.78211,     0.77727,     0.77727,     0.77727,     0.77427,     0.77427,     0.77427,      0.7706,      0.7706,      0.7706,      0.7706,      0.7706,      0.7706,      0.7706,      0.7706,      0.7694,      0.7694,     0.76652,     0.76652,     0.76652,     0.76535,     0.76535,     0.76535,\n",
              "            0.74627,     0.74627,     0.74522,     0.74522,     0.74522,     0.72878,     0.72878,     0.72878,     0.70741,     0.70741,     0.70741,     0.69276,     0.69276,     0.68932,     0.68932,     0.68932,     0.65562,     0.65562,     0.65562,     0.64909,     0.64909,     0.64388,     0.64388,\n",
              "            0.64388,     0.64107,     0.64107,     0.64107,      0.6383,      0.6383,      0.6383,     0.61186,     0.61186,     0.52464,     0.52464,     0.52464,     0.49254,     0.49254,     0.49254,     0.44608,     0.44608,     0.40828,     0.40828,     0.40828,     0.25346,     0.25346,     0.25346,\n",
              "            0.21544,      0.1939,     0.17235,     0.15081,     0.12926,     0.10772,    0.086176,    0.064632,    0.043088,    0.021544,           0]]), 'Recall', 'Precision'], [array([          0,    0.001001,    0.002002,    0.003003,    0.004004,    0.005005,    0.006006,    0.007007,    0.008008,    0.009009,     0.01001,    0.011011,    0.012012,    0.013013,    0.014014,    0.015015,    0.016016,    0.017017,    0.018018,    0.019019,     0.02002,    0.021021,    0.022022,    0.023023,\n",
              "          0.024024,    0.025025,    0.026026,    0.027027,    0.028028,    0.029029,     0.03003,    0.031031,    0.032032,    0.033033,    0.034034,    0.035035,    0.036036,    0.037037,    0.038038,    0.039039,     0.04004,    0.041041,    0.042042,    0.043043,    0.044044,    0.045045,    0.046046,    0.047047,\n",
              "          0.048048,    0.049049,     0.05005,    0.051051,    0.052052,    0.053053,    0.054054,    0.055055,    0.056056,    0.057057,    0.058058,    0.059059,     0.06006,    0.061061,    0.062062,    0.063063,    0.064064,    0.065065,    0.066066,    0.067067,    0.068068,    0.069069,     0.07007,    0.071071,\n",
              "          0.072072,    0.073073,    0.074074,    0.075075,    0.076076,    0.077077,    0.078078,    0.079079,     0.08008,    0.081081,    0.082082,    0.083083,    0.084084,    0.085085,    0.086086,    0.087087,    0.088088,    0.089089,     0.09009,    0.091091,    0.092092,    0.093093,    0.094094,    0.095095,\n",
              "          0.096096,    0.097097,    0.098098,    0.099099,      0.1001,      0.1011,      0.1021,      0.1031,      0.1041,     0.10511,     0.10611,     0.10711,     0.10811,     0.10911,     0.11011,     0.11111,     0.11211,     0.11311,     0.11411,     0.11512,     0.11612,     0.11712,     0.11812,     0.11912,\n",
              "           0.12012,     0.12112,     0.12212,     0.12312,     0.12412,     0.12513,     0.12613,     0.12713,     0.12813,     0.12913,     0.13013,     0.13113,     0.13213,     0.13313,     0.13413,     0.13514,     0.13614,     0.13714,     0.13814,     0.13914,     0.14014,     0.14114,     0.14214,     0.14314,\n",
              "           0.14414,     0.14515,     0.14615,     0.14715,     0.14815,     0.14915,     0.15015,     0.15115,     0.15215,     0.15315,     0.15415,     0.15516,     0.15616,     0.15716,     0.15816,     0.15916,     0.16016,     0.16116,     0.16216,     0.16316,     0.16416,     0.16517,     0.16617,     0.16717,\n",
              "           0.16817,     0.16917,     0.17017,     0.17117,     0.17217,     0.17317,     0.17417,     0.17518,     0.17618,     0.17718,     0.17818,     0.17918,     0.18018,     0.18118,     0.18218,     0.18318,     0.18418,     0.18519,     0.18619,     0.18719,     0.18819,     0.18919,     0.19019,     0.19119,\n",
              "           0.19219,     0.19319,     0.19419,      0.1952,      0.1962,      0.1972,      0.1982,      0.1992,      0.2002,      0.2012,      0.2022,      0.2032,      0.2042,     0.20521,     0.20621,     0.20721,     0.20821,     0.20921,     0.21021,     0.21121,     0.21221,     0.21321,     0.21421,     0.21522,\n",
              "           0.21622,     0.21722,     0.21822,     0.21922,     0.22022,     0.22122,     0.22222,     0.22322,     0.22422,     0.22523,     0.22623,     0.22723,     0.22823,     0.22923,     0.23023,     0.23123,     0.23223,     0.23323,     0.23423,     0.23524,     0.23624,     0.23724,     0.23824,     0.23924,\n",
              "           0.24024,     0.24124,     0.24224,     0.24324,     0.24424,     0.24525,     0.24625,     0.24725,     0.24825,     0.24925,     0.25025,     0.25125,     0.25225,     0.25325,     0.25425,     0.25526,     0.25626,     0.25726,     0.25826,     0.25926,     0.26026,     0.26126,     0.26226,     0.26326,\n",
              "           0.26426,     0.26527,     0.26627,     0.26727,     0.26827,     0.26927,     0.27027,     0.27127,     0.27227,     0.27327,     0.27427,     0.27528,     0.27628,     0.27728,     0.27828,     0.27928,     0.28028,     0.28128,     0.28228,     0.28328,     0.28428,     0.28529,     0.28629,     0.28729,\n",
              "           0.28829,     0.28929,     0.29029,     0.29129,     0.29229,     0.29329,     0.29429,      0.2953,      0.2963,      0.2973,      0.2983,      0.2993,      0.3003,      0.3013,      0.3023,      0.3033,      0.3043,     0.30531,     0.30631,     0.30731,     0.30831,     0.30931,     0.31031,     0.31131,\n",
              "           0.31231,     0.31331,     0.31431,     0.31532,     0.31632,     0.31732,     0.31832,     0.31932,     0.32032,     0.32132,     0.32232,     0.32332,     0.32432,     0.32533,     0.32633,     0.32733,     0.32833,     0.32933,     0.33033,     0.33133,     0.33233,     0.33333,     0.33433,     0.33534,\n",
              "           0.33634,     0.33734,     0.33834,     0.33934,     0.34034,     0.34134,     0.34234,     0.34334,     0.34434,     0.34535,     0.34635,     0.34735,     0.34835,     0.34935,     0.35035,     0.35135,     0.35235,     0.35335,     0.35435,     0.35536,     0.35636,     0.35736,     0.35836,     0.35936,\n",
              "           0.36036,     0.36136,     0.36236,     0.36336,     0.36436,     0.36537,     0.36637,     0.36737,     0.36837,     0.36937,     0.37037,     0.37137,     0.37237,     0.37337,     0.37437,     0.37538,     0.37638,     0.37738,     0.37838,     0.37938,     0.38038,     0.38138,     0.38238,     0.38338,\n",
              "           0.38438,     0.38539,     0.38639,     0.38739,     0.38839,     0.38939,     0.39039,     0.39139,     0.39239,     0.39339,     0.39439,      0.3954,      0.3964,      0.3974,      0.3984,      0.3994,      0.4004,      0.4014,      0.4024,      0.4034,      0.4044,     0.40541,     0.40641,     0.40741,\n",
              "           0.40841,     0.40941,     0.41041,     0.41141,     0.41241,     0.41341,     0.41441,     0.41542,     0.41642,     0.41742,     0.41842,     0.41942,     0.42042,     0.42142,     0.42242,     0.42342,     0.42442,     0.42543,     0.42643,     0.42743,     0.42843,     0.42943,     0.43043,     0.43143,\n",
              "           0.43243,     0.43343,     0.43443,     0.43544,     0.43644,     0.43744,     0.43844,     0.43944,     0.44044,     0.44144,     0.44244,     0.44344,     0.44444,     0.44545,     0.44645,     0.44745,     0.44845,     0.44945,     0.45045,     0.45145,     0.45245,     0.45345,     0.45445,     0.45546,\n",
              "           0.45646,     0.45746,     0.45846,     0.45946,     0.46046,     0.46146,     0.46246,     0.46346,     0.46446,     0.46547,     0.46647,     0.46747,     0.46847,     0.46947,     0.47047,     0.47147,     0.47247,     0.47347,     0.47447,     0.47548,     0.47648,     0.47748,     0.47848,     0.47948,\n",
              "           0.48048,     0.48148,     0.48248,     0.48348,     0.48448,     0.48549,     0.48649,     0.48749,     0.48849,     0.48949,     0.49049,     0.49149,     0.49249,     0.49349,     0.49449,      0.4955,      0.4965,      0.4975,      0.4985,      0.4995,      0.5005,      0.5015,      0.5025,      0.5035,\n",
              "            0.5045,     0.50551,     0.50651,     0.50751,     0.50851,     0.50951,     0.51051,     0.51151,     0.51251,     0.51351,     0.51451,     0.51552,     0.51652,     0.51752,     0.51852,     0.51952,     0.52052,     0.52152,     0.52252,     0.52352,     0.52452,     0.52553,     0.52653,     0.52753,\n",
              "           0.52853,     0.52953,     0.53053,     0.53153,     0.53253,     0.53353,     0.53453,     0.53554,     0.53654,     0.53754,     0.53854,     0.53954,     0.54054,     0.54154,     0.54254,     0.54354,     0.54454,     0.54555,     0.54655,     0.54755,     0.54855,     0.54955,     0.55055,     0.55155,\n",
              "           0.55255,     0.55355,     0.55455,     0.55556,     0.55656,     0.55756,     0.55856,     0.55956,     0.56056,     0.56156,     0.56256,     0.56356,     0.56456,     0.56557,     0.56657,     0.56757,     0.56857,     0.56957,     0.57057,     0.57157,     0.57257,     0.57357,     0.57457,     0.57558,\n",
              "           0.57658,     0.57758,     0.57858,     0.57958,     0.58058,     0.58158,     0.58258,     0.58358,     0.58458,     0.58559,     0.58659,     0.58759,     0.58859,     0.58959,     0.59059,     0.59159,     0.59259,     0.59359,     0.59459,      0.5956,      0.5966,      0.5976,      0.5986,      0.5996,\n",
              "            0.6006,      0.6016,      0.6026,      0.6036,      0.6046,     0.60561,     0.60661,     0.60761,     0.60861,     0.60961,     0.61061,     0.61161,     0.61261,     0.61361,     0.61461,     0.61562,     0.61662,     0.61762,     0.61862,     0.61962,     0.62062,     0.62162,     0.62262,     0.62362,\n",
              "           0.62462,     0.62563,     0.62663,     0.62763,     0.62863,     0.62963,     0.63063,     0.63163,     0.63263,     0.63363,     0.63463,     0.63564,     0.63664,     0.63764,     0.63864,     0.63964,     0.64064,     0.64164,     0.64264,     0.64364,     0.64464,     0.64565,     0.64665,     0.64765,\n",
              "           0.64865,     0.64965,     0.65065,     0.65165,     0.65265,     0.65365,     0.65465,     0.65566,     0.65666,     0.65766,     0.65866,     0.65966,     0.66066,     0.66166,     0.66266,     0.66366,     0.66466,     0.66567,     0.66667,     0.66767,     0.66867,     0.66967,     0.67067,     0.67167,\n",
              "           0.67267,     0.67367,     0.67467,     0.67568,     0.67668,     0.67768,     0.67868,     0.67968,     0.68068,     0.68168,     0.68268,     0.68368,     0.68468,     0.68569,     0.68669,     0.68769,     0.68869,     0.68969,     0.69069,     0.69169,     0.69269,     0.69369,     0.69469,      0.6957,\n",
              "            0.6967,      0.6977,      0.6987,      0.6997,      0.7007,      0.7017,      0.7027,      0.7037,      0.7047,     0.70571,     0.70671,     0.70771,     0.70871,     0.70971,     0.71071,     0.71171,     0.71271,     0.71371,     0.71471,     0.71572,     0.71672,     0.71772,     0.71872,     0.71972,\n",
              "           0.72072,     0.72172,     0.72272,     0.72372,     0.72472,     0.72573,     0.72673,     0.72773,     0.72873,     0.72973,     0.73073,     0.73173,     0.73273,     0.73373,     0.73473,     0.73574,     0.73674,     0.73774,     0.73874,     0.73974,     0.74074,     0.74174,     0.74274,     0.74374,\n",
              "           0.74474,     0.74575,     0.74675,     0.74775,     0.74875,     0.74975,     0.75075,     0.75175,     0.75275,     0.75375,     0.75475,     0.75576,     0.75676,     0.75776,     0.75876,     0.75976,     0.76076,     0.76176,     0.76276,     0.76376,     0.76476,     0.76577,     0.76677,     0.76777,\n",
              "           0.76877,     0.76977,     0.77077,     0.77177,     0.77277,     0.77377,     0.77477,     0.77578,     0.77678,     0.77778,     0.77878,     0.77978,     0.78078,     0.78178,     0.78278,     0.78378,     0.78478,     0.78579,     0.78679,     0.78779,     0.78879,     0.78979,     0.79079,     0.79179,\n",
              "           0.79279,     0.79379,     0.79479,      0.7958,      0.7968,      0.7978,      0.7988,      0.7998,      0.8008,      0.8018,      0.8028,      0.8038,      0.8048,     0.80581,     0.80681,     0.80781,     0.80881,     0.80981,     0.81081,     0.81181,     0.81281,     0.81381,     0.81481,     0.81582,\n",
              "           0.81682,     0.81782,     0.81882,     0.81982,     0.82082,     0.82182,     0.82282,     0.82382,     0.82482,     0.82583,     0.82683,     0.82783,     0.82883,     0.82983,     0.83083,     0.83183,     0.83283,     0.83383,     0.83483,     0.83584,     0.83684,     0.83784,     0.83884,     0.83984,\n",
              "           0.84084,     0.84184,     0.84284,     0.84384,     0.84484,     0.84585,     0.84685,     0.84785,     0.84885,     0.84985,     0.85085,     0.85185,     0.85285,     0.85385,     0.85485,     0.85586,     0.85686,     0.85786,     0.85886,     0.85986,     0.86086,     0.86186,     0.86286,     0.86386,\n",
              "           0.86486,     0.86587,     0.86687,     0.86787,     0.86887,     0.86987,     0.87087,     0.87187,     0.87287,     0.87387,     0.87487,     0.87588,     0.87688,     0.87788,     0.87888,     0.87988,     0.88088,     0.88188,     0.88288,     0.88388,     0.88488,     0.88589,     0.88689,     0.88789,\n",
              "           0.88889,     0.88989,     0.89089,     0.89189,     0.89289,     0.89389,     0.89489,      0.8959,      0.8969,      0.8979,      0.8989,      0.8999,      0.9009,      0.9019,      0.9029,      0.9039,      0.9049,     0.90591,     0.90691,     0.90791,     0.90891,     0.90991,     0.91091,     0.91191,\n",
              "           0.91291,     0.91391,     0.91491,     0.91592,     0.91692,     0.91792,     0.91892,     0.91992,     0.92092,     0.92192,     0.92292,     0.92392,     0.92492,     0.92593,     0.92693,     0.92793,     0.92893,     0.92993,     0.93093,     0.93193,     0.93293,     0.93393,     0.93493,     0.93594,\n",
              "           0.93694,     0.93794,     0.93894,     0.93994,     0.94094,     0.94194,     0.94294,     0.94394,     0.94494,     0.94595,     0.94695,     0.94795,     0.94895,     0.94995,     0.95095,     0.95195,     0.95295,     0.95395,     0.95495,     0.95596,     0.95696,     0.95796,     0.95896,     0.95996,\n",
              "           0.96096,     0.96196,     0.96296,     0.96396,     0.96496,     0.96597,     0.96697,     0.96797,     0.96897,     0.96997,     0.97097,     0.97197,     0.97297,     0.97397,     0.97497,     0.97598,     0.97698,     0.97798,     0.97898,     0.97998,     0.98098,     0.98198,     0.98298,     0.98398,\n",
              "           0.98498,     0.98599,     0.98699,     0.98799,     0.98899,     0.98999,     0.99099,     0.99199,     0.99299,     0.99399,     0.99499,       0.996,       0.997,       0.998,       0.999,           1]), array([[    0.37674,     0.37674,     0.49025,     0.55723,     0.59888,     0.63362,     0.65469,     0.67156,     0.68702,     0.70213,     0.71344,     0.72333,     0.73457,      0.7386,     0.74416,     0.74938,     0.75231,     0.75739,     0.76308,     0.76784,     0.77039,     0.77199,     0.77478,\n",
              "            0.77748,     0.77803,     0.77964,     0.78377,     0.78591,     0.78969,     0.79116,     0.79271,     0.79458,     0.79672,         0.8,     0.80137,     0.80215,     0.80243,     0.80296,     0.80347,     0.80398,     0.80798,     0.81007,     0.81197,     0.81211,     0.81234,     0.81258,\n",
              "            0.81282,     0.81516,     0.81635,     0.81885,     0.81989,     0.82057,     0.82099,     0.82141,     0.82202,     0.82269,     0.82345,     0.82489,     0.82497,     0.82613,     0.82706,     0.82802,     0.82865,     0.82919,     0.82971,     0.83102,     0.83267,     0.83361,     0.83451,\n",
              "            0.83375,      0.8335,     0.83375,     0.83399,     0.83424,     0.83354,     0.83562,     0.83639,     0.83739,     0.83845,     0.83924,     0.84063,     0.84203,     0.84239,     0.84276,     0.84428,     0.84503,     0.84375,     0.84396,     0.84417,     0.84438,      0.8446,      0.8443,\n",
              "            0.84492,     0.84485,     0.84394,     0.84411,     0.84428,     0.84445,     0.84462,     0.84479,     0.84482,     0.84393,     0.84337,     0.84308,     0.84279,     0.84251,     0.84222,     0.84173,      0.8411,      0.8429,     0.84379,     0.84295,     0.84245,     0.84273,     0.84301,\n",
              "            0.84328,      0.8437,     0.84422,     0.84419,     0.84373,     0.84327,     0.84347,     0.84508,     0.84545,      0.8458,     0.84615,     0.84546,     0.84477,     0.84517,     0.84564,     0.84668,     0.84588,     0.84647,     0.84695,     0.84743,     0.84872,     0.85069,     0.85081,\n",
              "            0.85092,     0.85103,     0.85114,     0.85126,     0.85137,     0.85148,     0.85159,      0.8517,     0.85251,     0.85318,     0.85362,     0.85421,     0.85526,     0.85623,      0.8565,     0.85677,     0.85704,     0.85746,     0.85799,     0.85752,     0.85777,     0.85807,     0.85827,\n",
              "            0.85848,     0.85869,      0.8589,     0.85904,     0.85915,     0.85927,     0.85938,      0.8595,     0.85961,     0.85973,     0.85984,     0.85996,     0.86014,     0.86056,     0.86099,     0.86124,     0.86139,     0.86154,     0.86168,     0.86183,     0.86198,     0.86213,     0.86261,\n",
              "            0.86324,     0.86307,     0.86289,     0.86272,     0.86254,     0.86237,     0.86219,     0.86202,       0.862,     0.86236,     0.86272,     0.86294,     0.86269,     0.86245,      0.8622,     0.86196,     0.86172,     0.86164,       0.862,     0.86236,     0.86272,     0.86306,     0.86339,\n",
              "            0.86373,     0.86358,     0.86339,      0.8632,     0.86301,     0.86281,     0.86262,     0.86243,     0.86267,     0.86344,      0.8635,     0.86357,     0.86363,      0.8637,     0.86376,     0.86383,      0.8639,     0.86396,     0.86403,     0.86409,     0.86416,     0.86423,     0.86429,\n",
              "            0.86436,     0.86442,     0.86449,     0.86557,     0.86527,     0.86497,     0.86467,     0.86437,     0.86433,     0.86484,     0.86552,     0.86657,     0.86687,     0.86718,     0.86749,     0.86763,     0.86774,     0.86785,     0.86796,     0.86807,     0.86818,     0.86829,      0.8684,\n",
              "            0.86851,     0.86862,     0.86845,     0.86812,     0.86778,     0.86745,     0.86754,     0.86848,     0.86881,     0.86915,     0.86946,     0.86958,      0.8697,     0.86982,     0.86994,     0.87006,     0.87018,      0.8703,     0.87042,     0.87054,     0.87037,     0.86999,     0.86962,\n",
              "            0.86924,     0.86973,     0.87051,      0.8711,     0.87268,     0.87298,     0.87327,     0.87356,     0.87332,     0.87272,      0.8723,     0.87298,     0.87323,     0.87297,      0.8727,     0.87244,     0.87217,     0.87191,     0.86889,     0.86904,     0.86919,     0.86933,     0.86948,\n",
              "            0.86963,     0.86978,     0.86992,     0.86997,     0.86978,     0.86958,     0.86939,      0.8692,     0.86901,     0.86882,     0.86862,     0.86776,     0.86784,     0.86835,     0.86858,     0.86881,     0.86903,     0.86926,     0.86892,      0.8683,     0.86762,     0.86674,     0.86635,\n",
              "            0.86644,     0.86652,     0.86661,     0.86669,     0.86678,     0.86686,     0.86695,     0.86703,     0.86712,      0.8672,     0.86729,     0.86737,     0.86746,     0.86895,     0.86932,     0.86969,     0.87005,     0.87042,     0.87079,      0.8705,     0.86961,     0.86952,     0.86962,\n",
              "            0.86971,     0.86981,      0.8699,        0.87,     0.87009,     0.87018,     0.87028,     0.87037,     0.87047,     0.87056,     0.87064,      0.8707,     0.87076,     0.87082,     0.87088,     0.87094,       0.871,     0.87106,     0.87112,     0.87118,     0.87124,      0.8713,     0.87136,\n",
              "            0.87142,     0.87148,     0.87153,     0.87159,     0.87165,     0.87171,     0.87177,     0.87186,     0.87197,     0.87208,     0.87218,     0.87229,      0.8724,     0.87251,     0.87261,     0.87272,     0.87283,     0.87293,     0.87272,     0.87233,     0.87194,     0.87155,     0.86993,\n",
              "            0.87073,     0.87115,     0.87124,     0.87134,     0.87143,     0.87152,     0.87162,     0.87171,      0.8718,      0.8719,     0.87199,     0.87208,     0.87218,     0.87227,     0.87213,     0.87195,     0.87177,     0.87159,     0.87141,     0.87123,     0.87105,     0.87087,     0.87068,\n",
              "            0.87048,     0.87028,     0.87007,     0.86987,     0.86966,     0.86946,     0.86926,     0.86927,     0.86936,     0.86944,     0.86952,      0.8696,     0.86969,     0.86977,     0.86985,     0.86993,     0.87001,      0.8701,     0.87018,     0.87026,     0.87034,     0.87027,     0.86994,\n",
              "             0.8696,     0.86927,     0.86894,     0.86768,     0.86754,     0.86784,     0.86815,     0.86845,     0.86781,     0.86701,      0.8674,     0.86661,     0.86775,     0.86817,     0.86858,     0.86899,     0.86931,     0.86964,     0.86997,     0.87012,     0.86999,     0.86987,     0.86975,\n",
              "            0.86962,      0.8695,     0.86938,     0.86925,     0.86913,     0.86901,     0.86888,     0.86876,     0.86864,     0.86949,     0.86996,     0.87017,     0.87037,     0.87058,     0.87078,     0.87099,     0.87111,     0.87123,     0.87134,     0.87145,     0.87156,     0.87168,     0.87179,\n",
              "             0.8719,     0.87201,     0.87213,     0.87224,     0.87235,     0.87247,     0.87258,     0.87269,     0.87281,     0.87292,     0.87303,     0.87314,     0.87326,     0.87337,     0.87357,     0.87388,     0.87419,      0.8745,     0.87476,     0.87497,     0.87518,     0.87539,      0.8756,\n",
              "             0.8758,     0.87604,     0.87629,     0.87654,     0.87679,     0.87704,     0.87809,     0.87935,     0.87921,     0.87881,     0.87841,       0.878,     0.87857,     0.87921,     0.87905,     0.87889,     0.87873,     0.87857,     0.87841,     0.87825,     0.87808,     0.87792,     0.87776,\n",
              "            0.87767,     0.87781,     0.87795,     0.87809,     0.87823,     0.87837,     0.87851,     0.87866,      0.8788,     0.87997,     0.87964,     0.87932,     0.87899,     0.87867,      0.8776,     0.87707,     0.87728,      0.8775,     0.87771,     0.87792,     0.87813,     0.87778,     0.87724,\n",
              "            0.87669,     0.87671,     0.87684,     0.87697,     0.87711,     0.87724,     0.87738,     0.87751,     0.87765,     0.87778,     0.87739,     0.87657,     0.87612,     0.87592,     0.87571,     0.87551,      0.8753,      0.8751,     0.87489,     0.87469,     0.87452,     0.87436,     0.87421,\n",
              "            0.87405,     0.87389,     0.87374,     0.87358,     0.87342,     0.87327,     0.87311,     0.87339,     0.87403,      0.8733,     0.87233,     0.87178,     0.87123,     0.87083,      0.8705,     0.87017,     0.86983,      0.8695,     0.86876,     0.86793,     0.86749,     0.86712,     0.86675,\n",
              "            0.86638,     0.86626,     0.86642,     0.86658,     0.86674,      0.8669,     0.86706,     0.86722,     0.86738,     0.86866,     0.86851,     0.86837,     0.86822,     0.86808,     0.86793,     0.86779,     0.86764,     0.86749,     0.86735,      0.8672,     0.86706,     0.86829,     0.86839,\n",
              "            0.86848,     0.86856,     0.86865,     0.86874,     0.86882,     0.86891,     0.86899,     0.86908,     0.86917,     0.86925,     0.86934,     0.86942,     0.86951,     0.86946,     0.86915,     0.86885,     0.86854,     0.86823,     0.86793,     0.86767,     0.86741,     0.86715,     0.86689,\n",
              "            0.86663,     0.86637,     0.86712,     0.86697,     0.86612,     0.86554,     0.86505,     0.86457,     0.86428,     0.86442,     0.86457,     0.86471,     0.86485,       0.865,     0.86514,     0.86529,     0.86543,     0.86556,     0.86569,     0.86581,     0.86593,     0.86606,     0.86618,\n",
              "            0.86631,     0.86643,     0.86655,     0.86668,     0.86668,      0.8664,     0.86612,     0.86583,     0.86555,     0.86526,     0.86514,     0.86524,     0.86533,     0.86542,     0.86552,     0.86561,      0.8657,     0.86579,     0.86589,     0.86598,     0.86607,     0.86617,     0.86626,\n",
              "            0.86635,     0.86608,      0.8657,     0.86532,     0.86494,     0.86444,     0.86376,     0.86307,     0.86249,     0.86192,     0.86135,     0.86086,     0.86036,     0.85987,     0.86065,     0.86016,     0.85966,     0.85904,     0.85789,       0.858,     0.85669,     0.85384,     0.85421,\n",
              "            0.85459,     0.85496,     0.85349,     0.85402,     0.85454,     0.85488,     0.85521,     0.85554,     0.85584,     0.85552,      0.8552,     0.85488,     0.85456,     0.85424,     0.85384,     0.85339,     0.85295,     0.85251,     0.85186,     0.85115,     0.84949,     0.84677,     0.84626,\n",
              "            0.84575,     0.84494,     0.84374,     0.84223,     0.84252,     0.84281,      0.8431,     0.84374,     0.84446,     0.84401,     0.84356,      0.8431,     0.84264,     0.84212,      0.8416,     0.84108,     0.83884,     0.83838,     0.83793,     0.83747,     0.83801,     0.83867,     0.83836,\n",
              "              0.838,     0.83763,     0.83727,     0.83511,     0.83474,     0.83437,       0.834,     0.83363,      0.8313,     0.83006,     0.82882,     0.82903,     0.82841,     0.82779,     0.82674,     0.82326,       0.822,     0.82075,     0.81841,     0.81894,     0.81946,     0.81821,      0.8171,\n",
              "            0.81615,     0.81464,     0.81468,     0.81019,     0.80889,     0.80792,     0.80627,      0.8055,     0.80517,     0.80485,     0.80452,     0.80419,     0.80387,     0.80212,     0.80015,     0.79765,     0.79666,     0.79567,     0.79468,     0.79156,     0.79076,     0.78996,     0.78883,\n",
              "            0.78514,     0.78417,     0.78482,     0.78359,     0.78229,     0.78127,     0.77445,      0.7726,     0.77121,     0.76945,     0.76741,     0.76531,     0.75747,      0.7564,     0.75273,     0.74922,      0.7485,     0.74778,     0.74437,     0.74291,     0.73099,     0.72471,     0.71805,\n",
              "            0.71594,     0.71442,      0.7061,     0.69871,      0.6947,     0.69083,     0.68925,      0.6802,       0.674,     0.67192,      0.6703,     0.66428,     0.64092,      0.6334,     0.62811,     0.62057,     0.61505,     0.60488,      0.5991,     0.59098,     0.58337,     0.57992,     0.56607,\n",
              "             0.5471,     0.53463,     0.52575,     0.51972,     0.51196,     0.51073,     0.49966,     0.49204,     0.47483,     0.45403,     0.44414,     0.42415,      0.4079,     0.40647,     0.39377,     0.37597,     0.35777,     0.34924,     0.33897,     0.33515,     0.32845,     0.31572,     0.30005,\n",
              "            0.28952,     0.28388,     0.26355,     0.25288,     0.24668,     0.22117,     0.21237,     0.20347,       0.197,     0.19381,     0.19154,     0.18339,     0.17232,     0.16923,     0.16276,     0.15347,     0.14748,     0.13792,     0.13215,     0.11371,     0.11014,     0.10767,    0.095618,\n",
              "           0.091316,    0.087946,    0.080428,    0.076181,    0.072678,    0.067519,    0.062332,    0.057326,    0.053835,    0.051482,    0.049727,    0.047969,    0.041815,    0.039688,    0.037556,    0.034275,    0.031004,    0.028315,     0.02642,    0.025785,     0.02515,    0.024514,    0.023878,\n",
              "           0.023242,    0.022605,    0.021967,    0.021217,    0.019408,    0.017595,    0.015998,    0.015479,    0.014959,    0.014439,    0.013919,    0.013398,    0.012878,    0.012356,    0.011835,    0.011314,    0.010792,   0.0094839,   0.0081109,    0.006736,           0,           0,           0,\n",
              "                  0,           0,           0,           0,           0,           0,           0,           0,           0,           0,           0,           0,           0,           0,           0,           0,           0,           0,           0,           0,           0,           0,           0,\n",
              "                  0,           0,           0,           0,           0,           0,           0,           0,           0,           0,           0,           0,           0,           0,           0,           0,           0,           0,           0,           0,           0,           0,           0,\n",
              "                  0,           0,           0,           0,           0,           0,           0,           0,           0,           0,           0]]), 'Confidence', 'F1'], [array([          0,    0.001001,    0.002002,    0.003003,    0.004004,    0.005005,    0.006006,    0.007007,    0.008008,    0.009009,     0.01001,    0.011011,    0.012012,    0.013013,    0.014014,    0.015015,    0.016016,    0.017017,    0.018018,    0.019019,     0.02002,    0.021021,    0.022022,    0.023023,\n",
              "          0.024024,    0.025025,    0.026026,    0.027027,    0.028028,    0.029029,     0.03003,    0.031031,    0.032032,    0.033033,    0.034034,    0.035035,    0.036036,    0.037037,    0.038038,    0.039039,     0.04004,    0.041041,    0.042042,    0.043043,    0.044044,    0.045045,    0.046046,    0.047047,\n",
              "          0.048048,    0.049049,     0.05005,    0.051051,    0.052052,    0.053053,    0.054054,    0.055055,    0.056056,    0.057057,    0.058058,    0.059059,     0.06006,    0.061061,    0.062062,    0.063063,    0.064064,    0.065065,    0.066066,    0.067067,    0.068068,    0.069069,     0.07007,    0.071071,\n",
              "          0.072072,    0.073073,    0.074074,    0.075075,    0.076076,    0.077077,    0.078078,    0.079079,     0.08008,    0.081081,    0.082082,    0.083083,    0.084084,    0.085085,    0.086086,    0.087087,    0.088088,    0.089089,     0.09009,    0.091091,    0.092092,    0.093093,    0.094094,    0.095095,\n",
              "          0.096096,    0.097097,    0.098098,    0.099099,      0.1001,      0.1011,      0.1021,      0.1031,      0.1041,     0.10511,     0.10611,     0.10711,     0.10811,     0.10911,     0.11011,     0.11111,     0.11211,     0.11311,     0.11411,     0.11512,     0.11612,     0.11712,     0.11812,     0.11912,\n",
              "           0.12012,     0.12112,     0.12212,     0.12312,     0.12412,     0.12513,     0.12613,     0.12713,     0.12813,     0.12913,     0.13013,     0.13113,     0.13213,     0.13313,     0.13413,     0.13514,     0.13614,     0.13714,     0.13814,     0.13914,     0.14014,     0.14114,     0.14214,     0.14314,\n",
              "           0.14414,     0.14515,     0.14615,     0.14715,     0.14815,     0.14915,     0.15015,     0.15115,     0.15215,     0.15315,     0.15415,     0.15516,     0.15616,     0.15716,     0.15816,     0.15916,     0.16016,     0.16116,     0.16216,     0.16316,     0.16416,     0.16517,     0.16617,     0.16717,\n",
              "           0.16817,     0.16917,     0.17017,     0.17117,     0.17217,     0.17317,     0.17417,     0.17518,     0.17618,     0.17718,     0.17818,     0.17918,     0.18018,     0.18118,     0.18218,     0.18318,     0.18418,     0.18519,     0.18619,     0.18719,     0.18819,     0.18919,     0.19019,     0.19119,\n",
              "           0.19219,     0.19319,     0.19419,      0.1952,      0.1962,      0.1972,      0.1982,      0.1992,      0.2002,      0.2012,      0.2022,      0.2032,      0.2042,     0.20521,     0.20621,     0.20721,     0.20821,     0.20921,     0.21021,     0.21121,     0.21221,     0.21321,     0.21421,     0.21522,\n",
              "           0.21622,     0.21722,     0.21822,     0.21922,     0.22022,     0.22122,     0.22222,     0.22322,     0.22422,     0.22523,     0.22623,     0.22723,     0.22823,     0.22923,     0.23023,     0.23123,     0.23223,     0.23323,     0.23423,     0.23524,     0.23624,     0.23724,     0.23824,     0.23924,\n",
              "           0.24024,     0.24124,     0.24224,     0.24324,     0.24424,     0.24525,     0.24625,     0.24725,     0.24825,     0.24925,     0.25025,     0.25125,     0.25225,     0.25325,     0.25425,     0.25526,     0.25626,     0.25726,     0.25826,     0.25926,     0.26026,     0.26126,     0.26226,     0.26326,\n",
              "           0.26426,     0.26527,     0.26627,     0.26727,     0.26827,     0.26927,     0.27027,     0.27127,     0.27227,     0.27327,     0.27427,     0.27528,     0.27628,     0.27728,     0.27828,     0.27928,     0.28028,     0.28128,     0.28228,     0.28328,     0.28428,     0.28529,     0.28629,     0.28729,\n",
              "           0.28829,     0.28929,     0.29029,     0.29129,     0.29229,     0.29329,     0.29429,      0.2953,      0.2963,      0.2973,      0.2983,      0.2993,      0.3003,      0.3013,      0.3023,      0.3033,      0.3043,     0.30531,     0.30631,     0.30731,     0.30831,     0.30931,     0.31031,     0.31131,\n",
              "           0.31231,     0.31331,     0.31431,     0.31532,     0.31632,     0.31732,     0.31832,     0.31932,     0.32032,     0.32132,     0.32232,     0.32332,     0.32432,     0.32533,     0.32633,     0.32733,     0.32833,     0.32933,     0.33033,     0.33133,     0.33233,     0.33333,     0.33433,     0.33534,\n",
              "           0.33634,     0.33734,     0.33834,     0.33934,     0.34034,     0.34134,     0.34234,     0.34334,     0.34434,     0.34535,     0.34635,     0.34735,     0.34835,     0.34935,     0.35035,     0.35135,     0.35235,     0.35335,     0.35435,     0.35536,     0.35636,     0.35736,     0.35836,     0.35936,\n",
              "           0.36036,     0.36136,     0.36236,     0.36336,     0.36436,     0.36537,     0.36637,     0.36737,     0.36837,     0.36937,     0.37037,     0.37137,     0.37237,     0.37337,     0.37437,     0.37538,     0.37638,     0.37738,     0.37838,     0.37938,     0.38038,     0.38138,     0.38238,     0.38338,\n",
              "           0.38438,     0.38539,     0.38639,     0.38739,     0.38839,     0.38939,     0.39039,     0.39139,     0.39239,     0.39339,     0.39439,      0.3954,      0.3964,      0.3974,      0.3984,      0.3994,      0.4004,      0.4014,      0.4024,      0.4034,      0.4044,     0.40541,     0.40641,     0.40741,\n",
              "           0.40841,     0.40941,     0.41041,     0.41141,     0.41241,     0.41341,     0.41441,     0.41542,     0.41642,     0.41742,     0.41842,     0.41942,     0.42042,     0.42142,     0.42242,     0.42342,     0.42442,     0.42543,     0.42643,     0.42743,     0.42843,     0.42943,     0.43043,     0.43143,\n",
              "           0.43243,     0.43343,     0.43443,     0.43544,     0.43644,     0.43744,     0.43844,     0.43944,     0.44044,     0.44144,     0.44244,     0.44344,     0.44444,     0.44545,     0.44645,     0.44745,     0.44845,     0.44945,     0.45045,     0.45145,     0.45245,     0.45345,     0.45445,     0.45546,\n",
              "           0.45646,     0.45746,     0.45846,     0.45946,     0.46046,     0.46146,     0.46246,     0.46346,     0.46446,     0.46547,     0.46647,     0.46747,     0.46847,     0.46947,     0.47047,     0.47147,     0.47247,     0.47347,     0.47447,     0.47548,     0.47648,     0.47748,     0.47848,     0.47948,\n",
              "           0.48048,     0.48148,     0.48248,     0.48348,     0.48448,     0.48549,     0.48649,     0.48749,     0.48849,     0.48949,     0.49049,     0.49149,     0.49249,     0.49349,     0.49449,      0.4955,      0.4965,      0.4975,      0.4985,      0.4995,      0.5005,      0.5015,      0.5025,      0.5035,\n",
              "            0.5045,     0.50551,     0.50651,     0.50751,     0.50851,     0.50951,     0.51051,     0.51151,     0.51251,     0.51351,     0.51451,     0.51552,     0.51652,     0.51752,     0.51852,     0.51952,     0.52052,     0.52152,     0.52252,     0.52352,     0.52452,     0.52553,     0.52653,     0.52753,\n",
              "           0.52853,     0.52953,     0.53053,     0.53153,     0.53253,     0.53353,     0.53453,     0.53554,     0.53654,     0.53754,     0.53854,     0.53954,     0.54054,     0.54154,     0.54254,     0.54354,     0.54454,     0.54555,     0.54655,     0.54755,     0.54855,     0.54955,     0.55055,     0.55155,\n",
              "           0.55255,     0.55355,     0.55455,     0.55556,     0.55656,     0.55756,     0.55856,     0.55956,     0.56056,     0.56156,     0.56256,     0.56356,     0.56456,     0.56557,     0.56657,     0.56757,     0.56857,     0.56957,     0.57057,     0.57157,     0.57257,     0.57357,     0.57457,     0.57558,\n",
              "           0.57658,     0.57758,     0.57858,     0.57958,     0.58058,     0.58158,     0.58258,     0.58358,     0.58458,     0.58559,     0.58659,     0.58759,     0.58859,     0.58959,     0.59059,     0.59159,     0.59259,     0.59359,     0.59459,      0.5956,      0.5966,      0.5976,      0.5986,      0.5996,\n",
              "            0.6006,      0.6016,      0.6026,      0.6036,      0.6046,     0.60561,     0.60661,     0.60761,     0.60861,     0.60961,     0.61061,     0.61161,     0.61261,     0.61361,     0.61461,     0.61562,     0.61662,     0.61762,     0.61862,     0.61962,     0.62062,     0.62162,     0.62262,     0.62362,\n",
              "           0.62462,     0.62563,     0.62663,     0.62763,     0.62863,     0.62963,     0.63063,     0.63163,     0.63263,     0.63363,     0.63463,     0.63564,     0.63664,     0.63764,     0.63864,     0.63964,     0.64064,     0.64164,     0.64264,     0.64364,     0.64464,     0.64565,     0.64665,     0.64765,\n",
              "           0.64865,     0.64965,     0.65065,     0.65165,     0.65265,     0.65365,     0.65465,     0.65566,     0.65666,     0.65766,     0.65866,     0.65966,     0.66066,     0.66166,     0.66266,     0.66366,     0.66466,     0.66567,     0.66667,     0.66767,     0.66867,     0.66967,     0.67067,     0.67167,\n",
              "           0.67267,     0.67367,     0.67467,     0.67568,     0.67668,     0.67768,     0.67868,     0.67968,     0.68068,     0.68168,     0.68268,     0.68368,     0.68468,     0.68569,     0.68669,     0.68769,     0.68869,     0.68969,     0.69069,     0.69169,     0.69269,     0.69369,     0.69469,      0.6957,\n",
              "            0.6967,      0.6977,      0.6987,      0.6997,      0.7007,      0.7017,      0.7027,      0.7037,      0.7047,     0.70571,     0.70671,     0.70771,     0.70871,     0.70971,     0.71071,     0.71171,     0.71271,     0.71371,     0.71471,     0.71572,     0.71672,     0.71772,     0.71872,     0.71972,\n",
              "           0.72072,     0.72172,     0.72272,     0.72372,     0.72472,     0.72573,     0.72673,     0.72773,     0.72873,     0.72973,     0.73073,     0.73173,     0.73273,     0.73373,     0.73473,     0.73574,     0.73674,     0.73774,     0.73874,     0.73974,     0.74074,     0.74174,     0.74274,     0.74374,\n",
              "           0.74474,     0.74575,     0.74675,     0.74775,     0.74875,     0.74975,     0.75075,     0.75175,     0.75275,     0.75375,     0.75475,     0.75576,     0.75676,     0.75776,     0.75876,     0.75976,     0.76076,     0.76176,     0.76276,     0.76376,     0.76476,     0.76577,     0.76677,     0.76777,\n",
              "           0.76877,     0.76977,     0.77077,     0.77177,     0.77277,     0.77377,     0.77477,     0.77578,     0.77678,     0.77778,     0.77878,     0.77978,     0.78078,     0.78178,     0.78278,     0.78378,     0.78478,     0.78579,     0.78679,     0.78779,     0.78879,     0.78979,     0.79079,     0.79179,\n",
              "           0.79279,     0.79379,     0.79479,      0.7958,      0.7968,      0.7978,      0.7988,      0.7998,      0.8008,      0.8018,      0.8028,      0.8038,      0.8048,     0.80581,     0.80681,     0.80781,     0.80881,     0.80981,     0.81081,     0.81181,     0.81281,     0.81381,     0.81481,     0.81582,\n",
              "           0.81682,     0.81782,     0.81882,     0.81982,     0.82082,     0.82182,     0.82282,     0.82382,     0.82482,     0.82583,     0.82683,     0.82783,     0.82883,     0.82983,     0.83083,     0.83183,     0.83283,     0.83383,     0.83483,     0.83584,     0.83684,     0.83784,     0.83884,     0.83984,\n",
              "           0.84084,     0.84184,     0.84284,     0.84384,     0.84484,     0.84585,     0.84685,     0.84785,     0.84885,     0.84985,     0.85085,     0.85185,     0.85285,     0.85385,     0.85485,     0.85586,     0.85686,     0.85786,     0.85886,     0.85986,     0.86086,     0.86186,     0.86286,     0.86386,\n",
              "           0.86486,     0.86587,     0.86687,     0.86787,     0.86887,     0.86987,     0.87087,     0.87187,     0.87287,     0.87387,     0.87487,     0.87588,     0.87688,     0.87788,     0.87888,     0.87988,     0.88088,     0.88188,     0.88288,     0.88388,     0.88488,     0.88589,     0.88689,     0.88789,\n",
              "           0.88889,     0.88989,     0.89089,     0.89189,     0.89289,     0.89389,     0.89489,      0.8959,      0.8969,      0.8979,      0.8989,      0.8999,      0.9009,      0.9019,      0.9029,      0.9039,      0.9049,     0.90591,     0.90691,     0.90791,     0.90891,     0.90991,     0.91091,     0.91191,\n",
              "           0.91291,     0.91391,     0.91491,     0.91592,     0.91692,     0.91792,     0.91892,     0.91992,     0.92092,     0.92192,     0.92292,     0.92392,     0.92492,     0.92593,     0.92693,     0.92793,     0.92893,     0.92993,     0.93093,     0.93193,     0.93293,     0.93393,     0.93493,     0.93594,\n",
              "           0.93694,     0.93794,     0.93894,     0.93994,     0.94094,     0.94194,     0.94294,     0.94394,     0.94494,     0.94595,     0.94695,     0.94795,     0.94895,     0.94995,     0.95095,     0.95195,     0.95295,     0.95395,     0.95495,     0.95596,     0.95696,     0.95796,     0.95896,     0.95996,\n",
              "           0.96096,     0.96196,     0.96296,     0.96396,     0.96496,     0.96597,     0.96697,     0.96797,     0.96897,     0.96997,     0.97097,     0.97197,     0.97297,     0.97397,     0.97497,     0.97598,     0.97698,     0.97798,     0.97898,     0.97998,     0.98098,     0.98198,     0.98298,     0.98398,\n",
              "           0.98498,     0.98599,     0.98699,     0.98799,     0.98899,     0.98999,     0.99099,     0.99199,     0.99299,     0.99399,     0.99499,       0.996,       0.997,       0.998,       0.999,           1]), array([[    0.23268,     0.23268,     0.32617,     0.38828,     0.43047,     0.46791,     0.49125,     0.51124,     0.53016,     0.54839,     0.56231,     0.57469,     0.58901,     0.59421,     0.60145,     0.60829,     0.61324,     0.62001,     0.62768,     0.63415,     0.63879,     0.64338,     0.64727,\n",
              "            0.65228,     0.65305,     0.65658,     0.66246,     0.66553,     0.67096,     0.67309,     0.67533,     0.67806,     0.68118,     0.68599,       0.688,     0.69056,     0.69239,     0.69317,     0.69394,      0.6947,      0.7007,     0.70384,     0.70722,     0.70842,     0.70878,     0.70914,\n",
              "             0.7095,     0.71308,     0.71491,     0.71875,     0.72035,     0.72141,     0.72205,      0.7227,     0.72365,     0.72469,     0.72586,      0.7286,     0.72982,     0.73164,      0.7331,     0.73461,      0.7356,     0.73646,     0.73728,     0.73934,     0.74196,     0.74345,     0.74489,\n",
              "            0.74484,     0.74495,     0.74534,     0.74574,     0.74613,     0.74669,     0.75005,     0.75128,      0.7529,     0.75461,     0.75589,     0.75815,     0.76044,     0.76103,     0.76162,     0.76411,     0.76535,     0.76502,     0.76536,     0.76571,     0.76606,     0.76641,     0.76773,\n",
              "            0.76876,     0.76923,     0.76895,     0.76923,     0.76951,     0.76979,     0.77007,     0.77036,     0.77056,     0.77024,     0.77003,     0.76993,     0.76982,     0.76972,     0.76962,     0.76944,     0.76921,     0.77277,     0.77427,     0.77397,      0.7739,     0.77437,     0.77484,\n",
              "            0.77531,     0.77601,     0.77689,     0.77718,     0.77702,     0.77685,     0.77754,     0.78028,     0.78091,     0.78151,     0.78211,     0.78187,     0.78163,     0.78237,     0.78319,     0.78497,     0.78489,     0.78659,     0.78742,     0.78825,     0.79048,     0.79392,     0.79411,\n",
              "            0.79431,      0.7945,      0.7947,      0.7949,     0.79509,     0.79529,     0.79548,     0.79568,     0.79709,     0.79825,     0.79902,     0.80006,     0.80191,     0.80362,     0.80409,     0.80457,     0.80504,     0.80579,     0.80672,     0.80692,     0.80843,     0.80897,     0.80934,\n",
              "            0.80971,     0.81008,     0.81044,      0.8107,      0.8109,     0.81111,     0.81131,     0.81152,     0.81172,     0.81193,     0.81213,     0.81234,     0.81265,     0.81342,     0.81418,     0.81463,     0.81489,     0.81516,     0.81542,     0.81568,     0.81595,     0.81621,     0.81707,\n",
              "            0.81837,     0.81832,     0.81826,     0.81821,     0.81816,      0.8181,     0.81805,       0.818,     0.81816,     0.81881,     0.81946,     0.81993,     0.81986,     0.81979,     0.81971,     0.81964,     0.81957,     0.81969,     0.82035,     0.82101,     0.82165,     0.82226,     0.82288,\n",
              "            0.82349,     0.82348,     0.82342,     0.82336,     0.82331,     0.82325,     0.82319,     0.82314,     0.82379,     0.82519,     0.82531,     0.82543,     0.82555,     0.82567,     0.82579,     0.82591,     0.82603,     0.82615,     0.82627,     0.82639,     0.82651,     0.82663,     0.82675,\n",
              "            0.82687,     0.82699,     0.82711,     0.82919,      0.8291,     0.82902,     0.82893,     0.82884,     0.82909,     0.83003,     0.83128,     0.83321,     0.83378,     0.83435,     0.83492,     0.83518,     0.83538,     0.83558,     0.83579,     0.83599,      0.8362,      0.8364,     0.83661,\n",
              "            0.83681,     0.83701,     0.83704,     0.83694,     0.83685,     0.83676,     0.83733,      0.8391,     0.83972,     0.84034,     0.84093,     0.84115,     0.84137,      0.8416,     0.84182,     0.84205,     0.84227,     0.84249,     0.84272,     0.84294,     0.84298,     0.84288,     0.84278,\n",
              "            0.84267,     0.84381,     0.84528,     0.84638,     0.84938,     0.84994,      0.8505,     0.85105,     0.85119,     0.85103,      0.8511,     0.85238,     0.85306,     0.85299,     0.85293,     0.85286,     0.85279,     0.85272,     0.85198,     0.85226,     0.85255,     0.85283,     0.85311,\n",
              "             0.8534,     0.85368,     0.85397,     0.85415,      0.8541,     0.85405,     0.85401,     0.85396,     0.85391,     0.85386,     0.85381,     0.85359,     0.85499,     0.85599,     0.85643,     0.85687,     0.85731,     0.85775,     0.85779,     0.85764,     0.85747,     0.85725,     0.85723,\n",
              "             0.8574,     0.85756,     0.85773,      0.8579,     0.85806,     0.85823,     0.85839,     0.85856,     0.85873,     0.85889,     0.85906,     0.85923,     0.85939,     0.86233,     0.86305,     0.86378,      0.8645,     0.86523,     0.86596,      0.8662,     0.86599,      0.8661,     0.86629,\n",
              "            0.86648,     0.86667,     0.86685,     0.86704,     0.86723,     0.86741,      0.8676,     0.86779,     0.86798,     0.86816,     0.86832,     0.86844,     0.86856,     0.86868,      0.8688,     0.86892,     0.86903,     0.86915,     0.86927,     0.86939,     0.86951,     0.86963,     0.86975,\n",
              "            0.86986,     0.86998,      0.8701,     0.87022,     0.87034,     0.87046,     0.87057,     0.87075,     0.87097,     0.87118,      0.8714,     0.87161,     0.87182,     0.87204,     0.87225,     0.87247,     0.87268,      0.8729,     0.87292,     0.87283,     0.87274,     0.87265,      0.8723,\n",
              "            0.87392,     0.87476,     0.87495,     0.87514,     0.87533,     0.87552,      0.8757,     0.87589,     0.87608,     0.87627,     0.87646,     0.87665,     0.87684,     0.87702,     0.87702,     0.87698,     0.87694,      0.8769,     0.87686,     0.87682,     0.87678,     0.87674,      0.8767,\n",
              "            0.87665,     0.87661,     0.87656,     0.87652,     0.87647,     0.87643,     0.87638,      0.8765,     0.87667,     0.87684,     0.87701,     0.87717,     0.87734,     0.87751,     0.87768,     0.87784,     0.87801,     0.87818,     0.87835,     0.87852,     0.87868,     0.87876,     0.87869,\n",
              "            0.87862,     0.87854,     0.87847,      0.8782,      0.8786,     0.87922,     0.87985,     0.88047,     0.88041,     0.88024,     0.88253,     0.88236,      0.8848,     0.88567,     0.88652,     0.88736,     0.88805,     0.88874,     0.88942,     0.88982,      0.8898,     0.88977,     0.88975,\n",
              "            0.88972,      0.8897,     0.88967,     0.88965,     0.88962,      0.8896,     0.88957,     0.88955,     0.88953,     0.89138,     0.89237,      0.8928,     0.89324,     0.89367,      0.8941,     0.89454,      0.8948,     0.89504,     0.89528,     0.89551,     0.89575,     0.89599,     0.89623,\n",
              "            0.89647,      0.8967,     0.89694,     0.89718,     0.89742,     0.89766,      0.8979,     0.89814,     0.89838,     0.89862,     0.89886,      0.8991,     0.89934,     0.89958,         0.9,     0.90066,     0.90132,     0.90198,     0.90253,     0.90298,     0.90342,     0.90386,     0.90431,\n",
              "            0.90475,     0.90526,     0.90579,     0.90633,     0.90687,      0.9074,     0.90965,     0.91236,     0.91274,     0.91267,     0.91261,     0.91254,     0.91382,     0.91519,     0.91518,     0.91515,     0.91513,      0.9151,     0.91508,     0.91505,     0.91503,       0.915,     0.91498,\n",
              "            0.91503,     0.91533,     0.91564,     0.91595,     0.91625,     0.91656,     0.91687,     0.91717,     0.91748,     0.92033,     0.92028,     0.92024,     0.92019,     0.92014,     0.91998,     0.92016,     0.92063,      0.9211,     0.92156,     0.92203,      0.9225,     0.92256,     0.92248,\n",
              "             0.9224,     0.92263,     0.92293,     0.92323,     0.92353,     0.92382,     0.92412,     0.92442,     0.92472,     0.92502,     0.92509,     0.92497,     0.92491,     0.92488,     0.92485,     0.92482,     0.92479,     0.92476,     0.92473,      0.9247,     0.92468,     0.92466,     0.92464,\n",
              "            0.92461,     0.92459,     0.92457,     0.92455,     0.92453,      0.9245,     0.92448,     0.92526,      0.9267,     0.92714,       0.927,     0.92693,     0.92685,      0.9268,     0.92675,     0.92671,     0.92666,     0.92661,     0.92651,      0.9264,     0.92634,     0.92628,     0.92623,\n",
              "            0.92618,     0.92633,      0.9267,     0.92706,     0.92743,     0.92779,     0.92816,     0.92853,     0.92889,     0.93189,     0.93187,     0.93185,     0.93183,     0.93181,     0.93179,     0.93177,     0.93175,     0.93173,     0.93172,      0.9317,     0.93168,     0.93455,     0.93478,\n",
              "            0.93498,     0.93518,     0.93538,     0.93558,     0.93578,     0.93597,     0.93617,     0.93637,     0.93657,     0.93677,     0.93697,     0.93717,     0.93737,     0.93749,     0.93745,     0.93741,     0.93738,     0.93734,      0.9373,     0.93727,     0.93724,     0.93721,     0.93718,\n",
              "            0.93715,     0.93712,     0.93908,        0.94,      0.9399,     0.93983,     0.93978,     0.93972,     0.93979,     0.94013,     0.94047,     0.94081,     0.94115,     0.94149,     0.94183,     0.94217,     0.94251,     0.94283,     0.94312,     0.94342,     0.94371,     0.94401,      0.9443,\n",
              "            0.94459,     0.94489,     0.94518,     0.94548,     0.94568,     0.94565,     0.94562,     0.94559,     0.94556,     0.94553,     0.94561,     0.94583,     0.94605,     0.94628,      0.9465,     0.94672,     0.94694,     0.94717,     0.94739,     0.94761,     0.94783,     0.94806,     0.94828,\n",
              "             0.9485,     0.94852,     0.94849,     0.94845,     0.94841,     0.94836,     0.94829,     0.94822,     0.94817,     0.94811,     0.94805,       0.948,     0.94795,      0.9479,     0.95095,      0.9509,     0.95086,      0.9508,     0.95069,     0.95372,      0.9536,      0.9536,     0.95453,\n",
              "            0.95547,      0.9564,     0.95688,      0.9582,     0.95952,     0.96038,     0.96121,     0.96204,     0.96284,     0.96281,     0.96279,     0.96277,     0.96274,     0.96272,     0.96269,     0.96266,     0.96262,     0.96259,     0.96254,     0.96249,     0.96237,     0.96217,     0.96213,\n",
              "            0.96209,     0.96203,     0.96194,     0.96255,     0.96331,     0.96407,     0.96484,     0.96649,     0.96853,      0.9685,     0.96847,     0.96844,     0.96841,     0.96838,     0.96835,     0.96832,     0.96817,     0.96815,     0.96812,     0.96809,     0.96967,     0.97143,     0.97151,\n",
              "            0.97149,     0.97147,     0.97145,     0.97132,      0.9713,     0.97128,     0.97126,     0.97124,     0.97111,     0.97103,     0.97096,     0.97444,     0.97441,     0.97438,     0.97433,     0.97415,     0.97408,     0.97401,     0.97453,     0.97602,     0.97752,     0.97747,     0.97742,\n",
              "            0.97738,     0.97731,     0.97958,      0.9808,     0.98074,     0.98071,     0.98064,     0.98061,      0.9806,     0.98059,     0.98057,     0.98056,     0.98055,     0.98048,      0.9804,      0.9803,     0.98026,     0.98022,     0.98018,     0.98393,     0.98391,     0.98388,     0.98384,\n",
              "            0.98372,     0.98502,     0.98709,     0.98767,     0.98764,     0.98761,     0.98743,     0.98738,     0.98735,     0.98884,     0.99144,      0.9914,     0.99126,     0.99124,     0.99117,      0.9911,     0.99109,     0.99108,     0.99547,     0.99546,     0.99534,     0.99528,     0.99521,\n",
              "            0.99519,     0.99517,     0.99508,     0.99501,     0.99496,     0.99492,      0.9949,      0.9948,     0.99473,      0.9947,     0.99468,     0.99461,     0.99432,     0.99422,     0.99415,     0.99404,     0.99397,     0.99382,     0.99374,     0.99361,      0.9935,     0.99344,     0.99322,\n",
              "            0.99289,     0.99267,      0.9925,     0.99238,     0.99223,      0.9922,     0.99197,     0.99181,     0.99142,     0.99091,     0.99065,     0.99008,      0.9916,           1,           1,           1,           1,           1,           1,           1,           1,           1,           1,\n",
              "                  1,           1,           1,           1,           1,           1,           1,           1,           1,           1,           1,           1,           1,           1,           1,           1,           1,           1,           1,           1,           1,           1,           1,\n",
              "                  1,           1,           1,           1,           1,           1,           1,           1,           1,           1,           1,           1,           1,           1,           1,           1,           1,           1,           1,           1,           1,           1,           1,\n",
              "                  1,           1,           1,           1,           1,           1,           1,           1,           1,           1,           1,           1,           1,           1,           1,           1,           1,           1,           1,           1,           1,           1,           1,\n",
              "                  1,           1,           1,           1,           1,           1,           1,           1,           1,           1,           1,           1,           1,           1,           1,           1,           1,           1,           1,           1,           1,           1,           1,\n",
              "                  1,           1,           1,           1,           1,           1,           1,           1,           1,           1,           1,           1,           1,           1,           1,           1,           1,           1,           1,           1,           1,           1,           1,\n",
              "                  1,           1,           1,           1,           1,           1,           1,           1,           1,           1,           1]]), 'Confidence', 'Precision'], [array([          0,    0.001001,    0.002002,    0.003003,    0.004004,    0.005005,    0.006006,    0.007007,    0.008008,    0.009009,     0.01001,    0.011011,    0.012012,    0.013013,    0.014014,    0.015015,    0.016016,    0.017017,    0.018018,    0.019019,     0.02002,    0.021021,    0.022022,    0.023023,\n",
              "          0.024024,    0.025025,    0.026026,    0.027027,    0.028028,    0.029029,     0.03003,    0.031031,    0.032032,    0.033033,    0.034034,    0.035035,    0.036036,    0.037037,    0.038038,    0.039039,     0.04004,    0.041041,    0.042042,    0.043043,    0.044044,    0.045045,    0.046046,    0.047047,\n",
              "          0.048048,    0.049049,     0.05005,    0.051051,    0.052052,    0.053053,    0.054054,    0.055055,    0.056056,    0.057057,    0.058058,    0.059059,     0.06006,    0.061061,    0.062062,    0.063063,    0.064064,    0.065065,    0.066066,    0.067067,    0.068068,    0.069069,     0.07007,    0.071071,\n",
              "          0.072072,    0.073073,    0.074074,    0.075075,    0.076076,    0.077077,    0.078078,    0.079079,     0.08008,    0.081081,    0.082082,    0.083083,    0.084084,    0.085085,    0.086086,    0.087087,    0.088088,    0.089089,     0.09009,    0.091091,    0.092092,    0.093093,    0.094094,    0.095095,\n",
              "          0.096096,    0.097097,    0.098098,    0.099099,      0.1001,      0.1011,      0.1021,      0.1031,      0.1041,     0.10511,     0.10611,     0.10711,     0.10811,     0.10911,     0.11011,     0.11111,     0.11211,     0.11311,     0.11411,     0.11512,     0.11612,     0.11712,     0.11812,     0.11912,\n",
              "           0.12012,     0.12112,     0.12212,     0.12312,     0.12412,     0.12513,     0.12613,     0.12713,     0.12813,     0.12913,     0.13013,     0.13113,     0.13213,     0.13313,     0.13413,     0.13514,     0.13614,     0.13714,     0.13814,     0.13914,     0.14014,     0.14114,     0.14214,     0.14314,\n",
              "           0.14414,     0.14515,     0.14615,     0.14715,     0.14815,     0.14915,     0.15015,     0.15115,     0.15215,     0.15315,     0.15415,     0.15516,     0.15616,     0.15716,     0.15816,     0.15916,     0.16016,     0.16116,     0.16216,     0.16316,     0.16416,     0.16517,     0.16617,     0.16717,\n",
              "           0.16817,     0.16917,     0.17017,     0.17117,     0.17217,     0.17317,     0.17417,     0.17518,     0.17618,     0.17718,     0.17818,     0.17918,     0.18018,     0.18118,     0.18218,     0.18318,     0.18418,     0.18519,     0.18619,     0.18719,     0.18819,     0.18919,     0.19019,     0.19119,\n",
              "           0.19219,     0.19319,     0.19419,      0.1952,      0.1962,      0.1972,      0.1982,      0.1992,      0.2002,      0.2012,      0.2022,      0.2032,      0.2042,     0.20521,     0.20621,     0.20721,     0.20821,     0.20921,     0.21021,     0.21121,     0.21221,     0.21321,     0.21421,     0.21522,\n",
              "           0.21622,     0.21722,     0.21822,     0.21922,     0.22022,     0.22122,     0.22222,     0.22322,     0.22422,     0.22523,     0.22623,     0.22723,     0.22823,     0.22923,     0.23023,     0.23123,     0.23223,     0.23323,     0.23423,     0.23524,     0.23624,     0.23724,     0.23824,     0.23924,\n",
              "           0.24024,     0.24124,     0.24224,     0.24324,     0.24424,     0.24525,     0.24625,     0.24725,     0.24825,     0.24925,     0.25025,     0.25125,     0.25225,     0.25325,     0.25425,     0.25526,     0.25626,     0.25726,     0.25826,     0.25926,     0.26026,     0.26126,     0.26226,     0.26326,\n",
              "           0.26426,     0.26527,     0.26627,     0.26727,     0.26827,     0.26927,     0.27027,     0.27127,     0.27227,     0.27327,     0.27427,     0.27528,     0.27628,     0.27728,     0.27828,     0.27928,     0.28028,     0.28128,     0.28228,     0.28328,     0.28428,     0.28529,     0.28629,     0.28729,\n",
              "           0.28829,     0.28929,     0.29029,     0.29129,     0.29229,     0.29329,     0.29429,      0.2953,      0.2963,      0.2973,      0.2983,      0.2993,      0.3003,      0.3013,      0.3023,      0.3033,      0.3043,     0.30531,     0.30631,     0.30731,     0.30831,     0.30931,     0.31031,     0.31131,\n",
              "           0.31231,     0.31331,     0.31431,     0.31532,     0.31632,     0.31732,     0.31832,     0.31932,     0.32032,     0.32132,     0.32232,     0.32332,     0.32432,     0.32533,     0.32633,     0.32733,     0.32833,     0.32933,     0.33033,     0.33133,     0.33233,     0.33333,     0.33433,     0.33534,\n",
              "           0.33634,     0.33734,     0.33834,     0.33934,     0.34034,     0.34134,     0.34234,     0.34334,     0.34434,     0.34535,     0.34635,     0.34735,     0.34835,     0.34935,     0.35035,     0.35135,     0.35235,     0.35335,     0.35435,     0.35536,     0.35636,     0.35736,     0.35836,     0.35936,\n",
              "           0.36036,     0.36136,     0.36236,     0.36336,     0.36436,     0.36537,     0.36637,     0.36737,     0.36837,     0.36937,     0.37037,     0.37137,     0.37237,     0.37337,     0.37437,     0.37538,     0.37638,     0.37738,     0.37838,     0.37938,     0.38038,     0.38138,     0.38238,     0.38338,\n",
              "           0.38438,     0.38539,     0.38639,     0.38739,     0.38839,     0.38939,     0.39039,     0.39139,     0.39239,     0.39339,     0.39439,      0.3954,      0.3964,      0.3974,      0.3984,      0.3994,      0.4004,      0.4014,      0.4024,      0.4034,      0.4044,     0.40541,     0.40641,     0.40741,\n",
              "           0.40841,     0.40941,     0.41041,     0.41141,     0.41241,     0.41341,     0.41441,     0.41542,     0.41642,     0.41742,     0.41842,     0.41942,     0.42042,     0.42142,     0.42242,     0.42342,     0.42442,     0.42543,     0.42643,     0.42743,     0.42843,     0.42943,     0.43043,     0.43143,\n",
              "           0.43243,     0.43343,     0.43443,     0.43544,     0.43644,     0.43744,     0.43844,     0.43944,     0.44044,     0.44144,     0.44244,     0.44344,     0.44444,     0.44545,     0.44645,     0.44745,     0.44845,     0.44945,     0.45045,     0.45145,     0.45245,     0.45345,     0.45445,     0.45546,\n",
              "           0.45646,     0.45746,     0.45846,     0.45946,     0.46046,     0.46146,     0.46246,     0.46346,     0.46446,     0.46547,     0.46647,     0.46747,     0.46847,     0.46947,     0.47047,     0.47147,     0.47247,     0.47347,     0.47447,     0.47548,     0.47648,     0.47748,     0.47848,     0.47948,\n",
              "           0.48048,     0.48148,     0.48248,     0.48348,     0.48448,     0.48549,     0.48649,     0.48749,     0.48849,     0.48949,     0.49049,     0.49149,     0.49249,     0.49349,     0.49449,      0.4955,      0.4965,      0.4975,      0.4985,      0.4995,      0.5005,      0.5015,      0.5025,      0.5035,\n",
              "            0.5045,     0.50551,     0.50651,     0.50751,     0.50851,     0.50951,     0.51051,     0.51151,     0.51251,     0.51351,     0.51451,     0.51552,     0.51652,     0.51752,     0.51852,     0.51952,     0.52052,     0.52152,     0.52252,     0.52352,     0.52452,     0.52553,     0.52653,     0.52753,\n",
              "           0.52853,     0.52953,     0.53053,     0.53153,     0.53253,     0.53353,     0.53453,     0.53554,     0.53654,     0.53754,     0.53854,     0.53954,     0.54054,     0.54154,     0.54254,     0.54354,     0.54454,     0.54555,     0.54655,     0.54755,     0.54855,     0.54955,     0.55055,     0.55155,\n",
              "           0.55255,     0.55355,     0.55455,     0.55556,     0.55656,     0.55756,     0.55856,     0.55956,     0.56056,     0.56156,     0.56256,     0.56356,     0.56456,     0.56557,     0.56657,     0.56757,     0.56857,     0.56957,     0.57057,     0.57157,     0.57257,     0.57357,     0.57457,     0.57558,\n",
              "           0.57658,     0.57758,     0.57858,     0.57958,     0.58058,     0.58158,     0.58258,     0.58358,     0.58458,     0.58559,     0.58659,     0.58759,     0.58859,     0.58959,     0.59059,     0.59159,     0.59259,     0.59359,     0.59459,      0.5956,      0.5966,      0.5976,      0.5986,      0.5996,\n",
              "            0.6006,      0.6016,      0.6026,      0.6036,      0.6046,     0.60561,     0.60661,     0.60761,     0.60861,     0.60961,     0.61061,     0.61161,     0.61261,     0.61361,     0.61461,     0.61562,     0.61662,     0.61762,     0.61862,     0.61962,     0.62062,     0.62162,     0.62262,     0.62362,\n",
              "           0.62462,     0.62563,     0.62663,     0.62763,     0.62863,     0.62963,     0.63063,     0.63163,     0.63263,     0.63363,     0.63463,     0.63564,     0.63664,     0.63764,     0.63864,     0.63964,     0.64064,     0.64164,     0.64264,     0.64364,     0.64464,     0.64565,     0.64665,     0.64765,\n",
              "           0.64865,     0.64965,     0.65065,     0.65165,     0.65265,     0.65365,     0.65465,     0.65566,     0.65666,     0.65766,     0.65866,     0.65966,     0.66066,     0.66166,     0.66266,     0.66366,     0.66466,     0.66567,     0.66667,     0.66767,     0.66867,     0.66967,     0.67067,     0.67167,\n",
              "           0.67267,     0.67367,     0.67467,     0.67568,     0.67668,     0.67768,     0.67868,     0.67968,     0.68068,     0.68168,     0.68268,     0.68368,     0.68468,     0.68569,     0.68669,     0.68769,     0.68869,     0.68969,     0.69069,     0.69169,     0.69269,     0.69369,     0.69469,      0.6957,\n",
              "            0.6967,      0.6977,      0.6987,      0.6997,      0.7007,      0.7017,      0.7027,      0.7037,      0.7047,     0.70571,     0.70671,     0.70771,     0.70871,     0.70971,     0.71071,     0.71171,     0.71271,     0.71371,     0.71471,     0.71572,     0.71672,     0.71772,     0.71872,     0.71972,\n",
              "           0.72072,     0.72172,     0.72272,     0.72372,     0.72472,     0.72573,     0.72673,     0.72773,     0.72873,     0.72973,     0.73073,     0.73173,     0.73273,     0.73373,     0.73473,     0.73574,     0.73674,     0.73774,     0.73874,     0.73974,     0.74074,     0.74174,     0.74274,     0.74374,\n",
              "           0.74474,     0.74575,     0.74675,     0.74775,     0.74875,     0.74975,     0.75075,     0.75175,     0.75275,     0.75375,     0.75475,     0.75576,     0.75676,     0.75776,     0.75876,     0.75976,     0.76076,     0.76176,     0.76276,     0.76376,     0.76476,     0.76577,     0.76677,     0.76777,\n",
              "           0.76877,     0.76977,     0.77077,     0.77177,     0.77277,     0.77377,     0.77477,     0.77578,     0.77678,     0.77778,     0.77878,     0.77978,     0.78078,     0.78178,     0.78278,     0.78378,     0.78478,     0.78579,     0.78679,     0.78779,     0.78879,     0.78979,     0.79079,     0.79179,\n",
              "           0.79279,     0.79379,     0.79479,      0.7958,      0.7968,      0.7978,      0.7988,      0.7998,      0.8008,      0.8018,      0.8028,      0.8038,      0.8048,     0.80581,     0.80681,     0.80781,     0.80881,     0.80981,     0.81081,     0.81181,     0.81281,     0.81381,     0.81481,     0.81582,\n",
              "           0.81682,     0.81782,     0.81882,     0.81982,     0.82082,     0.82182,     0.82282,     0.82382,     0.82482,     0.82583,     0.82683,     0.82783,     0.82883,     0.82983,     0.83083,     0.83183,     0.83283,     0.83383,     0.83483,     0.83584,     0.83684,     0.83784,     0.83884,     0.83984,\n",
              "           0.84084,     0.84184,     0.84284,     0.84384,     0.84484,     0.84585,     0.84685,     0.84785,     0.84885,     0.84985,     0.85085,     0.85185,     0.85285,     0.85385,     0.85485,     0.85586,     0.85686,     0.85786,     0.85886,     0.85986,     0.86086,     0.86186,     0.86286,     0.86386,\n",
              "           0.86486,     0.86587,     0.86687,     0.86787,     0.86887,     0.86987,     0.87087,     0.87187,     0.87287,     0.87387,     0.87487,     0.87588,     0.87688,     0.87788,     0.87888,     0.87988,     0.88088,     0.88188,     0.88288,     0.88388,     0.88488,     0.88589,     0.88689,     0.88789,\n",
              "           0.88889,     0.88989,     0.89089,     0.89189,     0.89289,     0.89389,     0.89489,      0.8959,      0.8969,      0.8979,      0.8989,      0.8999,      0.9009,      0.9019,      0.9029,      0.9039,      0.9049,     0.90591,     0.90691,     0.90791,     0.90891,     0.90991,     0.91091,     0.91191,\n",
              "           0.91291,     0.91391,     0.91491,     0.91592,     0.91692,     0.91792,     0.91892,     0.91992,     0.92092,     0.92192,     0.92292,     0.92392,     0.92492,     0.92593,     0.92693,     0.92793,     0.92893,     0.92993,     0.93093,     0.93193,     0.93293,     0.93393,     0.93493,     0.93594,\n",
              "           0.93694,     0.93794,     0.93894,     0.93994,     0.94094,     0.94194,     0.94294,     0.94394,     0.94494,     0.94595,     0.94695,     0.94795,     0.94895,     0.94995,     0.95095,     0.95195,     0.95295,     0.95395,     0.95495,     0.95596,     0.95696,     0.95796,     0.95896,     0.95996,\n",
              "           0.96096,     0.96196,     0.96296,     0.96396,     0.96496,     0.96597,     0.96697,     0.96797,     0.96897,     0.96997,     0.97097,     0.97197,     0.97297,     0.97397,     0.97497,     0.97598,     0.97698,     0.97798,     0.97898,     0.97998,     0.98098,     0.98198,     0.98298,     0.98398,\n",
              "           0.98498,     0.98599,     0.98699,     0.98799,     0.98899,     0.98999,     0.99099,     0.99199,     0.99299,     0.99399,     0.99499,       0.996,       0.997,       0.998,       0.999,           1]), array([[    0.98919,     0.98919,     0.98649,     0.98649,     0.98378,     0.98108,     0.98108,     0.97838,     0.97568,     0.97568,     0.97568,     0.97568,     0.97568,     0.97568,     0.97568,     0.97568,     0.97297,     0.97297,     0.97297,     0.97297,     0.97027,     0.96486,     0.96486,\n",
              "            0.96216,     0.96216,     0.95946,     0.95946,     0.95946,     0.95946,     0.95946,     0.95946,     0.95946,     0.95946,     0.95946,     0.95946,     0.95676,     0.95405,     0.95405,     0.95405,     0.95405,     0.95405,     0.95405,     0.95316,     0.95135,     0.95135,     0.95135,\n",
              "            0.95135,     0.95135,     0.95135,     0.95135,     0.95135,     0.95135,     0.95135,     0.95135,     0.95135,     0.95135,     0.95135,     0.95051,     0.94865,     0.94865,     0.94865,     0.94865,     0.94865,     0.94865,     0.94865,     0.94865,     0.94865,     0.94865,     0.94865,\n",
              "            0.94675,     0.94595,     0.94595,     0.94595,     0.94595,     0.94324,     0.94324,     0.94324,     0.94324,     0.94324,     0.94324,     0.94324,     0.94324,     0.94324,     0.94324,     0.94324,     0.94323,     0.94054,     0.94054,     0.94054,     0.94054,     0.94054,     0.93784,\n",
              "            0.93784,     0.93695,     0.93514,     0.93514,     0.93514,     0.93514,     0.93514,     0.93514,     0.93492,     0.93322,     0.93214,     0.93159,     0.93104,      0.9305,     0.92995,     0.92901,     0.92781,     0.92703,     0.92702,     0.92544,     0.92432,     0.92432,     0.92432,\n",
              "            0.92432,     0.92432,     0.92432,     0.92383,     0.92297,      0.9221,     0.92162,     0.92162,     0.92162,     0.92162,     0.92162,     0.92031,     0.91901,     0.91892,     0.91892,     0.91892,     0.91714,     0.91622,     0.91622,     0.91622,     0.91622,     0.91622,     0.91622,\n",
              "            0.91622,     0.91622,     0.91622,     0.91622,     0.91622,     0.91622,     0.91622,     0.91622,     0.91622,     0.91622,     0.91622,     0.91622,     0.91622,     0.91622,     0.91622,     0.91622,     0.91622,     0.91622,     0.91622,     0.91489,     0.91351,     0.91351,     0.91351,\n",
              "            0.91351,     0.91351,     0.91351,     0.91351,     0.91351,     0.91351,     0.91351,     0.91351,     0.91351,     0.91351,     0.91351,     0.91351,     0.91351,     0.91351,     0.91351,     0.91351,     0.91351,     0.91351,     0.91351,     0.91351,     0.91351,     0.91351,     0.91351,\n",
              "            0.91332,       0.913,     0.91267,     0.91234,     0.91202,     0.91169,     0.91137,     0.91104,     0.91081,     0.91081,     0.91081,      0.9107,     0.91025,     0.90979,     0.90934,     0.90889,     0.90844,     0.90811,     0.90811,     0.90811,     0.90811,     0.90811,     0.90811,\n",
              "            0.90811,     0.90778,     0.90743,     0.90708,     0.90672,     0.90637,     0.90602,     0.90567,     0.90541,     0.90541,     0.90541,     0.90541,     0.90541,     0.90541,     0.90541,     0.90541,     0.90541,     0.90541,     0.90541,     0.90541,     0.90541,     0.90541,     0.90541,\n",
              "            0.90541,     0.90541,     0.90541,     0.90529,     0.90474,     0.90419,     0.90363,     0.90308,      0.9027,      0.9027,      0.9027,      0.9027,      0.9027,      0.9027,      0.9027,      0.9027,      0.9027,      0.9027,      0.9027,      0.9027,      0.9027,      0.9027,      0.9027,\n",
              "             0.9027,      0.9027,     0.90232,     0.90171,     0.90109,     0.90048,         0.9,         0.9,         0.9,         0.9,         0.9,         0.9,         0.9,         0.9,         0.9,         0.9,         0.9,         0.9,         0.9,         0.9,     0.89961,     0.89891,     0.89822,\n",
              "            0.89753,      0.8973,      0.8973,      0.8973,      0.8973,      0.8973,      0.8973,      0.8973,     0.89664,     0.89553,     0.89459,     0.89459,     0.89438,      0.8939,     0.89342,     0.89293,     0.89245,     0.89197,     0.88649,     0.88649,     0.88649,     0.88649,     0.88649,\n",
              "            0.88649,     0.88649,     0.88649,     0.88638,     0.88604,     0.88569,     0.88534,       0.885,     0.88465,      0.8843,     0.88396,     0.88241,     0.88108,     0.88108,     0.88108,     0.88108,     0.88108,     0.88108,     0.88034,     0.87923,     0.87802,     0.87644,     0.87568,\n",
              "            0.87568,     0.87568,     0.87568,     0.87568,     0.87568,     0.87568,     0.87568,     0.87568,     0.87568,     0.87568,     0.87568,     0.87568,     0.87568,     0.87568,     0.87568,     0.87568,     0.87568,     0.87568,     0.87568,     0.87485,     0.87327,     0.87297,     0.87297,\n",
              "            0.87297,     0.87297,     0.87297,     0.87297,     0.87297,     0.87297,     0.87297,     0.87297,     0.87297,     0.87297,     0.87297,     0.87297,     0.87297,     0.87297,     0.87297,     0.87297,     0.87297,     0.87297,     0.87297,     0.87297,     0.87297,     0.87297,     0.87297,\n",
              "            0.87297,     0.87297,     0.87297,     0.87297,     0.87297,     0.87297,     0.87297,     0.87297,     0.87297,     0.87297,     0.87297,     0.87297,     0.87297,     0.87297,     0.87297,     0.87297,     0.87297,     0.87297,     0.87253,     0.87183,     0.87114,     0.87045,     0.86757,\n",
              "            0.86757,     0.86757,     0.86757,     0.86757,     0.86757,     0.86757,     0.86757,     0.86757,     0.86757,     0.86757,     0.86757,     0.86757,     0.86757,     0.86757,     0.86729,     0.86698,     0.86666,     0.86634,     0.86603,     0.86571,     0.86539,     0.86508,     0.86475,\n",
              "            0.86439,     0.86403,     0.86368,     0.86332,     0.86296,      0.8626,     0.86225,     0.86216,     0.86216,     0.86216,     0.86216,     0.86216,     0.86216,     0.86216,     0.86216,     0.86216,     0.86216,     0.86216,     0.86216,     0.86216,     0.86216,     0.86194,     0.86136,\n",
              "            0.86078,     0.86019,     0.85961,      0.8574,     0.85676,     0.85676,     0.85676,     0.85676,     0.85556,     0.85417,     0.85279,      0.8514,     0.85135,     0.85135,     0.85135,     0.85135,     0.85135,     0.85135,     0.85135,     0.85127,     0.85105,     0.85084,     0.85063,\n",
              "            0.85041,      0.8502,     0.84999,     0.84977,     0.84956,     0.84935,     0.84913,     0.84892,     0.84871,     0.84865,     0.84865,     0.84865,     0.84865,     0.84865,     0.84865,     0.84865,     0.84865,     0.84865,     0.84865,     0.84865,     0.84865,     0.84865,     0.84865,\n",
              "            0.84865,     0.84865,     0.84865,     0.84865,     0.84865,     0.84865,     0.84865,     0.84865,     0.84865,     0.84865,     0.84865,     0.84865,     0.84865,     0.84865,     0.84865,     0.84865,     0.84865,     0.84865,     0.84865,     0.84865,     0.84865,     0.84865,     0.84865,\n",
              "            0.84865,     0.84865,     0.84865,     0.84865,     0.84865,     0.84865,     0.84865,     0.84865,     0.84807,     0.84737,     0.84668,     0.84599,     0.84595,     0.84595,     0.84567,      0.8454,     0.84512,     0.84484,     0.84456,     0.84429,     0.84401,     0.84373,     0.84346,\n",
              "            0.84324,     0.84324,     0.84324,     0.84324,     0.84324,     0.84324,     0.84324,     0.84324,     0.84324,     0.84299,     0.84244,     0.84188,     0.84133,     0.84078,     0.83895,     0.83784,     0.83784,     0.83784,     0.83784,     0.83784,     0.83784,     0.83715,     0.83623,\n",
              "             0.8353,     0.83514,     0.83514,     0.83514,     0.83514,     0.83514,     0.83514,     0.83514,     0.83514,     0.83514,     0.83437,     0.83299,     0.83222,     0.83188,     0.83153,     0.83119,     0.83084,     0.83049,     0.83015,      0.8298,     0.82952,     0.82926,     0.82899,\n",
              "            0.82873,     0.82846,      0.8282,     0.82794,     0.82767,     0.82741,     0.82715,     0.82703,     0.82703,     0.82537,     0.82375,     0.82282,      0.8219,     0.82124,     0.82068,     0.82013,     0.81957,     0.81902,     0.81778,      0.8164,     0.81568,     0.81507,     0.81445,\n",
              "            0.81383,     0.81351,     0.81351,     0.81351,     0.81351,     0.81351,     0.81351,     0.81351,     0.81351,     0.81347,     0.81323,     0.81299,     0.81275,     0.81251,     0.81226,     0.81202,     0.81178,     0.81154,      0.8113,     0.81106,     0.81082,     0.81081,     0.81081,\n",
              "            0.81081,     0.81081,     0.81081,     0.81081,     0.81081,     0.81081,     0.81081,     0.81081,     0.81081,     0.81081,     0.81081,     0.81081,     0.81081,     0.81063,     0.81013,     0.80962,     0.80912,     0.80862,     0.80811,     0.80769,     0.80726,     0.80683,     0.80641,\n",
              "            0.80598,     0.80555,     0.80541,     0.80447,     0.80309,     0.80213,     0.80134,     0.80055,         0.8,         0.8,         0.8,         0.8,         0.8,         0.8,         0.8,         0.8,         0.8,         0.8,         0.8,         0.8,         0.8,         0.8,         0.8,\n",
              "                0.8,         0.8,         0.8,         0.8,     0.79987,     0.79941,     0.79895,     0.79848,     0.79802,     0.79756,      0.7973,      0.7973,      0.7973,      0.7973,      0.7973,      0.7973,      0.7973,      0.7973,      0.7973,      0.7973,      0.7973,      0.7973,      0.7973,\n",
              "             0.7973,     0.79682,     0.79621,     0.79559,     0.79497,     0.79417,     0.79306,     0.79195,     0.79102,      0.7901,     0.78918,     0.78838,     0.78759,      0.7868,     0.78601,     0.78522,     0.78443,     0.78344,     0.78159,     0.77974,     0.77765,     0.77297,     0.77297,\n",
              "            0.77297,     0.77297,     0.77027,     0.77027,     0.77027,     0.77027,     0.77027,     0.77027,     0.77025,     0.76975,     0.76924,     0.76874,     0.76823,     0.76773,      0.7671,     0.76641,     0.76571,     0.76502,     0.76401,      0.7629,     0.76031,     0.75609,     0.75529,\n",
              "             0.7545,     0.75326,     0.75141,     0.74865,     0.74865,     0.74865,     0.74865,     0.74865,     0.74857,     0.74788,     0.74718,     0.74649,     0.74578,     0.74499,     0.74419,      0.7434,     0.73999,     0.73929,      0.7386,     0.73791,     0.73784,     0.73784,     0.73731,\n",
              "            0.73676,     0.73621,     0.73565,      0.7324,     0.73184,     0.73129,     0.73073,     0.73018,     0.72668,     0.72483,     0.72298,     0.72138,     0.72046,     0.71953,     0.71799,     0.71285,       0.711,     0.70915,     0.70541,     0.70541,     0.70541,     0.70357,     0.70197,\n",
              "            0.70058,     0.69839,      0.6973,     0.69015,     0.68828,      0.6869,     0.68454,     0.68345,     0.68299,     0.68252,     0.68206,      0.6816,     0.68114,     0.67866,     0.67589,     0.67237,     0.67099,      0.6696,     0.66822,     0.66211,     0.66101,      0.6599,     0.65834,\n",
              "            0.65327,     0.65135,     0.65135,      0.6494,     0.64764,     0.64626,     0.63704,     0.63456,     0.63271,     0.62973,     0.62596,     0.62319,     0.61291,     0.61153,     0.60677,     0.60223,     0.60131,     0.60039,     0.59442,     0.59258,     0.57759,     0.56981,     0.56163,\n",
              "            0.55906,     0.55721,     0.54719,     0.53839,     0.53366,     0.52911,     0.52726,     0.51678,     0.50967,      0.5073,     0.50546,     0.49866,     0.47286,     0.46474,     0.45908,     0.45109,     0.44529,     0.43474,      0.4288,     0.42056,     0.41292,     0.40948,     0.39583,\n",
              "            0.37758,     0.36583,     0.35759,     0.35205,     0.34498,     0.34387,     0.33393,     0.32718,     0.31217,     0.29448,     0.28623,     0.26988,     0.25676,     0.25508,     0.24515,      0.2315,     0.21786,     0.21156,     0.20407,     0.20131,      0.1965,     0.18745,      0.1765,\n",
              "            0.16927,     0.16542,     0.15177,     0.14474,     0.14069,     0.12433,      0.1188,     0.11326,     0.10926,      0.1073,     0.10592,     0.10095,    0.094284,    0.092437,    0.088589,    0.083116,    0.079609,    0.074069,     0.07075,    0.060285,    0.058281,    0.056895,     0.05021,\n",
              "           0.047842,    0.045996,    0.041899,    0.039599,    0.037709,    0.034939,    0.032169,    0.029509,    0.027662,    0.026421,    0.025498,    0.024574,    0.021354,    0.020246,    0.019138,    0.017436,    0.015746,    0.014361,    0.013387,    0.013061,    0.012735,    0.012409,    0.012083,\n",
              "           0.011757,    0.011431,    0.011106,    0.010722,    0.009799,   0.0088755,   0.0080635,   0.0077997,   0.0075358,    0.007272,   0.0070082,   0.0067443,   0.0064805,   0.0062166,   0.0059528,    0.005689,   0.0054251,   0.0047646,    0.004072,   0.0033794,           0,           0,           0,\n",
              "                  0,           0,           0,           0,           0,           0,           0,           0,           0,           0,           0,           0,           0,           0,           0,           0,           0,           0,           0,           0,           0,           0,           0,\n",
              "                  0,           0,           0,           0,           0,           0,           0,           0,           0,           0,           0,           0,           0,           0,           0,           0,           0,           0,           0,           0,           0,           0,           0,\n",
              "                  0,           0,           0,           0,           0,           0,           0,           0,           0,           0,           0]]), 'Confidence', 'Recall']]\n",
              "fitness: np.float64(0.7632519895084193)\n",
              "keys: ['metrics/precision(B)', 'metrics/recall(B)', 'metrics/mAP50(B)', 'metrics/mAP50-95(B)']\n",
              "maps: array([    0.74297])\n",
              "names: {0: 'amongus'}\n",
              "plot: True\n",
              "results_dict: {'metrics/precision(B)': np.float64(0.9168661732861606), 'metrics/recall(B)': np.float64(0.8432432432432433), 'metrics/mAP50(B)': np.float64(0.9458117587058341), 'metrics/mAP50-95(B)': np.float64(0.7429675707087064), 'fitness': np.float64(0.7632519895084193)}\n",
              "save_dir: PosixPath('runs/detect/train')\n",
              "speed: {'preprocess': 0.2575580000027796, 'inference': 5.899785287235144, 'loss': 0.00038596809122765915, 'postprocess': 6.976491308512081}\n",
              "task: 'detect'"
            ]
          },
          "metadata": {},
          "execution_count": 2
        }
      ]
    },
    {
      "cell_type": "code",
      "source": [
        "# Cargar el mejor modelo entrenado\n",
        "model = YOLO(\"runs/detect/train/weights/best.pt\")\n",
        "\n",
        "# Exportar a ONNX\n",
        "model.export(format=\"onnx\", file=\"amouns.onnx\")\n",
        "\n"
      ],
      "metadata": {
        "colab": {
          "base_uri": "https://localhost:8080/",
          "height": 1000
        },
        "id": "VpKNf04Ju0Cj",
        "outputId": "522eda6c-ba6d-4896-c522-24798e463768"
      },
      "execution_count": 6,
      "outputs": [
        {
          "output_type": "error",
          "ename": "SyntaxError",
          "evalue": "'\u001b[31m\u001b[1mfile\u001b[0m' is not a valid YOLO argument. Similar arguments are i.e. ['profile=False'].\n\n    Arguments received: ['yolo', '-f', '/root/.local/share/jupyter/runtime/kernel-ddbbf865-7b6f-4489-b9c4-5e4dbd861913.json']. Ultralytics 'yolo' commands use the following syntax:\n\n        yolo TASK MODE ARGS\n\n        Where   TASK (optional) is one of ['segment', 'classify', 'detect', 'obb', 'pose']\n                MODE (required) is one of ['track', 'val', 'train', 'export', 'benchmark', 'predict']\n                ARGS (optional) are any number of custom 'arg=value' pairs like 'imgsz=320' that override defaults.\n                    See all ARGS at https://docs.ultralytics.com/usage/cfg or with 'yolo cfg'\n\n    1. Train a detection model for 10 epochs with an initial learning_rate of 0.01\n        yolo train data=coco8.yaml model=yolo11n.pt epochs=10 lr0=0.01\n\n    2. Predict a YouTube video using a pretrained segmentation model at image size 320:\n        yolo predict model=yolo11n-seg.pt source='https://youtu.be/LNwODJXcvt4' imgsz=320\n\n    3. Val a pretrained detection model at batch-size 1 and image size 640:\n        yolo val model=yolo11n.pt data=coco8.yaml batch=1 imgsz=640\n\n    4. Export a YOLO11n classification model to ONNX format at image size 224 by 128 (no TASK required)\n        yolo export model=yolo11n-cls.pt format=onnx imgsz=224,128\n\n    5. Ultralytics solutions usage\n        yolo solutions count or in ['crop', 'blur', 'workout', 'heatmap', 'isegment', 'visioneye', 'speed', 'queue', 'analytics', 'inference', 'trackzone'] source=\"path/to/video.mp4\"\n\n    6. Run special commands:\n        yolo help\n        yolo checks\n        yolo version\n        yolo settings\n        yolo copy-cfg\n        yolo cfg\n        yolo solutions help\n\n    Docs: https://docs.ultralytics.com\n    Solutions: https://docs.ultralytics.com/solutions/\n    Community: https://community.ultralytics.com\n    GitHub: https://github.com/ultralytics/ultralytics\n     (<string>)",
          "traceback": [
            "Traceback \u001b[0;36m(most recent call last)\u001b[0m:\n",
            "  File \u001b[1;32m\"/usr/local/lib/python3.11/dist-packages/IPython/core/interactiveshell.py\"\u001b[0m, line \u001b[1;32m3553\u001b[0m, in \u001b[1;35mrun_code\u001b[0m\n    exec(code_obj, self.user_global_ns, self.user_ns)\n",
            "  File \u001b[1;32m\"<ipython-input-6-26794e249285>\"\u001b[0m, line \u001b[1;32m5\u001b[0m, in \u001b[1;35m<cell line: 0>\u001b[0m\n    model.export(format=\"onnx\", file=\"amouns.onnx\")\n",
            "  File \u001b[1;32m\"/usr/local/lib/python3.11/dist-packages/ultralytics/engine/model.py\"\u001b[0m, line \u001b[1;32m734\u001b[0m, in \u001b[1;35mexport\u001b[0m\n    return Exporter(overrides=args, _callbacks=self.callbacks)(model=self.model)\n",
            "  File \u001b[1;32m\"/usr/local/lib/python3.11/dist-packages/ultralytics/engine/exporter.py\"\u001b[0m, line \u001b[1;32m283\u001b[0m, in \u001b[1;35m__init__\u001b[0m\n    self.args = get_cfg(cfg, overrides)\n",
            "  File \u001b[1;32m\"/usr/local/lib/python3.11/dist-packages/ultralytics/cfg/__init__.py\"\u001b[0m, line \u001b[1;32m305\u001b[0m, in \u001b[1;35mget_cfg\u001b[0m\n    check_dict_alignment(cfg, overrides)\n",
            "\u001b[0;36m  File \u001b[0;32m\"/usr/local/lib/python3.11/dist-packages/ultralytics/cfg/__init__.py\"\u001b[0;36m, line \u001b[0;32m498\u001b[0;36m, in \u001b[0;35mcheck_dict_alignment\u001b[0;36m\u001b[0m\n\u001b[0;31m    raise SyntaxError(string + CLI_HELP_MSG) from e\u001b[0m\n",
            "\u001b[0;36m  File \u001b[0;32m\"<string>\"\u001b[0;36m, line \u001b[0;32munknown\u001b[0m\n\u001b[0;31mSyntaxError\u001b[0m\u001b[0;31m:\u001b[0m '\u001b[31m\u001b[1mfile\u001b[0m' is not a valid YOLO argument. Similar arguments are i.e. ['profile=False'].\n\n    Arguments received: ['yolo', '-f', '/root/.local/share/jupyter/runtime/kernel-ddbbf865-7b6f-4489-b9c4-5e4dbd861913.json']. Ultralytics 'yolo' commands use the following syntax:\n\n        yolo TASK MODE ARGS\n\n        Where   TASK (optional) is one of ['segment', 'classify', 'detect', 'obb', 'pose']\n                MODE (required) is one of ['track', 'val', 'train', 'export', 'benchmark', 'predict']\n                ARGS (optional) are any number of custom 'arg=value' pairs like 'imgsz=320' that override defaults.\n                    See all ARGS at https://docs.ultralytics.com/usage/cfg or with 'yolo cfg'\n\n    1. Train a detection model for 10 epochs with an initial learning_rate of 0.01\n        yolo train data=coco8.yaml model=yolo11n.pt epochs=10 lr0=0.01\n\n    2. Predict a YouTube video using a pretrained segmentation model at image size 320:\n        yolo predict model=yolo11n-seg.pt source='https://youtu.be/LNwODJXcvt4' imgsz=320\n\n    3. Val a pretrained detection model at batch-size 1 and image size 640:\n        yolo val model=yolo11n.pt data=coco8.yaml batch=1 imgsz=640\n\n    4. Export a YOLO11n classification model to ONNX format at image size 224 by 128 (no TASK required)\n        yolo export model=yolo11n-cls.pt format=onnx imgsz=224,128\n\n    5. Ultralytics solutions usage\n        yolo solutions count or in ['crop', 'blur', 'workout', 'heatmap', 'isegment', 'visioneye', 'speed', 'queue', 'analytics', 'inference', 'trackzone'] source=\"path/to/video.mp4\"\n\n    6. Run special commands:\n        yolo help\n        yolo checks\n        yolo version\n        yolo settings\n        yolo copy-cfg\n        yolo cfg\n        yolo solutions help\n\n    Docs: https://docs.ultralytics.com\n    Solutions: https://docs.ultralytics.com/solutions/\n    Community: https://community.ultralytics.com\n    GitHub: https://github.com/ultralytics/ultralytics\n    \n"
          ]
        }
      ]
    },
    {
      "cell_type": "code",
      "source": [
        "model.export(format=\"onnx\")\n",
        "\n",
        "import shutil\n",
        "src_path = \"runs/detect/train/weights/best.onnx\"\n",
        "dst_path = \"runs/detect/train/weights/amouns.onnx\"\n",
        "\n",
        "shutil.move(src_path, dst_path)\n",
        "print(f\"Archivo renombrado a {dst_path}\")\n"
      ],
      "metadata": {
        "colab": {
          "base_uri": "https://localhost:8080/"
        },
        "id": "rgK0p9CXvk2j",
        "outputId": "ae34e44d-efba-4f68-b1d6-3bb532f2d5b8"
      },
      "execution_count": 8,
      "outputs": [
        {
          "output_type": "stream",
          "name": "stdout",
          "text": [
            "Ultralytics 8.3.151 🚀 Python-3.11.13 torch-2.6.0+cu124 CPU (Intel Xeon 2.00GHz)\n",
            "YOLO11s summary (fused): 100 layers, 9,413,187 parameters, 0 gradients, 21.3 GFLOPs\n",
            "\n",
            "\u001b[34m\u001b[1mPyTorch:\u001b[0m starting from 'runs/detect/train/weights/best.pt' with input shape (1, 3, 640, 640) BCHW and output shape(s) (1, 5, 8400) (18.3 MB)\n",
            "\n",
            "\u001b[34m\u001b[1mONNX:\u001b[0m starting export with onnx 1.17.0 opset 19...\n",
            "\u001b[34m\u001b[1mONNX:\u001b[0m slimming with onnxslim 0.1.56...\n",
            "\u001b[34m\u001b[1mONNX:\u001b[0m export success ✅ 2.0s, saved as 'runs/detect/train/weights/best.onnx' (36.2 MB)\n",
            "\n",
            "Export complete (3.0s)\n",
            "Results saved to \u001b[1m/content/runs/detect/train/weights\u001b[0m\n",
            "Predict:         yolo predict task=detect model=runs/detect/train/weights/best.onnx imgsz=640  \n",
            "Validate:        yolo val task=detect model=runs/detect/train/weights/best.onnx imgsz=640 data=/content/Amogus-Detection-1/data.yaml  \n",
            "Visualize:       https://netron.app\n",
            "Archivo renombrado a runs/detect/train/weights/amouns.onnx\n"
          ]
        }
      ]
    },
    {
      "cell_type": "code",
      "source": [
        "from IPython.display import Image\n",
        "\n",
        "Image(filename='runs/detect/train/results.png', width=600)\n",
        "Image(filename='runs/detect/train/confusion_matrix.png', width=600)\n"
      ],
      "metadata": {
        "colab": {
          "base_uri": "https://localhost:8080/",
          "height": 467
        },
        "id": "PgDnz9FW9z1I",
        "outputId": "e27e134a-bb9f-49f4-ed1f-ed39f1d696a1"
      },
      "execution_count": 7,
      "outputs": [
        {
          "output_type": "execute_result",
          "data": {
            "image/png": "[encoded data removed]",
            "text/plain": [
              "<IPython.core.display.Image object>"
            ]
          },
          "metadata": {
            "image/png": {
              "width": 600
            }
          },
          "execution_count": 7
        }
      ]
    },
    {
      "cell_type": "code",
      "source": [
        "model.val()\n"
      ],
      "metadata": {
        "colab": {
          "base_uri": "https://localhost:8080/"
        },
        "id": "x5Kchw66-Svg",
        "outputId": "ea33e142-d596-4b2b-9306-faad52b605bd"
      },
      "execution_count": 8,
      "outputs": [
        {
          "output_type": "stream",
          "name": "stdout",
          "text": [
            "Ultralytics 8.3.151 🚀 Python-3.11.13 torch-2.6.0+cu124 CUDA:0 (Tesla T4, 15095MiB)\n",
            "YOLO11s summary (fused): 100 layers, 9,413,187 parameters, 0 gradients, 21.3 GFLOPs\n",
            "\u001b[34m\u001b[1mval: \u001b[0mFast image access ✅ (ping: 0.0±0.0 ms, read: 1180.1±642.6 MB/s, size: 55.5 KB)\n"
          ]
        },
        {
          "output_type": "stream",
          "name": "stderr",
          "text": [
            "\u001b[34m\u001b[1mval: \u001b[0mScanning /content/Amogus-Detection-1/valid/labels.cache... 94 images, 0 backgrounds, 0 corrupt: 100%|██████████| 94/94 [00:00<?, ?it/s]\n",
            "                 Class     Images  Instances      Box(P          R      mAP50  mAP50-95): 100%|██████████| 6/6 [00:03<00:00,  1.95it/s]\n"
          ]
        },
        {
          "output_type": "stream",
          "name": "stdout",
          "text": [
            "                   all         94        370      0.881      0.881      0.944      0.732\n",
            "Speed: 1.8ms preprocess, 12.3ms inference, 0.0ms loss, 2.5ms postprocess per image\n",
            "Results saved to \u001b[1mruns/detect/train2\u001b[0m\n"
          ]
        },
        {
          "output_type": "execute_result",
          "data": {
            "text/plain": [
              "ultralytics.utils.metrics.DetMetrics object with attributes:\n",
              "\n",
              "ap_class_index: array([0])\n",
              "box: ultralytics.utils.metrics.Metric object\n",
              "confusion_matrix: <ultralytics.utils.metrics.ConfusionMatrix object at 0x7a09f5b21f50>\n",
              "curves: ['Precision-Recall(B)', 'F1-Confidence(B)', 'Precision-Confidence(B)', 'Recall-Confidence(B)']\n",
              "curves_results: [[array([          0,    0.001001,    0.002002,    0.003003,    0.004004,    0.005005,    0.006006,    0.007007,    0.008008,    0.009009,     0.01001,    0.011011,    0.012012,    0.013013,    0.014014,    0.015015,    0.016016,    0.017017,    0.018018,    0.019019,     0.02002,    0.021021,    0.022022,    0.023023,\n",
              "          0.024024,    0.025025,    0.026026,    0.027027,    0.028028,    0.029029,     0.03003,    0.031031,    0.032032,    0.033033,    0.034034,    0.035035,    0.036036,    0.037037,    0.038038,    0.039039,     0.04004,    0.041041,    0.042042,    0.043043,    0.044044,    0.045045,    0.046046,    0.047047,\n",
              "          0.048048,    0.049049,     0.05005,    0.051051,    0.052052,    0.053053,    0.054054,    0.055055,    0.056056,    0.057057,    0.058058,    0.059059,     0.06006,    0.061061,    0.062062,    0.063063,    0.064064,    0.065065,    0.066066,    0.067067,    0.068068,    0.069069,     0.07007,    0.071071,\n",
              "          0.072072,    0.073073,    0.074074,    0.075075,    0.076076,    0.077077,    0.078078,    0.079079,     0.08008,    0.081081,    0.082082,    0.083083,    0.084084,    0.085085,    0.086086,    0.087087,    0.088088,    0.089089,     0.09009,    0.091091,    0.092092,    0.093093,    0.094094,    0.095095,\n",
              "          0.096096,    0.097097,    0.098098,    0.099099,      0.1001,      0.1011,      0.1021,      0.1031,      0.1041,     0.10511,     0.10611,     0.10711,     0.10811,     0.10911,     0.11011,     0.11111,     0.11211,     0.11311,     0.11411,     0.11512,     0.11612,     0.11712,     0.11812,     0.11912,\n",
              "           0.12012,     0.12112,     0.12212,     0.12312,     0.12412,     0.12513,     0.12613,     0.12713,     0.12813,     0.12913,     0.13013,     0.13113,     0.13213,     0.13313,     0.13413,     0.13514,     0.13614,     0.13714,     0.13814,     0.13914,     0.14014,     0.14114,     0.14214,     0.14314,\n",
              "           0.14414,     0.14515,     0.14615,     0.14715,     0.14815,     0.14915,     0.15015,     0.15115,     0.15215,     0.15315,     0.15415,     0.15516,     0.15616,     0.15716,     0.15816,     0.15916,     0.16016,     0.16116,     0.16216,     0.16316,     0.16416,     0.16517,     0.16617,     0.16717,\n",
              "           0.16817,     0.16917,     0.17017,     0.17117,     0.17217,     0.17317,     0.17417,     0.17518,     0.17618,     0.17718,     0.17818,     0.17918,     0.18018,     0.18118,     0.18218,     0.18318,     0.18418,     0.18519,     0.18619,     0.18719,     0.18819,     0.18919,     0.19019,     0.19119,\n",
              "           0.19219,     0.19319,     0.19419,      0.1952,      0.1962,      0.1972,      0.1982,      0.1992,      0.2002,      0.2012,      0.2022,      0.2032,      0.2042,     0.20521,     0.20621,     0.20721,     0.20821,     0.20921,     0.21021,     0.21121,     0.21221,     0.21321,     0.21421,     0.21522,\n",
              "           0.21622,     0.21722,     0.21822,     0.21922,     0.22022,     0.22122,     0.22222,     0.22322,     0.22422,     0.22523,     0.22623,     0.22723,     0.22823,     0.22923,     0.23023,     0.23123,     0.23223,     0.23323,     0.23423,     0.23524,     0.23624,     0.23724,     0.23824,     0.23924,\n",
              "           0.24024,     0.24124,     0.24224,     0.24324,     0.24424,     0.24525,     0.24625,     0.24725,     0.24825,     0.24925,     0.25025,     0.25125,     0.25225,     0.25325,     0.25425,     0.25526,     0.25626,     0.25726,     0.25826,     0.25926,     0.26026,     0.26126,     0.26226,     0.26326,\n",
              "           0.26426,     0.26527,     0.26627,     0.26727,     0.26827,     0.26927,     0.27027,     0.27127,     0.27227,     0.27327,     0.27427,     0.27528,     0.27628,     0.27728,     0.27828,     0.27928,     0.28028,     0.28128,     0.28228,     0.28328,     0.28428,     0.28529,     0.28629,     0.28729,\n",
              "           0.28829,     0.28929,     0.29029,     0.29129,     0.29229,     0.29329,     0.29429,      0.2953,      0.2963,      0.2973,      0.2983,      0.2993,      0.3003,      0.3013,      0.3023,      0.3033,      0.3043,     0.30531,     0.30631,     0.30731,     0.30831,     0.30931,     0.31031,     0.31131,\n",
              "           0.31231,     0.31331,     0.31431,     0.31532,     0.31632,     0.31732,     0.31832,     0.31932,     0.32032,     0.32132,     0.32232,     0.32332,     0.32432,     0.32533,     0.32633,     0.32733,     0.32833,     0.32933,     0.33033,     0.33133,     0.33233,     0.33333,     0.33433,     0.33534,\n",
              "           0.33634,     0.33734,     0.33834,     0.33934,     0.34034,     0.34134,     0.34234,     0.34334,     0.34434,     0.34535,     0.34635,     0.34735,     0.34835,     0.34935,     0.35035,     0.35135,     0.35235,     0.35335,     0.35435,     0.35536,     0.35636,     0.35736,     0.35836,     0.35936,\n",
              "           0.36036,     0.36136,     0.36236,     0.36336,     0.36436,     0.36537,     0.36637,     0.36737,     0.36837,     0.36937,     0.37037,     0.37137,     0.37237,     0.37337,     0.37437,     0.37538,     0.37638,     0.37738,     0.37838,     0.37938,     0.38038,     0.38138,     0.38238,     0.38338,\n",
              "           0.38438,     0.38539,     0.38639,     0.38739,     0.38839,     0.38939,     0.39039,     0.39139,     0.39239,     0.39339,     0.39439,      0.3954,      0.3964,      0.3974,      0.3984,      0.3994,      0.4004,      0.4014,      0.4024,      0.4034,      0.4044,     0.40541,     0.40641,     0.40741,\n",
              "           0.40841,     0.40941,     0.41041,     0.41141,     0.41241,     0.41341,     0.41441,     0.41542,     0.41642,     0.41742,     0.41842,     0.41942,     0.42042,     0.42142,     0.42242,     0.42342,     0.42442,     0.42543,     0.42643,     0.42743,     0.42843,     0.42943,     0.43043,     0.43143,\n",
              "           0.43243,     0.43343,     0.43443,     0.43544,     0.43644,     0.43744,     0.43844,     0.43944,     0.44044,     0.44144,     0.44244,     0.44344,     0.44444,     0.44545,     0.44645,     0.44745,     0.44845,     0.44945,     0.45045,     0.45145,     0.45245,     0.45345,     0.45445,     0.45546,\n",
              "           0.45646,     0.45746,     0.45846,     0.45946,     0.46046,     0.46146,     0.46246,     0.46346,     0.46446,     0.46547,     0.46647,     0.46747,     0.46847,     0.46947,     0.47047,     0.47147,     0.47247,     0.47347,     0.47447,     0.47548,     0.47648,     0.47748,     0.47848,     0.47948,\n",
              "           0.48048,     0.48148,     0.48248,     0.48348,     0.48448,     0.48549,     0.48649,     0.48749,     0.48849,     0.48949,     0.49049,     0.49149,     0.49249,     0.49349,     0.49449,      0.4955,      0.4965,      0.4975,      0.4985,      0.4995,      0.5005,      0.5015,      0.5025,      0.5035,\n",
              "            0.5045,     0.50551,     0.50651,     0.50751,     0.50851,     0.50951,     0.51051,     0.51151,     0.51251,     0.51351,     0.51451,     0.51552,     0.51652,     0.51752,     0.51852,     0.51952,     0.52052,     0.52152,     0.52252,     0.52352,     0.52452,     0.52553,     0.52653,     0.52753,\n",
              "           0.52853,     0.52953,     0.53053,     0.53153,     0.53253,     0.53353,     0.53453,     0.53554,     0.53654,     0.53754,     0.53854,     0.53954,     0.54054,     0.54154,     0.54254,     0.54354,     0.54454,     0.54555,     0.54655,     0.54755,     0.54855,     0.54955,     0.55055,     0.55155,\n",
              "           0.55255,     0.55355,     0.55455,     0.55556,     0.55656,     0.55756,     0.55856,     0.55956,     0.56056,     0.56156,     0.56256,     0.56356,     0.56456,     0.56557,     0.56657,     0.56757,     0.56857,     0.56957,     0.57057,     0.57157,     0.57257,     0.57357,     0.57457,     0.57558,\n",
              "           0.57658,     0.57758,     0.57858,     0.57958,     0.58058,     0.58158,     0.58258,     0.58358,     0.58458,     0.58559,     0.58659,     0.58759,     0.58859,     0.58959,     0.59059,     0.59159,     0.59259,     0.59359,     0.59459,      0.5956,      0.5966,      0.5976,      0.5986,      0.5996,\n",
              "            0.6006,      0.6016,      0.6026,      0.6036,      0.6046,     0.60561,     0.60661,     0.60761,     0.60861,     0.60961,     0.61061,     0.61161,     0.61261,     0.61361,     0.61461,     0.61562,     0.61662,     0.61762,     0.61862,     0.61962,     0.62062,     0.62162,     0.62262,     0.62362,\n",
              "           0.62462,     0.62563,     0.62663,     0.62763,     0.62863,     0.62963,     0.63063,     0.63163,     0.63263,     0.63363,     0.63463,     0.63564,     0.63664,     0.63764,     0.63864,     0.63964,     0.64064,     0.64164,     0.64264,     0.64364,     0.64464,     0.64565,     0.64665,     0.64765,\n",
              "           0.64865,     0.64965,     0.65065,     0.65165,     0.65265,     0.65365,     0.65465,     0.65566,     0.65666,     0.65766,     0.65866,     0.65966,     0.66066,     0.66166,     0.66266,     0.66366,     0.66466,     0.66567,     0.66667,     0.66767,     0.66867,     0.66967,     0.67067,     0.67167,\n",
              "           0.67267,     0.67367,     0.67467,     0.67568,     0.67668,     0.67768,     0.67868,     0.67968,     0.68068,     0.68168,     0.68268,     0.68368,     0.68468,     0.68569,     0.68669,     0.68769,     0.68869,     0.68969,     0.69069,     0.69169,     0.69269,     0.69369,     0.69469,      0.6957,\n",
              "            0.6967,      0.6977,      0.6987,      0.6997,      0.7007,      0.7017,      0.7027,      0.7037,      0.7047,     0.70571,     0.70671,     0.70771,     0.70871,     0.70971,     0.71071,     0.71171,     0.71271,     0.71371,     0.71471,     0.71572,     0.71672,     0.71772,     0.71872,     0.71972,\n",
              "           0.72072,     0.72172,     0.72272,     0.72372,     0.72472,     0.72573,     0.72673,     0.72773,     0.72873,     0.72973,     0.73073,     0.73173,     0.73273,     0.73373,     0.73473,     0.73574,     0.73674,     0.73774,     0.73874,     0.73974,     0.74074,     0.74174,     0.74274,     0.74374,\n",
              "           0.74474,     0.74575,     0.74675,     0.74775,     0.74875,     0.74975,     0.75075,     0.75175,     0.75275,     0.75375,     0.75475,     0.75576,     0.75676,     0.75776,     0.75876,     0.75976,     0.76076,     0.76176,     0.76276,     0.76376,     0.76476,     0.76577,     0.76677,     0.76777,\n",
              "           0.76877,     0.76977,     0.77077,     0.77177,     0.77277,     0.77377,     0.77477,     0.77578,     0.77678,     0.77778,     0.77878,     0.77978,     0.78078,     0.78178,     0.78278,     0.78378,     0.78478,     0.78579,     0.78679,     0.78779,     0.78879,     0.78979,     0.79079,     0.79179,\n",
              "           0.79279,     0.79379,     0.79479,      0.7958,      0.7968,      0.7978,      0.7988,      0.7998,      0.8008,      0.8018,      0.8028,      0.8038,      0.8048,     0.80581,     0.80681,     0.80781,     0.80881,     0.80981,     0.81081,     0.81181,     0.81281,     0.81381,     0.81481,     0.81582,\n",
              "           0.81682,     0.81782,     0.81882,     0.81982,     0.82082,     0.82182,     0.82282,     0.82382,     0.82482,     0.82583,     0.82683,     0.82783,     0.82883,     0.82983,     0.83083,     0.83183,     0.83283,     0.83383,     0.83483,     0.83584,     0.83684,     0.83784,     0.83884,     0.83984,\n",
              "           0.84084,     0.84184,     0.84284,     0.84384,     0.84484,     0.84585,     0.84685,     0.84785,     0.84885,     0.84985,     0.85085,     0.85185,     0.85285,     0.85385,     0.85485,     0.85586,     0.85686,     0.85786,     0.85886,     0.85986,     0.86086,     0.86186,     0.86286,     0.86386,\n",
              "           0.86486,     0.86587,     0.86687,     0.86787,     0.86887,     0.86987,     0.87087,     0.87187,     0.87287,     0.87387,     0.87487,     0.87588,     0.87688,     0.87788,     0.87888,     0.87988,     0.88088,     0.88188,     0.88288,     0.88388,     0.88488,     0.88589,     0.88689,     0.88789,\n",
              "           0.88889,     0.88989,     0.89089,     0.89189,     0.89289,     0.89389,     0.89489,      0.8959,      0.8969,      0.8979,      0.8989,      0.8999,      0.9009,      0.9019,      0.9029,      0.9039,      0.9049,     0.90591,     0.90691,     0.90791,     0.90891,     0.90991,     0.91091,     0.91191,\n",
              "           0.91291,     0.91391,     0.91491,     0.91592,     0.91692,     0.91792,     0.91892,     0.91992,     0.92092,     0.92192,     0.92292,     0.92392,     0.92492,     0.92593,     0.92693,     0.92793,     0.92893,     0.92993,     0.93093,     0.93193,     0.93293,     0.93393,     0.93493,     0.93594,\n",
              "           0.93694,     0.93794,     0.93894,     0.93994,     0.94094,     0.94194,     0.94294,     0.94394,     0.94494,     0.94595,     0.94695,     0.94795,     0.94895,     0.94995,     0.95095,     0.95195,     0.95295,     0.95395,     0.95495,     0.95596,     0.95696,     0.95796,     0.95896,     0.95996,\n",
              "           0.96096,     0.96196,     0.96296,     0.96396,     0.96496,     0.96597,     0.96697,     0.96797,     0.96897,     0.96997,     0.97097,     0.97197,     0.97297,     0.97397,     0.97497,     0.97598,     0.97698,     0.97798,     0.97898,     0.97998,     0.98098,     0.98198,     0.98298,     0.98398,\n",
              "           0.98498,     0.98599,     0.98699,     0.98799,     0.98899,     0.98999,     0.99099,     0.99199,     0.99299,     0.99399,     0.99499,       0.996,       0.997,       0.998,       0.999,           1]), array([[          1,           1,           1,           1,           1,           1,           1,           1,           1,           1,           1,           1,           1,           1,           1,           1,           1,           1,           1,           1,           1,           1,           1,\n",
              "                  1,           1,           1,           1,           1,           1,           1,           1,           1,           1,           1,           1,           1,           1,           1,           1,           1,           1,           1,           1,           1,           1,           1,\n",
              "                  1,           1,           1,           1,           1,           1,           1,           1,           1,           1,           1,           1,           1,           1,           1,           1,           1,           1,           1,           1,           1,           1,           1,\n",
              "                  1,           1,           1,           1,           1,           1,           1,           1,           1,           1,           1,           1,           1,           1,           1,           1,           1,           1,           1,           1,           1,           1,           1,\n",
              "                  1,           1,           1,           1,           1,           1,           1,           1,           1,           1,           1,           1,           1,           1,           1,           1,           1,           1,           1,           1,           1,           1,           1,\n",
              "                  1,           1,           1,           1,           1,           1,           1,           1,           1,           1,           1,           1,           1,           1,           1,           1,           1,           1,           1,           1,           1,           1,           1,\n",
              "                  1,           1,           1,           1,           1,           1,           1,           1,           1,           1,           1,           1,           1,           1,           1,           1,           1,           1,           1,           1,           1,           1,           1,\n",
              "                  1,           1,           1,           1,           1,           1,           1,           1,           1,           1,           1,           1,           1,           1,           1,           1,           1,           1,           1,           1,           1,           1,           1,\n",
              "                  1,           1,           1,           1,           1,           1,           1,           1,           1,           1,           1,           1,           1,           1,           1,           1,           1,           1,           1,           1,           1,           1,           1,\n",
              "                  1,           1,           1,           1,           1,           1,           1,           1,           1,           1,           1,           1,           1,           1,           1,           1,           1,           1,           1,           1,           1,           1,           1,\n",
              "                  1,           1,           1,           1,           1,           1,           1,           1,           1,           1,           1,           1,           1,           1,           1,           1,           1,           1,           1,           1,           1,           1,           1,\n",
              "                  1,           1,           1,           1,           1,           1,           1,           1,           1,           1,           1,           1,           1,           1,           1,           1,           1,           1,           1,           1,           1,           1,           1,\n",
              "                  1,           1,           1,           1,           1,           1,           1,           1,           1,           1,           1,           1,           1,           1,           1,           1,           1,           1,           1,           1,           1,           1,           1,\n",
              "                  1,           1,           1,           1,           1,           1,           1,           1,           1,           1,           1,           1,           1,           1,           1,           1,           1,           1,           1,           1,           1,           1,           1,\n",
              "                  1,           1,           1,           1,           1,           1,           1,           1,           1,           1,           1,           1,           1,           1,           1,           1,           1,           1,           1,           1,           1,           1,           1,\n",
              "                  1,           1,           1,           1,           1,           1,           1,           1,           1,           1,           1,           1,           1,           1,           1,           1,           1,           1,           1,           1,           1,           1,           1,\n",
              "                  1,           1,           1,           1,           1,           1,           1,           1,           1,           1,           1,           1,           1,           1,           1,           1,           1,           1,           1,           1,           1,           1,           1,\n",
              "                  1,           1,           1,           1,           1,           1,           1,           1,           1,           1,           1,           1,           1,           1,           1,           1,           1,           1,           1,           1,           1,           1,           1,\n",
              "                  1,           1,           1,           1,           1,           1,           1,           1,           1,           1,           1,           1,           1,           1,           1,           1,     0.99468,     0.99468,     0.99468,     0.99468,     0.99468,     0.99468,     0.99468,\n",
              "            0.99468,     0.99468,     0.99468,     0.99468,     0.99468,     0.99468,     0.99468,     0.99468,     0.99468,     0.99468,     0.99468,     0.99468,     0.99468,     0.99468,     0.99468,     0.99468,     0.99468,     0.99468,     0.99468,     0.99468,     0.99468,     0.99468,     0.99468,\n",
              "            0.99468,     0.99468,     0.99468,     0.99468,     0.99468,     0.99468,     0.99468,     0.99468,     0.99468,     0.99468,     0.99468,     0.99468,     0.99468,     0.99468,     0.99468,     0.99468,     0.99468,     0.99468,     0.99468,     0.99468,     0.99468,     0.99468,     0.99468,\n",
              "            0.99468,     0.99468,     0.99468,     0.99468,     0.99468,     0.99468,     0.99468,     0.99468,     0.99468,     0.99468,     0.99468,     0.99468,     0.99468,     0.99468,     0.99468,     0.99468,     0.99468,     0.99468,     0.99468,     0.99468,     0.99468,     0.99468,      0.9899,\n",
              "             0.9899,      0.9899,      0.9899,      0.9899,      0.9899,      0.9899,      0.9899,      0.9899,      0.9899,      0.9899,      0.9899,      0.9899,      0.9899,      0.9899,      0.9899,      0.9899,      0.9899,      0.9899,      0.9899,      0.9899,      0.9899,      0.9899,      0.9899,\n",
              "             0.9899,     0.98529,     0.98529,     0.98529,     0.98529,     0.98529,     0.98529,     0.98529,     0.98529,     0.98529,     0.98529,     0.98529,     0.98529,     0.98529,      0.9814,      0.9814,      0.9814,      0.9814,      0.9814,      0.9814,      0.9814,      0.9814,      0.9814,\n",
              "             0.9814,      0.9814,      0.9814,      0.9814,      0.9814,      0.9814,      0.9814,      0.9814,      0.9814,      0.9814,      0.9814,      0.9814,      0.9814,      0.9814,      0.9814,      0.9814,      0.9814,      0.9814,     0.97835,     0.97835,     0.97835,     0.97835,     0.97835,\n",
              "            0.97835,     0.97835,     0.97835,     0.97835,     0.97835,     0.97835,     0.97835,     0.97835,     0.97835,     0.97835,     0.97835,     0.97835,     0.97835,     0.97835,     0.97835,     0.97835,     0.97835,     0.97835,     0.97835,     0.97835,     0.97835,     0.97835,     0.97835,\n",
              "            0.97835,     0.97835,     0.97835,     0.97835,     0.97835,     0.97835,     0.97835,     0.97835,     0.97835,     0.97835,     0.97835,     0.97835,     0.97835,     0.97447,     0.97447,     0.97447,     0.97447,     0.97447,     0.97447,     0.97447,     0.97447,     0.97297,     0.97297,\n",
              "            0.97297,     0.97297,     0.97297,     0.97297,     0.97297,     0.97297,     0.97297,     0.97297,     0.97297,     0.97297,     0.97297,     0.97297,     0.97297,     0.97297,     0.97297,     0.97297,     0.97297,     0.97297,     0.97297,     0.97297,     0.97297,     0.97297,     0.97297,\n",
              "            0.97297,     0.97297,     0.97297,     0.97297,     0.97297,     0.97297,     0.97297,     0.97297,     0.97297,     0.97297,     0.97297,     0.97297,     0.97297,     0.97297,     0.97297,     0.97297,     0.97297,     0.97297,     0.97297,     0.97297,     0.97297,     0.97297,     0.97297,\n",
              "            0.97297,     0.97297,     0.97297,     0.97297,     0.97297,     0.97297,     0.97297,     0.97297,     0.97297,     0.97297,     0.97297,     0.97297,     0.97297,     0.97297,     0.96958,     0.96958,     0.96958,     0.96958,     0.96958,     0.96958,     0.96958,     0.96958,      0.9635,\n",
              "             0.9635,      0.9635,      0.9635,      0.9635,      0.9635,      0.9635,      0.9635,      0.9635,      0.9635,      0.9635,      0.9635,      0.9635,      0.9635,      0.9635,      0.9635,      0.9635,      0.9635,      0.9635,      0.9635,      0.9635,      0.9635,      0.9635,      0.9635,\n",
              "            0.96113,     0.96113,     0.96113,     0.96113,     0.96113,     0.96113,     0.96113,     0.96113,     0.96113,     0.96113,     0.96113,     0.96113,     0.96113,     0.96113,     0.96113,     0.96113,     0.96113,     0.96113,     0.96113,     0.96113,     0.96113,     0.96113,     0.95517,\n",
              "            0.95517,     0.95517,     0.95517,     0.95517,     0.95517,     0.95517,     0.95517,     0.95517,     0.95517,     0.95517,     0.95517,     0.95517,     0.94966,     0.94966,     0.94966,     0.94966,     0.94966,     0.94966,     0.94966,     0.94966,     0.94966,     0.94966,     0.94966,\n",
              "            0.94966,     0.94966,     0.94966,     0.94966,     0.94966,     0.94966,     0.94788,     0.94788,     0.94788,     0.94788,     0.94788,     0.94788,     0.94788,     0.94788,     0.94788,     0.94788,     0.94788,     0.94788,     0.94788,     0.94788,     0.94788,     0.94788,     0.94788,\n",
              "            0.94788,     0.94788,     0.94788,     0.94788,     0.94586,     0.94586,     0.94586,     0.94586,     0.94586,     0.94586,     0.94586,     0.94586,     0.94586,     0.94586,     0.94586,     0.94586,     0.94586,     0.94586,     0.94586,     0.94586,     0.93789,     0.93789,     0.93789,\n",
              "            0.93789,     0.93789,     0.93789,     0.93789,     0.93789,     0.93789,     0.93789,     0.93789,     0.93789,     0.93789,     0.93789,     0.93293,     0.93293,     0.93293,     0.93293,     0.93293,     0.93293,     0.93293,     0.93293,     0.93293,     0.93293,     0.93293,     0.93072,\n",
              "            0.93072,     0.93072,     0.93072,     0.93072,     0.93072,     0.93072,     0.93072,     0.92814,     0.92814,     0.92582,     0.92582,     0.92582,     0.92582,     0.92582,     0.92582,      0.9157,      0.9157,      0.9157,      0.9157,      0.9157,      0.9157,      0.9157,      0.9157,\n",
              "            0.89773,     0.89773,     0.89773,     0.89577,     0.89577,     0.89577,     0.89577,     0.89577,     0.89444,     0.89444,     0.89444,     0.89444,     0.89444,     0.89444,     0.89444,     0.89444,     0.89444,     0.89444,     0.89444,     0.89256,     0.89256,     0.89256,     0.89256,\n",
              "            0.89256,     0.88828,     0.88828,     0.88828,     0.88828,     0.88828,     0.88828,     0.87467,     0.87467,     0.87467,     0.87467,     0.87467,     0.87037,     0.87037,     0.87037,     0.86911,     0.86911,     0.86911,     0.86911,     0.86911,     0.86911,     0.86911,     0.86911,\n",
              "            0.86047,     0.86047,     0.86047,     0.85422,     0.85422,     0.83704,     0.83704,     0.83704,     0.83704,     0.83704,     0.83704,     0.83704,     0.83704,     0.83704,     0.83704,     0.83704,     0.83704,     0.83704,     0.83704,     0.83333,     0.83333,     0.83333,     0.81971,\n",
              "            0.81971,     0.81818,     0.81818,     0.81818,     0.80516,     0.80516,     0.80516,     0.79814,     0.79814,     0.78409,     0.78409,     0.78409,     0.77578,     0.77578,     0.77578,       0.766,       0.766,     0.76484,     0.76484,     0.76484,     0.75541,     0.75541,     0.75541,\n",
              "            0.69307,     0.69307,     0.68421,     0.68421,     0.68421,     0.67954,     0.67954,     0.67954,     0.67366,     0.67366,     0.67366,     0.66919,     0.66919,     0.66108,     0.66108,     0.66108,     0.64727,     0.64727,     0.64727,     0.63636,     0.63636,     0.60781,     0.60781,\n",
              "            0.60781,     0.60134,     0.60134,     0.60134,     0.57508,     0.57508,     0.57508,     0.53481,     0.53481,     0.51494,     0.51494,     0.51494,     0.45546,     0.45546,     0.45546,     0.31005,     0.31005,      0.2643,      0.2643,      0.2643,     0.23628,     0.23628,     0.23628,\n",
              "            0.20803,     0.18723,     0.16643,     0.14562,     0.12482,     0.10402,    0.083214,     0.06241,    0.041607,    0.020803,           0]]), 'Recall', 'Precision'], [array([          0,    0.001001,    0.002002,    0.003003,    0.004004,    0.005005,    0.006006,    0.007007,    0.008008,    0.009009,     0.01001,    0.011011,    0.012012,    0.013013,    0.014014,    0.015015,    0.016016,    0.017017,    0.018018,    0.019019,     0.02002,    0.021021,    0.022022,    0.023023,\n",
              "          0.024024,    0.025025,    0.026026,    0.027027,    0.028028,    0.029029,     0.03003,    0.031031,    0.032032,    0.033033,    0.034034,    0.035035,    0.036036,    0.037037,    0.038038,    0.039039,     0.04004,    0.041041,    0.042042,    0.043043,    0.044044,    0.045045,    0.046046,    0.047047,\n",
              "          0.048048,    0.049049,     0.05005,    0.051051,    0.052052,    0.053053,    0.054054,    0.055055,    0.056056,    0.057057,    0.058058,    0.059059,     0.06006,    0.061061,    0.062062,    0.063063,    0.064064,    0.065065,    0.066066,    0.067067,    0.068068,    0.069069,     0.07007,    0.071071,\n",
              "          0.072072,    0.073073,    0.074074,    0.075075,    0.076076,    0.077077,    0.078078,    0.079079,     0.08008,    0.081081,    0.082082,    0.083083,    0.084084,    0.085085,    0.086086,    0.087087,    0.088088,    0.089089,     0.09009,    0.091091,    0.092092,    0.093093,    0.094094,    0.095095,\n",
              "          0.096096,    0.097097,    0.098098,    0.099099,      0.1001,      0.1011,      0.1021,      0.1031,      0.1041,     0.10511,     0.10611,     0.10711,     0.10811,     0.10911,     0.11011,     0.11111,     0.11211,     0.11311,     0.11411,     0.11512,     0.11612,     0.11712,     0.11812,     0.11912,\n",
              "           0.12012,     0.12112,     0.12212,     0.12312,     0.12412,     0.12513,     0.12613,     0.12713,     0.12813,     0.12913,     0.13013,     0.13113,     0.13213,     0.13313,     0.13413,     0.13514,     0.13614,     0.13714,     0.13814,     0.13914,     0.14014,     0.14114,     0.14214,     0.14314,\n",
              "           0.14414,     0.14515,     0.14615,     0.14715,     0.14815,     0.14915,     0.15015,     0.15115,     0.15215,     0.15315,     0.15415,     0.15516,     0.15616,     0.15716,     0.15816,     0.15916,     0.16016,     0.16116,     0.16216,     0.16316,     0.16416,     0.16517,     0.16617,     0.16717,\n",
              "           0.16817,     0.16917,     0.17017,     0.17117,     0.17217,     0.17317,     0.17417,     0.17518,     0.17618,     0.17718,     0.17818,     0.17918,     0.18018,     0.18118,     0.18218,     0.18318,     0.18418,     0.18519,     0.18619,     0.18719,     0.18819,     0.18919,     0.19019,     0.19119,\n",
              "           0.19219,     0.19319,     0.19419,      0.1952,      0.1962,      0.1972,      0.1982,      0.1992,      0.2002,      0.2012,      0.2022,      0.2032,      0.2042,     0.20521,     0.20621,     0.20721,     0.20821,     0.20921,     0.21021,     0.21121,     0.21221,     0.21321,     0.21421,     0.21522,\n",
              "           0.21622,     0.21722,     0.21822,     0.21922,     0.22022,     0.22122,     0.22222,     0.22322,     0.22422,     0.22523,     0.22623,     0.22723,     0.22823,     0.22923,     0.23023,     0.23123,     0.23223,     0.23323,     0.23423,     0.23524,     0.23624,     0.23724,     0.23824,     0.23924,\n",
              "           0.24024,     0.24124,     0.24224,     0.24324,     0.24424,     0.24525,     0.24625,     0.24725,     0.24825,     0.24925,     0.25025,     0.25125,     0.25225,     0.25325,     0.25425,     0.25526,     0.25626,     0.25726,     0.25826,     0.25926,     0.26026,     0.26126,     0.26226,     0.26326,\n",
              "           0.26426,     0.26527,     0.26627,     0.26727,     0.26827,     0.26927,     0.27027,     0.27127,     0.27227,     0.27327,     0.27427,     0.27528,     0.27628,     0.27728,     0.27828,     0.27928,     0.28028,     0.28128,     0.28228,     0.28328,     0.28428,     0.28529,     0.28629,     0.28729,\n",
              "           0.28829,     0.28929,     0.29029,     0.29129,     0.29229,     0.29329,     0.29429,      0.2953,      0.2963,      0.2973,      0.2983,      0.2993,      0.3003,      0.3013,      0.3023,      0.3033,      0.3043,     0.30531,     0.30631,     0.30731,     0.30831,     0.30931,     0.31031,     0.31131,\n",
              "           0.31231,     0.31331,     0.31431,     0.31532,     0.31632,     0.31732,     0.31832,     0.31932,     0.32032,     0.32132,     0.32232,     0.32332,     0.32432,     0.32533,     0.32633,     0.32733,     0.32833,     0.32933,     0.33033,     0.33133,     0.33233,     0.33333,     0.33433,     0.33534,\n",
              "           0.33634,     0.33734,     0.33834,     0.33934,     0.34034,     0.34134,     0.34234,     0.34334,     0.34434,     0.34535,     0.34635,     0.34735,     0.34835,     0.34935,     0.35035,     0.35135,     0.35235,     0.35335,     0.35435,     0.35536,     0.35636,     0.35736,     0.35836,     0.35936,\n",
              "           0.36036,     0.36136,     0.36236,     0.36336,     0.36436,     0.36537,     0.36637,     0.36737,     0.36837,     0.36937,     0.37037,     0.37137,     0.37237,     0.37337,     0.37437,     0.37538,     0.37638,     0.37738,     0.37838,     0.37938,     0.38038,     0.38138,     0.38238,     0.38338,\n",
              "           0.38438,     0.38539,     0.38639,     0.38739,     0.38839,     0.38939,     0.39039,     0.39139,     0.39239,     0.39339,     0.39439,      0.3954,      0.3964,      0.3974,      0.3984,      0.3994,      0.4004,      0.4014,      0.4024,      0.4034,      0.4044,     0.40541,     0.40641,     0.40741,\n",
              "           0.40841,     0.40941,     0.41041,     0.41141,     0.41241,     0.41341,     0.41441,     0.41542,     0.41642,     0.41742,     0.41842,     0.41942,     0.42042,     0.42142,     0.42242,     0.42342,     0.42442,     0.42543,     0.42643,     0.42743,     0.42843,     0.42943,     0.43043,     0.43143,\n",
              "           0.43243,     0.43343,     0.43443,     0.43544,     0.43644,     0.43744,     0.43844,     0.43944,     0.44044,     0.44144,     0.44244,     0.44344,     0.44444,     0.44545,     0.44645,     0.44745,     0.44845,     0.44945,     0.45045,     0.45145,     0.45245,     0.45345,     0.45445,     0.45546,\n",
              "           0.45646,     0.45746,     0.45846,     0.45946,     0.46046,     0.46146,     0.46246,     0.46346,     0.46446,     0.46547,     0.46647,     0.46747,     0.46847,     0.46947,     0.47047,     0.47147,     0.47247,     0.47347,     0.47447,     0.47548,     0.47648,     0.47748,     0.47848,     0.47948,\n",
              "           0.48048,     0.48148,     0.48248,     0.48348,     0.48448,     0.48549,     0.48649,     0.48749,     0.48849,     0.48949,     0.49049,     0.49149,     0.49249,     0.49349,     0.49449,      0.4955,      0.4965,      0.4975,      0.4985,      0.4995,      0.5005,      0.5015,      0.5025,      0.5035,\n",
              "            0.5045,     0.50551,     0.50651,     0.50751,     0.50851,     0.50951,     0.51051,     0.51151,     0.51251,     0.51351,     0.51451,     0.51552,     0.51652,     0.51752,     0.51852,     0.51952,     0.52052,     0.52152,     0.52252,     0.52352,     0.52452,     0.52553,     0.52653,     0.52753,\n",
              "           0.52853,     0.52953,     0.53053,     0.53153,     0.53253,     0.53353,     0.53453,     0.53554,     0.53654,     0.53754,     0.53854,     0.53954,     0.54054,     0.54154,     0.54254,     0.54354,     0.54454,     0.54555,     0.54655,     0.54755,     0.54855,     0.54955,     0.55055,     0.55155,\n",
              "           0.55255,     0.55355,     0.55455,     0.55556,     0.55656,     0.55756,     0.55856,     0.55956,     0.56056,     0.56156,     0.56256,     0.56356,     0.56456,     0.56557,     0.56657,     0.56757,     0.56857,     0.56957,     0.57057,     0.57157,     0.57257,     0.57357,     0.57457,     0.57558,\n",
              "           0.57658,     0.57758,     0.57858,     0.57958,     0.58058,     0.58158,     0.58258,     0.58358,     0.58458,     0.58559,     0.58659,     0.58759,     0.58859,     0.58959,     0.59059,     0.59159,     0.59259,     0.59359,     0.59459,      0.5956,      0.5966,      0.5976,      0.5986,      0.5996,\n",
              "            0.6006,      0.6016,      0.6026,      0.6036,      0.6046,     0.60561,     0.60661,     0.60761,     0.60861,     0.60961,     0.61061,     0.61161,     0.61261,     0.61361,     0.61461,     0.61562,     0.61662,     0.61762,     0.61862,     0.61962,     0.62062,     0.62162,     0.62262,     0.62362,\n",
              "           0.62462,     0.62563,     0.62663,     0.62763,     0.62863,     0.62963,     0.63063,     0.63163,     0.63263,     0.63363,     0.63463,     0.63564,     0.63664,     0.63764,     0.63864,     0.63964,     0.64064,     0.64164,     0.64264,     0.64364,     0.64464,     0.64565,     0.64665,     0.64765,\n",
              "           0.64865,     0.64965,     0.65065,     0.65165,     0.65265,     0.65365,     0.65465,     0.65566,     0.65666,     0.65766,     0.65866,     0.65966,     0.66066,     0.66166,     0.66266,     0.66366,     0.66466,     0.66567,     0.66667,     0.66767,     0.66867,     0.66967,     0.67067,     0.67167,\n",
              "           0.67267,     0.67367,     0.67467,     0.67568,     0.67668,     0.67768,     0.67868,     0.67968,     0.68068,     0.68168,     0.68268,     0.68368,     0.68468,     0.68569,     0.68669,     0.68769,     0.68869,     0.68969,     0.69069,     0.69169,     0.69269,     0.69369,     0.69469,      0.6957,\n",
              "            0.6967,      0.6977,      0.6987,      0.6997,      0.7007,      0.7017,      0.7027,      0.7037,      0.7047,     0.70571,     0.70671,     0.70771,     0.70871,     0.70971,     0.71071,     0.71171,     0.71271,     0.71371,     0.71471,     0.71572,     0.71672,     0.71772,     0.71872,     0.71972,\n",
              "           0.72072,     0.72172,     0.72272,     0.72372,     0.72472,     0.72573,     0.72673,     0.72773,     0.72873,     0.72973,     0.73073,     0.73173,     0.73273,     0.73373,     0.73473,     0.73574,     0.73674,     0.73774,     0.73874,     0.73974,     0.74074,     0.74174,     0.74274,     0.74374,\n",
              "           0.74474,     0.74575,     0.74675,     0.74775,     0.74875,     0.74975,     0.75075,     0.75175,     0.75275,     0.75375,     0.75475,     0.75576,     0.75676,     0.75776,     0.75876,     0.75976,     0.76076,     0.76176,     0.76276,     0.76376,     0.76476,     0.76577,     0.76677,     0.76777,\n",
              "           0.76877,     0.76977,     0.77077,     0.77177,     0.77277,     0.77377,     0.77477,     0.77578,     0.77678,     0.77778,     0.77878,     0.77978,     0.78078,     0.78178,     0.78278,     0.78378,     0.78478,     0.78579,     0.78679,     0.78779,     0.78879,     0.78979,     0.79079,     0.79179,\n",
              "           0.79279,     0.79379,     0.79479,      0.7958,      0.7968,      0.7978,      0.7988,      0.7998,      0.8008,      0.8018,      0.8028,      0.8038,      0.8048,     0.80581,     0.80681,     0.80781,     0.80881,     0.80981,     0.81081,     0.81181,     0.81281,     0.81381,     0.81481,     0.81582,\n",
              "           0.81682,     0.81782,     0.81882,     0.81982,     0.82082,     0.82182,     0.82282,     0.82382,     0.82482,     0.82583,     0.82683,     0.82783,     0.82883,     0.82983,     0.83083,     0.83183,     0.83283,     0.83383,     0.83483,     0.83584,     0.83684,     0.83784,     0.83884,     0.83984,\n",
              "           0.84084,     0.84184,     0.84284,     0.84384,     0.84484,     0.84585,     0.84685,     0.84785,     0.84885,     0.84985,     0.85085,     0.85185,     0.85285,     0.85385,     0.85485,     0.85586,     0.85686,     0.85786,     0.85886,     0.85986,     0.86086,     0.86186,     0.86286,     0.86386,\n",
              "           0.86486,     0.86587,     0.86687,     0.86787,     0.86887,     0.86987,     0.87087,     0.87187,     0.87287,     0.87387,     0.87487,     0.87588,     0.87688,     0.87788,     0.87888,     0.87988,     0.88088,     0.88188,     0.88288,     0.88388,     0.88488,     0.88589,     0.88689,     0.88789,\n",
              "           0.88889,     0.88989,     0.89089,     0.89189,     0.89289,     0.89389,     0.89489,      0.8959,      0.8969,      0.8979,      0.8989,      0.8999,      0.9009,      0.9019,      0.9029,      0.9039,      0.9049,     0.90591,     0.90691,     0.90791,     0.90891,     0.90991,     0.91091,     0.91191,\n",
              "           0.91291,     0.91391,     0.91491,     0.91592,     0.91692,     0.91792,     0.91892,     0.91992,     0.92092,     0.92192,     0.92292,     0.92392,     0.92492,     0.92593,     0.92693,     0.92793,     0.92893,     0.92993,     0.93093,     0.93193,     0.93293,     0.93393,     0.93493,     0.93594,\n",
              "           0.93694,     0.93794,     0.93894,     0.93994,     0.94094,     0.94194,     0.94294,     0.94394,     0.94494,     0.94595,     0.94695,     0.94795,     0.94895,     0.94995,     0.95095,     0.95195,     0.95295,     0.95395,     0.95495,     0.95596,     0.95696,     0.95796,     0.95896,     0.95996,\n",
              "           0.96096,     0.96196,     0.96296,     0.96396,     0.96496,     0.96597,     0.96697,     0.96797,     0.96897,     0.96997,     0.97097,     0.97197,     0.97297,     0.97397,     0.97497,     0.97598,     0.97698,     0.97798,     0.97898,     0.97998,     0.98098,     0.98198,     0.98298,     0.98398,\n",
              "           0.98498,     0.98599,     0.98699,     0.98799,     0.98899,     0.98999,     0.99099,     0.99199,     0.99299,     0.99399,     0.99499,       0.996,       0.997,       0.998,       0.999,           1]), array([[    0.36618,     0.36642,      0.4912,     0.55557,     0.59281,     0.62741,     0.64995,     0.67155,     0.68563,     0.70171,     0.71113,     0.72464,      0.7361,      0.7423,     0.74544,     0.74971,     0.75667,     0.75937,      0.7645,     0.76692,     0.77032,     0.77332,     0.77352,\n",
              "            0.77608,     0.77769,     0.77891,     0.78053,     0.78387,     0.78625,     0.78968,     0.79012,     0.79151,     0.79312,     0.79566,     0.79671,     0.79759,     0.79803,     0.79868,      0.7993,     0.79974,     0.79867,     0.79991,     0.80079,     0.80309,     0.80473,     0.80629,\n",
              "            0.80701,     0.80919,     0.81075,     0.81272,      0.8132,     0.81585,     0.81863,      0.8198,     0.82091,     0.82175,     0.82222,     0.82237,     0.82253,     0.82268,     0.82283,     0.82298,     0.82336,     0.82503,     0.82698,     0.82819,     0.82849,     0.82878,     0.83011,\n",
              "            0.83146,     0.83369,     0.83444,     0.83513,     0.83613,      0.8367,     0.83783,     0.83856,     0.83817,     0.83872,     0.83893,     0.83913,     0.83934,     0.83954,     0.84323,     0.84283,      0.8428,     0.84195,     0.84315,     0.84356,     0.84447,     0.84618,     0.84656,\n",
              "            0.84693,     0.84798,     0.84763,     0.84721,     0.84678,      0.8471,     0.84821,     0.84911,     0.84963,     0.85101,     0.85159,     0.85088,     0.85164,      0.8524,     0.85424,     0.85551,     0.85612,     0.85661,     0.85706,     0.85748,     0.85797,      0.8575,     0.85764,\n",
              "            0.85779,     0.85793,     0.85807,     0.85822,     0.85836,      0.8585,     0.85884,     0.85938,      0.8599,     0.86042,     0.86059,      0.8622,     0.86267,     0.86285,     0.86302,     0.86319,     0.86337,     0.86354,     0.86379,     0.86414,     0.86449,     0.86488,     0.86535,\n",
              "            0.86581,     0.86657,     0.86789,     0.86759,     0.86729,     0.86699,     0.86669,     0.86677,     0.86707,     0.86736,     0.86766,      0.8674,     0.86709,     0.86678,     0.86647,     0.86643,     0.86709,     0.86743,     0.86757,     0.86771,     0.86784,     0.86798,     0.86812,\n",
              "            0.86825,     0.86839,     0.86895,     0.86987,     0.87069,     0.87077,     0.87085,     0.87093,     0.87101,     0.87109,     0.87117,     0.87126,     0.87134,     0.87142,      0.8715,     0.87158,     0.87166,     0.87174,     0.87192,     0.87229,     0.87266,     0.87302,     0.87335,\n",
              "            0.87368,     0.87401,     0.87382,     0.87358,     0.87334,      0.8731,     0.87286,     0.87263,     0.87292,     0.87332,     0.87371,     0.87382,     0.87393,     0.87404,     0.87415,     0.87426,     0.87436,     0.87447,     0.87458,     0.87469,      0.8748,     0.87302,     0.87226,\n",
              "            0.87188,      0.8718,     0.87172,     0.87164,     0.87156,     0.87147,     0.87139,     0.87131,     0.87123,     0.87115,     0.87107,     0.87098,      0.8709,     0.87082,     0.87074,     0.87066,     0.87058,     0.87049,     0.87037,     0.87023,     0.87008,     0.86994,     0.86979,\n",
              "            0.86965,     0.86951,     0.86936,     0.86922,     0.86907,     0.86819,     0.86815,     0.86878,     0.86902,     0.86926,     0.86949,     0.86973,     0.87015,     0.87062,     0.87126,     0.87212,     0.87259,     0.87306,     0.87555,     0.87578,     0.87602,     0.87625,     0.87649,\n",
              "             0.8767,     0.87686,     0.87703,     0.87719,     0.87736,     0.87752,     0.87769,     0.87765,     0.87727,     0.87689,     0.87651,     0.87649,     0.87684,      0.8772,     0.87863,     0.87875,     0.87887,     0.87899,     0.87911,     0.87924,     0.87936,     0.87948,      0.8796,\n",
              "            0.87972,     0.87951,     0.87888,     0.87832,     0.87844,     0.87855,     0.87867,     0.87879,      0.8789,     0.87902,     0.87914,     0.87926,     0.87937,     0.87953,      0.8799,     0.88027,     0.88064,     0.88111,     0.88159,     0.88206,     0.88254,     0.88295,     0.88254,\n",
              "            0.88213,     0.88172,     0.88132,     0.88093,     0.88053,     0.88014,      0.8797,     0.87924,     0.87878,     0.87858,     0.87876,     0.87894,     0.87912,      0.8793,     0.87948,     0.87966,     0.87922,      0.8787,     0.87818,      0.8794,     0.87947,     0.87953,      0.8796,\n",
              "            0.87966,     0.87973,     0.87979,     0.87986,     0.87992,     0.87999,     0.88005,     0.88012,     0.88018,     0.88024,     0.88031,     0.88037,     0.88044,      0.8805,     0.88042,     0.88018,     0.87994,     0.87971,     0.87947,     0.87923,     0.87875,     0.87754,     0.87761,\n",
              "            0.87767,     0.87774,     0.87781,     0.87787,     0.87794,     0.87801,     0.87807,     0.87814,     0.87821,     0.87827,     0.87834,     0.87841,     0.87847,     0.87854,     0.87861,     0.87867,     0.87919,     0.87991,     0.87999,     0.88007,     0.88015,     0.88023,     0.88032,\n",
              "             0.8804,     0.88048,     0.88056,     0.88064,     0.88072,      0.8808,     0.88088,     0.88096,     0.88104,     0.88199,     0.88302,     0.88421,     0.88444,     0.88411,     0.88377,     0.88344,     0.88308,     0.88255,     0.88202,     0.88183,     0.88254,     0.88307,     0.88347,\n",
              "            0.88387,     0.88389,     0.88365,     0.88341,     0.88316,     0.88292,     0.88268,     0.88246,     0.88229,     0.88213,     0.88196,      0.8818,     0.88163,     0.88146,      0.8813,     0.88113,     0.88109,     0.88203,     0.88201,     0.88179,     0.88156,     0.88134,     0.88112,\n",
              "            0.88089,     0.88067,     0.88055,     0.88044,     0.88033,     0.88022,      0.8801,     0.87999,     0.87988,     0.87977,     0.87965,     0.87954,     0.87943,     0.87932,      0.8792,     0.87896,     0.87835,     0.87773,     0.87745,     0.87728,     0.87711,     0.87694,     0.87677,\n",
              "             0.8766,     0.87643,     0.87626,     0.87609,     0.87674,     0.87689,     0.87622,     0.87418,     0.87441,     0.87464,     0.87487,     0.87509,     0.87532,     0.87495,      0.8745,     0.87405,     0.87403,     0.87462,     0.87508,      0.8753,     0.87552,     0.87574,     0.87596,\n",
              "            0.87618,     0.87643,     0.87668,     0.87694,     0.87719,     0.87744,     0.87761,     0.87779,     0.87796,     0.87813,     0.87831,     0.87848,     0.87865,     0.87878,     0.87892,     0.87905,     0.87918,     0.87931,     0.87944,     0.87958,     0.87971,     0.87984,     0.88014,\n",
              "            0.88053,     0.88093,     0.88131,     0.88167,     0.88203,     0.88233,     0.88217,     0.88201,     0.88185,     0.88169,     0.88152,     0.88136,      0.8812,     0.88104,     0.88087,     0.88064,     0.88033,     0.88001,      0.8797,     0.87938,      0.8782,     0.87773,     0.87786,\n",
              "            0.87799,     0.87812,     0.87825,     0.87838,     0.87851,     0.87864,     0.87877,     0.87889,     0.87901,     0.87912,     0.87923,     0.87934,     0.87946,     0.87957,     0.87968,      0.8798,     0.87991,     0.88002,     0.88028,     0.88116,     0.88252,      0.8814,     0.88081,\n",
              "             0.8805,     0.88019,     0.87988,     0.87957,     0.88041,     0.87984,     0.87926,     0.87914,     0.87921,     0.87927,     0.87934,     0.87941,     0.87948,     0.87955,     0.87962,     0.87968,     0.87975,     0.87982,     0.87989,     0.87996,     0.88003,     0.88009,     0.88016,\n",
              "            0.88023,      0.8803,     0.88029,     0.88013,     0.87997,     0.87982,     0.87966,      0.8795,     0.87935,     0.87919,     0.87903,     0.87887,     0.87831,     0.87704,     0.87685,     0.87667,     0.87648,     0.87629,      0.8761,     0.87592,     0.87573,     0.87554,     0.87583,\n",
              "            0.87613,     0.87643,     0.87673,     0.87633,     0.87576,     0.87519,     0.87386,     0.87187,     0.87159,     0.87131,     0.87103,     0.87075,     0.87047,     0.87092,       0.872,     0.87283,     0.87223,     0.87163,     0.87115,     0.87097,     0.87079,     0.87061,     0.87043,\n",
              "            0.87025,     0.87007,     0.86989,     0.86971,     0.86953,     0.86934,     0.86915,     0.86896,     0.86876,     0.86857,     0.86838,     0.86819,       0.868,     0.86756,     0.86696,     0.86637,     0.86606,      0.8658,     0.86555,     0.86529,     0.86504,     0.86478,     0.86472,\n",
              "            0.86494,     0.86516,     0.86538,      0.8656,     0.86582,     0.86612,     0.86646,      0.8668,     0.86714,     0.86804,      0.8681,     0.86756,     0.86703,      0.8666,     0.86627,     0.86595,     0.86562,      0.8653,     0.86495,     0.86457,     0.86419,     0.86381,     0.86342,\n",
              "            0.86269,     0.86195,     0.86164,     0.86147,     0.86131,     0.86114,     0.86098,     0.86081,     0.86064,     0.86047,     0.86031,     0.86014,     0.85967,     0.85905,     0.85843,     0.85886,     0.85933,     0.85957,     0.85915,     0.85873,     0.85832,      0.8578,     0.85694,\n",
              "            0.85529,     0.85276,     0.85245,     0.85214,     0.85183,     0.85151,      0.8512,     0.85091,     0.85063,     0.85035,     0.85006,     0.84978,     0.84949,     0.84876,     0.84801,     0.84605,      0.8461,     0.84614,     0.84619,     0.84624,     0.84629,     0.84633,     0.84638,\n",
              "            0.84643,     0.84648,     0.84653,     0.84657,     0.84662,     0.84667,     0.84672,     0.84677,     0.84681,     0.84686,     0.84691,     0.84696,       0.847,     0.84705,      0.8471,     0.84715,      0.8472,     0.84724,     0.84729,      0.8471,     0.84681,     0.84651,     0.84622,\n",
              "            0.84592,     0.84563,     0.84318,     0.84207,     0.84181,     0.84156,     0.84131,     0.84105,      0.8408,     0.84054,     0.83994,     0.83854,     0.83792,      0.8373,       0.837,     0.83748,     0.83796,     0.83831,      0.8386,     0.83888,     0.83916,     0.83917,     0.83788,\n",
              "            0.83662,     0.83231,     0.83194,     0.83156,     0.83119,     0.83082,     0.83059,     0.83082,     0.83106,     0.83129,     0.83152,     0.83175,     0.83198,      0.8322,     0.83242,     0.83264,     0.83287,     0.83256,     0.83096,     0.83059,     0.83023,     0.82986,     0.82948,\n",
              "            0.82865,     0.82782,     0.82395,     0.82294,     0.82216,     0.82187,     0.82157,     0.82128,     0.82099,     0.82069,     0.81902,      0.8198,     0.81792,     0.81602,     0.81337,     0.80849,     0.80401,     0.80464,     0.80499,     0.80533,     0.80568,     0.80185,     0.80158,\n",
              "             0.8013,     0.80102,     0.80074,     0.80046,     0.80018,      0.8006,     0.80063,     0.79955,     0.79709,     0.79555,     0.79132,     0.78928,     0.78684,     0.78348,     0.78301,     0.78254,     0.78207,     0.78074,      0.7776,     0.77653,     0.77316,      0.7718,     0.77141,\n",
              "            0.77102,     0.77063,     0.77024,     0.76926,     0.76763,     0.76674,     0.76532,     0.76162,     0.76026,     0.75651,     0.75191,     0.75141,     0.75189,     0.75133,     0.75077,     0.75021,     0.74847,     0.74362,     0.74121,     0.73945,      0.7337,     0.73151,     0.72804,\n",
              "            0.72437,     0.72277,     0.71677,     0.71432,       0.709,     0.70268,     0.70001,     0.69667,     0.69054,     0.68975,     0.68716,     0.68602,      0.6831,     0.67948,     0.67702,     0.66916,      0.6676,     0.65987,     0.65154,     0.62953,      0.6187,     0.60229,         0.6,\n",
              "            0.58237,     0.57601,     0.56549,     0.55996,     0.55291,      0.5412,     0.53653,     0.53117,     0.52066,     0.51317,     0.50968,      0.4985,     0.48619,     0.47584,     0.46683,     0.45262,     0.43461,     0.42833,     0.41226,     0.40087,     0.39004,     0.38072,     0.37851,\n",
              "              0.372,     0.35323,     0.34875,     0.33907,      0.3298,     0.30591,     0.30375,     0.29977,     0.28238,     0.27954,      0.2727,     0.25909,     0.25025,     0.24719,     0.24446,     0.24144,     0.23656,     0.22869,     0.22592,     0.21807,     0.20382,     0.20215,     0.20047,\n",
              "            0.19905,     0.19797,     0.19689,     0.19581,     0.19232,     0.18379,     0.17176,     0.16435,     0.15519,     0.14883,     0.14662,     0.13294,      0.1266,     0.12018,     0.11786,     0.11532,     0.11266,     0.10929,     0.10589,     0.10261,    0.095894,    0.091096,    0.087821,\n",
              "            0.08653,    0.085238,    0.083944,    0.080701,    0.074448,    0.072203,    0.071136,    0.070067,    0.068997,    0.067925,     0.06182,    0.059866,    0.057907,    0.054992,    0.052132,    0.049812,     0.04728,    0.039255,    0.035732,    0.031901,    0.031013,    0.030125,    0.029235,\n",
              "           0.028345,    0.027455,    0.026575,    0.025782,    0.024989,    0.024196,    0.023401,    0.022606,    0.021811,    0.019172,    0.014874,     0.01136,    0.010294,   0.0097386,   0.0091833,   0.0086277,   0.0080717,   0.0075155,   0.0069589,    0.006402,   0.0058448,           0,           0,\n",
              "                  0,           0,           0,           0,           0,           0,           0,           0,           0,           0,           0,           0,           0,           0,           0,           0,           0,           0,           0,           0,           0,           0,           0,\n",
              "                  0,           0,           0,           0,           0,           0,           0,           0,           0,           0,           0]]), 'Confidence', 'F1'], [array([          0,    0.001001,    0.002002,    0.003003,    0.004004,    0.005005,    0.006006,    0.007007,    0.008008,    0.009009,     0.01001,    0.011011,    0.012012,    0.013013,    0.014014,    0.015015,    0.016016,    0.017017,    0.018018,    0.019019,     0.02002,    0.021021,    0.022022,    0.023023,\n",
              "          0.024024,    0.025025,    0.026026,    0.027027,    0.028028,    0.029029,     0.03003,    0.031031,    0.032032,    0.033033,    0.034034,    0.035035,    0.036036,    0.037037,    0.038038,    0.039039,     0.04004,    0.041041,    0.042042,    0.043043,    0.044044,    0.045045,    0.046046,    0.047047,\n",
              "          0.048048,    0.049049,     0.05005,    0.051051,    0.052052,    0.053053,    0.054054,    0.055055,    0.056056,    0.057057,    0.058058,    0.059059,     0.06006,    0.061061,    0.062062,    0.063063,    0.064064,    0.065065,    0.066066,    0.067067,    0.068068,    0.069069,     0.07007,    0.071071,\n",
              "          0.072072,    0.073073,    0.074074,    0.075075,    0.076076,    0.077077,    0.078078,    0.079079,     0.08008,    0.081081,    0.082082,    0.083083,    0.084084,    0.085085,    0.086086,    0.087087,    0.088088,    0.089089,     0.09009,    0.091091,    0.092092,    0.093093,    0.094094,    0.095095,\n",
              "          0.096096,    0.097097,    0.098098,    0.099099,      0.1001,      0.1011,      0.1021,      0.1031,      0.1041,     0.10511,     0.10611,     0.10711,     0.10811,     0.10911,     0.11011,     0.11111,     0.11211,     0.11311,     0.11411,     0.11512,     0.11612,     0.11712,     0.11812,     0.11912,\n",
              "           0.12012,     0.12112,     0.12212,     0.12312,     0.12412,     0.12513,     0.12613,     0.12713,     0.12813,     0.12913,     0.13013,     0.13113,     0.13213,     0.13313,     0.13413,     0.13514,     0.13614,     0.13714,     0.13814,     0.13914,     0.14014,     0.14114,     0.14214,     0.14314,\n",
              "           0.14414,     0.14515,     0.14615,     0.14715,     0.14815,     0.14915,     0.15015,     0.15115,     0.15215,     0.15315,     0.15415,     0.15516,     0.15616,     0.15716,     0.15816,     0.15916,     0.16016,     0.16116,     0.16216,     0.16316,     0.16416,     0.16517,     0.16617,     0.16717,\n",
              "           0.16817,     0.16917,     0.17017,     0.17117,     0.17217,     0.17317,     0.17417,     0.17518,     0.17618,     0.17718,     0.17818,     0.17918,     0.18018,     0.18118,     0.18218,     0.18318,     0.18418,     0.18519,     0.18619,     0.18719,     0.18819,     0.18919,     0.19019,     0.19119,\n",
              "           0.19219,     0.19319,     0.19419,      0.1952,      0.1962,      0.1972,      0.1982,      0.1992,      0.2002,      0.2012,      0.2022,      0.2032,      0.2042,     0.20521,     0.20621,     0.20721,     0.20821,     0.20921,     0.21021,     0.21121,     0.21221,     0.21321,     0.21421,     0.21522,\n",
              "           0.21622,     0.21722,     0.21822,     0.21922,     0.22022,     0.22122,     0.22222,     0.22322,     0.22422,     0.22523,     0.22623,     0.22723,     0.22823,     0.22923,     0.23023,     0.23123,     0.23223,     0.23323,     0.23423,     0.23524,     0.23624,     0.23724,     0.23824,     0.23924,\n",
              "           0.24024,     0.24124,     0.24224,     0.24324,     0.24424,     0.24525,     0.24625,     0.24725,     0.24825,     0.24925,     0.25025,     0.25125,     0.25225,     0.25325,     0.25425,     0.25526,     0.25626,     0.25726,     0.25826,     0.25926,     0.26026,     0.26126,     0.26226,     0.26326,\n",
              "           0.26426,     0.26527,     0.26627,     0.26727,     0.26827,     0.26927,     0.27027,     0.27127,     0.27227,     0.27327,     0.27427,     0.27528,     0.27628,     0.27728,     0.27828,     0.27928,     0.28028,     0.28128,     0.28228,     0.28328,     0.28428,     0.28529,     0.28629,     0.28729,\n",
              "           0.28829,     0.28929,     0.29029,     0.29129,     0.29229,     0.29329,     0.29429,      0.2953,      0.2963,      0.2973,      0.2983,      0.2993,      0.3003,      0.3013,      0.3023,      0.3033,      0.3043,     0.30531,     0.30631,     0.30731,     0.30831,     0.30931,     0.31031,     0.31131,\n",
              "           0.31231,     0.31331,     0.31431,     0.31532,     0.31632,     0.31732,     0.31832,     0.31932,     0.32032,     0.32132,     0.32232,     0.32332,     0.32432,     0.32533,     0.32633,     0.32733,     0.32833,     0.32933,     0.33033,     0.33133,     0.33233,     0.33333,     0.33433,     0.33534,\n",
              "           0.33634,     0.33734,     0.33834,     0.33934,     0.34034,     0.34134,     0.34234,     0.34334,     0.34434,     0.34535,     0.34635,     0.34735,     0.34835,     0.34935,     0.35035,     0.35135,     0.35235,     0.35335,     0.35435,     0.35536,     0.35636,     0.35736,     0.35836,     0.35936,\n",
              "           0.36036,     0.36136,     0.36236,     0.36336,     0.36436,     0.36537,     0.36637,     0.36737,     0.36837,     0.36937,     0.37037,     0.37137,     0.37237,     0.37337,     0.37437,     0.37538,     0.37638,     0.37738,     0.37838,     0.37938,     0.38038,     0.38138,     0.38238,     0.38338,\n",
              "           0.38438,     0.38539,     0.38639,     0.38739,     0.38839,     0.38939,     0.39039,     0.39139,     0.39239,     0.39339,     0.39439,      0.3954,      0.3964,      0.3974,      0.3984,      0.3994,      0.4004,      0.4014,      0.4024,      0.4034,      0.4044,     0.40541,     0.40641,     0.40741,\n",
              "           0.40841,     0.40941,     0.41041,     0.41141,     0.41241,     0.41341,     0.41441,     0.41542,     0.41642,     0.41742,     0.41842,     0.41942,     0.42042,     0.42142,     0.42242,     0.42342,     0.42442,     0.42543,     0.42643,     0.42743,     0.42843,     0.42943,     0.43043,     0.43143,\n",
              "           0.43243,     0.43343,     0.43443,     0.43544,     0.43644,     0.43744,     0.43844,     0.43944,     0.44044,     0.44144,     0.44244,     0.44344,     0.44444,     0.44545,     0.44645,     0.44745,     0.44845,     0.44945,     0.45045,     0.45145,     0.45245,     0.45345,     0.45445,     0.45546,\n",
              "           0.45646,     0.45746,     0.45846,     0.45946,     0.46046,     0.46146,     0.46246,     0.46346,     0.46446,     0.46547,     0.46647,     0.46747,     0.46847,     0.46947,     0.47047,     0.47147,     0.47247,     0.47347,     0.47447,     0.47548,     0.47648,     0.47748,     0.47848,     0.47948,\n",
              "           0.48048,     0.48148,     0.48248,     0.48348,     0.48448,     0.48549,     0.48649,     0.48749,     0.48849,     0.48949,     0.49049,     0.49149,     0.49249,     0.49349,     0.49449,      0.4955,      0.4965,      0.4975,      0.4985,      0.4995,      0.5005,      0.5015,      0.5025,      0.5035,\n",
              "            0.5045,     0.50551,     0.50651,     0.50751,     0.50851,     0.50951,     0.51051,     0.51151,     0.51251,     0.51351,     0.51451,     0.51552,     0.51652,     0.51752,     0.51852,     0.51952,     0.52052,     0.52152,     0.52252,     0.52352,     0.52452,     0.52553,     0.52653,     0.52753,\n",
              "           0.52853,     0.52953,     0.53053,     0.53153,     0.53253,     0.53353,     0.53453,     0.53554,     0.53654,     0.53754,     0.53854,     0.53954,     0.54054,     0.54154,     0.54254,     0.54354,     0.54454,     0.54555,     0.54655,     0.54755,     0.54855,     0.54955,     0.55055,     0.55155,\n",
              "           0.55255,     0.55355,     0.55455,     0.55556,     0.55656,     0.55756,     0.55856,     0.55956,     0.56056,     0.56156,     0.56256,     0.56356,     0.56456,     0.56557,     0.56657,     0.56757,     0.56857,     0.56957,     0.57057,     0.57157,     0.57257,     0.57357,     0.57457,     0.57558,\n",
              "           0.57658,     0.57758,     0.57858,     0.57958,     0.58058,     0.58158,     0.58258,     0.58358,     0.58458,     0.58559,     0.58659,     0.58759,     0.58859,     0.58959,     0.59059,     0.59159,     0.59259,     0.59359,     0.59459,      0.5956,      0.5966,      0.5976,      0.5986,      0.5996,\n",
              "            0.6006,      0.6016,      0.6026,      0.6036,      0.6046,     0.60561,     0.60661,     0.60761,     0.60861,     0.60961,     0.61061,     0.61161,     0.61261,     0.61361,     0.61461,     0.61562,     0.61662,     0.61762,     0.61862,     0.61962,     0.62062,     0.62162,     0.62262,     0.62362,\n",
              "           0.62462,     0.62563,     0.62663,     0.62763,     0.62863,     0.62963,     0.63063,     0.63163,     0.63263,     0.63363,     0.63463,     0.63564,     0.63664,     0.63764,     0.63864,     0.63964,     0.64064,     0.64164,     0.64264,     0.64364,     0.64464,     0.64565,     0.64665,     0.64765,\n",
              "           0.64865,     0.64965,     0.65065,     0.65165,     0.65265,     0.65365,     0.65465,     0.65566,     0.65666,     0.65766,     0.65866,     0.65966,     0.66066,     0.66166,     0.66266,     0.66366,     0.66466,     0.66567,     0.66667,     0.66767,     0.66867,     0.66967,     0.67067,     0.67167,\n",
              "           0.67267,     0.67367,     0.67467,     0.67568,     0.67668,     0.67768,     0.67868,     0.67968,     0.68068,     0.68168,     0.68268,     0.68368,     0.68468,     0.68569,     0.68669,     0.68769,     0.68869,     0.68969,     0.69069,     0.69169,     0.69269,     0.69369,     0.69469,      0.6957,\n",
              "            0.6967,      0.6977,      0.6987,      0.6997,      0.7007,      0.7017,      0.7027,      0.7037,      0.7047,     0.70571,     0.70671,     0.70771,     0.70871,     0.70971,     0.71071,     0.71171,     0.71271,     0.71371,     0.71471,     0.71572,     0.71672,     0.71772,     0.71872,     0.71972,\n",
              "           0.72072,     0.72172,     0.72272,     0.72372,     0.72472,     0.72573,     0.72673,     0.72773,     0.72873,     0.72973,     0.73073,     0.73173,     0.73273,     0.73373,     0.73473,     0.73574,     0.73674,     0.73774,     0.73874,     0.73974,     0.74074,     0.74174,     0.74274,     0.74374,\n",
              "           0.74474,     0.74575,     0.74675,     0.74775,     0.74875,     0.74975,     0.75075,     0.75175,     0.75275,     0.75375,     0.75475,     0.75576,     0.75676,     0.75776,     0.75876,     0.75976,     0.76076,     0.76176,     0.76276,     0.76376,     0.76476,     0.76577,     0.76677,     0.76777,\n",
              "           0.76877,     0.76977,     0.77077,     0.77177,     0.77277,     0.77377,     0.77477,     0.77578,     0.77678,     0.77778,     0.77878,     0.77978,     0.78078,     0.78178,     0.78278,     0.78378,     0.78478,     0.78579,     0.78679,     0.78779,     0.78879,     0.78979,     0.79079,     0.79179,\n",
              "           0.79279,     0.79379,     0.79479,      0.7958,      0.7968,      0.7978,      0.7988,      0.7998,      0.8008,      0.8018,      0.8028,      0.8038,      0.8048,     0.80581,     0.80681,     0.80781,     0.80881,     0.80981,     0.81081,     0.81181,     0.81281,     0.81381,     0.81481,     0.81582,\n",
              "           0.81682,     0.81782,     0.81882,     0.81982,     0.82082,     0.82182,     0.82282,     0.82382,     0.82482,     0.82583,     0.82683,     0.82783,     0.82883,     0.82983,     0.83083,     0.83183,     0.83283,     0.83383,     0.83483,     0.83584,     0.83684,     0.83784,     0.83884,     0.83984,\n",
              "           0.84084,     0.84184,     0.84284,     0.84384,     0.84484,     0.84585,     0.84685,     0.84785,     0.84885,     0.84985,     0.85085,     0.85185,     0.85285,     0.85385,     0.85485,     0.85586,     0.85686,     0.85786,     0.85886,     0.85986,     0.86086,     0.86186,     0.86286,     0.86386,\n",
              "           0.86486,     0.86587,     0.86687,     0.86787,     0.86887,     0.86987,     0.87087,     0.87187,     0.87287,     0.87387,     0.87487,     0.87588,     0.87688,     0.87788,     0.87888,     0.87988,     0.88088,     0.88188,     0.88288,     0.88388,     0.88488,     0.88589,     0.88689,     0.88789,\n",
              "           0.88889,     0.88989,     0.89089,     0.89189,     0.89289,     0.89389,     0.89489,      0.8959,      0.8969,      0.8979,      0.8989,      0.8999,      0.9009,      0.9019,      0.9029,      0.9039,      0.9049,     0.90591,     0.90691,     0.90791,     0.90891,     0.90991,     0.91091,     0.91191,\n",
              "           0.91291,     0.91391,     0.91491,     0.91592,     0.91692,     0.91792,     0.91892,     0.91992,     0.92092,     0.92192,     0.92292,     0.92392,     0.92492,     0.92593,     0.92693,     0.92793,     0.92893,     0.92993,     0.93093,     0.93193,     0.93293,     0.93393,     0.93493,     0.93594,\n",
              "           0.93694,     0.93794,     0.93894,     0.93994,     0.94094,     0.94194,     0.94294,     0.94394,     0.94494,     0.94595,     0.94695,     0.94795,     0.94895,     0.94995,     0.95095,     0.95195,     0.95295,     0.95395,     0.95495,     0.95596,     0.95696,     0.95796,     0.95896,     0.95996,\n",
              "           0.96096,     0.96196,     0.96296,     0.96396,     0.96496,     0.96597,     0.96697,     0.96797,     0.96897,     0.96997,     0.97097,     0.97197,     0.97297,     0.97397,     0.97497,     0.97598,     0.97698,     0.97798,     0.97898,     0.97998,     0.98098,     0.98198,     0.98298,     0.98398,\n",
              "           0.98498,     0.98599,     0.98699,     0.98799,     0.98899,     0.98999,     0.99099,     0.99199,     0.99299,     0.99399,     0.99499,       0.996,       0.997,       0.998,       0.999,           1]), array([[    0.22468,     0.22485,     0.32761,      0.3875,     0.42473,     0.46176,     0.48661,     0.51123,     0.52852,     0.54872,     0.56033,     0.57826,     0.59298,     0.60212,     0.60732,     0.61302,     0.62237,     0.62603,     0.63305,     0.63636,     0.64226,     0.64644,     0.64708,\n",
              "            0.65155,     0.65382,     0.65555,     0.65784,      0.6639,     0.66864,     0.67362,     0.67562,     0.67903,     0.68141,     0.68658,     0.68814,     0.68946,     0.69012,      0.6911,     0.69201,     0.69268,     0.69252,     0.69439,     0.69573,     0.69919,     0.70168,     0.70406,\n",
              "            0.70517,     0.70849,      0.7109,     0.71394,     0.71467,     0.71877,      0.7231,     0.72492,     0.72666,     0.72799,     0.72873,     0.72896,      0.7292,     0.72944,     0.72968,     0.72991,     0.73051,     0.73316,     0.73624,     0.73816,     0.73862,     0.73909,     0.74121,\n",
              "            0.74337,     0.74694,     0.74814,     0.74925,     0.75086,     0.75178,     0.75361,     0.75479,      0.7559,      0.7568,     0.75713,     0.75746,     0.75779,     0.75813,     0.76416,      0.7653,     0.76584,     0.76552,     0.76765,     0.76832,     0.76984,     0.77269,     0.77331,\n",
              "            0.77392,     0.77569,     0.77564,     0.77549,     0.77534,     0.77608,     0.77794,     0.77946,     0.78033,     0.78266,     0.78364,     0.78375,     0.78565,     0.78694,     0.79008,     0.79226,     0.79331,     0.79416,     0.79493,     0.79565,     0.79649,     0.79768,     0.79792,\n",
              "            0.79817,     0.79842,     0.79867,     0.79891,     0.79916,     0.79941,         0.8,     0.80093,     0.80184,     0.80274,     0.80509,     0.80789,     0.80873,     0.80904,     0.80934,     0.80965,     0.80995,     0.81026,     0.81071,     0.81132,     0.81194,     0.81262,     0.81345,\n",
              "            0.81427,     0.81561,     0.81814,     0.81805,     0.81796,     0.81787,     0.81778,     0.81808,     0.81861,     0.81914,     0.81967,     0.81963,     0.81953,     0.81944,     0.81934,     0.81961,     0.82079,     0.82141,     0.82165,      0.8219,     0.82214,     0.82239,     0.82264,\n",
              "            0.82288,     0.82313,     0.82414,     0.82579,     0.82726,     0.82741,     0.82756,      0.8277,     0.82785,       0.828,     0.82815,     0.82829,     0.82844,     0.82859,     0.82873,     0.82888,     0.82903,     0.82917,      0.8295,     0.83017,     0.83084,     0.83149,     0.83209,\n",
              "            0.83269,     0.83329,     0.83327,      0.8332,     0.83314,     0.83307,       0.833,     0.83293,     0.83353,     0.83426,     0.83498,     0.83518,     0.83538,     0.83557,     0.83577,     0.83597,     0.83617,     0.83636,     0.83656,     0.83676,     0.83696,     0.83653,     0.83632,\n",
              "            0.83622,     0.83619,     0.83617,     0.83615,     0.83612,      0.8361,     0.83608,     0.83606,     0.83603,     0.83601,     0.83599,     0.83597,     0.83594,     0.83592,      0.8359,     0.83587,     0.83585,     0.83583,     0.83579,     0.83575,     0.83571,     0.83567,     0.83563,\n",
              "            0.83559,     0.83555,     0.83551,     0.83547,     0.83543,     0.83518,     0.83614,     0.83732,     0.83776,      0.8382,     0.83864,     0.83908,     0.83986,     0.84075,     0.84194,     0.84355,     0.84442,      0.8453,     0.84997,     0.85042,     0.85086,     0.85131,     0.85175,\n",
              "            0.85215,     0.85246,     0.85277,     0.85309,      0.8534,     0.85371,     0.85402,     0.85418,     0.85409,     0.85399,      0.8539,     0.85418,     0.85485,     0.85552,     0.85825,     0.85848,     0.85871,     0.85894,     0.85918,     0.85941,     0.85964,     0.85987,      0.8601,\n",
              "            0.86034,      0.8604,     0.86024,     0.86013,     0.86035,     0.86058,      0.8608,     0.86103,     0.86125,     0.86147,      0.8617,     0.86192,     0.86215,     0.86245,     0.86316,     0.86387,     0.86459,      0.8655,     0.86642,     0.86734,     0.86825,      0.8691,     0.86901,\n",
              "            0.86891,     0.86882,     0.86873,     0.86864,     0.86854,     0.86845,     0.86835,     0.86825,     0.86814,     0.86821,     0.86857,     0.86892,     0.86927,     0.86962,     0.86998,     0.87033,     0.87026,     0.87015,     0.87003,     0.87243,     0.87256,     0.87269,     0.87281,\n",
              "            0.87294,     0.87307,      0.8732,     0.87332,     0.87345,     0.87358,     0.87371,     0.87383,     0.87396,     0.87409,     0.87422,     0.87435,     0.87447,      0.8746,     0.87464,     0.87459,     0.87453,     0.87448,     0.87443,     0.87438,     0.87427,     0.87403,     0.87416,\n",
              "            0.87429,     0.87443,     0.87456,     0.87469,     0.87482,     0.87496,     0.87509,     0.87522,     0.87535,     0.87549,     0.87562,     0.87575,     0.87588,     0.87602,     0.87615,     0.87628,      0.8773,     0.87874,      0.8789,     0.87907,     0.87923,     0.87939,     0.87955,\n",
              "            0.87971,     0.87987,     0.88004,      0.8802,     0.88036,     0.88052,     0.88068,     0.88084,       0.881,     0.88291,     0.88497,     0.88737,     0.88824,     0.88817,      0.8881,     0.88804,     0.88796,     0.88786,     0.88775,     0.88807,     0.88952,     0.89059,     0.89141,\n",
              "            0.89223,     0.89253,     0.89249,     0.89244,     0.89239,     0.89234,      0.8923,     0.89225,     0.89222,     0.89219,     0.89216,     0.89212,     0.89209,     0.89206,     0.89203,       0.892,     0.89219,      0.8941,     0.89441,     0.89437,     0.89432,     0.89428,     0.89424,\n",
              "             0.8942,     0.89415,     0.89413,     0.89411,     0.89409,     0.89407,     0.89404,     0.89402,       0.894,     0.89398,     0.89396,     0.89394,     0.89391,     0.89389,     0.89387,     0.89382,     0.89371,     0.89359,     0.89353,      0.8935,     0.89347,     0.89343,      0.8934,\n",
              "            0.89337,     0.89334,      0.8933,     0.89327,     0.89472,     0.89571,     0.89558,     0.89529,     0.89576,     0.89624,     0.89672,     0.89719,     0.89767,     0.89765,     0.89757,     0.89749,     0.89794,     0.89919,     0.90016,     0.90063,      0.9011,     0.90157,     0.90204,\n",
              "            0.90251,     0.90303,     0.90357,     0.90411,     0.90465,     0.90518,     0.90555,     0.90592,     0.90629,     0.90665,     0.90702,     0.90739,     0.90776,     0.90804,     0.90833,     0.90861,     0.90889,     0.90917,     0.90946,     0.90974,     0.91002,      0.9103,     0.91094,\n",
              "            0.91179,     0.91264,     0.91345,     0.91423,     0.91501,     0.91569,     0.91567,     0.91564,     0.91562,     0.91559,     0.91557,     0.91554,     0.91552,     0.91549,     0.91547,     0.91543,     0.91538,     0.91533,     0.91528,     0.91523,     0.91504,     0.91516,     0.91545,\n",
              "            0.91573,     0.91601,     0.91629,     0.91657,     0.91685,     0.91713,     0.91742,     0.91769,     0.91794,     0.91818,     0.91843,     0.91868,     0.91892,     0.91917,     0.91941,     0.91966,     0.91991,     0.92015,     0.92071,     0.92264,      0.9258,     0.92565,     0.92557,\n",
              "            0.92552,     0.92548,     0.92544,     0.92539,     0.92811,     0.92803,     0.92795,     0.92803,     0.92819,     0.92834,     0.92849,     0.92864,      0.9288,     0.92895,      0.9291,     0.92925,     0.92941,     0.92956,     0.92971,     0.92986,     0.93002,     0.93017,     0.93032,\n",
              "            0.93047,     0.93063,     0.93072,     0.93069,     0.93067,     0.93065,     0.93063,     0.93061,     0.93059,     0.93057,     0.93055,     0.93053,     0.93046,     0.93029,     0.93026,     0.93024,     0.93022,     0.93019,     0.93017,     0.93014,     0.93012,     0.93009,     0.93076,\n",
              "            0.93144,     0.93212,     0.93279,     0.93287,      0.9328,     0.93272,     0.93255,      0.9323,     0.93226,     0.93223,     0.93219,     0.93215,     0.93212,     0.93347,     0.93598,     0.93789,     0.93782,     0.93775,     0.93769,     0.93767,     0.93765,     0.93762,      0.9376,\n",
              "            0.93758,     0.93756,     0.93754,     0.93752,      0.9375,     0.93747,     0.93745,     0.93743,      0.9374,     0.93738,     0.93736,     0.93734,     0.93731,     0.93726,     0.93719,     0.93712,     0.93708,     0.93705,     0.93702,     0.93699,     0.93696,     0.93693,     0.93712,\n",
              "            0.93764,     0.93816,     0.93868,      0.9392,     0.93971,     0.94043,     0.94122,     0.94202,     0.94282,     0.94497,     0.94583,     0.94577,     0.94571,     0.94567,     0.94564,      0.9456,     0.94557,     0.94553,      0.9455,     0.94546,     0.94542,     0.94538,     0.94534,\n",
              "            0.94526,     0.94518,     0.94515,     0.94513,     0.94511,      0.9451,     0.94508,     0.94506,     0.94504,     0.94502,     0.94501,     0.94499,     0.94494,     0.94487,     0.94481,     0.94591,     0.94704,     0.94787,     0.94783,     0.94779,     0.94775,     0.94769,     0.94761,\n",
              "            0.94744,     0.94718,     0.94715,     0.94712,     0.94708,     0.94705,     0.94702,     0.94699,     0.94696,     0.94693,      0.9469,     0.94687,     0.94685,     0.94677,     0.94669,     0.94651,     0.94663,     0.94675,     0.94687,     0.94699,     0.94711,     0.94723,     0.94735,\n",
              "            0.94747,     0.94759,     0.94771,     0.94783,     0.94795,     0.94807,     0.94819,     0.94831,     0.94843,     0.94855,     0.94867,     0.94879,     0.94891,     0.94903,     0.94915,     0.94927,     0.94939,     0.94951,     0.94963,     0.94964,     0.94962,     0.94959,     0.94956,\n",
              "            0.94953,      0.9495,     0.94926,     0.94915,     0.94912,      0.9491,     0.94907,     0.94905,     0.94902,       0.949,     0.94894,      0.9488,     0.94874,     0.94867,     0.94898,     0.95023,     0.95148,     0.95238,     0.95311,     0.95384,     0.95457,     0.95515,     0.95504,\n",
              "            0.95493,     0.95454,     0.95451,     0.95448,     0.95444,     0.95441,     0.95454,     0.95515,     0.95577,     0.95638,     0.95699,     0.95761,      0.9582,     0.95879,     0.95938,     0.95998,     0.96057,     0.96109,     0.96097,     0.96094,     0.96091,     0.96088,     0.96085,\n",
              "            0.96079,     0.96072,     0.96042,     0.96034,     0.96028,     0.96026,     0.96023,     0.96021,     0.96019,     0.96017,     0.96003,     0.96329,     0.96336,     0.96322,     0.96303,     0.96267,     0.96233,     0.96655,     0.96755,     0.96855,     0.96955,     0.96935,     0.96933,\n",
              "            0.96931,     0.96929,     0.96928,     0.96926,     0.96924,     0.97099,     0.97294,     0.97288,     0.97274,     0.97266,     0.97242,     0.97231,     0.97217,     0.97198,     0.97195,     0.97192,      0.9719,     0.97182,     0.97164,     0.97158,     0.97138,      0.9713,     0.97128,\n",
              "            0.97125,     0.97123,     0.97121,     0.97115,     0.97105,       0.971,     0.97092,     0.97069,     0.97061,     0.97278,      0.9742,      0.9761,     0.97835,     0.97832,      0.9783,     0.97827,     0.97819,     0.97797,     0.97786,     0.97778,     0.97751,      0.9774,     0.97724,\n",
              "            0.97706,     0.97698,     0.98121,     0.98111,      0.9809,     0.98064,     0.98395,     0.98518,     0.98498,     0.98831,     0.98983,     0.98981,     0.98974,     0.98966,      0.9896,     0.98988,     0.99465,     0.99456,     0.99445,     0.99417,     0.99402,     0.99378,           1,\n",
              "                  1,           1,           1,           1,           1,           1,           1,           1,           1,           1,           1,           1,           1,           1,           1,           1,           1,           1,           1,           1,           1,           1,           1,\n",
              "                  1,           1,           1,           1,           1,           1,           1,           1,           1,           1,           1,           1,           1,           1,           1,           1,           1,           1,           1,           1,           1,           1,           1,\n",
              "                  1,           1,           1,           1,           1,           1,           1,           1,           1,           1,           1,           1,           1,           1,           1,           1,           1,           1,           1,           1,           1,           1,           1,\n",
              "                  1,           1,           1,           1,           1,           1,           1,           1,           1,           1,           1,           1,           1,           1,           1,           1,           1,           1,           1,           1,           1,           1,           1,\n",
              "                  1,           1,           1,           1,           1,           1,           1,           1,           1,           1,           1,           1,           1,           1,           1,           1,           1,           1,           1,           1,           1,           1,           1,\n",
              "                  1,           1,           1,           1,           1,           1,           1,           1,           1,           1,           1,           1,           1,           1,           1,           1,           1,           1,           1,           1,           1,           1,           1,\n",
              "                  1,           1,           1,           1,           1,           1,           1,           1,           1,           1,           1]]), 'Confidence', 'Precision'], [array([          0,    0.001001,    0.002002,    0.003003,    0.004004,    0.005005,    0.006006,    0.007007,    0.008008,    0.009009,     0.01001,    0.011011,    0.012012,    0.013013,    0.014014,    0.015015,    0.016016,    0.017017,    0.018018,    0.019019,     0.02002,    0.021021,    0.022022,    0.023023,\n",
              "          0.024024,    0.025025,    0.026026,    0.027027,    0.028028,    0.029029,     0.03003,    0.031031,    0.032032,    0.033033,    0.034034,    0.035035,    0.036036,    0.037037,    0.038038,    0.039039,     0.04004,    0.041041,    0.042042,    0.043043,    0.044044,    0.045045,    0.046046,    0.047047,\n",
              "          0.048048,    0.049049,     0.05005,    0.051051,    0.052052,    0.053053,    0.054054,    0.055055,    0.056056,    0.057057,    0.058058,    0.059059,     0.06006,    0.061061,    0.062062,    0.063063,    0.064064,    0.065065,    0.066066,    0.067067,    0.068068,    0.069069,     0.07007,    0.071071,\n",
              "          0.072072,    0.073073,    0.074074,    0.075075,    0.076076,    0.077077,    0.078078,    0.079079,     0.08008,    0.081081,    0.082082,    0.083083,    0.084084,    0.085085,    0.086086,    0.087087,    0.088088,    0.089089,     0.09009,    0.091091,    0.092092,    0.093093,    0.094094,    0.095095,\n",
              "          0.096096,    0.097097,    0.098098,    0.099099,      0.1001,      0.1011,      0.1021,      0.1031,      0.1041,     0.10511,     0.10611,     0.10711,     0.10811,     0.10911,     0.11011,     0.11111,     0.11211,     0.11311,     0.11411,     0.11512,     0.11612,     0.11712,     0.11812,     0.11912,\n",
              "           0.12012,     0.12112,     0.12212,     0.12312,     0.12412,     0.12513,     0.12613,     0.12713,     0.12813,     0.12913,     0.13013,     0.13113,     0.13213,     0.13313,     0.13413,     0.13514,     0.13614,     0.13714,     0.13814,     0.13914,     0.14014,     0.14114,     0.14214,     0.14314,\n",
              "           0.14414,     0.14515,     0.14615,     0.14715,     0.14815,     0.14915,     0.15015,     0.15115,     0.15215,     0.15315,     0.15415,     0.15516,     0.15616,     0.15716,     0.15816,     0.15916,     0.16016,     0.16116,     0.16216,     0.16316,     0.16416,     0.16517,     0.16617,     0.16717,\n",
              "           0.16817,     0.16917,     0.17017,     0.17117,     0.17217,     0.17317,     0.17417,     0.17518,     0.17618,     0.17718,     0.17818,     0.17918,     0.18018,     0.18118,     0.18218,     0.18318,     0.18418,     0.18519,     0.18619,     0.18719,     0.18819,     0.18919,     0.19019,     0.19119,\n",
              "           0.19219,     0.19319,     0.19419,      0.1952,      0.1962,      0.1972,      0.1982,      0.1992,      0.2002,      0.2012,      0.2022,      0.2032,      0.2042,     0.20521,     0.20621,     0.20721,     0.20821,     0.20921,     0.21021,     0.21121,     0.21221,     0.21321,     0.21421,     0.21522,\n",
              "           0.21622,     0.21722,     0.21822,     0.21922,     0.22022,     0.22122,     0.22222,     0.22322,     0.22422,     0.22523,     0.22623,     0.22723,     0.22823,     0.22923,     0.23023,     0.23123,     0.23223,     0.23323,     0.23423,     0.23524,     0.23624,     0.23724,     0.23824,     0.23924,\n",
              "           0.24024,     0.24124,     0.24224,     0.24324,     0.24424,     0.24525,     0.24625,     0.24725,     0.24825,     0.24925,     0.25025,     0.25125,     0.25225,     0.25325,     0.25425,     0.25526,     0.25626,     0.25726,     0.25826,     0.25926,     0.26026,     0.26126,     0.26226,     0.26326,\n",
              "           0.26426,     0.26527,     0.26627,     0.26727,     0.26827,     0.26927,     0.27027,     0.27127,     0.27227,     0.27327,     0.27427,     0.27528,     0.27628,     0.27728,     0.27828,     0.27928,     0.28028,     0.28128,     0.28228,     0.28328,     0.28428,     0.28529,     0.28629,     0.28729,\n",
              "           0.28829,     0.28929,     0.29029,     0.29129,     0.29229,     0.29329,     0.29429,      0.2953,      0.2963,      0.2973,      0.2983,      0.2993,      0.3003,      0.3013,      0.3023,      0.3033,      0.3043,     0.30531,     0.30631,     0.30731,     0.30831,     0.30931,     0.31031,     0.31131,\n",
              "           0.31231,     0.31331,     0.31431,     0.31532,     0.31632,     0.31732,     0.31832,     0.31932,     0.32032,     0.32132,     0.32232,     0.32332,     0.32432,     0.32533,     0.32633,     0.32733,     0.32833,     0.32933,     0.33033,     0.33133,     0.33233,     0.33333,     0.33433,     0.33534,\n",
              "           0.33634,     0.33734,     0.33834,     0.33934,     0.34034,     0.34134,     0.34234,     0.34334,     0.34434,     0.34535,     0.34635,     0.34735,     0.34835,     0.34935,     0.35035,     0.35135,     0.35235,     0.35335,     0.35435,     0.35536,     0.35636,     0.35736,     0.35836,     0.35936,\n",
              "           0.36036,     0.36136,     0.36236,     0.36336,     0.36436,     0.36537,     0.36637,     0.36737,     0.36837,     0.36937,     0.37037,     0.37137,     0.37237,     0.37337,     0.37437,     0.37538,     0.37638,     0.37738,     0.37838,     0.37938,     0.38038,     0.38138,     0.38238,     0.38338,\n",
              "           0.38438,     0.38539,     0.38639,     0.38739,     0.38839,     0.38939,     0.39039,     0.39139,     0.39239,     0.39339,     0.39439,      0.3954,      0.3964,      0.3974,      0.3984,      0.3994,      0.4004,      0.4014,      0.4024,      0.4034,      0.4044,     0.40541,     0.40641,     0.40741,\n",
              "           0.40841,     0.40941,     0.41041,     0.41141,     0.41241,     0.41341,     0.41441,     0.41542,     0.41642,     0.41742,     0.41842,     0.41942,     0.42042,     0.42142,     0.42242,     0.42342,     0.42442,     0.42543,     0.42643,     0.42743,     0.42843,     0.42943,     0.43043,     0.43143,\n",
              "           0.43243,     0.43343,     0.43443,     0.43544,     0.43644,     0.43744,     0.43844,     0.43944,     0.44044,     0.44144,     0.44244,     0.44344,     0.44444,     0.44545,     0.44645,     0.44745,     0.44845,     0.44945,     0.45045,     0.45145,     0.45245,     0.45345,     0.45445,     0.45546,\n",
              "           0.45646,     0.45746,     0.45846,     0.45946,     0.46046,     0.46146,     0.46246,     0.46346,     0.46446,     0.46547,     0.46647,     0.46747,     0.46847,     0.46947,     0.47047,     0.47147,     0.47247,     0.47347,     0.47447,     0.47548,     0.47648,     0.47748,     0.47848,     0.47948,\n",
              "           0.48048,     0.48148,     0.48248,     0.48348,     0.48448,     0.48549,     0.48649,     0.48749,     0.48849,     0.48949,     0.49049,     0.49149,     0.49249,     0.49349,     0.49449,      0.4955,      0.4965,      0.4975,      0.4985,      0.4995,      0.5005,      0.5015,      0.5025,      0.5035,\n",
              "            0.5045,     0.50551,     0.50651,     0.50751,     0.50851,     0.50951,     0.51051,     0.51151,     0.51251,     0.51351,     0.51451,     0.51552,     0.51652,     0.51752,     0.51852,     0.51952,     0.52052,     0.52152,     0.52252,     0.52352,     0.52452,     0.52553,     0.52653,     0.52753,\n",
              "           0.52853,     0.52953,     0.53053,     0.53153,     0.53253,     0.53353,     0.53453,     0.53554,     0.53654,     0.53754,     0.53854,     0.53954,     0.54054,     0.54154,     0.54254,     0.54354,     0.54454,     0.54555,     0.54655,     0.54755,     0.54855,     0.54955,     0.55055,     0.55155,\n",
              "           0.55255,     0.55355,     0.55455,     0.55556,     0.55656,     0.55756,     0.55856,     0.55956,     0.56056,     0.56156,     0.56256,     0.56356,     0.56456,     0.56557,     0.56657,     0.56757,     0.56857,     0.56957,     0.57057,     0.57157,     0.57257,     0.57357,     0.57457,     0.57558,\n",
              "           0.57658,     0.57758,     0.57858,     0.57958,     0.58058,     0.58158,     0.58258,     0.58358,     0.58458,     0.58559,     0.58659,     0.58759,     0.58859,     0.58959,     0.59059,     0.59159,     0.59259,     0.59359,     0.59459,      0.5956,      0.5966,      0.5976,      0.5986,      0.5996,\n",
              "            0.6006,      0.6016,      0.6026,      0.6036,      0.6046,     0.60561,     0.60661,     0.60761,     0.60861,     0.60961,     0.61061,     0.61161,     0.61261,     0.61361,     0.61461,     0.61562,     0.61662,     0.61762,     0.61862,     0.61962,     0.62062,     0.62162,     0.62262,     0.62362,\n",
              "           0.62462,     0.62563,     0.62663,     0.62763,     0.62863,     0.62963,     0.63063,     0.63163,     0.63263,     0.63363,     0.63463,     0.63564,     0.63664,     0.63764,     0.63864,     0.63964,     0.64064,     0.64164,     0.64264,     0.64364,     0.64464,     0.64565,     0.64665,     0.64765,\n",
              "           0.64865,     0.64965,     0.65065,     0.65165,     0.65265,     0.65365,     0.65465,     0.65566,     0.65666,     0.65766,     0.65866,     0.65966,     0.66066,     0.66166,     0.66266,     0.66366,     0.66466,     0.66567,     0.66667,     0.66767,     0.66867,     0.66967,     0.67067,     0.67167,\n",
              "           0.67267,     0.67367,     0.67467,     0.67568,     0.67668,     0.67768,     0.67868,     0.67968,     0.68068,     0.68168,     0.68268,     0.68368,     0.68468,     0.68569,     0.68669,     0.68769,     0.68869,     0.68969,     0.69069,     0.69169,     0.69269,     0.69369,     0.69469,      0.6957,\n",
              "            0.6967,      0.6977,      0.6987,      0.6997,      0.7007,      0.7017,      0.7027,      0.7037,      0.7047,     0.70571,     0.70671,     0.70771,     0.70871,     0.70971,     0.71071,     0.71171,     0.71271,     0.71371,     0.71471,     0.71572,     0.71672,     0.71772,     0.71872,     0.71972,\n",
              "           0.72072,     0.72172,     0.72272,     0.72372,     0.72472,     0.72573,     0.72673,     0.72773,     0.72873,     0.72973,     0.73073,     0.73173,     0.73273,     0.73373,     0.73473,     0.73574,     0.73674,     0.73774,     0.73874,     0.73974,     0.74074,     0.74174,     0.74274,     0.74374,\n",
              "           0.74474,     0.74575,     0.74675,     0.74775,     0.74875,     0.74975,     0.75075,     0.75175,     0.75275,     0.75375,     0.75475,     0.75576,     0.75676,     0.75776,     0.75876,     0.75976,     0.76076,     0.76176,     0.76276,     0.76376,     0.76476,     0.76577,     0.76677,     0.76777,\n",
              "           0.76877,     0.76977,     0.77077,     0.77177,     0.77277,     0.77377,     0.77477,     0.77578,     0.77678,     0.77778,     0.77878,     0.77978,     0.78078,     0.78178,     0.78278,     0.78378,     0.78478,     0.78579,     0.78679,     0.78779,     0.78879,     0.78979,     0.79079,     0.79179,\n",
              "           0.79279,     0.79379,     0.79479,      0.7958,      0.7968,      0.7978,      0.7988,      0.7998,      0.8008,      0.8018,      0.8028,      0.8038,      0.8048,     0.80581,     0.80681,     0.80781,     0.80881,     0.80981,     0.81081,     0.81181,     0.81281,     0.81381,     0.81481,     0.81582,\n",
              "           0.81682,     0.81782,     0.81882,     0.81982,     0.82082,     0.82182,     0.82282,     0.82382,     0.82482,     0.82583,     0.82683,     0.82783,     0.82883,     0.82983,     0.83083,     0.83183,     0.83283,     0.83383,     0.83483,     0.83584,     0.83684,     0.83784,     0.83884,     0.83984,\n",
              "           0.84084,     0.84184,     0.84284,     0.84384,     0.84484,     0.84585,     0.84685,     0.84785,     0.84885,     0.84985,     0.85085,     0.85185,     0.85285,     0.85385,     0.85485,     0.85586,     0.85686,     0.85786,     0.85886,     0.85986,     0.86086,     0.86186,     0.86286,     0.86386,\n",
              "           0.86486,     0.86587,     0.86687,     0.86787,     0.86887,     0.86987,     0.87087,     0.87187,     0.87287,     0.87387,     0.87487,     0.87588,     0.87688,     0.87788,     0.87888,     0.87988,     0.88088,     0.88188,     0.88288,     0.88388,     0.88488,     0.88589,     0.88689,     0.88789,\n",
              "           0.88889,     0.88989,     0.89089,     0.89189,     0.89289,     0.89389,     0.89489,      0.8959,      0.8969,      0.8979,      0.8989,      0.8999,      0.9009,      0.9019,      0.9029,      0.9039,      0.9049,     0.90591,     0.90691,     0.90791,     0.90891,     0.90991,     0.91091,     0.91191,\n",
              "           0.91291,     0.91391,     0.91491,     0.91592,     0.91692,     0.91792,     0.91892,     0.91992,     0.92092,     0.92192,     0.92292,     0.92392,     0.92492,     0.92593,     0.92693,     0.92793,     0.92893,     0.92993,     0.93093,     0.93193,     0.93293,     0.93393,     0.93493,     0.93594,\n",
              "           0.93694,     0.93794,     0.93894,     0.93994,     0.94094,     0.94194,     0.94294,     0.94394,     0.94494,     0.94595,     0.94695,     0.94795,     0.94895,     0.94995,     0.95095,     0.95195,     0.95295,     0.95395,     0.95495,     0.95596,     0.95696,     0.95796,     0.95896,     0.95996,\n",
              "           0.96096,     0.96196,     0.96296,     0.96396,     0.96496,     0.96597,     0.96697,     0.96797,     0.96897,     0.96997,     0.97097,     0.97197,     0.97297,     0.97397,     0.97497,     0.97598,     0.97698,     0.97798,     0.97898,     0.97998,     0.98098,     0.98198,     0.98298,     0.98398,\n",
              "           0.98498,     0.98599,     0.98699,     0.98799,     0.98899,     0.98999,     0.99099,     0.99199,     0.99299,     0.99399,     0.99499,       0.996,       0.997,       0.998,       0.999,           1]), array([[    0.98919,     0.98919,     0.98108,     0.98108,     0.98108,     0.97838,     0.97838,     0.97838,     0.97568,     0.97297,     0.97297,     0.97027,     0.97027,     0.96757,     0.96486,     0.96486,     0.96486,     0.96486,     0.96486,     0.96486,     0.96216,     0.96216,     0.96137,\n",
              "            0.95946,     0.95946,     0.95946,     0.95946,     0.95676,     0.95405,     0.95405,     0.95135,     0.94865,     0.94865,     0.94595,     0.94595,     0.94595,     0.94595,     0.94595,     0.94595,     0.94595,     0.94324,     0.94324,     0.94324,     0.94324,     0.94324,     0.94324,\n",
              "            0.94324,     0.94324,     0.94324,     0.94324,     0.94324,     0.94324,     0.94324,     0.94324,     0.94324,     0.94324,     0.94324,     0.94324,     0.94324,     0.94324,     0.94324,     0.94324,     0.94324,     0.94324,     0.94324,     0.94324,     0.94324,     0.94324,     0.94324,\n",
              "            0.94324,     0.94324,     0.94324,     0.94324,     0.94324,     0.94324,     0.94324,     0.94324,     0.94054,     0.94054,     0.94054,     0.94054,     0.94054,     0.94054,     0.94054,     0.93784,     0.93696,     0.93533,     0.93514,     0.93514,     0.93514,     0.93514,     0.93514,\n",
              "            0.93514,     0.93514,     0.93436,     0.93354,     0.93273,     0.93243,     0.93243,     0.93243,     0.93243,     0.93243,     0.93243,     0.93057,     0.92973,     0.92973,     0.92973,     0.92973,     0.92973,     0.92973,     0.92973,     0.92973,     0.92973,     0.92703,     0.92703,\n",
              "            0.92703,     0.92703,     0.92703,     0.92703,     0.92703,     0.92703,     0.92703,     0.92703,     0.92703,     0.92703,     0.92432,     0.92432,     0.92432,     0.92432,     0.92432,     0.92432,     0.92432,     0.92432,     0.92432,     0.92432,     0.92432,     0.92432,     0.92432,\n",
              "            0.92432,     0.92432,     0.92407,     0.92351,     0.92295,     0.92238,     0.92182,     0.92162,     0.92162,     0.92162,     0.92162,     0.92109,      0.9205,     0.91992,     0.91934,     0.91892,     0.91892,     0.91892,     0.91892,     0.91892,     0.91892,     0.91892,     0.91892,\n",
              "            0.91892,     0.91892,     0.91892,     0.91892,     0.91892,     0.91892,     0.91892,     0.91892,     0.91892,     0.91892,     0.91892,     0.91892,     0.91892,     0.91892,     0.91892,     0.91892,     0.91892,     0.91892,     0.91892,     0.91892,     0.91892,     0.91892,     0.91892,\n",
              "            0.91892,     0.91892,     0.91851,     0.91807,     0.91762,     0.91718,     0.91673,     0.91629,     0.91622,     0.91622,     0.91622,     0.91622,     0.91622,     0.91622,     0.91622,     0.91622,     0.91622,     0.91622,     0.91622,     0.91622,     0.91622,     0.91283,     0.91143,\n",
              "            0.91073,     0.91057,     0.91042,     0.91027,     0.91012,     0.90997,     0.90982,     0.90967,     0.90952,     0.90937,     0.90922,     0.90907,     0.90891,     0.90876,     0.90861,     0.90846,     0.90831,     0.90816,     0.90793,     0.90767,      0.9074,     0.90713,     0.90687,\n",
              "             0.9066,     0.90634,     0.90607,      0.9058,     0.90554,      0.9039,      0.9027,      0.9027,      0.9027,      0.9027,      0.9027,      0.9027,      0.9027,      0.9027,      0.9027,      0.9027,      0.9027,      0.9027,      0.9027,      0.9027,      0.9027,      0.9027,      0.9027,\n",
              "             0.9027,      0.9027,      0.9027,      0.9027,      0.9027,      0.9027,      0.9027,     0.90245,     0.90175,     0.90105,     0.90035,         0.9,         0.9,         0.9,         0.9,         0.9,         0.9,         0.9,         0.9,         0.9,         0.9,         0.9,         0.9,\n",
              "                0.9,     0.89949,     0.89834,      0.8973,      0.8973,      0.8973,      0.8973,      0.8973,      0.8973,      0.8973,      0.8973,      0.8973,      0.8973,      0.8973,      0.8973,      0.8973,      0.8973,      0.8973,      0.8973,      0.8973,      0.8973,     0.89725,     0.89651,\n",
              "            0.89576,     0.89502,     0.89429,     0.89357,     0.89286,     0.89215,     0.89136,     0.89053,     0.88969,     0.88919,     0.88919,     0.88919,     0.88919,     0.88919,     0.88919,     0.88919,     0.88836,     0.88743,     0.88649,     0.88649,     0.88649,     0.88649,     0.88649,\n",
              "            0.88649,     0.88649,     0.88649,     0.88649,     0.88649,     0.88649,     0.88649,     0.88649,     0.88649,     0.88649,     0.88649,     0.88649,     0.88649,     0.88649,     0.88628,     0.88585,     0.88542,     0.88499,     0.88457,     0.88414,     0.88328,     0.88108,     0.88108,\n",
              "            0.88108,     0.88108,     0.88108,     0.88108,     0.88108,     0.88108,     0.88108,     0.88108,     0.88108,     0.88108,     0.88108,     0.88108,     0.88108,     0.88108,     0.88108,     0.88108,     0.88108,     0.88108,     0.88108,     0.88108,     0.88108,     0.88108,     0.88108,\n",
              "            0.88108,     0.88108,     0.88108,     0.88108,     0.88108,     0.88108,     0.88108,     0.88108,     0.88108,     0.88108,     0.88108,     0.88108,     0.88067,     0.88008,     0.87949,     0.87889,     0.87826,     0.87731,     0.87636,     0.87568,     0.87568,     0.87568,     0.87568,\n",
              "            0.87568,     0.87542,     0.87499,     0.87456,     0.87413,     0.87369,     0.87326,     0.87288,     0.87258,     0.87229,       0.872,      0.8717,     0.87141,     0.87112,     0.87082,     0.87053,     0.87027,     0.87027,     0.86995,     0.86955,     0.86916,     0.86877,     0.86838,\n",
              "            0.86798,     0.86759,     0.86738,     0.86718,     0.86699,     0.86679,     0.86659,     0.86639,      0.8662,       0.866,      0.8658,      0.8656,     0.86541,     0.86521,     0.86501,     0.86459,     0.86351,     0.86243,     0.86194,     0.86164,     0.86134,     0.86105,     0.86075,\n",
              "            0.86045,     0.86015,     0.85986,     0.85956,     0.85946,     0.85885,     0.85767,     0.85405,     0.85405,     0.85405,     0.85405,     0.85405,     0.85405,     0.85337,     0.85259,     0.85181,     0.85135,     0.85135,     0.85135,     0.85135,     0.85135,     0.85135,     0.85135,\n",
              "            0.85135,     0.85135,     0.85135,     0.85135,     0.85135,     0.85135,     0.85135,     0.85135,     0.85135,     0.85135,     0.85135,     0.85135,     0.85135,     0.85135,     0.85135,     0.85135,     0.85135,     0.85135,     0.85135,     0.85135,     0.85135,     0.85135,     0.85135,\n",
              "            0.85135,     0.85135,     0.85135,     0.85135,     0.85135,     0.85132,     0.85104,     0.85076,     0.85048,      0.8502,     0.84992,     0.84964,     0.84936,     0.84908,      0.8488,      0.8484,     0.84786,     0.84732,     0.84677,     0.84623,      0.8442,     0.84324,     0.84324,\n",
              "            0.84324,     0.84324,     0.84324,     0.84324,     0.84324,     0.84324,     0.84324,     0.84324,     0.84324,     0.84324,     0.84324,     0.84324,     0.84324,     0.84324,     0.84324,     0.84324,     0.84324,     0.84324,     0.84324,     0.84324,      0.8431,     0.84119,     0.84019,\n",
              "            0.83966,     0.83913,      0.8386,     0.83808,     0.83738,      0.8364,     0.83543,     0.83514,     0.83514,     0.83514,     0.83514,     0.83514,     0.83514,     0.83514,     0.83514,     0.83514,     0.83514,     0.83514,     0.83514,     0.83514,     0.83514,     0.83514,     0.83514,\n",
              "            0.83514,     0.83514,     0.83504,     0.83477,     0.83451,     0.83424,     0.83398,     0.83371,     0.83345,     0.83318,     0.83292,     0.83265,      0.8317,     0.82956,     0.82924,     0.82893,     0.82861,      0.8283,     0.82798,     0.82766,     0.82735,     0.82703,     0.82703,\n",
              "            0.82703,     0.82703,     0.82703,     0.82626,      0.8253,     0.82434,     0.82212,      0.8188,     0.81834,     0.81787,     0.81741,     0.81694,     0.81648,     0.81622,     0.81622,     0.81622,     0.81522,     0.81422,     0.81343,     0.81313,     0.81283,     0.81254,     0.81224,\n",
              "            0.81194,     0.81165,     0.81135,     0.81105,     0.81075,     0.81044,     0.81012,     0.80981,     0.80949,     0.80918,     0.80886,     0.80855,     0.80823,     0.80751,     0.80653,     0.80555,     0.80505,     0.80463,     0.80421,     0.80379,     0.80337,     0.80295,      0.8027,\n",
              "             0.8027,      0.8027,      0.8027,      0.8027,      0.8027,      0.8027,      0.8027,      0.8027,      0.8027,      0.8027,     0.80218,      0.8013,     0.80043,     0.79973,      0.7992,     0.79867,     0.79814,     0.79762,     0.79705,     0.79643,     0.79582,      0.7952,     0.79457,\n",
              "            0.79339,      0.7922,     0.79169,     0.79142,     0.79116,     0.79089,     0.79062,     0.79035,     0.79008,     0.78981,     0.78954,     0.78927,     0.78851,     0.78751,     0.78652,     0.78649,     0.78649,     0.78632,     0.78565,     0.78498,     0.78431,     0.78349,     0.78211,\n",
              "            0.77948,     0.77546,     0.77497,     0.77447,     0.77398,     0.77348,     0.77299,     0.77254,     0.77209,     0.77164,     0.77119,     0.77074,     0.77029,     0.76915,     0.76796,     0.76486,     0.76486,     0.76486,     0.76486,     0.76486,     0.76486,     0.76486,     0.76486,\n",
              "            0.76486,     0.76486,     0.76486,     0.76486,     0.76486,     0.76486,     0.76486,     0.76486,     0.76486,     0.76486,     0.76486,     0.76486,     0.76486,     0.76486,     0.76486,     0.76486,     0.76486,     0.76486,     0.76486,     0.76454,     0.76408,     0.76362,     0.76316,\n",
              "            0.76271,     0.76225,     0.75843,      0.7567,      0.7563,     0.75591,     0.75552,     0.75512,     0.75473,     0.75434,      0.7534,     0.75125,     0.75029,     0.74933,     0.74865,     0.74865,     0.74865,     0.74865,     0.74865,     0.74865,     0.74865,      0.7483,     0.74632,\n",
              "            0.74439,     0.73783,     0.73726,      0.7367,     0.73613,     0.73556,     0.73514,     0.73514,     0.73514,     0.73514,     0.73514,     0.73514,     0.73514,     0.73514,     0.73514,     0.73514,     0.73514,     0.73435,     0.73194,     0.73138,     0.73083,     0.73028,     0.72971,\n",
              "            0.72847,     0.72722,     0.72143,     0.71994,     0.71878,     0.71834,     0.71791,     0.71747,     0.71703,      0.7166,     0.71413,     0.71351,     0.71063,     0.70785,     0.70398,     0.69688,     0.69042,     0.68919,     0.68919,     0.68919,     0.68919,     0.68372,     0.68332,\n",
              "            0.68292,     0.68253,     0.68213,     0.68173,     0.68134,     0.68108,     0.68017,     0.67864,     0.67517,       0.673,     0.66708,     0.66425,     0.66085,     0.65622,     0.65558,     0.65493,     0.65428,     0.65245,     0.64816,      0.6467,     0.64213,     0.64029,     0.63976,\n",
              "            0.63924,     0.63871,     0.63819,     0.63687,     0.63467,     0.63348,     0.63158,     0.62665,     0.62485,     0.61892,     0.61222,     0.61081,     0.61056,     0.60984,     0.60911,     0.60838,     0.60612,     0.59987,     0.59679,     0.59453,     0.58724,     0.58447,     0.58012,\n",
              "            0.57553,     0.57354,     0.56461,      0.5616,     0.55513,     0.54749,     0.54324,     0.53886,     0.53163,     0.52973,     0.52624,     0.52491,     0.52152,     0.51734,     0.51451,     0.50541,     0.50241,     0.49372,     0.48448,      0.4606,     0.44912,     0.43208,     0.42857,\n",
              "             0.4108,     0.40451,      0.3942,     0.38885,     0.38209,     0.37099,     0.36661,     0.36163,     0.35195,     0.34514,       0.342,       0.332,     0.32117,      0.3122,     0.30449,     0.29251,     0.27764,     0.27253,     0.25965,     0.25068,     0.24227,     0.23511,     0.23344,\n",
              "             0.2285,      0.2145,      0.2112,     0.20414,     0.19746,     0.18058,     0.17907,     0.17631,      0.1644,     0.16248,     0.15788,     0.14882,     0.14302,     0.14103,     0.13925,     0.13729,     0.13414,     0.12911,     0.12734,     0.12238,     0.11348,     0.11244,      0.1114,\n",
              "            0.11052,     0.10986,     0.10919,     0.10853,     0.10639,      0.1012,    0.093949,    0.089535,     0.08412,      0.0804,    0.079112,    0.071203,     0.06758,    0.063932,    0.062621,     0.06119,    0.059695,    0.057806,    0.055906,    0.054079,    0.050362,    0.047722,    0.045927,\n",
              "           0.045222,    0.044516,    0.043811,    0.042047,    0.038663,    0.037454,     0.03688,    0.036305,    0.035731,    0.035157,    0.031896,    0.030856,    0.029817,    0.028274,    0.026764,    0.025542,    0.024212,     0.02002,    0.018191,    0.016209,    0.015751,    0.015293,    0.014835,\n",
              "           0.014376,    0.013918,    0.013466,     0.01306,    0.012653,    0.012246,    0.011839,    0.011432,    0.011026,   0.0096786,   0.0074926,   0.0057124,   0.0051734,   0.0048931,   0.0046128,   0.0043325,   0.0040522,   0.0037719,   0.0034916,   0.0032113,    0.002931,           0,           0,\n",
              "                  0,           0,           0,           0,           0,           0,           0,           0,           0,           0,           0,           0,           0,           0,           0,           0,           0,           0,           0,           0,           0,           0,           0,\n",
              "                  0,           0,           0,           0,           0,           0,           0,           0,           0,           0,           0]]), 'Confidence', 'Recall']]\n",
              "fitness: np.float64(0.7529877103533407)\n",
              "keys: ['metrics/precision(B)', 'metrics/recall(B)', 'metrics/mAP50(B)', 'metrics/mAP50-95(B)']\n",
              "maps: array([     0.7318])\n",
              "names: {0: 'amongus'}\n",
              "plot: True\n",
              "results_dict: {'metrics/precision(B)': np.float64(0.8805198129035874), 'metrics/recall(B)': np.float64(0.8810810810810811), 'metrics/mAP50(B)': np.float64(0.9437167144439035), 'metrics/mAP50-95(B)': np.float64(0.7317955987877226), 'fitness': np.float64(0.7529877103533407)}\n",
              "save_dir: PosixPath('runs/detect/train2')\n",
              "speed: {'preprocess': 1.841975659573941, 'inference': 12.337179053191749, 'loss': 0.0009387446778689874, 'postprocess': 2.5494673085089974}\n",
              "task: 'detect'"
            ]
          },
          "metadata": {},
          "execution_count": 8
        }
      ]
    },
    {
      "cell_type": "code",
      "source": [
        "results = model.predict(source=f\"{dataset.location}/test/images\", conf=0.25, save=True)\n"
      ],
      "metadata": {
        "colab": {
          "base_uri": "https://localhost:8080/"
        },
        "id": "lExhOmUi-lRf",
        "outputId": "1842450c-0c0d-4eb7-a52d-b1bf96880397"
      },
      "execution_count": 9,
      "outputs": [
        {
          "output_type": "stream",
          "name": "stdout",
          "text": [
            "\n",
            "image 1/13 /content/Amogus-Detection-1/test/images/00006_jpg.rf.eaac4e0a7bd71ee0a51486aa9aa2fbc5.jpg: 640x640 4 amonguss, 15.6ms\n",
            "image 2/13 /content/Amogus-Detection-1/test/images/00007_jpg.rf.a16bf5eb667a5b405af901626ee1ad44.jpg: 640x640 2 amonguss, 15.6ms\n",
            "image 3/13 /content/Amogus-Detection-1/test/images/00016_png_jpg.rf.3c321e2f01ea79037c2089159dfbeb5a.jpg: 640x640 5 amonguss, 15.6ms\n",
            "image 4/13 /content/Amogus-Detection-1/test/images/00052_jpg.rf.68d18ab3c6be3d8979e2923e459ba179.jpg: 640x640 1 amongus, 15.6ms\n",
            "image 5/13 /content/Amogus-Detection-1/test/images/00085_jpeg_jpg.rf.114ab25fc42133eb6dff10db456df3df.jpg: 640x640 1 amongus, 15.6ms\n",
            "image 6/13 /content/Amogus-Detection-1/test/images/00097_jpg.rf.d89ff145facb2887b6c2d664de642b84.jpg: 640x640 3 amonguss, 13.8ms\n",
            "image 7/13 /content/Amogus-Detection-1/test/images/00177_png_jpg.rf.0295ce4c2ff2ec2226ed65be195fec57.jpg: 640x640 12 amonguss, 13.4ms\n",
            "image 8/13 /content/Amogus-Detection-1/test/images/00245_jpg.rf.98ce1f7613499635ce0d8bbb221085a2.jpg: 640x640 10 amonguss, 16.7ms\n",
            "image 9/13 /content/Amogus-Detection-1/test/images/00482_png_jpg.rf.a450b54a2d6b824940bfa5ebef1b248e.jpg: 640x640 6 amonguss, 13.4ms\n",
            "image 10/13 /content/Amogus-Detection-1/test/images/00579_png_jpg.rf.b2d0a47e1da7bafd22d31fea60081c0f.jpg: 640x640 2 amonguss, 13.4ms\n",
            "image 11/13 /content/Amogus-Detection-1/test/images/00590_jpg.rf.faa03cfc68b0168cf312273196fc21fb.jpg: 640x640 3 amonguss, 13.3ms\n",
            "image 12/13 /content/Amogus-Detection-1/test/images/00594_jpg.rf.3859be8700ba808efe1f0a3bd3c987c8.jpg: 640x640 1 amongus, 13.3ms\n",
            "image 13/13 /content/Amogus-Detection-1/test/images/00602_png_jpg.rf.0ff770e9e4d3dedf5f9b5f28775bc9f8.jpg: 640x640 6 amonguss, 13.4ms\n",
            "Speed: 2.1ms preprocess, 14.5ms inference, 1.6ms postprocess per image at shape (1, 3, 640, 640)\n",
            "Results saved to \u001b[1mruns/detect/train3\u001b[0m\n"
          ]
        }
      ]
    },
    {
      "cell_type": "code",
      "source": [
        "import glob\n",
        "from IPython.display import Image, display\n",
        "\n",
        "for image_path in glob.glob(\"runs/detect/predict/*.jpg\")[:5]:\n",
        "    display(Image(filename=image_path, width=600))\n"
      ],
      "metadata": {
        "id": "XBfPJ6Wq-wDL"
      },
      "execution_count": 10,
      "outputs": []
    },
    {
      "cell_type": "code",
      "source": [
        "model.export(format=\"onnx\")\n"
      ],
      "metadata": {
        "colab": {
          "base_uri": "https://localhost:8080/",
          "height": 407
        },
        "id": "zS_oiNNt-4z1",
        "outputId": "f3b8719f-eec4-44d3-b727-5807929246f6"
      },
      "execution_count": 11,
      "outputs": [
        {
          "output_type": "stream",
          "name": "stdout",
          "text": [
            "Ultralytics 8.3.151 🚀 Python-3.11.13 torch-2.6.0+cu124 CPU (Intel Xeon 2.20GHz)\n",
            "💡 ProTip: Export to OpenVINO format for best performance on Intel CPUs. Learn more at https://docs.ultralytics.com/integrations/openvino/\n",
            "\n",
            "\u001b[34m\u001b[1mPyTorch:\u001b[0m starting from 'runs/detect/train/weights/best.pt' with input shape (1, 3, 640, 640) BCHW and output shape(s) (1, 5, 8400) (18.3 MB)\n",
            "\u001b[31m\u001b[1mrequirements:\u001b[0m Ultralytics requirements ['onnx>=1.12.0,<1.18.0', 'onnxslim>=0.1.56', 'onnxruntime-gpu'] not found, attempting AutoUpdate...\n",
            "\n",
            "\u001b[31m\u001b[1mrequirements:\u001b[0m AutoUpdate success ✅ 7.1s\n",
            "WARNING ⚠️ \u001b[31m\u001b[1mrequirements:\u001b[0m \u001b[1mRestart runtime or rerun command for updates to take effect\u001b[0m\n",
            "\n",
            "\n",
            "\u001b[34m\u001b[1mONNX:\u001b[0m starting export with onnx 1.17.0 opset 19...\n",
            "\u001b[34m\u001b[1mONNX:\u001b[0m slimming with onnxslim 0.1.56...\n",
            "\u001b[34m\u001b[1mONNX:\u001b[0m export success ✅ 10.5s, saved as 'runs/detect/train/weights/best.onnx' (36.2 MB)\n",
            "\n",
            "Export complete (11.5s)\n",
            "Results saved to \u001b[1m/content/runs/detect/train/weights\u001b[0m\n",
            "Predict:         yolo predict task=detect model=runs/detect/train/weights/best.onnx imgsz=640  \n",
            "Validate:        yolo val task=detect model=runs/detect/train/weights/best.onnx imgsz=640 data=/content/Amogus-Detection-1/data.yaml  \n",
            "Visualize:       https://netron.app\n"
          ]
        },
        {
          "output_type": "execute_result",
          "data": {
            "text/plain": [
              "'runs/detect/train/weights/best.onnx'"
            ],
            "application/vnd.google.colaboratory.intrinsic+json": {
              "type": "string"
            }
          },
          "metadata": {},
          "execution_count": 11
        }
      ]
    }
  ]
}